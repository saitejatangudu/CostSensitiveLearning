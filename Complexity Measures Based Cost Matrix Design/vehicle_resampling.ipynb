{
 "cells": [
  {
   "cell_type": "code",
   "execution_count": 1,
   "id": "d4decdb0",
   "metadata": {},
   "outputs": [],
   "source": [
    "import numpy as np\n",
    "import pandas as pd"
   ]
  },
  {
   "cell_type": "code",
   "execution_count": 2,
   "id": "b00ba242",
   "metadata": {},
   "outputs": [],
   "source": [
    "from imblearn.metrics import geometric_mean_score\n",
    "from sklearn.metrics import roc_auc_score"
   ]
  },
  {
   "cell_type": "code",
   "execution_count": 3,
   "id": "37590b98",
   "metadata": {},
   "outputs": [],
   "source": [
    "names = [\"COMPACTNESS\",\n",
    "\"CIRCULARITY\",\n",
    "\"DISTANCE CIRCULARITY\",\n",
    "\"RADIUS RATIO\",\n",
    "\"PR.AXIS ASPECT RATIO\",\n",
    "\"MAX.LENGTH ASPECT RATIO\",\n",
    "\"SCATTER RATIO\",\n",
    "\"ELONGATEDNESS\",\n",
    "\"PR.AXIS RECTANGULARITY\",\n",
    "\"MAX.LENGTH RECTANGULARITY\",\n",
    "\"SCALED VARIANCE ALONG MAJOR AXIS\",\n",
    "\"SCALED VARIANCE ALONG MINOR AXIS\",\n",
    "\"SCALED RADIUS OF GYRATION\",\n",
    "\"SKEWNESS ABOUT MAJOR AXIS\",\n",
    "\"SKEWNESS ABOUT MINOR AXIS\",\n",
    "\"KURTOSIS ABOUT MINOR AXIS\",\n",
    "\"KURTOSIS ABOUT MAJOR AXIS\",\n",
    "\"HOLLOWS RATIO\",\"class\",\"empty\"]"
   ]
  },
  {
   "cell_type": "code",
   "execution_count": 4,
   "id": "b9a83888",
   "metadata": {},
   "outputs": [],
   "source": [
    "length = 0\n",
    "data_frames = []\n",
    "for i in ['a','b','c','d','e','f','g','h','i']:\n",
    "    string=\"https://archive.ics.uci.edu/ml/machine-learning-databases/statlog/vehicle/\"+\"xa\"+str(i)+\".dat\"\n",
    "    data = pd.read_csv(string,names=[\"sai\"])\n",
    "    data[names]=data[\"sai\"].apply(lambda x :pd.Series(str(x).split(\" \")))\n",
    "    data_frames.append(data.drop(['sai','empty'],axis=1))"
   ]
  },
  {
   "cell_type": "code",
   "execution_count": 5,
   "id": "f2b685e5",
   "metadata": {},
   "outputs": [
    {
     "data": {
      "text/html": [
       "<div>\n",
       "<style scoped>\n",
       "    .dataframe tbody tr th:only-of-type {\n",
       "        vertical-align: middle;\n",
       "    }\n",
       "\n",
       "    .dataframe tbody tr th {\n",
       "        vertical-align: top;\n",
       "    }\n",
       "\n",
       "    .dataframe thead th {\n",
       "        text-align: right;\n",
       "    }\n",
       "</style>\n",
       "<table border=\"1\" class=\"dataframe\">\n",
       "  <thead>\n",
       "    <tr style=\"text-align: right;\">\n",
       "      <th></th>\n",
       "      <th>COMPACTNESS</th>\n",
       "      <th>CIRCULARITY</th>\n",
       "      <th>DISTANCE CIRCULARITY</th>\n",
       "      <th>RADIUS RATIO</th>\n",
       "      <th>PR.AXIS ASPECT RATIO</th>\n",
       "      <th>MAX.LENGTH ASPECT RATIO</th>\n",
       "      <th>SCATTER RATIO</th>\n",
       "      <th>ELONGATEDNESS</th>\n",
       "      <th>PR.AXIS RECTANGULARITY</th>\n",
       "      <th>MAX.LENGTH RECTANGULARITY</th>\n",
       "      <th>SCALED VARIANCE ALONG MAJOR AXIS</th>\n",
       "      <th>SCALED VARIANCE ALONG MINOR AXIS</th>\n",
       "      <th>SCALED RADIUS OF GYRATION</th>\n",
       "      <th>SKEWNESS ABOUT MAJOR AXIS</th>\n",
       "      <th>SKEWNESS ABOUT MINOR AXIS</th>\n",
       "      <th>KURTOSIS ABOUT MINOR AXIS</th>\n",
       "      <th>KURTOSIS ABOUT MAJOR AXIS</th>\n",
       "      <th>HOLLOWS RATIO</th>\n",
       "      <th>class</th>\n",
       "    </tr>\n",
       "  </thead>\n",
       "  <tbody>\n",
       "    <tr>\n",
       "      <th>0</th>\n",
       "      <td>95</td>\n",
       "      <td>48</td>\n",
       "      <td>83</td>\n",
       "      <td>178</td>\n",
       "      <td>72</td>\n",
       "      <td>10</td>\n",
       "      <td>162</td>\n",
       "      <td>42</td>\n",
       "      <td>20</td>\n",
       "      <td>159</td>\n",
       "      <td>176</td>\n",
       "      <td>379</td>\n",
       "      <td>184</td>\n",
       "      <td>70</td>\n",
       "      <td>6</td>\n",
       "      <td>16</td>\n",
       "      <td>187</td>\n",
       "      <td>197</td>\n",
       "      <td>van</td>\n",
       "    </tr>\n",
       "    <tr>\n",
       "      <th>1</th>\n",
       "      <td>91</td>\n",
       "      <td>41</td>\n",
       "      <td>84</td>\n",
       "      <td>141</td>\n",
       "      <td>57</td>\n",
       "      <td>9</td>\n",
       "      <td>149</td>\n",
       "      <td>45</td>\n",
       "      <td>19</td>\n",
       "      <td>143</td>\n",
       "      <td>170</td>\n",
       "      <td>330</td>\n",
       "      <td>158</td>\n",
       "      <td>72</td>\n",
       "      <td>9</td>\n",
       "      <td>14</td>\n",
       "      <td>189</td>\n",
       "      <td>199</td>\n",
       "      <td>van</td>\n",
       "    </tr>\n",
       "    <tr>\n",
       "      <th>2</th>\n",
       "      <td>104</td>\n",
       "      <td>50</td>\n",
       "      <td>106</td>\n",
       "      <td>209</td>\n",
       "      <td>66</td>\n",
       "      <td>10</td>\n",
       "      <td>207</td>\n",
       "      <td>32</td>\n",
       "      <td>23</td>\n",
       "      <td>158</td>\n",
       "      <td>223</td>\n",
       "      <td>635</td>\n",
       "      <td>220</td>\n",
       "      <td>73</td>\n",
       "      <td>14</td>\n",
       "      <td>9</td>\n",
       "      <td>188</td>\n",
       "      <td>196</td>\n",
       "      <td>saab</td>\n",
       "    </tr>\n",
       "    <tr>\n",
       "      <th>3</th>\n",
       "      <td>93</td>\n",
       "      <td>41</td>\n",
       "      <td>82</td>\n",
       "      <td>159</td>\n",
       "      <td>63</td>\n",
       "      <td>9</td>\n",
       "      <td>144</td>\n",
       "      <td>46</td>\n",
       "      <td>19</td>\n",
       "      <td>143</td>\n",
       "      <td>160</td>\n",
       "      <td>309</td>\n",
       "      <td>127</td>\n",
       "      <td>63</td>\n",
       "      <td>6</td>\n",
       "      <td>10</td>\n",
       "      <td>199</td>\n",
       "      <td>207</td>\n",
       "      <td>van</td>\n",
       "    </tr>\n",
       "    <tr>\n",
       "      <th>4</th>\n",
       "      <td>85</td>\n",
       "      <td>44</td>\n",
       "      <td>70</td>\n",
       "      <td>205</td>\n",
       "      <td>103</td>\n",
       "      <td>52</td>\n",
       "      <td>149</td>\n",
       "      <td>45</td>\n",
       "      <td>19</td>\n",
       "      <td>144</td>\n",
       "      <td>241</td>\n",
       "      <td>325</td>\n",
       "      <td>188</td>\n",
       "      <td>127</td>\n",
       "      <td>9</td>\n",
       "      <td>11</td>\n",
       "      <td>180</td>\n",
       "      <td>183</td>\n",
       "      <td>bus</td>\n",
       "    </tr>\n",
       "  </tbody>\n",
       "</table>\n",
       "</div>"
      ],
      "text/plain": [
       "  COMPACTNESS CIRCULARITY DISTANCE CIRCULARITY RADIUS RATIO  \\\n",
       "0          95          48                   83          178   \n",
       "1          91          41                   84          141   \n",
       "2         104          50                  106          209   \n",
       "3          93          41                   82          159   \n",
       "4          85          44                   70          205   \n",
       "\n",
       "  PR.AXIS ASPECT RATIO MAX.LENGTH ASPECT RATIO SCATTER RATIO ELONGATEDNESS  \\\n",
       "0                   72                      10           162            42   \n",
       "1                   57                       9           149            45   \n",
       "2                   66                      10           207            32   \n",
       "3                   63                       9           144            46   \n",
       "4                  103                      52           149            45   \n",
       "\n",
       "  PR.AXIS RECTANGULARITY MAX.LENGTH RECTANGULARITY  \\\n",
       "0                     20                       159   \n",
       "1                     19                       143   \n",
       "2                     23                       158   \n",
       "3                     19                       143   \n",
       "4                     19                       144   \n",
       "\n",
       "  SCALED VARIANCE ALONG MAJOR AXIS SCALED VARIANCE ALONG MINOR AXIS  \\\n",
       "0                              176                              379   \n",
       "1                              170                              330   \n",
       "2                              223                              635   \n",
       "3                              160                              309   \n",
       "4                              241                              325   \n",
       "\n",
       "  SCALED RADIUS OF GYRATION SKEWNESS ABOUT MAJOR AXIS  \\\n",
       "0                       184                        70   \n",
       "1                       158                        72   \n",
       "2                       220                        73   \n",
       "3                       127                        63   \n",
       "4                       188                       127   \n",
       "\n",
       "  SKEWNESS ABOUT MINOR AXIS KURTOSIS ABOUT MINOR AXIS  \\\n",
       "0                         6                        16   \n",
       "1                         9                        14   \n",
       "2                        14                         9   \n",
       "3                         6                        10   \n",
       "4                         9                        11   \n",
       "\n",
       "  KURTOSIS ABOUT MAJOR AXIS HOLLOWS RATIO class  \n",
       "0                       187           197   van  \n",
       "1                       189           199   van  \n",
       "2                       188           196  saab  \n",
       "3                       199           207   van  \n",
       "4                       180           183   bus  "
      ]
     },
     "execution_count": 5,
     "metadata": {},
     "output_type": "execute_result"
    }
   ],
   "source": [
    "data = pd.concat(data_frames)\n",
    "data.head()"
   ]
  },
  {
   "cell_type": "code",
   "execution_count": 6,
   "id": "9a060286",
   "metadata": {},
   "outputs": [
    {
     "data": {
      "text/plain": [
       "COMPACTNESS                         0\n",
       "CIRCULARITY                         0\n",
       "DISTANCE CIRCULARITY                0\n",
       "RADIUS RATIO                        0\n",
       "PR.AXIS ASPECT RATIO                0\n",
       "MAX.LENGTH ASPECT RATIO             0\n",
       "SCATTER RATIO                       0\n",
       "ELONGATEDNESS                       0\n",
       "PR.AXIS RECTANGULARITY              0\n",
       "MAX.LENGTH RECTANGULARITY           0\n",
       "SCALED VARIANCE ALONG MAJOR AXIS    0\n",
       "SCALED VARIANCE ALONG MINOR AXIS    0\n",
       "SCALED RADIUS OF GYRATION           0\n",
       "SKEWNESS ABOUT MAJOR AXIS           0\n",
       "SKEWNESS ABOUT MINOR AXIS           0\n",
       "KURTOSIS ABOUT MINOR AXIS           0\n",
       "KURTOSIS ABOUT MAJOR AXIS           0\n",
       "HOLLOWS RATIO                       0\n",
       "class                               0\n",
       "dtype: int64"
      ]
     },
     "execution_count": 6,
     "metadata": {},
     "output_type": "execute_result"
    }
   ],
   "source": [
    "data.isna().sum()"
   ]
  },
  {
   "cell_type": "code",
   "execution_count": 7,
   "id": "c698ec0f",
   "metadata": {},
   "outputs": [],
   "source": [
    "data['class'] = np.where(data['class']=='van',1,0)"
   ]
  },
  {
   "cell_type": "code",
   "execution_count": 8,
   "id": "ad9bfe9a",
   "metadata": {},
   "outputs": [],
   "source": [
    "from sklearn.preprocessing import MinMaxScaler"
   ]
  },
  {
   "cell_type": "code",
   "execution_count": 9,
   "id": "d815f649",
   "metadata": {},
   "outputs": [],
   "source": [
    "scaler = MinMaxScaler()\n",
    "model = scaler.fit(data)\n",
    "impute_data = model.transform(data)\n",
    "data = pd.DataFrame(impute_data,columns=names[:-1])"
   ]
  },
  {
   "cell_type": "code",
   "execution_count": 10,
   "id": "ba14128f",
   "metadata": {},
   "outputs": [
    {
     "data": {
      "text/html": [
       "<div>\n",
       "<style scoped>\n",
       "    .dataframe tbody tr th:only-of-type {\n",
       "        vertical-align: middle;\n",
       "    }\n",
       "\n",
       "    .dataframe tbody tr th {\n",
       "        vertical-align: top;\n",
       "    }\n",
       "\n",
       "    .dataframe thead th {\n",
       "        text-align: right;\n",
       "    }\n",
       "</style>\n",
       "<table border=\"1\" class=\"dataframe\">\n",
       "  <thead>\n",
       "    <tr style=\"text-align: right;\">\n",
       "      <th></th>\n",
       "      <th>COMPACTNESS</th>\n",
       "      <th>CIRCULARITY</th>\n",
       "      <th>DISTANCE CIRCULARITY</th>\n",
       "      <th>RADIUS RATIO</th>\n",
       "      <th>PR.AXIS ASPECT RATIO</th>\n",
       "      <th>MAX.LENGTH ASPECT RATIO</th>\n",
       "      <th>SCATTER RATIO</th>\n",
       "      <th>ELONGATEDNESS</th>\n",
       "      <th>PR.AXIS RECTANGULARITY</th>\n",
       "      <th>MAX.LENGTH RECTANGULARITY</th>\n",
       "      <th>SCALED VARIANCE ALONG MAJOR AXIS</th>\n",
       "      <th>SCALED VARIANCE ALONG MINOR AXIS</th>\n",
       "      <th>SCALED RADIUS OF GYRATION</th>\n",
       "      <th>SKEWNESS ABOUT MAJOR AXIS</th>\n",
       "      <th>SKEWNESS ABOUT MINOR AXIS</th>\n",
       "      <th>KURTOSIS ABOUT MINOR AXIS</th>\n",
       "      <th>KURTOSIS ABOUT MAJOR AXIS</th>\n",
       "      <th>HOLLOWS RATIO</th>\n",
       "      <th>class</th>\n",
       "    </tr>\n",
       "  </thead>\n",
       "  <tbody>\n",
       "    <tr>\n",
       "      <th>0</th>\n",
       "      <td>0.478261</td>\n",
       "      <td>0.576923</td>\n",
       "      <td>0.597222</td>\n",
       "      <td>0.323144</td>\n",
       "      <td>0.274725</td>\n",
       "      <td>0.150943</td>\n",
       "      <td>0.326797</td>\n",
       "      <td>0.457143</td>\n",
       "      <td>0.250000</td>\n",
       "      <td>0.585714</td>\n",
       "      <td>0.242105</td>\n",
       "      <td>0.233813</td>\n",
       "      <td>0.471698</td>\n",
       "      <td>0.144737</td>\n",
       "      <td>0.272727</td>\n",
       "      <td>0.390244</td>\n",
       "      <td>0.366667</td>\n",
       "      <td>0.533333</td>\n",
       "      <td>1.0</td>\n",
       "    </tr>\n",
       "    <tr>\n",
       "      <th>1</th>\n",
       "      <td>0.391304</td>\n",
       "      <td>0.307692</td>\n",
       "      <td>0.611111</td>\n",
       "      <td>0.161572</td>\n",
       "      <td>0.109890</td>\n",
       "      <td>0.132075</td>\n",
       "      <td>0.241830</td>\n",
       "      <td>0.542857</td>\n",
       "      <td>0.166667</td>\n",
       "      <td>0.357143</td>\n",
       "      <td>0.210526</td>\n",
       "      <td>0.175060</td>\n",
       "      <td>0.308176</td>\n",
       "      <td>0.171053</td>\n",
       "      <td>0.409091</td>\n",
       "      <td>0.341463</td>\n",
       "      <td>0.433333</td>\n",
       "      <td>0.600000</td>\n",
       "      <td>1.0</td>\n",
       "    </tr>\n",
       "    <tr>\n",
       "      <th>2</th>\n",
       "      <td>0.673913</td>\n",
       "      <td>0.653846</td>\n",
       "      <td>0.916667</td>\n",
       "      <td>0.458515</td>\n",
       "      <td>0.208791</td>\n",
       "      <td>0.150943</td>\n",
       "      <td>0.620915</td>\n",
       "      <td>0.171429</td>\n",
       "      <td>0.500000</td>\n",
       "      <td>0.571429</td>\n",
       "      <td>0.489474</td>\n",
       "      <td>0.540767</td>\n",
       "      <td>0.698113</td>\n",
       "      <td>0.184211</td>\n",
       "      <td>0.636364</td>\n",
       "      <td>0.219512</td>\n",
       "      <td>0.400000</td>\n",
       "      <td>0.500000</td>\n",
       "      <td>0.0</td>\n",
       "    </tr>\n",
       "    <tr>\n",
       "      <th>3</th>\n",
       "      <td>0.434783</td>\n",
       "      <td>0.307692</td>\n",
       "      <td>0.583333</td>\n",
       "      <td>0.240175</td>\n",
       "      <td>0.175824</td>\n",
       "      <td>0.132075</td>\n",
       "      <td>0.209150</td>\n",
       "      <td>0.571429</td>\n",
       "      <td>0.166667</td>\n",
       "      <td>0.357143</td>\n",
       "      <td>0.157895</td>\n",
       "      <td>0.149880</td>\n",
       "      <td>0.113208</td>\n",
       "      <td>0.052632</td>\n",
       "      <td>0.272727</td>\n",
       "      <td>0.243902</td>\n",
       "      <td>0.766667</td>\n",
       "      <td>0.866667</td>\n",
       "      <td>1.0</td>\n",
       "    </tr>\n",
       "    <tr>\n",
       "      <th>4</th>\n",
       "      <td>0.260870</td>\n",
       "      <td>0.423077</td>\n",
       "      <td>0.416667</td>\n",
       "      <td>0.441048</td>\n",
       "      <td>0.615385</td>\n",
       "      <td>0.943396</td>\n",
       "      <td>0.241830</td>\n",
       "      <td>0.542857</td>\n",
       "      <td>0.166667</td>\n",
       "      <td>0.371429</td>\n",
       "      <td>0.584211</td>\n",
       "      <td>0.169065</td>\n",
       "      <td>0.496855</td>\n",
       "      <td>0.894737</td>\n",
       "      <td>0.409091</td>\n",
       "      <td>0.268293</td>\n",
       "      <td>0.133333</td>\n",
       "      <td>0.066667</td>\n",
       "      <td>0.0</td>\n",
       "    </tr>\n",
       "  </tbody>\n",
       "</table>\n",
       "</div>"
      ],
      "text/plain": [
       "   COMPACTNESS  CIRCULARITY  DISTANCE CIRCULARITY  RADIUS RATIO  \\\n",
       "0     0.478261     0.576923              0.597222      0.323144   \n",
       "1     0.391304     0.307692              0.611111      0.161572   \n",
       "2     0.673913     0.653846              0.916667      0.458515   \n",
       "3     0.434783     0.307692              0.583333      0.240175   \n",
       "4     0.260870     0.423077              0.416667      0.441048   \n",
       "\n",
       "   PR.AXIS ASPECT RATIO  MAX.LENGTH ASPECT RATIO  SCATTER RATIO  \\\n",
       "0              0.274725                 0.150943       0.326797   \n",
       "1              0.109890                 0.132075       0.241830   \n",
       "2              0.208791                 0.150943       0.620915   \n",
       "3              0.175824                 0.132075       0.209150   \n",
       "4              0.615385                 0.943396       0.241830   \n",
       "\n",
       "   ELONGATEDNESS  PR.AXIS RECTANGULARITY  MAX.LENGTH RECTANGULARITY  \\\n",
       "0       0.457143                0.250000                   0.585714   \n",
       "1       0.542857                0.166667                   0.357143   \n",
       "2       0.171429                0.500000                   0.571429   \n",
       "3       0.571429                0.166667                   0.357143   \n",
       "4       0.542857                0.166667                   0.371429   \n",
       "\n",
       "   SCALED VARIANCE ALONG MAJOR AXIS  SCALED VARIANCE ALONG MINOR AXIS  \\\n",
       "0                          0.242105                          0.233813   \n",
       "1                          0.210526                          0.175060   \n",
       "2                          0.489474                          0.540767   \n",
       "3                          0.157895                          0.149880   \n",
       "4                          0.584211                          0.169065   \n",
       "\n",
       "   SCALED RADIUS OF GYRATION  SKEWNESS ABOUT MAJOR AXIS  \\\n",
       "0                   0.471698                   0.144737   \n",
       "1                   0.308176                   0.171053   \n",
       "2                   0.698113                   0.184211   \n",
       "3                   0.113208                   0.052632   \n",
       "4                   0.496855                   0.894737   \n",
       "\n",
       "   SKEWNESS ABOUT MINOR AXIS  KURTOSIS ABOUT MINOR AXIS  \\\n",
       "0                   0.272727                   0.390244   \n",
       "1                   0.409091                   0.341463   \n",
       "2                   0.636364                   0.219512   \n",
       "3                   0.272727                   0.243902   \n",
       "4                   0.409091                   0.268293   \n",
       "\n",
       "   KURTOSIS ABOUT MAJOR AXIS  HOLLOWS RATIO  class  \n",
       "0                   0.366667       0.533333    1.0  \n",
       "1                   0.433333       0.600000    1.0  \n",
       "2                   0.400000       0.500000    0.0  \n",
       "3                   0.766667       0.866667    1.0  \n",
       "4                   0.133333       0.066667    0.0  "
      ]
     },
     "execution_count": 10,
     "metadata": {},
     "output_type": "execute_result"
    }
   ],
   "source": [
    "data.head()"
   ]
  },
  {
   "cell_type": "markdown",
   "id": "00e916a1",
   "metadata": {},
   "source": [
    "## DATA RESAMPLING"
   ]
  },
  {
   "cell_type": "markdown",
   "id": "b79dc99f",
   "metadata": {},
   "source": [
    "### GENERATING TEST DATA"
   ]
  },
  {
   "cell_type": "code",
   "execution_count": 11,
   "id": "9625d61e",
   "metadata": {},
   "outputs": [],
   "source": [
    "X = data.drop(['class'],axis=1)\n",
    "y = data['class']"
   ]
  },
  {
   "cell_type": "code",
   "execution_count": 12,
   "id": "a999feab",
   "metadata": {},
   "outputs": [
    {
     "name": "stdout",
     "output_type": "stream",
     "text": [
      "TLCM 0.10552763819095477\n"
     ]
    }
   ],
   "source": [
    "from sklearn.utils import Bunch\n",
    "from src.measures import tlcm, degIR, degOver, imbalance_ratio, n_1_imb_mean, n_3_imb_mean\n",
    "\n",
    "dataset = Bunch(data=np.array(X),target=np.array(y))\n",
    "TLCM = tlcm(dataset)\n",
    "print(\"TLCM\",TLCM)"
   ]
  },
  {
   "cell_type": "code",
   "execution_count": 12,
   "id": "bcdd7dfa",
   "metadata": {},
   "outputs": [],
   "source": [
    "from sklearn.model_selection import train_test_split\n",
    "x_train,x_test,y_train,y_test = train_test_split(X,y,test_size=0.15,random_state=42)"
   ]
  },
  {
   "cell_type": "code",
   "execution_count": 13,
   "id": "4ec6e591",
   "metadata": {},
   "outputs": [
    {
     "name": "stdout",
     "output_type": "stream",
     "text": [
      "168 551 31 96\n"
     ]
    }
   ],
   "source": [
    "print(sum(y_train==1)\n",
    ",sum(y_train==0)\n",
    ",sum(y_test==1)\n",
    ",sum(y_test==0)\n",
    "     )"
   ]
  },
  {
   "cell_type": "code",
   "execution_count": 14,
   "id": "791e4ae4",
   "metadata": {},
   "outputs": [
    {
     "data": {
      "text/plain": [
       "0.3075734157650695"
      ]
     },
     "execution_count": 14,
     "metadata": {},
     "output_type": "execute_result"
    }
   ],
   "source": [
    "(sum(y_train==1)+sum(y_test==1))/(sum(y_train==0)+sum(y_test==0))\n",
    "     "
   ]
  },
  {
   "cell_type": "code",
   "execution_count": 15,
   "id": "d8c5afa5",
   "metadata": {},
   "outputs": [],
   "source": [
    "train_data = x_train\n",
    "train_label = y_train\n",
    "test_data = x_test\n",
    "test_label=y_test"
   ]
  },
  {
   "cell_type": "code",
   "execution_count": 16,
   "id": "7814c031",
   "metadata": {},
   "outputs": [],
   "source": [
    "def cost_weights(indices,y_train,k):\n",
    "    from sklearn.preprocessing import MinMaxScaler\n",
    "    class_0 = []\n",
    "    class_1 = []\n",
    "    data = pd.DataFrame(indices)\n",
    "    data = data.set_index(data.columns[0])\n",
    "    for i in data.index:\n",
    "        dict1 = {}\n",
    "        for j in data.iloc[i]:\n",
    "            dict1[y_train.iloc[j]] = dict1.get(y_train.iloc[j],0)+1\n",
    "        class_0.append(dict1.get(0,0))\n",
    "        class_1.append(dict1.get(1,0))\n",
    "    data[\"class_0\"] = class_0\n",
    "    data[\"class_1\"] = class_1\n",
    "    data[\"Class\"] = y_train\n",
    "    data[\"cost\"] = np.where(data[\"Class\"]==0,((data[\"class_1\"]+1)/k)*sum(data[\"Class\"]==1),((data[\"class_0\"]+1)/k)*sum(data[\"Class\"]==0))\n",
    "    return data[\"cost\"]\n",
    "\n",
    "def AdaWeight(x_train,y_train,k):\n",
    "    from sklearn.neighbors import NearestNeighbors\n",
    "    nbrs = NearestNeighbors(n_neighbors=k).fit(x_train)\n",
    "    dist, indices = nbrs.kneighbors(x_train)\n",
    "    return cost_weights(indices,y_train,k)"
   ]
  },
  {
   "cell_type": "code",
   "execution_count": 17,
   "id": "dd7b308e",
   "metadata": {},
   "outputs": [
    {
     "name": "stdout",
     "output_type": "stream",
     "text": [
      "Accuracy score 0.9448818897637795\n",
      "Precision score 0.8813559322033899\n",
      "Recall score 0.8387096774193549\n",
      "F1 score 0.9285714285714286\n",
      "Kappa score 0.8455792947715824\n",
      "Gmean weighted score 0.9389749100342787\n",
      "Roc auc score 0.9089381720430109\n",
      "Precision -Recall score 0.7945498748140354\n"
     ]
    }
   ],
   "source": [
    "from sklearn.linear_model import LogisticRegression\n",
    "from sklearn.metrics import f1_score,precision_score,recall_score,accuracy_score,cohen_kappa_score,average_precision_score\n",
    "lr_imb=LogisticRegression(random_state=42)\n",
    "lr_imb_model=lr_imb.fit(train_data,np.array(train_label).ravel())\n",
    "pred_label=lr_imb_model.predict(test_data)\n",
    "print(f\"Accuracy score %s\"%accuracy_score(pred_label,test_label))\n",
    "print(f\"Precision score %s\"%f1_score(pred_label,test_label))\n",
    "print(f\"Recall score %s\"%precision_score(pred_label,test_label))\n",
    "print(f\"F1 score %s\"%recall_score(pred_label,test_label))\n",
    "print(f\"Kappa score %s\"%cohen_kappa_score(pred_label,test_label))\n",
    "print(f\"Gmean weighted score %s\"%geometric_mean_score(pred_label, test_label))\n",
    "print(f\"Roc auc score %s\"%roc_auc_score(test_label,pred_label))\n",
    "print(f\"Precision -Recall score %s\"%average_precision_score(pred_label,test_label))"
   ]
  },
  {
   "cell_type": "code",
   "execution_count": 18,
   "id": "d5e69584",
   "metadata": {},
   "outputs": [
    {
     "name": "stdout",
     "output_type": "stream",
     "text": [
      "Accuracy score 0.9606299212598425\n",
      "Precision score 0.923076923076923\n",
      "Recall score 0.967741935483871\n",
      "F1 score 0.8823529411764706\n",
      "Kappa score 0.8966975760533593\n",
      "Gmean weighted score 0.934272591454076\n",
      "Roc auc score 0.9630376344086021\n",
      "Precision -Recall score 0.8853860060661298\n"
     ]
    },
    {
     "name": "stderr",
     "output_type": "stream",
     "text": [
      "/Applications/Utilities/anaconda3/lib/python3.8/site-packages/sklearn/linear_model/_logistic.py:444: ConvergenceWarning: lbfgs failed to converge (status=1):\n",
      "STOP: TOTAL NO. of ITERATIONS REACHED LIMIT.\n",
      "\n",
      "Increase the number of iterations (max_iter) or scale the data as shown in:\n",
      "    https://scikit-learn.org/stable/modules/preprocessing.html\n",
      "Please also refer to the documentation for alternative solver options:\n",
      "    https://scikit-learn.org/stable/modules/linear_model.html#logistic-regression\n",
      "  n_iter_i = _check_optimize_result(\n"
     ]
    }
   ],
   "source": [
    "from sklearn.linear_model import LogisticRegression\n",
    "from sklearn.metrics import f1_score,precision_score,recall_score,accuracy_score,cohen_kappa_score,average_precision_score\n",
    "lr_imb=LogisticRegression(random_state=42,class_weight={0:sum(np.array(train_label)==1),1:sum(np.array(train_label)==0)})\n",
    "lr_imb_model=lr_imb.fit(train_data,np.array(train_label).ravel())\n",
    "pred_label=lr_imb_model.predict(test_data)\n",
    "print(f\"Accuracy score %s\"%accuracy_score(pred_label,test_label))\n",
    "print(f\"Precision score %s\"%f1_score(pred_label,test_label))\n",
    "print(f\"Recall score %s\"%precision_score(pred_label,test_label))\n",
    "print(f\"F1 score %s\"%recall_score(pred_label,test_label))\n",
    "print(f\"Kappa score %s\"%cohen_kappa_score(pred_label,test_label))\n",
    "print(f\"Gmean weighted score %s\"%geometric_mean_score(pred_label, test_label))\n",
    "print(f\"Roc auc score %s\"%roc_auc_score(test_label,pred_label))\n",
    "print(f\"Precision -Recall score %s\"%average_precision_score(pred_label,test_label))"
   ]
  },
  {
   "cell_type": "code",
   "execution_count": 19,
   "id": "fb04a2db",
   "metadata": {},
   "outputs": [
    {
     "name": "stdout",
     "output_type": "stream",
     "text": [
      "Accuracy score 0.9448818897637795\n",
      "Precision score 0.898550724637681\n",
      "Recall score 1.0\n",
      "F1 score 0.8157894736842105\n",
      "Kappa score 0.861245512720462\n",
      "Gmean weighted score 0.9032106474595007\n",
      "Roc auc score 0.9635416666666667\n",
      "Precision -Recall score 0.870907583920431\n"
     ]
    }
   ],
   "source": [
    "from sklearn.linear_model import LogisticRegression\n",
    "from sklearn.metrics import f1_score,precision_score,recall_score,accuracy_score,cohen_kappa_score,average_precision_score\n",
    "lr_imb=LogisticRegression(random_state=42,class_weight=\"balanced\")\n",
    "lr_imb_model=lr_imb.fit(train_data,np.array(train_label).ravel())\n",
    "pred_label=lr_imb_model.predict(test_data)\n",
    "print(f\"Accuracy score %s\"%accuracy_score(pred_label,test_label))\n",
    "print(f\"Precision score %s\"%f1_score(pred_label,test_label))\n",
    "print(f\"Recall score %s\"%precision_score(pred_label,test_label))\n",
    "print(f\"F1 score %s\"%recall_score(pred_label,test_label))\n",
    "print(f\"Kappa score %s\"%cohen_kappa_score(pred_label,test_label))\n",
    "print(f\"Gmean weighted score %s\"%geometric_mean_score(pred_label, test_label))\n",
    "print(f\"Roc auc score %s\"%roc_auc_score(test_label,pred_label))\n",
    "print(f\"Precision -Recall score %s\"%average_precision_score(pred_label,test_label))"
   ]
  },
  {
   "cell_type": "code",
   "execution_count": 20,
   "id": "15d36549",
   "metadata": {},
   "outputs": [
    {
     "name": "stdout",
     "output_type": "stream",
     "text": [
      "Accuracy score 0.9606299212598425\n",
      "Precision score 0.9206349206349206\n",
      "Recall score 0.9354838709677419\n",
      "F1 score 0.90625\n",
      "Kappa score 0.8944656805717135\n",
      "Gmean weighted score 0.9418975807547119\n",
      "Roc auc score 0.952116935483871\n",
      "Precision -Recall score 0.8714043053086106\n"
     ]
    },
    {
     "name": "stderr",
     "output_type": "stream",
     "text": [
      "/Applications/Utilities/anaconda3/lib/python3.8/site-packages/sklearn/linear_model/_logistic.py:444: ConvergenceWarning: lbfgs failed to converge (status=1):\n",
      "STOP: TOTAL NO. of ITERATIONS REACHED LIMIT.\n",
      "\n",
      "Increase the number of iterations (max_iter) or scale the data as shown in:\n",
      "    https://scikit-learn.org/stable/modules/preprocessing.html\n",
      "Please also refer to the documentation for alternative solver options:\n",
      "    https://scikit-learn.org/stable/modules/linear_model.html#logistic-regression\n",
      "  n_iter_i = _check_optimize_result(\n"
     ]
    }
   ],
   "source": [
    "from sklearn.linear_model import LogisticRegression\n",
    "from sklearn.metrics import f1_score,precision_score,recall_score,accuracy_score,cohen_kappa_score,average_precision_score\n",
    "lr_imb=LogisticRegression(random_state=42)\n",
    "lr_imb_model=lr_imb.fit(train_data,np.array(train_label).ravel(),AdaWeight(train_data,train_label,k=5))\n",
    "pred_label=lr_imb_model.predict(test_data)\n",
    "print(f\"Accuracy score %s\"%accuracy_score(pred_label,test_label))\n",
    "print(f\"Precision score %s\"%f1_score(pred_label,test_label))\n",
    "print(f\"Recall score %s\"%precision_score(pred_label,test_label))\n",
    "print(f\"F1 score %s\"%recall_score(pred_label,test_label))\n",
    "print(f\"Kappa score %s\"%cohen_kappa_score(pred_label,test_label))\n",
    "print(f\"Gmean weighted score %s\"%geometric_mean_score(pred_label, test_label))\n",
    "print(f\"Roc auc score %s\"%roc_auc_score(test_label,pred_label))\n",
    "print(f\"Precision -Recall score %s\"%average_precision_score(pred_label,test_label))"
   ]
  },
  {
   "cell_type": "code",
   "execution_count": 21,
   "id": "8bae653b",
   "metadata": {},
   "outputs": [],
   "source": [
    "from sklearn.utils import Bunch\n",
    "from src.measures import tlcm, degIR, degOver, imbalance_ratio, n_1_imb_mean, n_3_imb_mean\n",
    "\n",
    "dataset = Bunch(data=np.array(X),target=np.array(y))\n",
    "TLCM = tlcm(dataset)\n",
    "IR   = imbalance_ratio(dataset)\n",
    "N1   = n_1_imb_mean(dataset)\n",
    "N3   = n_3_imb_mean(dataset)"
   ]
  },
  {
   "cell_type": "code",
   "execution_count": 22,
   "id": "d2e46fa8",
   "metadata": {},
   "outputs": [],
   "source": [
    "def cal_class_weight(measure,value):\n",
    "    C_W = {}\n",
    "    if measure==\"IR\":\n",
    "        C_W[0] = round((1/value)*100,2)\n",
    "        C_W[1] = 100\n",
    "    else:\n",
    "        C_W[0] = round(value*100,2)\n",
    "        C_W[1] = 100\n",
    "    return C_W"
   ]
  },
  {
   "cell_type": "code",
   "execution_count": 23,
   "id": "ac0c2cb2",
   "metadata": {},
   "outputs": [
    {
     "name": "stdout",
     "output_type": "stream",
     "text": [
      "Accuracy score 0.968503937007874\n",
      "Precision score 0.9393939393939393\n",
      "Recall score 1.0\n",
      "F1 score 0.8857142857142857\n",
      "Kappa score 0.918222794591114\n",
      "Gmean weighted score 0.9411239481143202\n",
      "Roc auc score 0.9791666666666667\n",
      "Precision -Recall score 0.9172103487064117\n"
     ]
    }
   ],
   "source": [
    "from sklearn.linear_model import LogisticRegression\n",
    "from sklearn.metrics import f1_score,precision_score,recall_score,accuracy_score,cohen_kappa_score,average_precision_score\n",
    "lr_imb=LogisticRegression(random_state=42,class_weight=cal_class_weight('IR',imbalance_ratio(dataset)))\n",
    "lr_imb_model=lr_imb.fit(train_data,np.array(train_label).ravel())\n",
    "pred_label=lr_imb_model.predict(test_data)\n",
    "print(f\"Accuracy score %s\"%accuracy_score(pred_label,test_label))\n",
    "print(f\"Precision score %s\"%f1_score(pred_label,test_label))\n",
    "print(f\"Recall score %s\"%precision_score(pred_label,test_label))\n",
    "print(f\"F1 score %s\"%recall_score(pred_label,test_label))\n",
    "print(f\"Kappa score %s\"%cohen_kappa_score(pred_label,test_label))\n",
    "print(f\"Gmean weighted score %s\"%geometric_mean_score(pred_label, test_label))\n",
    "print(f\"Roc auc score %s\"%roc_auc_score(test_label,pred_label))\n",
    "print(f\"Precision -Recall score %s\"%average_precision_score(pred_label,test_label))"
   ]
  },
  {
   "cell_type": "code",
   "execution_count": 24,
   "id": "9298ca88",
   "metadata": {},
   "outputs": [
    {
     "name": "stdout",
     "output_type": "stream",
     "text": [
      "Accuracy score 0.9448818897637795\n",
      "Precision score 0.898550724637681\n",
      "Recall score 1.0\n",
      "F1 score 0.8157894736842105\n",
      "Kappa score 0.861245512720462\n",
      "Gmean weighted score 0.9032106474595007\n",
      "Roc auc score 0.9635416666666667\n",
      "Precision -Recall score 0.870907583920431\n"
     ]
    }
   ],
   "source": [
    "from sklearn.linear_model import LogisticRegression\n",
    "from sklearn.metrics import f1_score,precision_score,recall_score,accuracy_score,cohen_kappa_score,average_precision_score\n",
    "lr_imb=LogisticRegression(random_state=42,class_weight=cal_class_weight('TLCM',tlcm(dataset)))\n",
    "lr_imb_model=lr_imb.fit(train_data,np.array(train_label).ravel())\n",
    "pred_label=lr_imb_model.predict(test_data)\n",
    "print(f\"Accuracy score %s\"%accuracy_score(pred_label,test_label))\n",
    "print(f\"Precision score %s\"%f1_score(pred_label,test_label))\n",
    "print(f\"Recall score %s\"%precision_score(pred_label,test_label))\n",
    "print(f\"F1 score %s\"%recall_score(pred_label,test_label))\n",
    "print(f\"Kappa score %s\"%cohen_kappa_score(pred_label,test_label))\n",
    "print(f\"Gmean weighted score %s\"%geometric_mean_score(pred_label, test_label))\n",
    "print(f\"Roc auc score %s\"%roc_auc_score(test_label,pred_label))\n",
    "print(f\"Precision -Recall score %s\"%average_precision_score(pred_label,test_label))"
   ]
  },
  {
   "cell_type": "code",
   "execution_count": 25,
   "id": "acebcdab",
   "metadata": {},
   "outputs": [
    {
     "name": "stdout",
     "output_type": "stream",
     "text": [
      "Accuracy score 0.952755905511811\n",
      "Precision score 0.911764705882353\n",
      "Recall score 1.0\n",
      "F1 score 0.8378378378378378\n",
      "Kappa score 0.879848628192999\n",
      "Gmean weighted score 0.9153348228041135\n",
      "Roc auc score 0.96875\n",
      "Precision -Recall score 0.8850819323260268\n"
     ]
    }
   ],
   "source": [
    "from sklearn.linear_model import LogisticRegression\n",
    "from sklearn.metrics import f1_score,precision_score,recall_score,accuracy_score,cohen_kappa_score,average_precision_score\n",
    "lr_imb=LogisticRegression(random_state=42,class_weight=cal_class_weight('N1',n_1_imb_mean(dataset)))\n",
    "lr_imb_model=lr_imb.fit(train_data,np.array(train_label).ravel())\n",
    "pred_label=lr_imb_model.predict(test_data)\n",
    "print(f\"Accuracy score %s\"%accuracy_score(pred_label,test_label))\n",
    "print(f\"Precision score %s\"%f1_score(pred_label,test_label))\n",
    "print(f\"Recall score %s\"%precision_score(pred_label,test_label))\n",
    "print(f\"F1 score %s\"%recall_score(pred_label,test_label))\n",
    "print(f\"Kappa score %s\"%cohen_kappa_score(pred_label,test_label))\n",
    "print(f\"Gmean weighted score %s\"%geometric_mean_score(pred_label, test_label))\n",
    "print(f\"Roc auc score %s\"%roc_auc_score(test_label,pred_label))\n",
    "print(f\"Precision -Recall score %s\"%average_precision_score(pred_label,test_label))"
   ]
  },
  {
   "cell_type": "code",
   "execution_count": 26,
   "id": "66f08b23",
   "metadata": {},
   "outputs": [
    {
     "name": "stdout",
     "output_type": "stream",
     "text": [
      "Accuracy score 0.937007874015748\n",
      "Precision score 0.8857142857142858\n",
      "Recall score 1.0\n",
      "F1 score 0.7948717948717948\n",
      "Kappa score 0.8430160692212608\n",
      "Gmean weighted score 0.8915558282417286\n",
      "Roc auc score 0.9583333333333333\n",
      "Precision -Recall score 0.8578639208560468\n"
     ]
    }
   ],
   "source": [
    "from sklearn.linear_model import LogisticRegression\n",
    "from sklearn.metrics import f1_score,precision_score,recall_score,accuracy_score,cohen_kappa_score,average_precision_score\n",
    "lr_imb=LogisticRegression(random_state=42,class_weight=cal_class_weight('N3',n_3_imb_mean(dataset)))\n",
    "lr_imb_model=lr_imb.fit(train_data,np.array(train_label).ravel())\n",
    "pred_label=lr_imb_model.predict(test_data)\n",
    "print(f\"Accuracy score %s\"%accuracy_score(pred_label,test_label))\n",
    "print(f\"Precision score %s\"%f1_score(pred_label,test_label))\n",
    "print(f\"Recall score %s\"%precision_score(pred_label,test_label))\n",
    "print(f\"F1 score %s\"%recall_score(pred_label,test_label))\n",
    "print(f\"Kappa score %s\"%cohen_kappa_score(pred_label,test_label))\n",
    "print(f\"Gmean weighted score %s\"%geometric_mean_score(pred_label, test_label))\n",
    "print(f\"Roc auc score %s\"%roc_auc_score(test_label,pred_label))\n",
    "print(f\"Precision -Recall score %s\"%average_precision_score(pred_label,test_label))"
   ]
  },
  {
   "cell_type": "code",
   "execution_count": null,
   "id": "9887d7f3",
   "metadata": {},
   "outputs": [],
   "source": []
  }
 ],
 "metadata": {
  "kernelspec": {
   "display_name": "Python 3",
   "language": "python",
   "name": "python3"
  },
  "language_info": {
   "codemirror_mode": {
    "name": "ipython",
    "version": 3
   },
   "file_extension": ".py",
   "mimetype": "text/x-python",
   "name": "python",
   "nbconvert_exporter": "python",
   "pygments_lexer": "ipython3",
   "version": "3.8.8"
  }
 },
 "nbformat": 4,
 "nbformat_minor": 5
}
