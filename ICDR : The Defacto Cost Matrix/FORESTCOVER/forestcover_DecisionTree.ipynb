{
 "cells": [
  {
   "cell_type": "code",
   "execution_count": 1,
   "id": "8c5757de",
   "metadata": {},
   "outputs": [],
   "source": [
    "import numpy as np\n",
    "import pandas as pd\n",
    "from imblearn.metrics import geometric_mean_score\n",
    "from sklearn.metrics import roc_auc_score,average_precision_score"
   ]
  },
  {
   "cell_type": "code",
   "execution_count": 2,
   "id": "54bf52a9",
   "metadata": {},
   "outputs": [],
   "source": [
    "test_data = pd.read_csv(\"forestcover_test_data.csv\")\n",
    "test_label = pd.read_csv(\"forestcover_test_label.csv\")"
   ]
  },
  {
   "cell_type": "code",
   "execution_count": 3,
   "id": "87e8ab5e",
   "metadata": {},
   "outputs": [
    {
     "data": {
      "text/html": [
       "<div>\n",
       "<style scoped>\n",
       "    .dataframe tbody tr th:only-of-type {\n",
       "        vertical-align: middle;\n",
       "    }\n",
       "\n",
       "    .dataframe tbody tr th {\n",
       "        vertical-align: top;\n",
       "    }\n",
       "\n",
       "    .dataframe thead th {\n",
       "        text-align: right;\n",
       "    }\n",
       "</style>\n",
       "<table border=\"1\" class=\"dataframe\">\n",
       "  <thead>\n",
       "    <tr style=\"text-align: right;\">\n",
       "      <th></th>\n",
       "      <th>0</th>\n",
       "      <th>1</th>\n",
       "      <th>2</th>\n",
       "      <th>3</th>\n",
       "      <th>4</th>\n",
       "      <th>5</th>\n",
       "      <th>6</th>\n",
       "      <th>7</th>\n",
       "      <th>8</th>\n",
       "      <th>9</th>\n",
       "      <th>...</th>\n",
       "      <th>44</th>\n",
       "      <th>45</th>\n",
       "      <th>46</th>\n",
       "      <th>47</th>\n",
       "      <th>48</th>\n",
       "      <th>49</th>\n",
       "      <th>50</th>\n",
       "      <th>51</th>\n",
       "      <th>52</th>\n",
       "      <th>53</th>\n",
       "    </tr>\n",
       "  </thead>\n",
       "  <tbody>\n",
       "    <tr>\n",
       "      <th>0</th>\n",
       "      <td>0.268269</td>\n",
       "      <td>0.522222</td>\n",
       "      <td>0.36</td>\n",
       "      <td>0.223140</td>\n",
       "      <td>0.466368</td>\n",
       "      <td>0.166182</td>\n",
       "      <td>0.826923</td>\n",
       "      <td>0.975155</td>\n",
       "      <td>0.629482</td>\n",
       "      <td>0.344183</td>\n",
       "      <td>...</td>\n",
       "      <td>0.0</td>\n",
       "      <td>0.0</td>\n",
       "      <td>0.0</td>\n",
       "      <td>0.0</td>\n",
       "      <td>0.0</td>\n",
       "      <td>0.0</td>\n",
       "      <td>0.0</td>\n",
       "      <td>0.0</td>\n",
       "      <td>0.0</td>\n",
       "      <td>0.0</td>\n",
       "    </tr>\n",
       "    <tr>\n",
       "      <th>1</th>\n",
       "      <td>0.450962</td>\n",
       "      <td>0.925000</td>\n",
       "      <td>0.32</td>\n",
       "      <td>0.092287</td>\n",
       "      <td>0.275785</td>\n",
       "      <td>0.140861</td>\n",
       "      <td>0.649038</td>\n",
       "      <td>0.770186</td>\n",
       "      <td>0.697211</td>\n",
       "      <td>0.297091</td>\n",
       "      <td>...</td>\n",
       "      <td>0.0</td>\n",
       "      <td>0.0</td>\n",
       "      <td>0.0</td>\n",
       "      <td>0.0</td>\n",
       "      <td>0.0</td>\n",
       "      <td>0.0</td>\n",
       "      <td>0.0</td>\n",
       "      <td>0.0</td>\n",
       "      <td>0.0</td>\n",
       "      <td>0.0</td>\n",
       "    </tr>\n",
       "    <tr>\n",
       "      <th>2</th>\n",
       "      <td>0.645192</td>\n",
       "      <td>0.255556</td>\n",
       "      <td>0.64</td>\n",
       "      <td>0.041322</td>\n",
       "      <td>0.322870</td>\n",
       "      <td>0.354482</td>\n",
       "      <td>0.980769</td>\n",
       "      <td>0.503106</td>\n",
       "      <td>0.000000</td>\n",
       "      <td>0.162742</td>\n",
       "      <td>...</td>\n",
       "      <td>0.0</td>\n",
       "      <td>0.0</td>\n",
       "      <td>0.0</td>\n",
       "      <td>0.0</td>\n",
       "      <td>0.0</td>\n",
       "      <td>0.0</td>\n",
       "      <td>0.0</td>\n",
       "      <td>0.0</td>\n",
       "      <td>0.0</td>\n",
       "      <td>0.0</td>\n",
       "    </tr>\n",
       "    <tr>\n",
       "      <th>3</th>\n",
       "      <td>0.240385</td>\n",
       "      <td>0.813889</td>\n",
       "      <td>0.68</td>\n",
       "      <td>0.210744</td>\n",
       "      <td>0.426009</td>\n",
       "      <td>0.128929</td>\n",
       "      <td>0.302885</td>\n",
       "      <td>0.732919</td>\n",
       "      <td>0.924303</td>\n",
       "      <td>0.204640</td>\n",
       "      <td>...</td>\n",
       "      <td>0.0</td>\n",
       "      <td>0.0</td>\n",
       "      <td>0.0</td>\n",
       "      <td>0.0</td>\n",
       "      <td>0.0</td>\n",
       "      <td>0.0</td>\n",
       "      <td>0.0</td>\n",
       "      <td>0.0</td>\n",
       "      <td>0.0</td>\n",
       "      <td>0.0</td>\n",
       "    </tr>\n",
       "    <tr>\n",
       "      <th>4</th>\n",
       "      <td>0.139423</td>\n",
       "      <td>0.230556</td>\n",
       "      <td>0.36</td>\n",
       "      <td>0.210744</td>\n",
       "      <td>0.378924</td>\n",
       "      <td>0.069849</td>\n",
       "      <td>0.942308</td>\n",
       "      <td>0.701863</td>\n",
       "      <td>0.350598</td>\n",
       "      <td>0.110457</td>\n",
       "      <td>...</td>\n",
       "      <td>0.0</td>\n",
       "      <td>0.0</td>\n",
       "      <td>0.0</td>\n",
       "      <td>0.0</td>\n",
       "      <td>0.0</td>\n",
       "      <td>0.0</td>\n",
       "      <td>0.0</td>\n",
       "      <td>0.0</td>\n",
       "      <td>0.0</td>\n",
       "      <td>0.0</td>\n",
       "    </tr>\n",
       "  </tbody>\n",
       "</table>\n",
       "<p>5 rows × 54 columns</p>\n",
       "</div>"
      ],
      "text/plain": [
       "          0         1     2         3         4         5         6         7  \\\n",
       "0  0.268269  0.522222  0.36  0.223140  0.466368  0.166182  0.826923  0.975155   \n",
       "1  0.450962  0.925000  0.32  0.092287  0.275785  0.140861  0.649038  0.770186   \n",
       "2  0.645192  0.255556  0.64  0.041322  0.322870  0.354482  0.980769  0.503106   \n",
       "3  0.240385  0.813889  0.68  0.210744  0.426009  0.128929  0.302885  0.732919   \n",
       "4  0.139423  0.230556  0.36  0.210744  0.378924  0.069849  0.942308  0.701863   \n",
       "\n",
       "          8         9  ...   44   45   46   47   48   49   50   51   52   53  \n",
       "0  0.629482  0.344183  ...  0.0  0.0  0.0  0.0  0.0  0.0  0.0  0.0  0.0  0.0  \n",
       "1  0.697211  0.297091  ...  0.0  0.0  0.0  0.0  0.0  0.0  0.0  0.0  0.0  0.0  \n",
       "2  0.000000  0.162742  ...  0.0  0.0  0.0  0.0  0.0  0.0  0.0  0.0  0.0  0.0  \n",
       "3  0.924303  0.204640  ...  0.0  0.0  0.0  0.0  0.0  0.0  0.0  0.0  0.0  0.0  \n",
       "4  0.350598  0.110457  ...  0.0  0.0  0.0  0.0  0.0  0.0  0.0  0.0  0.0  0.0  \n",
       "\n",
       "[5 rows x 54 columns]"
      ]
     },
     "execution_count": 3,
     "metadata": {},
     "output_type": "execute_result"
    }
   ],
   "source": [
    "test_data.head()"
   ]
  },
  {
   "cell_type": "markdown",
   "id": "5f496a1a",
   "metadata": {},
   "source": [
    "### 05:95"
   ]
  },
  {
   "cell_type": "code",
   "execution_count": 4,
   "id": "e40e6bf8",
   "metadata": {},
   "outputs": [],
   "source": [
    "train_data = pd.read_csv(\"forestcover_ext_imb_data.csv\")\n",
    "train_label = pd.read_csv(\"forestcover_ext_imb_label.csv\")"
   ]
  },
  {
   "cell_type": "code",
   "execution_count": 5,
   "id": "0f2bddaf",
   "metadata": {},
   "outputs": [
    {
     "name": "stdout",
     "output_type": "stream",
     "text": [
      "Accuracy score 0.9832063711911357\n",
      "Precision score 0.8758002560819461\n",
      "Recall score 0.8746803069053708\n",
      "F1 score 0.8769230769230769\n",
      "Kappa score 0.8667946085615191\n",
      "Gmean weighted score 0.9321722632622982\n",
      "Roc auc score 0.9339127081607587\n",
      "Precision -Recall score 0.7753375953629582\n"
     ]
    },
    {
     "name": "stderr",
     "output_type": "stream",
     "text": [
      "/Applications/Utilities/anaconda3/lib/python3.8/site-packages/sklearn/preprocessing/_label.py:133: DataConversionWarning: A column-vector y was passed when a 1d array was expected. Please change the shape of y to (n_samples, ), for example using ravel().\n",
      "  y = column_or_1d(y, warn=True)\n"
     ]
    }
   ],
   "source": [
    "from sklearn.metrics import f1_score,precision_score,recall_score,accuracy_score,cohen_kappa_score\n",
    "from sklearn import tree\n",
    "from sklearn.tree import DecisionTreeClassifier\n",
    "\n",
    "dtree = DecisionTreeClassifier(random_state =42,class_weight={0:sum(np.array(train_label)==1),1:sum(np.array(train_label)==0)})\n",
    "dtree_model=dtree.fit(train_data,np.array(train_label).ravel())\n",
    "pred_label=dtree_model.predict(test_data)\n",
    "print(f\"Accuracy score %s\"%accuracy_score(pred_label,test_label))\n",
    "print(f\"Precision score %s\"%f1_score(pred_label,test_label))\n",
    "print(f\"Recall score %s\"%precision_score(pred_label,test_label))\n",
    "print(f\"F1 score %s\"%recall_score(pred_label,test_label))\n",
    "print(f\"Kappa score %s\"%cohen_kappa_score(pred_label,test_label))\n",
    "print(f\"Gmean weighted score %s\"%geometric_mean_score(pred_label, test_label))\n",
    "print(f\"Roc auc score %s\"%roc_auc_score(pred_label,test_label))\n",
    "print(f\"Precision -Recall score %s\"%average_precision_score(pred_label,test_label))"
   ]
  },
  {
   "cell_type": "markdown",
   "id": "72d7ec46",
   "metadata": {},
   "source": [
    "### 15:85"
   ]
  },
  {
   "cell_type": "code",
   "execution_count": 6,
   "id": "f3927893",
   "metadata": {},
   "outputs": [],
   "source": [
    "train_data = pd.read_csv(\"forestcover_15285_imb_data.csv\")\n",
    "train_label = pd.read_csv(\"forestcover_15285_imb_label.csv\")"
   ]
  },
  {
   "cell_type": "code",
   "execution_count": 7,
   "id": "c168eab3",
   "metadata": {},
   "outputs": [
    {
     "name": "stdout",
     "output_type": "stream",
     "text": [
      "Accuracy score 0.9845914127423823\n",
      "Precision score 0.8905289052890529\n",
      "Recall score 0.9258312020460358\n",
      "F1 score 0.8578199052132701\n",
      "Kappa score 0.8822543155063213\n",
      "Gmean weighted score 0.9236739220329219\n",
      "Roc auc score 0.926201697096736\n",
      "Precision -Recall score 0.8045842456169673\n"
     ]
    },
    {
     "name": "stderr",
     "output_type": "stream",
     "text": [
      "/Applications/Utilities/anaconda3/lib/python3.8/site-packages/sklearn/preprocessing/_label.py:133: DataConversionWarning: A column-vector y was passed when a 1d array was expected. Please change the shape of y to (n_samples, ), for example using ravel().\n",
      "  y = column_or_1d(y, warn=True)\n"
     ]
    }
   ],
   "source": [
    "from sklearn.metrics import f1_score,precision_score,recall_score,accuracy_score,cohen_kappa_score\n",
    "from sklearn import tree\n",
    "from sklearn.tree import DecisionTreeClassifier\n",
    "\n",
    "dtree1 = DecisionTreeClassifier(random_state =42,class_weight={0:sum(np.array(train_label)==1),1:sum(np.array(train_label)==0)})\n",
    "dtree_model1=dtree1.fit(train_data,np.array(train_label).ravel())\n",
    "pred_label=dtree_model1.predict(test_data)\n",
    "print(f\"Accuracy score %s\"%accuracy_score(pred_label,test_label))\n",
    "print(f\"Precision score %s\"%f1_score(pred_label,test_label))\n",
    "print(f\"Recall score %s\"%precision_score(pred_label,test_label))\n",
    "print(f\"F1 score %s\"%recall_score(pred_label,test_label))\n",
    "print(f\"Kappa score %s\"%cohen_kappa_score(pred_label,test_label))\n",
    "print(f\"Gmean weighted score %s\"%geometric_mean_score(pred_label, test_label))\n",
    "print(f\"Roc auc score %s\"%roc_auc_score(pred_label,test_label))\n",
    "print(f\"Precision -Recall score %s\"%average_precision_score(pred_label,test_label))"
   ]
  },
  {
   "cell_type": "markdown",
   "id": "6944b732",
   "metadata": {},
   "source": [
    "### 30:50"
   ]
  },
  {
   "cell_type": "code",
   "execution_count": 8,
   "id": "77cd6684",
   "metadata": {},
   "outputs": [],
   "source": [
    "train_data = pd.read_csv(\"forestcover_mod_imb_data.csv\")\n",
    "train_label = pd.read_csv(\"forestcover_mod_imb_label.csv\")"
   ]
  },
  {
   "cell_type": "code",
   "execution_count": 9,
   "id": "c9b234ca",
   "metadata": {},
   "outputs": [
    {
     "name": "stdout",
     "output_type": "stream",
     "text": [
      "Accuracy score 0.9809556786703602\n",
      "Precision score 0.8684210526315791\n",
      "Recall score 0.928388746803069\n",
      "F1 score 0.8157303370786517\n",
      "Kappa score 0.8582021832971564\n",
      "Gmean weighted score 0.900802907609816\n",
      "Roc auc score 0.9052390195991645\n",
      "Precision -Recall score 0.7715115412699716\n"
     ]
    },
    {
     "name": "stderr",
     "output_type": "stream",
     "text": [
      "/Applications/Utilities/anaconda3/lib/python3.8/site-packages/sklearn/preprocessing/_label.py:133: DataConversionWarning: A column-vector y was passed when a 1d array was expected. Please change the shape of y to (n_samples, ), for example using ravel().\n",
      "  y = column_or_1d(y, warn=True)\n"
     ]
    }
   ],
   "source": [
    "from sklearn.metrics import f1_score,precision_score,recall_score,accuracy_score,cohen_kappa_score\n",
    "from sklearn import tree\n",
    "from sklearn.tree import DecisionTreeClassifier\n",
    "\n",
    "dtree2= DecisionTreeClassifier(random_state =42,class_weight={0:sum(np.array(train_label)==1),1:sum(np.array(train_label)==0)})\n",
    "dtree_model2=dtree2.fit(train_data,np.array(train_label).ravel())\n",
    "pred_label=dtree_model2.predict(test_data)\n",
    "print(f\"Accuracy score %s\"%accuracy_score(pred_label,test_label))\n",
    "print(f\"Precision score %s\"%f1_score(pred_label,test_label))\n",
    "print(f\"Recall score %s\"%precision_score(pred_label,test_label))\n",
    "print(f\"F1 score %s\"%recall_score(pred_label,test_label))\n",
    "print(f\"Kappa score %s\"%cohen_kappa_score(pred_label,test_label))\n",
    "print(f\"Gmean weighted score %s\"%geometric_mean_score(pred_label, test_label))\n",
    "print(f\"Roc auc score %s\"%roc_auc_score(pred_label,test_label))\n",
    "print(f\"Precision -Recall score %s\"%average_precision_score(pred_label,test_label))"
   ]
  },
  {
   "cell_type": "markdown",
   "id": "e869d54f",
   "metadata": {},
   "source": [
    "### 50:50"
   ]
  },
  {
   "cell_type": "code",
   "execution_count": 10,
   "id": "8ba7ef1a",
   "metadata": {},
   "outputs": [],
   "source": [
    "train_data = pd.read_csv(\"forestcover_no_imb_data.csv\")\n",
    "train_label = pd.read_csv(\"forestcover_no_imb_label.csv\")"
   ]
  },
  {
   "cell_type": "code",
   "execution_count": 11,
   "id": "08f92b6b",
   "metadata": {},
   "outputs": [
    {
     "name": "stdout",
     "output_type": "stream",
     "text": [
      "Accuracy score 0.9816481994459834\n",
      "Precision score 0.8732057416267943\n",
      "Recall score 0.9335038363171355\n",
      "F1 score 0.8202247191011236\n",
      "Kappa score 0.8633584675408961\n",
      "Gmean weighted score 0.9034513675036863\n",
      "Roc auc score 0.907673792677555\n",
      "Precision -Recall score 0.7795333374355091\n"
     ]
    },
    {
     "name": "stderr",
     "output_type": "stream",
     "text": [
      "/Applications/Utilities/anaconda3/lib/python3.8/site-packages/sklearn/preprocessing/_label.py:133: DataConversionWarning: A column-vector y was passed when a 1d array was expected. Please change the shape of y to (n_samples, ), for example using ravel().\n",
      "  y = column_or_1d(y, warn=True)\n"
     ]
    }
   ],
   "source": [
    "from sklearn.metrics import f1_score,precision_score,recall_score,accuracy_score,cohen_kappa_score\n",
    "from sklearn import tree\n",
    "from sklearn.tree import DecisionTreeClassifier\n",
    "\n",
    "dtree3 = DecisionTreeClassifier(random_state =42,class_weight={0:sum(np.array(train_label)==1),1:sum(np.array(train_label)==0)})\n",
    "dtree_model3=dtree3.fit(train_data,np.array(train_label).ravel())\n",
    "pred_label=dtree_model3.predict(test_data)\n",
    "print(f\"Accuracy score %s\"%accuracy_score(pred_label,test_label))\n",
    "print(f\"Precision score %s\"%f1_score(pred_label,test_label))\n",
    "print(f\"Recall score %s\"%precision_score(pred_label,test_label))\n",
    "print(f\"F1 score %s\"%recall_score(pred_label,test_label))\n",
    "print(f\"Kappa score %s\"%cohen_kappa_score(pred_label,test_label))\n",
    "print(f\"Gmean weighted score %s\"%geometric_mean_score(pred_label, test_label))\n",
    "print(f\"Roc auc score %s\"%roc_auc_score(pred_label,test_label))\n",
    "print(f\"Precision -Recall score %s\"%average_precision_score(pred_label,test_label))"
   ]
  }
 ],
 "metadata": {
  "kernelspec": {
   "display_name": "Python 3",
   "language": "python",
   "name": "python3"
  },
  "language_info": {
   "codemirror_mode": {
    "name": "ipython",
    "version": 3
   },
   "file_extension": ".py",
   "mimetype": "text/x-python",
   "name": "python",
   "nbconvert_exporter": "python",
   "pygments_lexer": "ipython3",
   "version": "3.8.8"
  }
 },
 "nbformat": 4,
 "nbformat_minor": 5
}
