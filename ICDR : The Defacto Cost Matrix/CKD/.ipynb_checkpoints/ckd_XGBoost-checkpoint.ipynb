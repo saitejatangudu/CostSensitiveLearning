{
 "cells": [
  {
   "cell_type": "code",
   "execution_count": 1,
   "id": "8c5757de",
   "metadata": {},
   "outputs": [],
   "source": [
    "import numpy as np\n",
    "import pandas as pd\n",
    "from imblearn.metrics import geometric_mean_score\n",
    "from sklearn.metrics import roc_auc_score"
   ]
  },
  {
   "cell_type": "code",
   "execution_count": 2,
   "id": "54bf52a9",
   "metadata": {},
   "outputs": [],
   "source": [
    "test_data = pd.read_csv(\"ckd_test_data.csv\")\n",
    "test_label = pd.read_csv(\"ckd_test_label.csv\")"
   ]
  },
  {
   "cell_type": "markdown",
   "id": "19e85f56",
   "metadata": {},
   "source": [
    "### 5:95"
   ]
  },
  {
   "cell_type": "code",
   "execution_count": 3,
   "id": "e40e6bf8",
   "metadata": {},
   "outputs": [],
   "source": [
    "train_data = pd.read_csv(\"ckd_ext_imb_data.csv\")\n",
    "train_label = pd.read_csv(\"ckd_ext_imb_label.csv\")"
   ]
  },
  {
   "cell_type": "code",
   "execution_count": 4,
   "id": "185a2347",
   "metadata": {},
   "outputs": [
    {
     "name": "stdout",
     "output_type": "stream",
     "text": [
      "Accuracy score 0.925\n",
      "Precision score 0.888888888888889\n",
      "Recall score 0.8571428571428571\n",
      "F1 score 0.9230769230769231\n",
      "Kappa score 0.8324022346368715\n",
      "Gmean weighted score 0.9245003270420485\n",
      "Roc auc score 0.9245014245014245\n"
     ]
    },
    {
     "name": "stderr",
     "output_type": "stream",
     "text": [
      "/Applications/Utilities/anaconda3/lib/python3.8/site-packages/sklearn/preprocessing/_label.py:133: DataConversionWarning: A column-vector y was passed when a 1d array was expected. Please change the shape of y to (n_samples, ), for example using ravel().\n",
      "  y = column_or_1d(y, warn=True)\n"
     ]
    }
   ],
   "source": [
    "import xgboost as xgb\n",
    "from sklearn.metrics import f1_score,precision_score,recall_score,accuracy_score,cohen_kappa_score\n",
    "from collections import Counter\n",
    "inverse_ratio = Counter(train_label[\"class\"])[0]/Counter(train_label[\"class\"])[1]\n",
    "xg_reg = xgb.XGBClassifier(scale_pos_weight=inverse_ratio)\n",
    "xg_reg.fit(train_data,np.array(train_label).ravel())\n",
    "pred_label = xg_reg.predict(test_data)\n",
    "print(f\"Accuracy score %s\"%accuracy_score(pred_label,test_label))\n",
    "print(f\"Precision score %s\"%f1_score(pred_label,test_label))\n",
    "print(f\"Recall score %s\"%precision_score(pred_label,test_label))\n",
    "print(f\"F1 score %s\"%recall_score(pred_label,test_label))\n",
    "print(f\"Kappa score %s\"%cohen_kappa_score(pred_label,test_label))\n",
    "print(f\"Gmean weighted score %s\"%geometric_mean_score(pred_label, test_label))\n",
    "print(f\"Roc auc score %s\"%roc_auc_score(pred_label,test_label))"
   ]
  },
  {
   "cell_type": "markdown",
   "id": "f047673f",
   "metadata": {},
   "source": [
    "### 15:85"
   ]
  },
  {
   "cell_type": "code",
   "execution_count": 5,
   "id": "74220e40",
   "metadata": {},
   "outputs": [],
   "source": [
    "train_data = pd.read_csv(\"ckd_15285_imb_data.csv\")\n",
    "train_label = pd.read_csv(\"ckd_15285_imb_label.csv\")"
   ]
  },
  {
   "cell_type": "code",
   "execution_count": 6,
   "id": "ac0863ca",
   "metadata": {},
   "outputs": [
    {
     "name": "stdout",
     "output_type": "stream",
     "text": [
      "Accuracy score 0.95\n",
      "Precision score 0.9285714285714286\n",
      "Recall score 0.9285714285714286\n",
      "F1 score 0.9285714285714286\n",
      "Kappa score 0.8901098901098901\n",
      "Gmean weighted score 0.944911182523068\n",
      "Roc auc score 0.9450549450549451\n"
     ]
    },
    {
     "name": "stderr",
     "output_type": "stream",
     "text": [
      "/Applications/Utilities/anaconda3/lib/python3.8/site-packages/sklearn/preprocessing/_label.py:133: DataConversionWarning: A column-vector y was passed when a 1d array was expected. Please change the shape of y to (n_samples, ), for example using ravel().\n",
      "  y = column_or_1d(y, warn=True)\n"
     ]
    }
   ],
   "source": [
    "import xgboost as xgb\n",
    "from sklearn.metrics import f1_score,precision_score,recall_score,accuracy_score,cohen_kappa_score\n",
    "from collections import Counter\n",
    "inverse_ratio = Counter(train_label[\"class\"])[0]/Counter(train_label[\"class\"])[1]\n",
    "xg_reg1 = xgb.XGBClassifier(scale_pos_weight=inverse_ratio)\n",
    "xg_reg1.fit(train_data,np.array(train_label).ravel())\n",
    "pred_label = xg_reg1.predict(test_data)\n",
    "print(f\"Accuracy score %s\"%accuracy_score(pred_label,test_label))\n",
    "print(f\"Precision score %s\"%f1_score(pred_label,test_label))\n",
    "print(f\"Recall score %s\"%precision_score(pred_label,test_label))\n",
    "print(f\"F1 score %s\"%recall_score(pred_label,test_label))\n",
    "print(f\"Kappa score %s\"%cohen_kappa_score(pred_label,test_label))\n",
    "print(f\"Gmean weighted score %s\"%geometric_mean_score(pred_label, test_label))\n",
    "print(f\"Roc auc score %s\"%roc_auc_score(pred_label,test_label))"
   ]
  },
  {
   "cell_type": "markdown",
   "id": "07260871",
   "metadata": {},
   "source": [
    "### 30:70"
   ]
  },
  {
   "cell_type": "code",
   "execution_count": 7,
   "id": "77cd6684",
   "metadata": {},
   "outputs": [],
   "source": [
    "train_data = pd.read_csv(\"ckd_mod_imb_data.csv\")\n",
    "train_label = pd.read_csv(\"ckd_mod_imb_label.csv\")"
   ]
  },
  {
   "cell_type": "code",
   "execution_count": 8,
   "id": "c9b234ca",
   "metadata": {},
   "outputs": [
    {
     "name": "stdout",
     "output_type": "stream",
     "text": [
      "Accuracy score 0.95\n",
      "Precision score 0.9285714285714286\n",
      "Recall score 0.9285714285714286\n",
      "F1 score 0.9285714285714286\n",
      "Kappa score 0.8901098901098901\n",
      "Gmean weighted score 0.944911182523068\n",
      "Roc auc score 0.9450549450549451\n"
     ]
    },
    {
     "name": "stderr",
     "output_type": "stream",
     "text": [
      "/Applications/Utilities/anaconda3/lib/python3.8/site-packages/sklearn/preprocessing/_label.py:133: DataConversionWarning: A column-vector y was passed when a 1d array was expected. Please change the shape of y to (n_samples, ), for example using ravel().\n",
      "  y = column_or_1d(y, warn=True)\n"
     ]
    }
   ],
   "source": [
    "import xgboost as xgb\n",
    "from sklearn.metrics import f1_score,precision_score,recall_score,accuracy_score,cohen_kappa_score\n",
    "from collections import Counter\n",
    "inverse_ratio = Counter(train_label[\"class\"])[0]/Counter(train_label[\"class\"])[1]\n",
    "xg_reg2 = xgb.XGBClassifier(scale_pos_weight=inverse_ratio)\n",
    "xg_reg2.fit(train_data,np.array(train_label).ravel())\n",
    "pred_label = xg_reg2.predict(test_data)\n",
    "print(f\"Accuracy score %s\"%accuracy_score(pred_label,test_label))\n",
    "print(f\"Precision score %s\"%f1_score(pred_label,test_label))\n",
    "print(f\"Recall score %s\"%precision_score(pred_label,test_label))\n",
    "print(f\"F1 score %s\"%recall_score(pred_label,test_label))\n",
    "print(f\"Kappa score %s\"%cohen_kappa_score(pred_label,test_label))\n",
    "print(f\"Gmean weighted score %s\"%geometric_mean_score(pred_label, test_label))\n",
    "print(f\"Roc auc score %s\"%roc_auc_score(pred_label,test_label))"
   ]
  },
  {
   "cell_type": "markdown",
   "id": "e869d54f",
   "metadata": {},
   "source": [
    "### 50:50"
   ]
  },
  {
   "cell_type": "code",
   "execution_count": 9,
   "id": "8ba7ef1a",
   "metadata": {},
   "outputs": [],
   "source": [
    "train_data = pd.read_csv(\"ckd_no_imb_data.csv\")\n",
    "train_label = pd.read_csv(\"ckd_no_imb_label.csv\")"
   ]
  },
  {
   "cell_type": "code",
   "execution_count": 10,
   "id": "08f92b6b",
   "metadata": {},
   "outputs": [
    {
     "name": "stdout",
     "output_type": "stream",
     "text": [
      "Accuracy score 0.95\n",
      "Precision score 0.9285714285714286\n",
      "Recall score 0.9285714285714286\n",
      "F1 score 0.9285714285714286\n",
      "Kappa score 0.8901098901098901\n",
      "Gmean weighted score 0.944911182523068\n",
      "Roc auc score 0.9450549450549451\n"
     ]
    },
    {
     "name": "stderr",
     "output_type": "stream",
     "text": [
      "/Applications/Utilities/anaconda3/lib/python3.8/site-packages/sklearn/preprocessing/_label.py:133: DataConversionWarning: A column-vector y was passed when a 1d array was expected. Please change the shape of y to (n_samples, ), for example using ravel().\n",
      "  y = column_or_1d(y, warn=True)\n"
     ]
    }
   ],
   "source": [
    "import xgboost as xgb\n",
    "from sklearn.metrics import f1_score,precision_score,recall_score,accuracy_score,cohen_kappa_score\n",
    "from collections import Counter\n",
    "inverse_ratio = Counter(train_label[\"class\"])[0]/Counter(train_label[\"class\"])[1]\n",
    "xg_reg3 = xgb.XGBClassifier(scale_pos_weight=inverse_ratio)\n",
    "xg_reg3.fit(train_data,np.array(train_label).ravel())\n",
    "pred_label = xg_reg3.predict(test_data)\n",
    "print(f\"Accuracy score %s\"%accuracy_score(pred_label,test_label))\n",
    "print(f\"Precision score %s\"%f1_score(pred_label,test_label))\n",
    "print(f\"Recall score %s\"%precision_score(pred_label,test_label))\n",
    "print(f\"F1 score %s\"%recall_score(pred_label,test_label))\n",
    "print(f\"Kappa score %s\"%cohen_kappa_score(pred_label,test_label))\n",
    "print(f\"Gmean weighted score %s\"%geometric_mean_score(pred_label, test_label))\n",
    "print(f\"Roc auc score %s\"%roc_auc_score(pred_label,test_label))"
   ]
  }
 ],
 "metadata": {
  "kernelspec": {
   "display_name": "Python 3",
   "language": "python",
   "name": "python3"
  },
  "language_info": {
   "codemirror_mode": {
    "name": "ipython",
    "version": 3
   },
   "file_extension": ".py",
   "mimetype": "text/x-python",
   "name": "python",
   "nbconvert_exporter": "python",
   "pygments_lexer": "ipython3",
   "version": "3.8.8"
  }
 },
 "nbformat": 4,
 "nbformat_minor": 5
}
