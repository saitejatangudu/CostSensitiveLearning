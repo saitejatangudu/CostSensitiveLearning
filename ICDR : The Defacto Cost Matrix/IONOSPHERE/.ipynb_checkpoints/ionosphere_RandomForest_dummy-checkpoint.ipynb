{
 "cells": [
  {
   "cell_type": "code",
   "execution_count": 1,
   "id": "8c5757de",
   "metadata": {},
   "outputs": [],
   "source": [
    "import numpy as np\n",
    "import pandas as pd\n",
    "from imblearn.metrics import geometric_mean_score\n",
    "from sklearn.metrics import roc_auc_score"
   ]
  },
  {
   "cell_type": "code",
   "execution_count": 2,
   "id": "54bf52a9",
   "metadata": {},
   "outputs": [],
   "source": [
    "test_data = pd.read_csv(\"ionosphere_test_data.csv\")\n",
    "test_label = pd.read_csv(\"ionosphere_test_label.csv\")"
   ]
  },
  {
   "cell_type": "code",
   "execution_count": 3,
   "id": "87e8ab5e",
   "metadata": {},
   "outputs": [
    {
     "data": {
      "text/html": [
       "<div>\n",
       "<style scoped>\n",
       "    .dataframe tbody tr th:only-of-type {\n",
       "        vertical-align: middle;\n",
       "    }\n",
       "\n",
       "    .dataframe tbody tr th {\n",
       "        vertical-align: top;\n",
       "    }\n",
       "\n",
       "    .dataframe thead th {\n",
       "        text-align: right;\n",
       "    }\n",
       "</style>\n",
       "<table border=\"1\" class=\"dataframe\">\n",
       "  <thead>\n",
       "    <tr style=\"text-align: right;\">\n",
       "      <th></th>\n",
       "      <th>0</th>\n",
       "      <th>1</th>\n",
       "      <th>2</th>\n",
       "      <th>3</th>\n",
       "      <th>4</th>\n",
       "      <th>5</th>\n",
       "      <th>6</th>\n",
       "      <th>7</th>\n",
       "      <th>8</th>\n",
       "      <th>9</th>\n",
       "      <th>...</th>\n",
       "      <th>24</th>\n",
       "      <th>25</th>\n",
       "      <th>26</th>\n",
       "      <th>27</th>\n",
       "      <th>28</th>\n",
       "      <th>29</th>\n",
       "      <th>30</th>\n",
       "      <th>31</th>\n",
       "      <th>32</th>\n",
       "      <th>33</th>\n",
       "    </tr>\n",
       "  </thead>\n",
       "  <tbody>\n",
       "    <tr>\n",
       "      <th>0</th>\n",
       "      <td>1</td>\n",
       "      <td>0</td>\n",
       "      <td>0.47090</td>\n",
       "      <td>0.22751</td>\n",
       "      <td>0.42328</td>\n",
       "      <td>0.33598</td>\n",
       "      <td>0.25661</td>\n",
       "      <td>0.47619</td>\n",
       "      <td>0.01852</td>\n",
       "      <td>0.49471</td>\n",
       "      <td>...</td>\n",
       "      <td>-0.23280</td>\n",
       "      <td>0.00265</td>\n",
       "      <td>0.03574</td>\n",
       "      <td>-0.31739</td>\n",
       "      <td>0.15873</td>\n",
       "      <td>-0.21693</td>\n",
       "      <td>0.24868</td>\n",
       "      <td>-0.24339</td>\n",
       "      <td>0.26720</td>\n",
       "      <td>0.04233</td>\n",
       "    </tr>\n",
       "    <tr>\n",
       "      <th>1</th>\n",
       "      <td>1</td>\n",
       "      <td>0</td>\n",
       "      <td>0.82254</td>\n",
       "      <td>-0.07572</td>\n",
       "      <td>0.80462</td>\n",
       "      <td>0.00231</td>\n",
       "      <td>0.87514</td>\n",
       "      <td>-0.01214</td>\n",
       "      <td>0.86821</td>\n",
       "      <td>-0.07514</td>\n",
       "      <td>...</td>\n",
       "      <td>0.74451</td>\n",
       "      <td>-0.02370</td>\n",
       "      <td>0.76717</td>\n",
       "      <td>-0.02731</td>\n",
       "      <td>0.74046</td>\n",
       "      <td>-0.07630</td>\n",
       "      <td>0.70058</td>\n",
       "      <td>-0.04220</td>\n",
       "      <td>0.78439</td>\n",
       "      <td>0.01214</td>\n",
       "    </tr>\n",
       "    <tr>\n",
       "      <th>2</th>\n",
       "      <td>1</td>\n",
       "      <td>0</td>\n",
       "      <td>0.89589</td>\n",
       "      <td>0.39286</td>\n",
       "      <td>0.66129</td>\n",
       "      <td>0.71804</td>\n",
       "      <td>0.29521</td>\n",
       "      <td>0.90824</td>\n",
       "      <td>-0.04787</td>\n",
       "      <td>0.94415</td>\n",
       "      <td>...</td>\n",
       "      <td>0.21581</td>\n",
       "      <td>-0.85703</td>\n",
       "      <td>0.53229</td>\n",
       "      <td>-0.68593</td>\n",
       "      <td>0.74846</td>\n",
       "      <td>-0.40656</td>\n",
       "      <td>0.83142</td>\n",
       "      <td>-0.07029</td>\n",
       "      <td>0.76862</td>\n",
       "      <td>0.27926</td>\n",
       "    </tr>\n",
       "    <tr>\n",
       "      <th>3</th>\n",
       "      <td>1</td>\n",
       "      <td>0</td>\n",
       "      <td>0.68729</td>\n",
       "      <td>1.00000</td>\n",
       "      <td>0.91973</td>\n",
       "      <td>-0.76087</td>\n",
       "      <td>0.81773</td>\n",
       "      <td>0.04348</td>\n",
       "      <td>0.76087</td>\n",
       "      <td>0.10702</td>\n",
       "      <td>...</td>\n",
       "      <td>1.00000</td>\n",
       "      <td>-0.53846</td>\n",
       "      <td>0.89262</td>\n",
       "      <td>0.22216</td>\n",
       "      <td>0.71070</td>\n",
       "      <td>0.53846</td>\n",
       "      <td>1.00000</td>\n",
       "      <td>-0.06522</td>\n",
       "      <td>0.56522</td>\n",
       "      <td>0.23913</td>\n",
       "    </tr>\n",
       "    <tr>\n",
       "      <th>4</th>\n",
       "      <td>1</td>\n",
       "      <td>0</td>\n",
       "      <td>0.72414</td>\n",
       "      <td>-0.01084</td>\n",
       "      <td>0.79704</td>\n",
       "      <td>0.01084</td>\n",
       "      <td>0.80000</td>\n",
       "      <td>0.00197</td>\n",
       "      <td>0.79015</td>\n",
       "      <td>0.01084</td>\n",
       "      <td>...</td>\n",
       "      <td>0.72611</td>\n",
       "      <td>-0.01478</td>\n",
       "      <td>0.78041</td>\n",
       "      <td>0.00612</td>\n",
       "      <td>0.74089</td>\n",
       "      <td>-0.05025</td>\n",
       "      <td>0.82956</td>\n",
       "      <td>0.02956</td>\n",
       "      <td>0.79015</td>\n",
       "      <td>0.00788</td>\n",
       "    </tr>\n",
       "  </tbody>\n",
       "</table>\n",
       "<p>5 rows × 34 columns</p>\n",
       "</div>"
      ],
      "text/plain": [
       "   0  1        2        3        4        5        6        7        8  \\\n",
       "0  1  0  0.47090  0.22751  0.42328  0.33598  0.25661  0.47619  0.01852   \n",
       "1  1  0  0.82254 -0.07572  0.80462  0.00231  0.87514 -0.01214  0.86821   \n",
       "2  1  0  0.89589  0.39286  0.66129  0.71804  0.29521  0.90824 -0.04787   \n",
       "3  1  0  0.68729  1.00000  0.91973 -0.76087  0.81773  0.04348  0.76087   \n",
       "4  1  0  0.72414 -0.01084  0.79704  0.01084  0.80000  0.00197  0.79015   \n",
       "\n",
       "         9  ...       24       25       26       27       28       29  \\\n",
       "0  0.49471  ... -0.23280  0.00265  0.03574 -0.31739  0.15873 -0.21693   \n",
       "1 -0.07514  ...  0.74451 -0.02370  0.76717 -0.02731  0.74046 -0.07630   \n",
       "2  0.94415  ...  0.21581 -0.85703  0.53229 -0.68593  0.74846 -0.40656   \n",
       "3  0.10702  ...  1.00000 -0.53846  0.89262  0.22216  0.71070  0.53846   \n",
       "4  0.01084  ...  0.72611 -0.01478  0.78041  0.00612  0.74089 -0.05025   \n",
       "\n",
       "        30       31       32       33  \n",
       "0  0.24868 -0.24339  0.26720  0.04233  \n",
       "1  0.70058 -0.04220  0.78439  0.01214  \n",
       "2  0.83142 -0.07029  0.76862  0.27926  \n",
       "3  1.00000 -0.06522  0.56522  0.23913  \n",
       "4  0.82956  0.02956  0.79015  0.00788  \n",
       "\n",
       "[5 rows x 34 columns]"
      ]
     },
     "execution_count": 3,
     "metadata": {},
     "output_type": "execute_result"
    }
   ],
   "source": [
    "test_data.head()"
   ]
  },
  {
   "cell_type": "markdown",
   "id": "03c7f7c6",
   "metadata": {},
   "source": [
    "### 05:95"
   ]
  },
  {
   "cell_type": "code",
   "execution_count": 4,
   "id": "e40e6bf8",
   "metadata": {},
   "outputs": [],
   "source": [
    "train_data = pd.read_csv(\"ionosphere_ext_imb_data.csv\")\n",
    "train_label = pd.read_csv(\"ionosphere_ext_imb_label.csv\")"
   ]
  },
  {
   "cell_type": "code",
   "execution_count": 5,
   "id": "0f2bddaf",
   "metadata": {},
   "outputs": [
    {
     "name": "stdout",
     "output_type": "stream",
     "text": [
      "Accuracy score 0.8888888888888888\n",
      "Precision score 0.846153846153846\n",
      "Recall score 0.7333333333333333\n",
      "F1 score 1.0\n",
      "Kappa score 0.7623762376237624\n",
      "Gmean weighted score 0.916515138991168\n",
      "Roc auc score 0.9199999999999999\n"
     ]
    },
    {
     "name": "stderr",
     "output_type": "stream",
     "text": [
      "/Applications/Utilities/anaconda3/lib/python3.8/site-packages/sklearn/preprocessing/_label.py:133: DataConversionWarning: A column-vector y was passed when a 1d array was expected. Please change the shape of y to (n_samples, ), for example using ravel().\n",
      "  y = column_or_1d(y, warn=True)\n"
     ]
    }
   ],
   "source": [
    "from sklearn.metrics import f1_score,precision_score,recall_score,accuracy_score,cohen_kappa_score\n",
    "from sklearn.ensemble import RandomForestClassifier\n",
    "\n",
    "rforest = RandomForestClassifier(random_state=42)\n",
    "rforest_model=rforest.fit(train_data,np.array(train_label).ravel())\n",
    "pred_label=rforest_model.predict(test_data)\n",
    "print(f\"Accuracy score %s\"%accuracy_score(pred_label,test_label))\n",
    "print(f\"Precision score %s\"%f1_score(pred_label,test_label))\n",
    "print(f\"Recall score %s\"%precision_score(pred_label,test_label))\n",
    "print(f\"F1 score %s\"%recall_score(pred_label,test_label))\n",
    "print(f\"Kappa score %s\"%cohen_kappa_score(pred_label,test_label))\n",
    "print(f\"Gmean weighted score %s\"%geometric_mean_score(pred_label, test_label))\n",
    "print(f\"Roc auc score %s\"%roc_auc_score(pred_label,test_label))"
   ]
  },
  {
   "cell_type": "markdown",
   "id": "198cc5ad",
   "metadata": {},
   "source": [
    "### 15:85"
   ]
  },
  {
   "cell_type": "code",
   "execution_count": 6,
   "id": "8183ba75",
   "metadata": {},
   "outputs": [],
   "source": [
    "train_data = pd.read_csv(\"ionosphere_15285_imb_data.csv\")\n",
    "train_label = pd.read_csv(\"ionosphere_15285_imb_label.csv\")"
   ]
  },
  {
   "cell_type": "code",
   "execution_count": 7,
   "id": "e69ed2c7",
   "metadata": {},
   "outputs": [
    {
     "name": "stdout",
     "output_type": "stream",
     "text": [
      "Accuracy score 0.9166666666666666\n",
      "Precision score 0.888888888888889\n",
      "Recall score 0.8\n",
      "F1 score 1.0\n",
      "Kappa score 0.8235294117647058\n",
      "Gmean weighted score 0.9354143466934853\n",
      "Roc auc score 0.9375\n"
     ]
    },
    {
     "name": "stderr",
     "output_type": "stream",
     "text": [
      "/Applications/Utilities/anaconda3/lib/python3.8/site-packages/sklearn/preprocessing/_label.py:133: DataConversionWarning: A column-vector y was passed when a 1d array was expected. Please change the shape of y to (n_samples, ), for example using ravel().\n",
      "  y = column_or_1d(y, warn=True)\n"
     ]
    }
   ],
   "source": [
    "from sklearn.metrics import f1_score,precision_score,recall_score,accuracy_score,cohen_kappa_score\n",
    "from sklearn.ensemble import RandomForestClassifier\n",
    "\n",
    "rforest1 = RandomForestClassifier(random_state=42)\n",
    "rforest_model1=rforest1.fit(train_data,np.array(train_label).ravel())\n",
    "pred_label=rforest_model1.predict(test_data)\n",
    "print(f\"Accuracy score %s\"%accuracy_score(pred_label,test_label))\n",
    "print(f\"Precision score %s\"%f1_score(pred_label,test_label))\n",
    "print(f\"Recall score %s\"%precision_score(pred_label,test_label))\n",
    "print(f\"F1 score %s\"%recall_score(pred_label,test_label))\n",
    "print(f\"Kappa score %s\"%cohen_kappa_score(pred_label,test_label))\n",
    "print(f\"Gmean weighted score %s\"%geometric_mean_score(pred_label, test_label))\n",
    "print(f\"Roc auc score %s\"%roc_auc_score(pred_label,test_label))"
   ]
  },
  {
   "cell_type": "markdown",
   "id": "6944b732",
   "metadata": {},
   "source": [
    "### 30:70"
   ]
  },
  {
   "cell_type": "code",
   "execution_count": 8,
   "id": "77cd6684",
   "metadata": {},
   "outputs": [],
   "source": [
    "train_data = pd.read_csv(\"ionosphere_mod_imb_data.csv\")\n",
    "train_label = pd.read_csv(\"ionosphere_mod_imb_label.csv\")"
   ]
  },
  {
   "cell_type": "code",
   "execution_count": 9,
   "id": "c9b234ca",
   "metadata": {},
   "outputs": [
    {
     "name": "stdout",
     "output_type": "stream",
     "text": [
      "Accuracy score 0.9166666666666666\n",
      "Precision score 0.888888888888889\n",
      "Recall score 0.8\n",
      "F1 score 1.0\n",
      "Kappa score 0.8235294117647058\n",
      "Gmean weighted score 0.9354143466934853\n",
      "Roc auc score 0.9375\n"
     ]
    },
    {
     "name": "stderr",
     "output_type": "stream",
     "text": [
      "/Applications/Utilities/anaconda3/lib/python3.8/site-packages/sklearn/preprocessing/_label.py:133: DataConversionWarning: A column-vector y was passed when a 1d array was expected. Please change the shape of y to (n_samples, ), for example using ravel().\n",
      "  y = column_or_1d(y, warn=True)\n"
     ]
    }
   ],
   "source": [
    "from sklearn.metrics import f1_score,precision_score,recall_score,accuracy_score,cohen_kappa_score\n",
    "from sklearn.ensemble import RandomForestClassifier\n",
    "\n",
    "rforest2 = RandomForestClassifier(random_state=42)\n",
    "rforest_model2=rforest2.fit(train_data,np.array(train_label).ravel())\n",
    "pred_label=rforest_model2.predict(test_data)\n",
    "print(f\"Accuracy score %s\"%accuracy_score(pred_label,test_label))\n",
    "print(f\"Precision score %s\"%f1_score(pred_label,test_label))\n",
    "print(f\"Recall score %s\"%precision_score(pred_label,test_label))\n",
    "print(f\"F1 score %s\"%recall_score(pred_label,test_label))\n",
    "print(f\"Kappa score %s\"%cohen_kappa_score(pred_label,test_label))\n",
    "print(f\"Gmean weighted score %s\"%geometric_mean_score(pred_label, test_label))\n",
    "print(f\"Roc auc score %s\"%roc_auc_score(pred_label,test_label))"
   ]
  },
  {
   "cell_type": "markdown",
   "id": "e869d54f",
   "metadata": {},
   "source": [
    "### 50:50"
   ]
  },
  {
   "cell_type": "code",
   "execution_count": 10,
   "id": "8ba7ef1a",
   "metadata": {},
   "outputs": [],
   "source": [
    "train_data = pd.read_csv(\"ionosphere_no_imb_data.csv\")\n",
    "train_label = pd.read_csv(\"ionosphere_no_imb_label.csv\")"
   ]
  },
  {
   "cell_type": "code",
   "execution_count": 11,
   "id": "08f92b6b",
   "metadata": {},
   "outputs": [
    {
     "name": "stdout",
     "output_type": "stream",
     "text": [
      "Accuracy score 0.9444444444444444\n",
      "Precision score 0.9285714285714286\n",
      "Recall score 0.8666666666666667\n",
      "F1 score 1.0\n",
      "Kappa score 0.883495145631068\n",
      "Gmean weighted score 0.9555330859059091\n",
      "Roc auc score 0.9565217391304348\n"
     ]
    },
    {
     "name": "stderr",
     "output_type": "stream",
     "text": [
      "/Applications/Utilities/anaconda3/lib/python3.8/site-packages/sklearn/preprocessing/_label.py:133: DataConversionWarning: A column-vector y was passed when a 1d array was expected. Please change the shape of y to (n_samples, ), for example using ravel().\n",
      "  y = column_or_1d(y, warn=True)\n"
     ]
    }
   ],
   "source": [
    "from sklearn.metrics import f1_score,precision_score,recall_score,accuracy_score,cohen_kappa_score\n",
    "from sklearn.ensemble import RandomForestClassifier\n",
    "\n",
    "rforest3 = RandomForestClassifier(random_state=42)\n",
    "rforest_model3=rforest3.fit(train_data,np.array(train_label).ravel())\n",
    "pred_label=rforest_model3.predict(test_data)\n",
    "print(f\"Accuracy score %s\"%accuracy_score(pred_label,test_label))\n",
    "print(f\"Precision score %s\"%f1_score(pred_label,test_label))\n",
    "print(f\"Recall score %s\"%precision_score(pred_label,test_label))\n",
    "print(f\"F1 score %s\"%recall_score(pred_label,test_label))\n",
    "print(f\"Kappa score %s\"%cohen_kappa_score(pred_label,test_label))\n",
    "print(f\"Gmean weighted score %s\"%geometric_mean_score(pred_label, test_label))\n",
    "print(f\"Roc auc score %s\"%roc_auc_score(pred_label,test_label))"
   ]
  }
 ],
 "metadata": {
  "kernelspec": {
   "display_name": "Python 3",
   "language": "python",
   "name": "python3"
  },
  "language_info": {
   "codemirror_mode": {
    "name": "ipython",
    "version": 3
   },
   "file_extension": ".py",
   "mimetype": "text/x-python",
   "name": "python",
   "nbconvert_exporter": "python",
   "pygments_lexer": "ipython3",
   "version": "3.8.8"
  }
 },
 "nbformat": 4,
 "nbformat_minor": 5
}
