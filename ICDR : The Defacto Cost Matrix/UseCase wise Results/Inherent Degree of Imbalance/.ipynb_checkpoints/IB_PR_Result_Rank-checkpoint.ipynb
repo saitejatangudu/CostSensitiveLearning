{
 "cells": [
  {
   "cell_type": "code",
   "execution_count": 1,
   "id": "3f66f4de",
   "metadata": {},
   "outputs": [],
   "source": [
    "import pandas as pd\n",
    "import numpy as np\n",
    "import matplotlib.pyplot as plt"
   ]
  },
  {
   "cell_type": "markdown",
   "id": "7c30c777",
   "metadata": {},
   "source": [
    "## IBLow-CS"
   ]
  },
  {
   "cell_type": "code",
   "execution_count": 2,
   "id": "38ef5f62",
   "metadata": {},
   "outputs": [],
   "source": [
    "#cervical-CS\n",
    "Degree_of_Imbalance=[\"5:95\",\"15:85\",\"30:70\",\"50:50\"]*5\n",
    "Pr_Re = [8,8,16,14,37,36,37,37,2,3,7,8,5,57,25,71,18,21,21,11]\n",
    "dataset = [\"cervical\"]*20"
   ]
  },
  {
   "cell_type": "code",
   "execution_count": 3,
   "id": "061a4ef3",
   "metadata": {},
   "outputs": [],
   "source": [
    "#abalone-CS\n",
    "Degree_of_Imbalance+=[\"5:95\",\"15:85\",\"30:70\",\"50:50\"]*5\n",
    "Pr_Re += [21,21,28,34,47,47,47,48,0,18,29,28,55,41,41,47,34,29,28,28]\n",
    "dataset += [\"abalone\"]*20"
   ]
  },
  {
   "cell_type": "code",
   "execution_count": 4,
   "id": "4be3ba8a",
   "metadata": {},
   "outputs": [],
   "source": [
    "#ninapro-CS\n",
    "Degree_of_Imbalance+=[\"5:95\",\"15:85\",\"30:70\",\"50:50\"]*5\n",
    "Pr_Re += [74,73,73,74,58,40,41,42,80,83,81,81,67,97,67,55,65,54,53,53]\n",
    "dataset += [\"ninapro\"]*20"
   ]
  },
  {
   "cell_type": "code",
   "execution_count": 5,
   "id": "ed61d4bc",
   "metadata": {},
   "outputs": [],
   "source": [
    "#forestcover-CS\n",
    "Degree_of_Imbalance+=[\"5:95\",\"15:85\",\"30:70\",\"50:50\"]*5\n",
    "Pr_Re += [78,80,77,78,42,42,42,42,82,86,85,86,22,8,43,60,56,59,60,60]\n",
    "dataset += [\"forestcover\"]*20"
   ]
  },
  {
   "cell_type": "code",
   "execution_count": 6,
   "id": "065011bb",
   "metadata": {},
   "outputs": [],
   "source": [
    "#mammography-CS\n",
    "Degree_of_Imbalance+=[\"5:95\",\"15:85\",\"30:70\",\"50:50\"]*5\n",
    "Pr_Re += [39,32,30,29,26,26,27,27,59,50,42,39,89,33,23,18,68,66,66,66]\n",
    "dataset += [\"mammography\"]*20"
   ]
  },
  {
   "cell_type": "code",
   "execution_count": 7,
   "id": "0cf9be56",
   "metadata": {},
   "outputs": [],
   "source": [
    "#Credit-CS\n",
    "Degree_of_Imbalance+=[\"5:95\",\"15:85\",\"30:70\",\"50:50\"]*5\n",
    "Pr_Re += [37,28,30,34,10,10,11,10,72,69,71,69,16,24,8,8,7,7,7,7]\n",
    "dataset += [\"Credit\"]*20"
   ]
  },
  {
   "cell_type": "code",
   "execution_count": 8,
   "id": "a8db5abc",
   "metadata": {},
   "outputs": [],
   "source": [
    "#PORTOSEGURO-CS\n",
    "Degree_of_Imbalance+=[\"5:95\",\"15:85\",\"30:70\",\"50:50\"]*5\n",
    "Pr_Re += [4,5,6,5,39,42,42,43,np.NaN,np.NaN,np.NaN,np.NaN,np.NaN,1,62,4,39,0,np.NaN,np.NaN]\n",
    "dataset += [\"portoseguro\"]*20"
   ]
  },
  {
   "cell_type": "code",
   "execution_count": 9,
   "id": "47a551e2",
   "metadata": {},
   "outputs": [],
   "source": [
    "data = pd.DataFrame([Degree_of_Imbalance,Pr_Re,dataset]).T"
   ]
  },
  {
   "cell_type": "code",
   "execution_count": 10,
   "id": "fd1130b3",
   "metadata": {},
   "outputs": [],
   "source": [
    "data.columns=[\"Degree_of_Imbalance\",\"Pr_Re\",\"dataset\"]"
   ]
  },
  {
   "cell_type": "code",
   "execution_count": 11,
   "id": "3f4db751",
   "metadata": {},
   "outputs": [
    {
     "data": {
      "text/html": [
       "<div>\n",
       "<style scoped>\n",
       "    .dataframe tbody tr th:only-of-type {\n",
       "        vertical-align: middle;\n",
       "    }\n",
       "\n",
       "    .dataframe tbody tr th {\n",
       "        vertical-align: top;\n",
       "    }\n",
       "\n",
       "    .dataframe thead th {\n",
       "        text-align: right;\n",
       "    }\n",
       "</style>\n",
       "<table border=\"1\" class=\"dataframe\">\n",
       "  <thead>\n",
       "    <tr style=\"text-align: right;\">\n",
       "      <th></th>\n",
       "      <th>Degree_of_Imbalance</th>\n",
       "      <th>Pr_Re</th>\n",
       "      <th>dataset</th>\n",
       "    </tr>\n",
       "  </thead>\n",
       "  <tbody>\n",
       "    <tr>\n",
       "      <th>0</th>\n",
       "      <td>5:95</td>\n",
       "      <td>8</td>\n",
       "      <td>cervical</td>\n",
       "    </tr>\n",
       "    <tr>\n",
       "      <th>1</th>\n",
       "      <td>15:85</td>\n",
       "      <td>8</td>\n",
       "      <td>cervical</td>\n",
       "    </tr>\n",
       "    <tr>\n",
       "      <th>2</th>\n",
       "      <td>30:70</td>\n",
       "      <td>16</td>\n",
       "      <td>cervical</td>\n",
       "    </tr>\n",
       "    <tr>\n",
       "      <th>3</th>\n",
       "      <td>50:50</td>\n",
       "      <td>14</td>\n",
       "      <td>cervical</td>\n",
       "    </tr>\n",
       "    <tr>\n",
       "      <th>4</th>\n",
       "      <td>5:95</td>\n",
       "      <td>37</td>\n",
       "      <td>cervical</td>\n",
       "    </tr>\n",
       "    <tr>\n",
       "      <th>...</th>\n",
       "      <td>...</td>\n",
       "      <td>...</td>\n",
       "      <td>...</td>\n",
       "    </tr>\n",
       "    <tr>\n",
       "      <th>135</th>\n",
       "      <td>50:50</td>\n",
       "      <td>4</td>\n",
       "      <td>portoseguro</td>\n",
       "    </tr>\n",
       "    <tr>\n",
       "      <th>136</th>\n",
       "      <td>5:95</td>\n",
       "      <td>39</td>\n",
       "      <td>portoseguro</td>\n",
       "    </tr>\n",
       "    <tr>\n",
       "      <th>137</th>\n",
       "      <td>15:85</td>\n",
       "      <td>0</td>\n",
       "      <td>portoseguro</td>\n",
       "    </tr>\n",
       "    <tr>\n",
       "      <th>138</th>\n",
       "      <td>30:70</td>\n",
       "      <td>NaN</td>\n",
       "      <td>portoseguro</td>\n",
       "    </tr>\n",
       "    <tr>\n",
       "      <th>139</th>\n",
       "      <td>50:50</td>\n",
       "      <td>NaN</td>\n",
       "      <td>portoseguro</td>\n",
       "    </tr>\n",
       "  </tbody>\n",
       "</table>\n",
       "<p>140 rows × 3 columns</p>\n",
       "</div>"
      ],
      "text/plain": [
       "    Degree_of_Imbalance Pr_Re      dataset\n",
       "0                  5:95     8     cervical\n",
       "1                 15:85     8     cervical\n",
       "2                 30:70    16     cervical\n",
       "3                 50:50    14     cervical\n",
       "4                  5:95    37     cervical\n",
       "..                  ...   ...          ...\n",
       "135               50:50     4  portoseguro\n",
       "136                5:95    39  portoseguro\n",
       "137               15:85     0  portoseguro\n",
       "138               30:70   NaN  portoseguro\n",
       "139               50:50   NaN  portoseguro\n",
       "\n",
       "[140 rows x 3 columns]"
      ]
     },
     "execution_count": 11,
     "metadata": {},
     "output_type": "execute_result"
    }
   ],
   "source": [
    "data"
   ]
  },
  {
   "cell_type": "markdown",
   "id": "476fad20",
   "metadata": {},
   "source": [
    "## IBHigh-cs"
   ]
  },
  {
   "cell_type": "code",
   "execution_count": 12,
   "id": "28306562",
   "metadata": {},
   "outputs": [],
   "source": [
    "#pima-CS\n",
    "Degree_of_Imbalance=[\"5:95\",\"15:85\",\"30:70\",\"50:50\"]*5\n",
    "Pr_Re = [11,33,40,53,60,62,60,64,0,20,48,62,40,50,83,87,34,54,60,64]\n",
    "dataset = [\"pima\"]*20"
   ]
  },
  {
   "cell_type": "code",
   "execution_count": 13,
   "id": "787c82b4",
   "metadata": {},
   "outputs": [],
   "source": [
    "#HABERMAN-CS\n",
    "Degree_of_Imbalance+=[\"5:95\",\"15:85\",\"30:70\",\"50:50\"]*5\n",
    "Pr_Re += [26,6,21,21,37,37,37,47,16,11,21,29,31,36,37,26,42,42,42,42]\n",
    "dataset += [\"haberman\"]*20"
   ]
  },
  {
   "cell_type": "code",
   "execution_count": 14,
   "id": "683ffb9a",
   "metadata": {},
   "outputs": [],
   "source": [
    "#CKD-CS\n",
    "Degree_of_Imbalance+=[\"5:95\",\"15:85\",\"30:70\",\"50:50\"]*5\n",
    "Pr_Re += [95,95,86,83,91,100,100,100,84,95,95,100,91,95,100,100,95,91,95,91]\n",
    "dataset += [\"ckd\"]*20"
   ]
  },
  {
   "cell_type": "code",
   "execution_count": 15,
   "id": "0e59b013",
   "metadata": {},
   "outputs": [],
   "source": [
    "#ECG-CS\n",
    "Degree_of_Imbalance+=[\"5:95\",\"15:85\",\"30:70\",\"50:50\"]*5\n",
    "Pr_Re += [93,93,97,96,94,96,97,97,91,95,98,100,96,97,97,97,94,98,98,99]\n",
    "dataset += [\"ecg\"]*20"
   ]
  },
  {
   "cell_type": "code",
   "execution_count": 16,
   "id": "65ec5f8b",
   "metadata": {},
   "outputs": [],
   "source": [
    "#inosphere-CS\n",
    "Degree_of_Imbalance+=[\"5:95\",\"15:85\",\"30:70\",\"50:50\"]*5\n",
    "Pr_Re += [41,64,57,77,55,55,79,77,41,68,82,91,54,55,77,79,68,77,86,84]\n",
    "dataset += [\"inosphere\"]*20"
   ]
  },
  {
   "cell_type": "code",
   "execution_count": 17,
   "id": "06890142",
   "metadata": {},
   "outputs": [],
   "source": [
    "#phenome-CS\n",
    "Degree_of_Imbalance+=[\"5:95\",\"15:85\",\"30:70\",\"50:50\"]*5\n",
    "Pr_Re += [32,54,63,66,49,56,56,61,16,52,72,76,np.NaN,np.NaN,97,61,54,68,69,72]\n",
    "dataset += [\"phenome\"]*20"
   ]
  },
  {
   "cell_type": "code",
   "execution_count": 18,
   "id": "48a53ab3",
   "metadata": {},
   "outputs": [],
   "source": [
    "#Vehicle-CS\n",
    "Degree_of_Imbalance+=[\"5:95\",\"15:85\",\"30:70\",\"50:50\"]*5\n",
    "Pr_Re += [65,83,76,85,89,89,89,90,48,79,87,90,90,90,90,89,81,94,89,90]\n",
    "dataset += [\"vehicle\"]*20"
   ]
  },
  {
   "cell_type": "code",
   "execution_count": 19,
   "id": "96a33646",
   "metadata": {},
   "outputs": [],
   "source": [
    "#Insurance-CS\n",
    "Degree_of_Imbalance+=[\"5:95\",\"15:85\",\"30:70\",\"50:50\"]*5\n",
    "Pr_Re += [12,25,32,31,64,63,64,65,1,22,38,42,np.NaN,42,0,0,61,61,60,61]\n",
    "dataset += [\"insurance\"]*20"
   ]
  },
  {
   "cell_type": "code",
   "execution_count": 20,
   "id": "109f6de9",
   "metadata": {},
   "outputs": [],
   "source": [
    "data1 = pd.DataFrame([Degree_of_Imbalance,Pr_Re,dataset]).T"
   ]
  },
  {
   "cell_type": "code",
   "execution_count": 21,
   "id": "ece70df5",
   "metadata": {},
   "outputs": [],
   "source": [
    "data1.columns=[\"Degree_of_Imbalance\",\"Pr_Re\",\"dataset\"]"
   ]
  },
  {
   "cell_type": "code",
   "execution_count": 22,
   "id": "37277f5a",
   "metadata": {},
   "outputs": [
    {
     "data": {
      "text/html": [
       "<div>\n",
       "<style scoped>\n",
       "    .dataframe tbody tr th:only-of-type {\n",
       "        vertical-align: middle;\n",
       "    }\n",
       "\n",
       "    .dataframe tbody tr th {\n",
       "        vertical-align: top;\n",
       "    }\n",
       "\n",
       "    .dataframe thead th {\n",
       "        text-align: right;\n",
       "    }\n",
       "</style>\n",
       "<table border=\"1\" class=\"dataframe\">\n",
       "  <thead>\n",
       "    <tr style=\"text-align: right;\">\n",
       "      <th></th>\n",
       "      <th>Degree_of_Imbalance</th>\n",
       "      <th>Pr_Re</th>\n",
       "      <th>dataset</th>\n",
       "    </tr>\n",
       "  </thead>\n",
       "  <tbody>\n",
       "    <tr>\n",
       "      <th>0</th>\n",
       "      <td>5:95</td>\n",
       "      <td>11</td>\n",
       "      <td>pima</td>\n",
       "    </tr>\n",
       "    <tr>\n",
       "      <th>1</th>\n",
       "      <td>15:85</td>\n",
       "      <td>33</td>\n",
       "      <td>pima</td>\n",
       "    </tr>\n",
       "    <tr>\n",
       "      <th>2</th>\n",
       "      <td>30:70</td>\n",
       "      <td>40</td>\n",
       "      <td>pima</td>\n",
       "    </tr>\n",
       "    <tr>\n",
       "      <th>3</th>\n",
       "      <td>50:50</td>\n",
       "      <td>53</td>\n",
       "      <td>pima</td>\n",
       "    </tr>\n",
       "    <tr>\n",
       "      <th>4</th>\n",
       "      <td>5:95</td>\n",
       "      <td>60</td>\n",
       "      <td>pima</td>\n",
       "    </tr>\n",
       "    <tr>\n",
       "      <th>...</th>\n",
       "      <td>...</td>\n",
       "      <td>...</td>\n",
       "      <td>...</td>\n",
       "    </tr>\n",
       "    <tr>\n",
       "      <th>155</th>\n",
       "      <td>50:50</td>\n",
       "      <td>0</td>\n",
       "      <td>insurance</td>\n",
       "    </tr>\n",
       "    <tr>\n",
       "      <th>156</th>\n",
       "      <td>5:95</td>\n",
       "      <td>61</td>\n",
       "      <td>insurance</td>\n",
       "    </tr>\n",
       "    <tr>\n",
       "      <th>157</th>\n",
       "      <td>15:85</td>\n",
       "      <td>61</td>\n",
       "      <td>insurance</td>\n",
       "    </tr>\n",
       "    <tr>\n",
       "      <th>158</th>\n",
       "      <td>30:70</td>\n",
       "      <td>60</td>\n",
       "      <td>insurance</td>\n",
       "    </tr>\n",
       "    <tr>\n",
       "      <th>159</th>\n",
       "      <td>50:50</td>\n",
       "      <td>61</td>\n",
       "      <td>insurance</td>\n",
       "    </tr>\n",
       "  </tbody>\n",
       "</table>\n",
       "<p>160 rows × 3 columns</p>\n",
       "</div>"
      ],
      "text/plain": [
       "    Degree_of_Imbalance Pr_Re    dataset\n",
       "0                  5:95    11       pima\n",
       "1                 15:85    33       pima\n",
       "2                 30:70    40       pima\n",
       "3                 50:50    53       pima\n",
       "4                  5:95    60       pima\n",
       "..                  ...   ...        ...\n",
       "155               50:50     0  insurance\n",
       "156                5:95    61  insurance\n",
       "157               15:85    61  insurance\n",
       "158               30:70    60  insurance\n",
       "159               50:50    61  insurance\n",
       "\n",
       "[160 rows x 3 columns]"
      ]
     },
     "execution_count": 22,
     "metadata": {},
     "output_type": "execute_result"
    }
   ],
   "source": [
    "data1"
   ]
  },
  {
   "cell_type": "markdown",
   "id": "faf790b7",
   "metadata": {},
   "source": [
    "## IBLow-NCS"
   ]
  },
  {
   "cell_type": "code",
   "execution_count": 23,
   "id": "11632c14",
   "metadata": {},
   "outputs": [],
   "source": [
    "#cervical\n",
    "Degree_of_Imbalance=[\"5:95\",\"15:85\",\"30:70\",\"50:50\"]*5\n",
    "Pr_Re = [9,10,11,13,0,2,13,38,2,2,5,8,np.NaN,2,15,38,0,3,12,9]\n",
    "dataset = [\"cervical\"]*20"
   ]
  },
  {
   "cell_type": "code",
   "execution_count": 24,
   "id": "5bb73277",
   "metadata": {},
   "outputs": [],
   "source": [
    "#abalone\n",
    "Degree_of_Imbalance+=[\"5:95\",\"15:85\",\"30:70\",\"50:50\"]*5\n",
    "Pr_Re+= [5,38,28,34,0,0,25,35,17,16,29,28,np.NaN,33,39,43,17,37,29,28]\n",
    "dataset += [\"abalone\"]*20"
   ]
  },
  {
   "cell_type": "code",
   "execution_count": 25,
   "id": "eb07c82c",
   "metadata": {},
   "outputs": [],
   "source": [
    "#ninapro\n",
    "Degree_of_Imbalance+=[\"5:95\",\"15:85\",\"30:70\",\"50:50\"]*5\n",
    "Pr_Re += [79,74,75,75,62,66,48,43,84,83,81,82,66,67,53,43,80,73,64,53]\n",
    "dataset += [\"ninapro\"]*20"
   ]
  },
  {
   "cell_type": "code",
   "execution_count": 26,
   "id": "d2fb6f38",
   "metadata": {},
   "outputs": [],
   "source": [
    "#forestcover ncs\n",
    "Degree_of_Imbalance+=[\"5:95\",\"15:85\",\"30:70\",\"50:50\"]*5\n",
    "Pr_Re += [78,79,78,78,30,38,42,42,84,88,86,86,27,38,42,42,68,75,68,60]\n",
    "dataset += [\"forestcover\"]*20"
   ]
  },
  {
   "cell_type": "code",
   "execution_count": 27,
   "id": "f1cf4930",
   "metadata": {},
   "outputs": [],
   "source": [
    "#mammography ncs\n",
    "Degree_of_Imbalance+=[\"5:95\",\"15:85\",\"30:70\",\"50:50\"]*5\n",
    "Pr_Re+=[42,38,30,28,34,44,30,27,59,52,43,39,35,35,29,27,58,46,37,32]\n",
    "dataset += [\"mammography\"]*20"
   ]
  },
  {
   "cell_type": "code",
   "execution_count": 28,
   "id": "5ab79f32",
   "metadata": {},
   "outputs": [],
   "source": [
    "#credit ncs\n",
    "Degree_of_Imbalance+=[\"5:95\",\"15:85\",\"30:70\",\"50:50\"]*5\n",
    "Pr_Re+=[32,29,28,34,18,10,7,10,75,73,72,69,25,10,7,10,34,15,9,7]\n",
    "dataset += [\"credit\"]*20"
   ]
  },
  {
   "cell_type": "code",
   "execution_count": 29,
   "id": "01c7e303",
   "metadata": {},
   "outputs": [],
   "source": [
    "#PORTOSEGURO ncs\n",
    "Degree_of_Imbalance+=[\"5:95\",\"15:85\",\"30:70\",\"50:50\"]*5\n",
    "Pr_Re+=[5,6,7,5,0,0,3,43,0,0,np.NaN,np.NaN,np.NaN,np.NaN,2,43,np.NaN,np.NaN,np.NaN,np.NaN]\n",
    "dataset += [\"portoseguro\"]*20"
   ]
  },
  {
   "cell_type": "code",
   "execution_count": 30,
   "id": "5190aaad",
   "metadata": {},
   "outputs": [],
   "source": [
    "data2 = pd.DataFrame([Degree_of_Imbalance,Pr_Re,dataset]).T"
   ]
  },
  {
   "cell_type": "code",
   "execution_count": 31,
   "id": "3ce39e72",
   "metadata": {},
   "outputs": [],
   "source": [
    "data2.columns=[\"Degree_of_Imbalance\",\"Pr_Re\",\"dataset\"]"
   ]
  },
  {
   "cell_type": "code",
   "execution_count": 32,
   "id": "ef656711",
   "metadata": {},
   "outputs": [
    {
     "data": {
      "text/html": [
       "<div>\n",
       "<style scoped>\n",
       "    .dataframe tbody tr th:only-of-type {\n",
       "        vertical-align: middle;\n",
       "    }\n",
       "\n",
       "    .dataframe tbody tr th {\n",
       "        vertical-align: top;\n",
       "    }\n",
       "\n",
       "    .dataframe thead th {\n",
       "        text-align: right;\n",
       "    }\n",
       "</style>\n",
       "<table border=\"1\" class=\"dataframe\">\n",
       "  <thead>\n",
       "    <tr style=\"text-align: right;\">\n",
       "      <th></th>\n",
       "      <th>Degree_of_Imbalance</th>\n",
       "      <th>Pr_Re</th>\n",
       "      <th>dataset</th>\n",
       "    </tr>\n",
       "  </thead>\n",
       "  <tbody>\n",
       "    <tr>\n",
       "      <th>0</th>\n",
       "      <td>5:95</td>\n",
       "      <td>9</td>\n",
       "      <td>cervical</td>\n",
       "    </tr>\n",
       "    <tr>\n",
       "      <th>1</th>\n",
       "      <td>15:85</td>\n",
       "      <td>10</td>\n",
       "      <td>cervical</td>\n",
       "    </tr>\n",
       "    <tr>\n",
       "      <th>2</th>\n",
       "      <td>30:70</td>\n",
       "      <td>11</td>\n",
       "      <td>cervical</td>\n",
       "    </tr>\n",
       "    <tr>\n",
       "      <th>3</th>\n",
       "      <td>50:50</td>\n",
       "      <td>13</td>\n",
       "      <td>cervical</td>\n",
       "    </tr>\n",
       "    <tr>\n",
       "      <th>4</th>\n",
       "      <td>5:95</td>\n",
       "      <td>0</td>\n",
       "      <td>cervical</td>\n",
       "    </tr>\n",
       "    <tr>\n",
       "      <th>...</th>\n",
       "      <td>...</td>\n",
       "      <td>...</td>\n",
       "      <td>...</td>\n",
       "    </tr>\n",
       "    <tr>\n",
       "      <th>135</th>\n",
       "      <td>50:50</td>\n",
       "      <td>43</td>\n",
       "      <td>portoseguro</td>\n",
       "    </tr>\n",
       "    <tr>\n",
       "      <th>136</th>\n",
       "      <td>5:95</td>\n",
       "      <td>NaN</td>\n",
       "      <td>portoseguro</td>\n",
       "    </tr>\n",
       "    <tr>\n",
       "      <th>137</th>\n",
       "      <td>15:85</td>\n",
       "      <td>NaN</td>\n",
       "      <td>portoseguro</td>\n",
       "    </tr>\n",
       "    <tr>\n",
       "      <th>138</th>\n",
       "      <td>30:70</td>\n",
       "      <td>NaN</td>\n",
       "      <td>portoseguro</td>\n",
       "    </tr>\n",
       "    <tr>\n",
       "      <th>139</th>\n",
       "      <td>50:50</td>\n",
       "      <td>NaN</td>\n",
       "      <td>portoseguro</td>\n",
       "    </tr>\n",
       "  </tbody>\n",
       "</table>\n",
       "<p>140 rows × 3 columns</p>\n",
       "</div>"
      ],
      "text/plain": [
       "    Degree_of_Imbalance Pr_Re      dataset\n",
       "0                  5:95     9     cervical\n",
       "1                 15:85    10     cervical\n",
       "2                 30:70    11     cervical\n",
       "3                 50:50    13     cervical\n",
       "4                  5:95     0     cervical\n",
       "..                  ...   ...          ...\n",
       "135               50:50    43  portoseguro\n",
       "136                5:95   NaN  portoseguro\n",
       "137               15:85   NaN  portoseguro\n",
       "138               30:70   NaN  portoseguro\n",
       "139               50:50   NaN  portoseguro\n",
       "\n",
       "[140 rows x 3 columns]"
      ]
     },
     "execution_count": 32,
     "metadata": {},
     "output_type": "execute_result"
    }
   ],
   "source": [
    "data2"
   ]
  },
  {
   "cell_type": "markdown",
   "id": "810c3995",
   "metadata": {},
   "source": [
    "## IBHigh- NCS"
   ]
  },
  {
   "cell_type": "code",
   "execution_count": 33,
   "id": "5ddd4823",
   "metadata": {},
   "outputs": [],
   "source": [
    "#pima\n",
    "Degree_of_Imbalance=[\"5:95\",\"15:85\",\"30:70\",\"50:50\"]*5\n",
    "Pr_Re=[15,34,50,53,0,5,41,67,0,27,48,62,np.NaN,5,48,65,2,35,50,64]\n",
    "dataset = [\"pima\"]*20"
   ]
  },
  {
   "cell_type": "code",
   "execution_count": 34,
   "id": "a5b3c494",
   "metadata": {},
   "outputs": [],
   "source": [
    "#haberman\n",
    "Degree_of_Imbalance+=[\"5:95\",\"15:85\",\"30:70\",\"50:50\"]*5\n",
    "Pr_Re+=[21,13,21,16,6,0,6,47,16,19,21,29,31,36,37,26,16,11,27,36]\n",
    "dataset += [\"haberman\"]*20"
   ]
  },
  {
   "cell_type": "code",
   "execution_count": 35,
   "id": "621ce3d5",
   "metadata": {},
   "outputs": [],
   "source": [
    "#ckd\n",
    "Degree_of_Imbalance+=[\"5:95\",\"15:85\",\"30:70\",\"50:50\"]*5\n",
    "Pr_Re+=[63,89,89,83,32,95,95,94,79,95,95,100,91,95,91,100,84,91,91,91]\n",
    "dataset += [\"ckd\"]*20"
   ]
  },
  {
   "cell_type": "code",
   "execution_count": 36,
   "id": "b9739513",
   "metadata": {},
   "outputs": [],
   "source": [
    "#ECG\n",
    "Degree_of_Imbalance+=[\"5:95\",\"15:85\",\"30:70\",\"50:50\"]*5\n",
    "Pr_Re += [90,97,95,96,89,93,96,98,94,96,99,100,93,96,97,98,92,96,98,99]\n",
    "dataset += [\"ecg\"]*20"
   ]
  },
  {
   "cell_type": "code",
   "execution_count": 37,
   "id": "449ad7da",
   "metadata": {},
   "outputs": [],
   "source": [
    "#inosphere ncs\n",
    "Degree_of_Imbalance+=[\"5:95\",\"15:85\",\"30:70\",\"50:50\"]*5\n",
    "Pr_Re+= [86,70,71,77,36,59,72,72,82,82,86,91,36,50,73,70,59,73,86,84]\n",
    "dataset += [\"inosphere\"]*20"
   ]
  },
  {
   "cell_type": "code",
   "execution_count": 38,
   "id": "36d5de88",
   "metadata": {},
   "outputs": [],
   "source": [
    "#phenome ncs\n",
    "Degree_of_Imbalance+=[\"5:95\",\"15:85\",\"30:70\",\"50:50\"]*5\n",
    "Pr_Re+=[35,51,67,67,0,3,35,61,19,52,75,78,np.NaN,np.NaN,35,62,9,35,61,72]\n",
    "dataset += [\"phenome\"]*20"
   ]
  },
  {
   "cell_type": "code",
   "execution_count": 39,
   "id": "332de2da",
   "metadata": {},
   "outputs": [],
   "source": [
    "#vehicle ncs\n",
    "Degree_of_Imbalance+=[\"5:95\",\"15:85\",\"30:70\",\"50:50\"]*5\n",
    "Pr_Re+=[53,78,87,82,0,32,96,85,48,85,90,87,39,79,90,90,74,88,86,90]\n",
    "dataset += [\"vehicle\"]*20"
   ]
  },
  {
   "cell_type": "code",
   "execution_count": 40,
   "id": "40b6d816",
   "metadata": {},
   "outputs": [],
   "source": [
    "#insurance ncs\n",
    "Degree_of_Imbalance+=[\"5:95\",\"15:85\",\"30:70\",\"50:50\"]*5\n",
    "Pr_Re+=[13,27,33,32,0,5,52,65,2,23,38,42,np.NaN,3,52,65,0,5,54,61]\n",
    "dataset += [\"insurance\"]*20"
   ]
  },
  {
   "cell_type": "code",
   "execution_count": 41,
   "id": "b0168d7e",
   "metadata": {},
   "outputs": [],
   "source": [
    "data3 = pd.DataFrame([Degree_of_Imbalance,Pr_Re,dataset]).T"
   ]
  },
  {
   "cell_type": "code",
   "execution_count": 42,
   "id": "dbbf564f",
   "metadata": {},
   "outputs": [],
   "source": [
    "data3.columns=[\"Degree_of_Imbalance\",\"Pr_Re\",\"dataset\"]"
   ]
  },
  {
   "cell_type": "code",
   "execution_count": 43,
   "id": "41901f43",
   "metadata": {},
   "outputs": [
    {
     "data": {
      "text/html": [
       "<div>\n",
       "<style scoped>\n",
       "    .dataframe tbody tr th:only-of-type {\n",
       "        vertical-align: middle;\n",
       "    }\n",
       "\n",
       "    .dataframe tbody tr th {\n",
       "        vertical-align: top;\n",
       "    }\n",
       "\n",
       "    .dataframe thead th {\n",
       "        text-align: right;\n",
       "    }\n",
       "</style>\n",
       "<table border=\"1\" class=\"dataframe\">\n",
       "  <thead>\n",
       "    <tr style=\"text-align: right;\">\n",
       "      <th></th>\n",
       "      <th>Degree_of_Imbalance</th>\n",
       "      <th>Pr_Re</th>\n",
       "      <th>dataset</th>\n",
       "    </tr>\n",
       "  </thead>\n",
       "  <tbody>\n",
       "    <tr>\n",
       "      <th>0</th>\n",
       "      <td>5:95</td>\n",
       "      <td>15</td>\n",
       "      <td>pima</td>\n",
       "    </tr>\n",
       "    <tr>\n",
       "      <th>1</th>\n",
       "      <td>15:85</td>\n",
       "      <td>34</td>\n",
       "      <td>pima</td>\n",
       "    </tr>\n",
       "    <tr>\n",
       "      <th>2</th>\n",
       "      <td>30:70</td>\n",
       "      <td>50</td>\n",
       "      <td>pima</td>\n",
       "    </tr>\n",
       "    <tr>\n",
       "      <th>3</th>\n",
       "      <td>50:50</td>\n",
       "      <td>53</td>\n",
       "      <td>pima</td>\n",
       "    </tr>\n",
       "    <tr>\n",
       "      <th>4</th>\n",
       "      <td>5:95</td>\n",
       "      <td>0</td>\n",
       "      <td>pima</td>\n",
       "    </tr>\n",
       "    <tr>\n",
       "      <th>...</th>\n",
       "      <td>...</td>\n",
       "      <td>...</td>\n",
       "      <td>...</td>\n",
       "    </tr>\n",
       "    <tr>\n",
       "      <th>155</th>\n",
       "      <td>50:50</td>\n",
       "      <td>65</td>\n",
       "      <td>insurance</td>\n",
       "    </tr>\n",
       "    <tr>\n",
       "      <th>156</th>\n",
       "      <td>5:95</td>\n",
       "      <td>0</td>\n",
       "      <td>insurance</td>\n",
       "    </tr>\n",
       "    <tr>\n",
       "      <th>157</th>\n",
       "      <td>15:85</td>\n",
       "      <td>5</td>\n",
       "      <td>insurance</td>\n",
       "    </tr>\n",
       "    <tr>\n",
       "      <th>158</th>\n",
       "      <td>30:70</td>\n",
       "      <td>54</td>\n",
       "      <td>insurance</td>\n",
       "    </tr>\n",
       "    <tr>\n",
       "      <th>159</th>\n",
       "      <td>50:50</td>\n",
       "      <td>61</td>\n",
       "      <td>insurance</td>\n",
       "    </tr>\n",
       "  </tbody>\n",
       "</table>\n",
       "<p>160 rows × 3 columns</p>\n",
       "</div>"
      ],
      "text/plain": [
       "    Degree_of_Imbalance Pr_Re    dataset\n",
       "0                  5:95    15       pima\n",
       "1                 15:85    34       pima\n",
       "2                 30:70    50       pima\n",
       "3                 50:50    53       pima\n",
       "4                  5:95     0       pima\n",
       "..                  ...   ...        ...\n",
       "155               50:50    65  insurance\n",
       "156                5:95     0  insurance\n",
       "157               15:85     5  insurance\n",
       "158               30:70    54  insurance\n",
       "159               50:50    61  insurance\n",
       "\n",
       "[160 rows x 3 columns]"
      ]
     },
     "execution_count": 43,
     "metadata": {},
     "output_type": "execute_result"
    }
   ],
   "source": [
    "data3"
   ]
  },
  {
   "cell_type": "code",
   "execution_count": 44,
   "id": "b83ee996",
   "metadata": {},
   "outputs": [
    {
     "data": {
      "text/html": [
       "<div>\n",
       "<style scoped>\n",
       "    .dataframe tbody tr th:only-of-type {\n",
       "        vertical-align: middle;\n",
       "    }\n",
       "\n",
       "    .dataframe tbody tr th {\n",
       "        vertical-align: top;\n",
       "    }\n",
       "\n",
       "    .dataframe thead th {\n",
       "        text-align: right;\n",
       "    }\n",
       "</style>\n",
       "<table border=\"1\" class=\"dataframe\">\n",
       "  <thead>\n",
       "    <tr style=\"text-align: right;\">\n",
       "      <th></th>\n",
       "      <th>Degree_of_Imbalance</th>\n",
       "      <th>Pr_Re</th>\n",
       "      <th>dataset</th>\n",
       "      <th>ALGO</th>\n",
       "      <th>ALGORITHM</th>\n",
       "    </tr>\n",
       "  </thead>\n",
       "  <tbody>\n",
       "    <tr>\n",
       "      <th>0</th>\n",
       "      <td>5:95</td>\n",
       "      <td>8</td>\n",
       "      <td>cervical</td>\n",
       "      <td>CSDT</td>\n",
       "      <td>CS</td>\n",
       "    </tr>\n",
       "    <tr>\n",
       "      <th>1</th>\n",
       "      <td>15:85</td>\n",
       "      <td>8</td>\n",
       "      <td>cervical</td>\n",
       "      <td>CSDT</td>\n",
       "      <td>CS</td>\n",
       "    </tr>\n",
       "    <tr>\n",
       "      <th>2</th>\n",
       "      <td>30:70</td>\n",
       "      <td>16</td>\n",
       "      <td>cervical</td>\n",
       "      <td>CSDT</td>\n",
       "      <td>CS</td>\n",
       "    </tr>\n",
       "    <tr>\n",
       "      <th>3</th>\n",
       "      <td>50:50</td>\n",
       "      <td>14</td>\n",
       "      <td>cervical</td>\n",
       "      <td>CSDT</td>\n",
       "      <td>CS</td>\n",
       "    </tr>\n",
       "    <tr>\n",
       "      <th>4</th>\n",
       "      <td>5:95</td>\n",
       "      <td>37</td>\n",
       "      <td>cervical</td>\n",
       "      <td>CSLR</td>\n",
       "      <td>CS</td>\n",
       "    </tr>\n",
       "    <tr>\n",
       "      <th>...</th>\n",
       "      <td>...</td>\n",
       "      <td>...</td>\n",
       "      <td>...</td>\n",
       "      <td>...</td>\n",
       "      <td>...</td>\n",
       "    </tr>\n",
       "    <tr>\n",
       "      <th>135</th>\n",
       "      <td>50:50</td>\n",
       "      <td>43</td>\n",
       "      <td>portoseguro</td>\n",
       "      <td>SVM</td>\n",
       "      <td>NONCS</td>\n",
       "    </tr>\n",
       "    <tr>\n",
       "      <th>136</th>\n",
       "      <td>5:95</td>\n",
       "      <td>NaN</td>\n",
       "      <td>portoseguro</td>\n",
       "      <td>XG</td>\n",
       "      <td>NONCS</td>\n",
       "    </tr>\n",
       "    <tr>\n",
       "      <th>137</th>\n",
       "      <td>15:85</td>\n",
       "      <td>NaN</td>\n",
       "      <td>portoseguro</td>\n",
       "      <td>XG</td>\n",
       "      <td>NONCS</td>\n",
       "    </tr>\n",
       "    <tr>\n",
       "      <th>138</th>\n",
       "      <td>30:70</td>\n",
       "      <td>NaN</td>\n",
       "      <td>portoseguro</td>\n",
       "      <td>XG</td>\n",
       "      <td>NONCS</td>\n",
       "    </tr>\n",
       "    <tr>\n",
       "      <th>139</th>\n",
       "      <td>50:50</td>\n",
       "      <td>NaN</td>\n",
       "      <td>portoseguro</td>\n",
       "      <td>XG</td>\n",
       "      <td>NONCS</td>\n",
       "    </tr>\n",
       "  </tbody>\n",
       "</table>\n",
       "<p>280 rows × 5 columns</p>\n",
       "</div>"
      ],
      "text/plain": [
       "    Degree_of_Imbalance Pr_Re      dataset  ALGO ALGORITHM\n",
       "0                  5:95     8     cervical  CSDT        CS\n",
       "1                 15:85     8     cervical  CSDT        CS\n",
       "2                 30:70    16     cervical  CSDT        CS\n",
       "3                 50:50    14     cervical  CSDT        CS\n",
       "4                  5:95    37     cervical  CSLR        CS\n",
       "..                  ...   ...          ...   ...       ...\n",
       "135               50:50    43  portoseguro   SVM     NONCS\n",
       "136                5:95   NaN  portoseguro    XG     NONCS\n",
       "137               15:85   NaN  portoseguro    XG     NONCS\n",
       "138               30:70   NaN  portoseguro    XG     NONCS\n",
       "139               50:50   NaN  portoseguro    XG     NONCS\n",
       "\n",
       "[280 rows x 5 columns]"
      ]
     },
     "execution_count": 44,
     "metadata": {},
     "output_type": "execute_result"
    }
   ],
   "source": [
    "final_data = pd.concat([data,data2])\n",
    "ALGO = [\"CSDT\"]*4+[\"CSLR\"]*4+[\"CSRF\"]*4+[\"CSSVM\"]*4+[\"CSXG\"]*4\n",
    "ALGO=ALGO*7\n",
    "algo = [\"DT\"]*4+[\"LR\"]*4+[\"RF\"]*4+[\"SVM\"]*4+[\"XG\"]*4\n",
    "algo = algo*7\n",
    "final_data[\"ALGO\"]=ALGO+algo\n",
    "final_data[\"ALGORITHM\"] = [\"CS\"]*140+[\"NONCS\"]*140\n",
    "final_data"
   ]
  },
  {
   "cell_type": "code",
   "execution_count": 45,
   "id": "8585fcc5",
   "metadata": {},
   "outputs": [],
   "source": [
    "final_data.groupby([\"Degree_of_Imbalance\",\"dataset\"])[\"Pr_Re\"].dtype\n",
    "final_data[\"Pr_Re\"] = pd.to_numeric(final_data[\"Pr_Re\"], downcast=\"float\")\n",
    "final_data[\"Rank\"] = final_data.groupby([\"Degree_of_Imbalance\",\"dataset\"])[\"Pr_Re\"].rank(ascending=False,na_option='bottom')\n",
    "final_data.columns = [\"Degree_of_Imbalance\",\"Pr_Re\",\"dataset\",\"ALGO\",\"ALGORITHM\",\"PR_Score_Rank\"]"
   ]
  },
  {
   "cell_type": "code",
   "execution_count": 46,
   "id": "3335a910",
   "metadata": {},
   "outputs": [
    {
     "data": {
      "image/png": "[encoded data removed]",
      "text/plain": [
       "<Figure size 432x288 with 1 Axes>"
      ]
     },
     "metadata": {},
     "output_type": "display_data"
    }
   ],
   "source": [
    "import seaborn as sns\n",
    "sns.set_theme(style=\"ticks\", palette=\"pastel\")\n",
    "\n",
    "# Load the example tips dataset\n",
    "ax = sns.boxplot(x=\"Degree_of_Imbalance\", y=\"PR_Score_Rank\",\n",
    "            hue=\"ALGORITHM\", palette=[\"m\", \"g\"],\n",
    "            data=final_data,showmeans=True,meanprops={\"marker\":\"o\",\n",
    "                       \"markerfacecolor\":\"white\", \n",
    "                       \"markeredgecolor\":\"black\",\n",
    "                      \"markersize\":\"10\"})\n",
    "ax.set_title(\"PERFORMANCE ON LOW IMBALANCED DATASETS\")\n",
    "sns.despine(offset=10)\n",
    "plt.legend(bbox_to_anchor=(1.05, 1), loc=2, borderaxespad=0.)\n",
    "plt.show()"
   ]
  },
  {
   "cell_type": "code",
   "execution_count": 47,
   "id": "5b1183b5",
   "metadata": {},
   "outputs": [
    {
     "data": {
      "text/html": [
       "<div>\n",
       "<style scoped>\n",
       "    .dataframe tbody tr th:only-of-type {\n",
       "        vertical-align: middle;\n",
       "    }\n",
       "\n",
       "    .dataframe tbody tr th {\n",
       "        vertical-align: top;\n",
       "    }\n",
       "\n",
       "    .dataframe thead th {\n",
       "        text-align: right;\n",
       "    }\n",
       "</style>\n",
       "<table border=\"1\" class=\"dataframe\">\n",
       "  <thead>\n",
       "    <tr style=\"text-align: right;\">\n",
       "      <th></th>\n",
       "      <th>Degree_of_Imbalance</th>\n",
       "      <th>Pr_Re</th>\n",
       "      <th>dataset</th>\n",
       "      <th>ALGO</th>\n",
       "      <th>ALGORITHM</th>\n",
       "    </tr>\n",
       "  </thead>\n",
       "  <tbody>\n",
       "    <tr>\n",
       "      <th>0</th>\n",
       "      <td>5:95</td>\n",
       "      <td>11</td>\n",
       "      <td>pima</td>\n",
       "      <td>CSDT</td>\n",
       "      <td>CS</td>\n",
       "    </tr>\n",
       "    <tr>\n",
       "      <th>1</th>\n",
       "      <td>15:85</td>\n",
       "      <td>33</td>\n",
       "      <td>pima</td>\n",
       "      <td>CSDT</td>\n",
       "      <td>CS</td>\n",
       "    </tr>\n",
       "    <tr>\n",
       "      <th>2</th>\n",
       "      <td>30:70</td>\n",
       "      <td>40</td>\n",
       "      <td>pima</td>\n",
       "      <td>CSDT</td>\n",
       "      <td>CS</td>\n",
       "    </tr>\n",
       "    <tr>\n",
       "      <th>3</th>\n",
       "      <td>50:50</td>\n",
       "      <td>53</td>\n",
       "      <td>pima</td>\n",
       "      <td>CSDT</td>\n",
       "      <td>CS</td>\n",
       "    </tr>\n",
       "    <tr>\n",
       "      <th>4</th>\n",
       "      <td>5:95</td>\n",
       "      <td>60</td>\n",
       "      <td>pima</td>\n",
       "      <td>CSLR</td>\n",
       "      <td>CS</td>\n",
       "    </tr>\n",
       "    <tr>\n",
       "      <th>...</th>\n",
       "      <td>...</td>\n",
       "      <td>...</td>\n",
       "      <td>...</td>\n",
       "      <td>...</td>\n",
       "      <td>...</td>\n",
       "    </tr>\n",
       "    <tr>\n",
       "      <th>315</th>\n",
       "      <td>50:50</td>\n",
       "      <td>65</td>\n",
       "      <td>insurance</td>\n",
       "      <td>SVM</td>\n",
       "      <td>NONCS</td>\n",
       "    </tr>\n",
       "    <tr>\n",
       "      <th>316</th>\n",
       "      <td>5:95</td>\n",
       "      <td>0</td>\n",
       "      <td>insurance</td>\n",
       "      <td>XG</td>\n",
       "      <td>NONCS</td>\n",
       "    </tr>\n",
       "    <tr>\n",
       "      <th>317</th>\n",
       "      <td>15:85</td>\n",
       "      <td>5</td>\n",
       "      <td>insurance</td>\n",
       "      <td>XG</td>\n",
       "      <td>NONCS</td>\n",
       "    </tr>\n",
       "    <tr>\n",
       "      <th>318</th>\n",
       "      <td>30:70</td>\n",
       "      <td>54</td>\n",
       "      <td>insurance</td>\n",
       "      <td>XG</td>\n",
       "      <td>NONCS</td>\n",
       "    </tr>\n",
       "    <tr>\n",
       "      <th>319</th>\n",
       "      <td>50:50</td>\n",
       "      <td>61</td>\n",
       "      <td>insurance</td>\n",
       "      <td>XG</td>\n",
       "      <td>NONCS</td>\n",
       "    </tr>\n",
       "  </tbody>\n",
       "</table>\n",
       "<p>320 rows × 5 columns</p>\n",
       "</div>"
      ],
      "text/plain": [
       "    Degree_of_Imbalance Pr_Re    dataset  ALGO ALGORITHM\n",
       "0                  5:95    11       pima  CSDT        CS\n",
       "1                 15:85    33       pima  CSDT        CS\n",
       "2                 30:70    40       pima  CSDT        CS\n",
       "3                 50:50    53       pima  CSDT        CS\n",
       "4                  5:95    60       pima  CSLR        CS\n",
       "..                  ...   ...        ...   ...       ...\n",
       "315               50:50    65  insurance   SVM     NONCS\n",
       "316                5:95     0  insurance    XG     NONCS\n",
       "317               15:85     5  insurance    XG     NONCS\n",
       "318               30:70    54  insurance    XG     NONCS\n",
       "319               50:50    61  insurance    XG     NONCS\n",
       "\n",
       "[320 rows x 5 columns]"
      ]
     },
     "execution_count": 47,
     "metadata": {},
     "output_type": "execute_result"
    }
   ],
   "source": [
    "final_data1 = pd.concat([data1,data3],ignore_index=True)\n",
    "ALGO = [\"CSDT\"]*4+[\"CSLR\"]*4+[\"CSRF\"]*4+[\"CSSVM\"]*4+[\"CSXG\"]*4\n",
    "ALGO=ALGO*8\n",
    "algo = [\"DT\"]*4+[\"LR\"]*4+[\"RF\"]*4+[\"SVM\"]*4+[\"XG\"]*4\n",
    "algo = algo*8\n",
    "final_data1[\"ALGO\"]=ALGO+algo\n",
    "final_data1[\"ALGORITHM\"] = [\"CS\"]*160+[\"NONCS\"]*160\n",
    "final_data1"
   ]
  },
  {
   "cell_type": "code",
   "execution_count": 48,
   "id": "1b896274",
   "metadata": {},
   "outputs": [],
   "source": [
    "final_data1.groupby([\"Degree_of_Imbalance\",\"dataset\"])[\"Pr_Re\"].dtype\n",
    "final_data1[\"Pr_Re\"] = pd.to_numeric(final_data1[\"Pr_Re\"], downcast=\"float\")\n",
    "final_data1[\"Rank\"] = final_data1.groupby([\"Degree_of_Imbalance\",\"dataset\"])[\"Pr_Re\"].rank(ascending=False,na_option='bottom')\n",
    "final_data1.columns = [\"Degree_of_Imbalance\",\"Pr_Re\",\"dataset\",\"ALGO\",\"ALGORITHM\",\"PR_Score_Rank\"]"
   ]
  },
  {
   "cell_type": "code",
   "execution_count": 49,
   "id": "010564df",
   "metadata": {},
   "outputs": [
    {
     "data": {
      "image/png": "[encoded data removed]",
      "text/plain": [
       "<Figure size 432x288 with 1 Axes>"
      ]
     },
     "metadata": {},
     "output_type": "display_data"
    }
   ],
   "source": [
    "import seaborn as sns\n",
    "sns.set_theme(style=\"ticks\", palette=\"pastel\")\n",
    "\n",
    "# Load the example tips dataset\n",
    "ax = sns.boxplot(x=\"Degree_of_Imbalance\", y=\"PR_Score_Rank\",\n",
    "            hue=\"ALGORITHM\", palette=[\"m\", \"g\"],\n",
    "            data=final_data1,showmeans=True,meanprops={\"marker\":\"o\",\n",
    "                       \"markerfacecolor\":\"white\", \n",
    "                       \"markeredgecolor\":\"black\",\n",
    "                      \"markersize\":\"10\"})\n",
    "ax.set_title(\"PERFORMANCE ON HIGHLY IMBALANCED DATASETS\")\n",
    "sns.despine(offset=10)\n",
    "plt.legend(bbox_to_anchor=(1.05, 1), loc=2, borderaxespad=0.)\n",
    "plt.show()"
   ]
  }
 ],
 "metadata": {
  "kernelspec": {
   "display_name": "Python 3",
   "language": "python",
   "name": "python3"
  },
  "language_info": {
   "codemirror_mode": {
    "name": "ipython",
    "version": 3
   },
   "file_extension": ".py",
   "mimetype": "text/x-python",
   "name": "python",
   "nbconvert_exporter": "python",
   "pygments_lexer": "ipython3",
   "version": "3.8.8"
  }
 },
 "nbformat": 4,
 "nbformat_minor": 5
}
