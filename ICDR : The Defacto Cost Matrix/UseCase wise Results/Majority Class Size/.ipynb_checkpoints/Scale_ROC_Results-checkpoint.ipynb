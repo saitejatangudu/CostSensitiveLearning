{
 "cells": [
  {
   "cell_type": "code",
   "execution_count": 1,
   "id": "3f66f4de",
   "metadata": {},
   "outputs": [],
   "source": [
    "import pandas as pd\n",
    "import numpy as np\n",
    "import matplotlib.pyplot as plt"
   ]
  },
  {
   "cell_type": "markdown",
   "id": "7c30c777",
   "metadata": {},
   "source": [
    "## Large-CS"
   ]
  },
  {
   "cell_type": "code",
   "execution_count": 2,
   "id": "ed61d4bc",
   "metadata": {},
   "outputs": [],
   "source": [
    "#forestcover-CS\n",
    "Degree_of_Imbalance=[\"5:95\",\"15:85\",\"30:70\",\"50:50\"]*5\n",
    "ROC_Score = [93,93,91,91,65,65,65,65,98,96,94,94,64,54,86,74,75,77,78,78]\n",
    "dataset = [\"forestcover\"]*20"
   ]
  },
  {
   "cell_type": "code",
   "execution_count": 3,
   "id": "065011bb",
   "metadata": {},
   "outputs": [],
   "source": [
    "#mammography-CS\n",
    "Degree_of_Imbalance+=[\"5:95\",\"15:85\",\"30:70\",\"50:50\"]*5\n",
    "ROC_Score += [79,74,69,69,57,56,56,56,91,82,75,74,56,83,71,67,59,56,57,57]\n",
    "dataset+= [\"mammography\"]*20"
   ]
  },
  {
   "cell_type": "code",
   "execution_count": 4,
   "id": "8384a0c3",
   "metadata": {},
   "outputs": [],
   "source": [
    "#Credit-CS\n",
    "Degree_of_Imbalance+=[\"5:95\",\"15:85\",\"30:70\",\"50:50\"]*5\n",
    "ROC_Score += [75,70,69,72,51,51,51,51,91,93,93,93,92,91,93,93,52,52,52,52]\n",
    "dataset+= [\"credit\"]*20"
   ]
  },
  {
   "cell_type": "code",
   "execution_count": 5,
   "id": "921b720a",
   "metadata": {},
   "outputs": [],
   "source": [
    "#Insurance-CS\n",
    "Degree_of_Imbalance+=[\"5:95\",\"15:85\",\"30:70\",\"50:50\"]*5\n",
    "ROC_Score += [65,66,66,66,67,67,67,68,51,70,70,70,50,73,50,50,70,70,70,70]\n",
    "dataset+= [\"insurance\"]*20"
   ]
  },
  {
   "cell_type": "code",
   "execution_count": 6,
   "id": "fa4e38a2",
   "metadata": {},
   "outputs": [],
   "source": [
    "#PORTOSEGURO-CS\n",
    "Degree_of_Imbalance+=[\"5:95\",\"15:85\",\"30:70\",\"50:50\"]*5\n",
    "ROC_Score += [50,50,50,50,51,51,51,51,50,50,50,50,50,50,54,52,51,56,50,50]\n",
    "dataset+= [\"portoseguro\"]*20"
   ]
  },
  {
   "cell_type": "code",
   "execution_count": 7,
   "id": "e63fb0fc",
   "metadata": {},
   "outputs": [],
   "source": [
    "#ninapro-CS\n",
    "Degree_of_Imbalance+=[\"5:95\",\"15:85\",\"30:70\",\"50:50\"]*5\n",
    "ROC_Score += [92,91,91,92,81,63,60,60,93,95,94,95,85,52,87,91,83,75,75,74]\n",
    "dataset+= [\"ninapro\"]*20"
   ]
  },
  {
   "cell_type": "code",
   "execution_count": 8,
   "id": "47a551e2",
   "metadata": {},
   "outputs": [],
   "source": [
    "data = pd.DataFrame([Degree_of_Imbalance,ROC_Score,dataset]).T"
   ]
  },
  {
   "cell_type": "code",
   "execution_count": 9,
   "id": "fd1130b3",
   "metadata": {},
   "outputs": [],
   "source": [
    "data.columns=[\"Degree_of_Imbalance\",\"ROC_Score\",\"dataset\"]"
   ]
  },
  {
   "cell_type": "code",
   "execution_count": 10,
   "id": "3f4db751",
   "metadata": {},
   "outputs": [
    {
     "data": {
      "text/html": [
       "<div>\n",
       "<style scoped>\n",
       "    .dataframe tbody tr th:only-of-type {\n",
       "        vertical-align: middle;\n",
       "    }\n",
       "\n",
       "    .dataframe tbody tr th {\n",
       "        vertical-align: top;\n",
       "    }\n",
       "\n",
       "    .dataframe thead th {\n",
       "        text-align: right;\n",
       "    }\n",
       "</style>\n",
       "<table border=\"1\" class=\"dataframe\">\n",
       "  <thead>\n",
       "    <tr style=\"text-align: right;\">\n",
       "      <th></th>\n",
       "      <th>Degree_of_Imbalance</th>\n",
       "      <th>ROC_Score</th>\n",
       "      <th>dataset</th>\n",
       "    </tr>\n",
       "  </thead>\n",
       "  <tbody>\n",
       "    <tr>\n",
       "      <th>0</th>\n",
       "      <td>5:95</td>\n",
       "      <td>93</td>\n",
       "      <td>forestcover</td>\n",
       "    </tr>\n",
       "    <tr>\n",
       "      <th>1</th>\n",
       "      <td>15:85</td>\n",
       "      <td>93</td>\n",
       "      <td>forestcover</td>\n",
       "    </tr>\n",
       "    <tr>\n",
       "      <th>2</th>\n",
       "      <td>30:70</td>\n",
       "      <td>91</td>\n",
       "      <td>forestcover</td>\n",
       "    </tr>\n",
       "    <tr>\n",
       "      <th>3</th>\n",
       "      <td>50:50</td>\n",
       "      <td>91</td>\n",
       "      <td>forestcover</td>\n",
       "    </tr>\n",
       "    <tr>\n",
       "      <th>4</th>\n",
       "      <td>5:95</td>\n",
       "      <td>65</td>\n",
       "      <td>forestcover</td>\n",
       "    </tr>\n",
       "    <tr>\n",
       "      <th>...</th>\n",
       "      <td>...</td>\n",
       "      <td>...</td>\n",
       "      <td>...</td>\n",
       "    </tr>\n",
       "    <tr>\n",
       "      <th>115</th>\n",
       "      <td>50:50</td>\n",
       "      <td>91</td>\n",
       "      <td>ninapro</td>\n",
       "    </tr>\n",
       "    <tr>\n",
       "      <th>116</th>\n",
       "      <td>5:95</td>\n",
       "      <td>83</td>\n",
       "      <td>ninapro</td>\n",
       "    </tr>\n",
       "    <tr>\n",
       "      <th>117</th>\n",
       "      <td>15:85</td>\n",
       "      <td>75</td>\n",
       "      <td>ninapro</td>\n",
       "    </tr>\n",
       "    <tr>\n",
       "      <th>118</th>\n",
       "      <td>30:70</td>\n",
       "      <td>75</td>\n",
       "      <td>ninapro</td>\n",
       "    </tr>\n",
       "    <tr>\n",
       "      <th>119</th>\n",
       "      <td>50:50</td>\n",
       "      <td>74</td>\n",
       "      <td>ninapro</td>\n",
       "    </tr>\n",
       "  </tbody>\n",
       "</table>\n",
       "<p>120 rows × 3 columns</p>\n",
       "</div>"
      ],
      "text/plain": [
       "    Degree_of_Imbalance ROC_Score      dataset\n",
       "0                  5:95        93  forestcover\n",
       "1                 15:85        93  forestcover\n",
       "2                 30:70        91  forestcover\n",
       "3                 50:50        91  forestcover\n",
       "4                  5:95        65  forestcover\n",
       "..                  ...       ...          ...\n",
       "115               50:50        91      ninapro\n",
       "116                5:95        83      ninapro\n",
       "117               15:85        75      ninapro\n",
       "118               30:70        75      ninapro\n",
       "119               50:50        74      ninapro\n",
       "\n",
       "[120 rows x 3 columns]"
      ]
     },
     "execution_count": 10,
     "metadata": {},
     "output_type": "execute_result"
    }
   ],
   "source": [
    "data"
   ]
  },
  {
   "cell_type": "markdown",
   "id": "476fad20",
   "metadata": {},
   "source": [
    "## Small-cs"
   ]
  },
  {
   "cell_type": "code",
   "execution_count": 11,
   "id": "38ef5f62",
   "metadata": {},
   "outputs": [],
   "source": [
    "#cervical-CS\n",
    "Degree_of_Imbalance=[\"5:95\",\"15:85\",\"30:70\",\"50:50\"]*5\n",
    "ROC_Score = [48,48,51,51,4,4,4,4,48,48,48,48,42,41,37,55,48,50,50,48]\n",
    "dataset = [\"cervical\"]*20"
   ]
  },
  {
   "cell_type": "code",
   "execution_count": 12,
   "id": "061a4ef3",
   "metadata": {},
   "outputs": [],
   "source": [
    "#abalone-CS\n",
    "Degree_of_Imbalance+=[\"5:95\",\"15:85\",\"30:70\",\"50:50\"]*5\n",
    "ROC_Score += [63,60,62,62,69,69,69,70,50,73,66,63,90,88,88,95,71,64,62,59]\n",
    "dataset+= [\"abalone\"]*20"
   ]
  },
  {
   "cell_type": "code",
   "execution_count": 13,
   "id": "28306562",
   "metadata": {},
   "outputs": [],
   "source": [
    "#pima-CS\n",
    "Degree_of_Imbalance+=[\"5:95\",\"15:85\",\"30:70\",\"50:50\"]*5\n",
    "ROC_Score += [75,65,62,63,71,72,70,70,50,76,70,71,66,72,67,64,67,72,72,72]\n",
    "dataset+= [\"pima\"]*20"
   ]
  },
  {
   "cell_type": "code",
   "execution_count": 14,
   "id": "787c82b4",
   "metadata": {},
   "outputs": [],
   "source": [
    "#HABERMAN-CS\n",
    "Degree_of_Imbalance+=[\"5:95\",\"15:85\",\"30:70\",\"50:50\"]*5\n",
    "ROC_Score += [63,83,63,59,63,63,63,69,64,67,59,53,62,64,62,61,64,66,64,64]\n",
    "dataset+= [\"haberman\"]*20"
   ]
  },
  {
   "cell_type": "code",
   "execution_count": 15,
   "id": "683ffb9a",
   "metadata": {},
   "outputs": [],
   "source": [
    "#CKD-CS\n",
    "Degree_of_Imbalance+=[\"5:95\",\"15:85\",\"30:70\",\"50:50\"]*5\n",
    "ROC_Score += [99,99,95,92,96,100,100,100,97,99,99,100,96,97,100,100,99,96,99,96]\n",
    "dataset+= [\"ckd\"]*20"
   ]
  },
  {
   "cell_type": "code",
   "execution_count": 16,
   "id": "a73869e1",
   "metadata": {},
   "outputs": [],
   "source": [
    "#ECG-CS\n",
    "Degree_of_Imbalance+=[\"5:95\",\"15:85\",\"30:70\",\"50:50\"]*5\n",
    "ROC_Score += [98,97,99,98,98,98,99,98,95,98,99,100,98,98,98,98,98,99,99,99]\n",
    "dataset+= [\"ecg\"]*20"
   ]
  },
  {
   "cell_type": "code",
   "execution_count": 17,
   "id": "65ec5f8b",
   "metadata": {},
   "outputs": [],
   "source": [
    "#inosphere-CS\n",
    "Degree_of_Imbalance+=[\"5:95\",\"15:85\",\"30:70\",\"50:50\"]*5\n",
    "ROC_Score += [85,90,77,93,88,88,91,89,85,91,94,97,77,77,89,87,91,93,96,93]\n",
    "dataset+= [\"inosphere\"]*20"
   ]
  },
  {
   "cell_type": "code",
   "execution_count": 18,
   "id": "06890142",
   "metadata": {},
   "outputs": [],
   "source": [
    "#phenome-CS\n",
    "Degree_of_Imbalance+=[\"5:95\",\"15:85\",\"30:70\",\"50:50\"]*5\n",
    "ROC_Score += [84,82,82,83,69,70,69,69,85,90,88,86,50,50,52,74,80,81,80,79]\n",
    "dataset+= [\"phenome\"]*20"
   ]
  },
  {
   "cell_type": "code",
   "execution_count": 19,
   "id": "48a53ab3",
   "metadata": {},
   "outputs": [],
   "source": [
    "#Vehicle-CS\n",
    "Degree_of_Imbalance+=[\"5:95\",\"15:85\",\"30:70\",\"50:50\"]*5\n",
    "ROC_Score += [90,95,91,96,94,94,94,95,93,94,94,95,97,97,97,96,93,96,94,95]\n",
    "dataset+= [\"vehicle\"]*20"
   ]
  },
  {
   "cell_type": "code",
   "execution_count": 20,
   "id": "109f6de9",
   "metadata": {},
   "outputs": [],
   "source": [
    "data1 = pd.DataFrame([Degree_of_Imbalance,ROC_Score,dataset]).T"
   ]
  },
  {
   "cell_type": "code",
   "execution_count": 21,
   "id": "ece70df5",
   "metadata": {},
   "outputs": [],
   "source": [
    "data1.columns=[\"Degree_of_Imbalance\",\"ROC_Score\",\"dataset\"]"
   ]
  },
  {
   "cell_type": "code",
   "execution_count": 22,
   "id": "37277f5a",
   "metadata": {},
   "outputs": [
    {
     "data": {
      "text/html": [
       "<div>\n",
       "<style scoped>\n",
       "    .dataframe tbody tr th:only-of-type {\n",
       "        vertical-align: middle;\n",
       "    }\n",
       "\n",
       "    .dataframe tbody tr th {\n",
       "        vertical-align: top;\n",
       "    }\n",
       "\n",
       "    .dataframe thead th {\n",
       "        text-align: right;\n",
       "    }\n",
       "</style>\n",
       "<table border=\"1\" class=\"dataframe\">\n",
       "  <thead>\n",
       "    <tr style=\"text-align: right;\">\n",
       "      <th></th>\n",
       "      <th>Degree_of_Imbalance</th>\n",
       "      <th>ROC_Score</th>\n",
       "      <th>dataset</th>\n",
       "    </tr>\n",
       "  </thead>\n",
       "  <tbody>\n",
       "    <tr>\n",
       "      <th>0</th>\n",
       "      <td>5:95</td>\n",
       "      <td>48</td>\n",
       "      <td>cervical</td>\n",
       "    </tr>\n",
       "    <tr>\n",
       "      <th>1</th>\n",
       "      <td>15:85</td>\n",
       "      <td>48</td>\n",
       "      <td>cervical</td>\n",
       "    </tr>\n",
       "    <tr>\n",
       "      <th>2</th>\n",
       "      <td>30:70</td>\n",
       "      <td>51</td>\n",
       "      <td>cervical</td>\n",
       "    </tr>\n",
       "    <tr>\n",
       "      <th>3</th>\n",
       "      <td>50:50</td>\n",
       "      <td>51</td>\n",
       "      <td>cervical</td>\n",
       "    </tr>\n",
       "    <tr>\n",
       "      <th>4</th>\n",
       "      <td>5:95</td>\n",
       "      <td>4</td>\n",
       "      <td>cervical</td>\n",
       "    </tr>\n",
       "    <tr>\n",
       "      <th>...</th>\n",
       "      <td>...</td>\n",
       "      <td>...</td>\n",
       "      <td>...</td>\n",
       "    </tr>\n",
       "    <tr>\n",
       "      <th>175</th>\n",
       "      <td>50:50</td>\n",
       "      <td>96</td>\n",
       "      <td>vehicle</td>\n",
       "    </tr>\n",
       "    <tr>\n",
       "      <th>176</th>\n",
       "      <td>5:95</td>\n",
       "      <td>93</td>\n",
       "      <td>vehicle</td>\n",
       "    </tr>\n",
       "    <tr>\n",
       "      <th>177</th>\n",
       "      <td>15:85</td>\n",
       "      <td>96</td>\n",
       "      <td>vehicle</td>\n",
       "    </tr>\n",
       "    <tr>\n",
       "      <th>178</th>\n",
       "      <td>30:70</td>\n",
       "      <td>94</td>\n",
       "      <td>vehicle</td>\n",
       "    </tr>\n",
       "    <tr>\n",
       "      <th>179</th>\n",
       "      <td>50:50</td>\n",
       "      <td>95</td>\n",
       "      <td>vehicle</td>\n",
       "    </tr>\n",
       "  </tbody>\n",
       "</table>\n",
       "<p>180 rows × 3 columns</p>\n",
       "</div>"
      ],
      "text/plain": [
       "    Degree_of_Imbalance ROC_Score   dataset\n",
       "0                  5:95        48  cervical\n",
       "1                 15:85        48  cervical\n",
       "2                 30:70        51  cervical\n",
       "3                 50:50        51  cervical\n",
       "4                  5:95         4  cervical\n",
       "..                  ...       ...       ...\n",
       "175               50:50        96   vehicle\n",
       "176                5:95        93   vehicle\n",
       "177               15:85        96   vehicle\n",
       "178               30:70        94   vehicle\n",
       "179               50:50        95   vehicle\n",
       "\n",
       "[180 rows x 3 columns]"
      ]
     },
     "execution_count": 22,
     "metadata": {},
     "output_type": "execute_result"
    }
   ],
   "source": [
    "data1"
   ]
  },
  {
   "cell_type": "markdown",
   "id": "faf790b7",
   "metadata": {},
   "source": [
    "## Large-NCS"
   ]
  },
  {
   "cell_type": "code",
   "execution_count": 23,
   "id": "d2fb6f38",
   "metadata": {},
   "outputs": [],
   "source": [
    "#forestcover ncs\n",
    "Degree_of_Imbalance=[\"5:95\",\"15:85\",\"30:70\",\"50:50\"]*5\n",
    "ROC_Score = [94,92,91,91,87,77,71,65,98,96,94,94,66,79,87,88,95,91,85,78]\n",
    "dataset = [\"forestcover\"]*20"
   ]
  },
  {
   "cell_type": "code",
   "execution_count": 24,
   "id": "f1cf4930",
   "metadata": {},
   "outputs": [],
   "source": [
    "#mammography ncs\n",
    "Degree_of_Imbalance+=[\"5:95\",\"15:85\",\"30:70\",\"50:50\"]*5\n",
    "ROC_Score+=[79,74,68,67,96,83,64,56,91,82,76,74,70,83,91,88,90,78,70,65]\n",
    "dataset+= [\"mammography\"]*20"
   ]
  },
  {
   "cell_type": "code",
   "execution_count": 25,
   "id": "d9f176db",
   "metadata": {},
   "outputs": [],
   "source": [
    "#credit ncs\n",
    "Degree_of_Imbalance+=[\"5:95\",\"15:85\",\"30:70\",\"50:50\"]*5\n",
    "ROC_Score+=[70,69,68,72,91,93,91,51,94,94,94,93,91,93,92,92,93,58,54,52]\n",
    "dataset+= [\"credit\"]*20"
   ]
  },
  {
   "cell_type": "code",
   "execution_count": 26,
   "id": "f8762778",
   "metadata": {},
   "outputs": [],
   "source": [
    "#insurance ncs\n",
    "Degree_of_Imbalance+=[\"5:95\",\"15:85\",\"30:70\",\"50:50\"]*5\n",
    "ROC_Score+=[65,66,66,66,50,53,80,68,68,70,70,70,50,52,80,81,50,71,72,70]\n",
    "dataset+= [\"insurance\"]*20"
   ]
  },
  {
   "cell_type": "code",
   "execution_count": 27,
   "id": "678eb268",
   "metadata": {},
   "outputs": [],
   "source": [
    "#PORTOSEGURO ncs\n",
    "Degree_of_Imbalance+=[\"5:95\",\"15:85\",\"30:70\",\"50:50\"]*5\n",
    "ROC_Score+=[50,51,51,51,50,50,52,51,48,73,50,50,50,50,52,57,50,50,50,50]\n",
    "dataset+= [\"portoseguro\"]*20"
   ]
  },
  {
   "cell_type": "code",
   "execution_count": 28,
   "id": "dfb82372",
   "metadata": {},
   "outputs": [],
   "source": [
    "#ninapro\n",
    "Degree_of_Imbalance+=[\"5:95\",\"15:85\",\"30:70\",\"50:50\"]*5\n",
    "ROC_Score += [95,91,91,92,82,87,90,59,98,96,94,95,84,88,91,84,91,90,82,74]\n",
    "dataset+= [\"ninapro\"]*20"
   ]
  },
  {
   "cell_type": "code",
   "execution_count": 29,
   "id": "5190aaad",
   "metadata": {},
   "outputs": [],
   "source": [
    "data2 = pd.DataFrame([Degree_of_Imbalance,ROC_Score,dataset]).T"
   ]
  },
  {
   "cell_type": "code",
   "execution_count": 30,
   "id": "3ce39e72",
   "metadata": {},
   "outputs": [],
   "source": [
    "data2.columns=[\"Degree_of_Imbalance\",\"ROC_Score\",\"dataset\"]"
   ]
  },
  {
   "cell_type": "code",
   "execution_count": 31,
   "id": "ef656711",
   "metadata": {},
   "outputs": [
    {
     "data": {
      "text/html": [
       "<div>\n",
       "<style scoped>\n",
       "    .dataframe tbody tr th:only-of-type {\n",
       "        vertical-align: middle;\n",
       "    }\n",
       "\n",
       "    .dataframe tbody tr th {\n",
       "        vertical-align: top;\n",
       "    }\n",
       "\n",
       "    .dataframe thead th {\n",
       "        text-align: right;\n",
       "    }\n",
       "</style>\n",
       "<table border=\"1\" class=\"dataframe\">\n",
       "  <thead>\n",
       "    <tr style=\"text-align: right;\">\n",
       "      <th></th>\n",
       "      <th>Degree_of_Imbalance</th>\n",
       "      <th>ROC_Score</th>\n",
       "      <th>dataset</th>\n",
       "    </tr>\n",
       "  </thead>\n",
       "  <tbody>\n",
       "    <tr>\n",
       "      <th>0</th>\n",
       "      <td>5:95</td>\n",
       "      <td>94</td>\n",
       "      <td>forestcover</td>\n",
       "    </tr>\n",
       "    <tr>\n",
       "      <th>1</th>\n",
       "      <td>15:85</td>\n",
       "      <td>92</td>\n",
       "      <td>forestcover</td>\n",
       "    </tr>\n",
       "    <tr>\n",
       "      <th>2</th>\n",
       "      <td>30:70</td>\n",
       "      <td>91</td>\n",
       "      <td>forestcover</td>\n",
       "    </tr>\n",
       "    <tr>\n",
       "      <th>3</th>\n",
       "      <td>50:50</td>\n",
       "      <td>91</td>\n",
       "      <td>forestcover</td>\n",
       "    </tr>\n",
       "    <tr>\n",
       "      <th>4</th>\n",
       "      <td>5:95</td>\n",
       "      <td>87</td>\n",
       "      <td>forestcover</td>\n",
       "    </tr>\n",
       "    <tr>\n",
       "      <th>...</th>\n",
       "      <td>...</td>\n",
       "      <td>...</td>\n",
       "      <td>...</td>\n",
       "    </tr>\n",
       "    <tr>\n",
       "      <th>115</th>\n",
       "      <td>50:50</td>\n",
       "      <td>84</td>\n",
       "      <td>ninapro</td>\n",
       "    </tr>\n",
       "    <tr>\n",
       "      <th>116</th>\n",
       "      <td>5:95</td>\n",
       "      <td>91</td>\n",
       "      <td>ninapro</td>\n",
       "    </tr>\n",
       "    <tr>\n",
       "      <th>117</th>\n",
       "      <td>15:85</td>\n",
       "      <td>90</td>\n",
       "      <td>ninapro</td>\n",
       "    </tr>\n",
       "    <tr>\n",
       "      <th>118</th>\n",
       "      <td>30:70</td>\n",
       "      <td>82</td>\n",
       "      <td>ninapro</td>\n",
       "    </tr>\n",
       "    <tr>\n",
       "      <th>119</th>\n",
       "      <td>50:50</td>\n",
       "      <td>74</td>\n",
       "      <td>ninapro</td>\n",
       "    </tr>\n",
       "  </tbody>\n",
       "</table>\n",
       "<p>120 rows × 3 columns</p>\n",
       "</div>"
      ],
      "text/plain": [
       "    Degree_of_Imbalance ROC_Score      dataset\n",
       "0                  5:95        94  forestcover\n",
       "1                 15:85        92  forestcover\n",
       "2                 30:70        91  forestcover\n",
       "3                 50:50        91  forestcover\n",
       "4                  5:95        87  forestcover\n",
       "..                  ...       ...          ...\n",
       "115               50:50        84      ninapro\n",
       "116                5:95        91      ninapro\n",
       "117               15:85        90      ninapro\n",
       "118               30:70        82      ninapro\n",
       "119               50:50        74      ninapro\n",
       "\n",
       "[120 rows x 3 columns]"
      ]
     },
     "execution_count": 31,
     "metadata": {},
     "output_type": "execute_result"
    }
   ],
   "source": [
    "data2"
   ]
  },
  {
   "cell_type": "markdown",
   "id": "810c3995",
   "metadata": {},
   "source": [
    "## Small- NCS"
   ]
  },
  {
   "cell_type": "code",
   "execution_count": 32,
   "id": "11632c14",
   "metadata": {},
   "outputs": [],
   "source": [
    "#cervical\n",
    "Degree_of_Imbalance=[\"5:95\",\"15:85\",\"30:70\",\"50:50\"]*5\n",
    "ROC_Score = [48,52,48,51,50,48,48,50,48,48,48,48,50,49,42,51,50,45,48,48]\n",
    "dataset = [\"cervical\"]*20"
   ]
  },
  {
   "cell_type": "code",
   "execution_count": 33,
   "id": "5bb73277",
   "metadata": {},
   "outputs": [],
   "source": [
    "#abalone\n",
    "Degree_of_Imbalance+=[\"5:95\",\"15:85\",\"30:70\",\"50:50\"]*5\n",
    "ROC_Score+= [47,67,60,60,50,50,73,60,98,68,64,63,50,67,88,93,58,74,66,59]\n",
    "dataset+= [\"abalone\"]*20"
   ]
  },
  {
   "cell_type": "code",
   "execution_count": 34,
   "id": "5ddd4823",
   "metadata": {},
   "outputs": [],
   "source": [
    "#pima\n",
    "Degree_of_Imbalance+=[\"5:95\",\"15:85\",\"30:70\",\"50:50\"]*5\n",
    "ROC_Score+=[66,60,67,63,5,83,76,71,50,79,71,71,50,53,74,71,58,75,71,72]\n",
    "dataset+=[\"pima\"]*20"
   ]
  },
  {
   "cell_type": "code",
   "execution_count": 35,
   "id": "a5b3c494",
   "metadata": {},
   "outputs": [],
   "source": [
    "#haberman\n",
    "Degree_of_Imbalance+=[\"5:95\",\"15:85\",\"30:70\",\"50:50\"]*5\n",
    "ROC_Score+=[68,84,68,59,83,50,83,71,72,85,59,53,62,64,62,60,72,67,72,66]\n",
    "dataset+= [\"haberman\"]*20"
   ]
  },
  {
   "cell_type": "code",
   "execution_count": 36,
   "id": "621ce3d5",
   "metadata": {},
   "outputs": [],
   "source": [
    "#ckd\n",
    "Degree_of_Imbalance+=[\"5:95\",\"15:85\",\"30:70\",\"50:50\"]*5\n",
    "ROC_Score+=[87,94,98,92,88,99,99,95,96,99,99,100,96,97,96,100,97,96,96,96]\n",
    "dataset+= [\"ckd\"]*20"
   ]
  },
  {
   "cell_type": "code",
   "execution_count": 37,
   "id": "471034bc",
   "metadata": {},
   "outputs": [],
   "source": [
    "#ECG\n",
    "Degree_of_Imbalance+=[\"5:95\",\"15:85\",\"30:70\",\"50:50\"]*5\n",
    "ROC_Score += [97,99,98,98,94,96,98,99,98,99,100,100,97,98,98,99,96,99,99,100]\n",
    "dataset+= [\"ecg\"]*20"
   ]
  },
  {
   "cell_type": "code",
   "execution_count": 38,
   "id": "449ad7da",
   "metadata": {},
   "outputs": [],
   "source": [
    "#inosphere ncs\n",
    "Degree_of_Imbalance+=[\"5:95\",\"15:85\",\"30:70\",\"50:50\"]*5\n",
    "ROC_Score+= [96,88,85,93,84,89,92,92,94,94,96,97,68,75,86,85,89,92,96,93]\n",
    "dataset+= [\"inosphere\"]*20"
   ]
  },
  {
   "cell_type": "code",
   "execution_count": 39,
   "id": "36d5de88",
   "metadata": {},
   "outputs": [],
   "source": [
    "#phenome ncs\n",
    "Degree_of_Imbalance+=[\"5:95\",\"15:85\",\"30:70\",\"50:50\"]*5\n",
    "ROC_Score+=[82,82,83,83,50,87,70,69,87,88,89,87,50,50,66,74,83,85,84,79]\n",
    "dataset+= [\"phenome\"]*20"
   ]
  },
  {
   "cell_type": "code",
   "execution_count": 40,
   "id": "332de2da",
   "metadata": {},
   "outputs": [],
   "source": [
    "#vehicle ncs\n",
    "Degree_of_Imbalance+=[\"5:95\",\"15:85\",\"30:70\",\"50:50\"]*5\n",
    "ROC_Score+=[91,92,94,92,50,91,97,89,93,96,95,94,69,91,97,97,96,97,95,95]\n",
    "dataset+= [\"vehicle\"]*20"
   ]
  },
  {
   "cell_type": "code",
   "execution_count": 41,
   "id": "b0168d7e",
   "metadata": {},
   "outputs": [],
   "source": [
    "data3 = pd.DataFrame([Degree_of_Imbalance,ROC_Score,dataset]).T"
   ]
  },
  {
   "cell_type": "code",
   "execution_count": 42,
   "id": "dbbf564f",
   "metadata": {},
   "outputs": [],
   "source": [
    "data3.columns=[\"Degree_of_Imbalance\",\"ROC_Score\",\"dataset\"]"
   ]
  },
  {
   "cell_type": "code",
   "execution_count": 43,
   "id": "41901f43",
   "metadata": {},
   "outputs": [
    {
     "data": {
      "text/html": [
       "<div>\n",
       "<style scoped>\n",
       "    .dataframe tbody tr th:only-of-type {\n",
       "        vertical-align: middle;\n",
       "    }\n",
       "\n",
       "    .dataframe tbody tr th {\n",
       "        vertical-align: top;\n",
       "    }\n",
       "\n",
       "    .dataframe thead th {\n",
       "        text-align: right;\n",
       "    }\n",
       "</style>\n",
       "<table border=\"1\" class=\"dataframe\">\n",
       "  <thead>\n",
       "    <tr style=\"text-align: right;\">\n",
       "      <th></th>\n",
       "      <th>Degree_of_Imbalance</th>\n",
       "      <th>ROC_Score</th>\n",
       "      <th>dataset</th>\n",
       "    </tr>\n",
       "  </thead>\n",
       "  <tbody>\n",
       "    <tr>\n",
       "      <th>0</th>\n",
       "      <td>5:95</td>\n",
       "      <td>48</td>\n",
       "      <td>cervical</td>\n",
       "    </tr>\n",
       "    <tr>\n",
       "      <th>1</th>\n",
       "      <td>15:85</td>\n",
       "      <td>52</td>\n",
       "      <td>cervical</td>\n",
       "    </tr>\n",
       "    <tr>\n",
       "      <th>2</th>\n",
       "      <td>30:70</td>\n",
       "      <td>48</td>\n",
       "      <td>cervical</td>\n",
       "    </tr>\n",
       "    <tr>\n",
       "      <th>3</th>\n",
       "      <td>50:50</td>\n",
       "      <td>51</td>\n",
       "      <td>cervical</td>\n",
       "    </tr>\n",
       "    <tr>\n",
       "      <th>4</th>\n",
       "      <td>5:95</td>\n",
       "      <td>50</td>\n",
       "      <td>cervical</td>\n",
       "    </tr>\n",
       "    <tr>\n",
       "      <th>...</th>\n",
       "      <td>...</td>\n",
       "      <td>...</td>\n",
       "      <td>...</td>\n",
       "    </tr>\n",
       "    <tr>\n",
       "      <th>175</th>\n",
       "      <td>50:50</td>\n",
       "      <td>97</td>\n",
       "      <td>vehicle</td>\n",
       "    </tr>\n",
       "    <tr>\n",
       "      <th>176</th>\n",
       "      <td>5:95</td>\n",
       "      <td>96</td>\n",
       "      <td>vehicle</td>\n",
       "    </tr>\n",
       "    <tr>\n",
       "      <th>177</th>\n",
       "      <td>15:85</td>\n",
       "      <td>97</td>\n",
       "      <td>vehicle</td>\n",
       "    </tr>\n",
       "    <tr>\n",
       "      <th>178</th>\n",
       "      <td>30:70</td>\n",
       "      <td>95</td>\n",
       "      <td>vehicle</td>\n",
       "    </tr>\n",
       "    <tr>\n",
       "      <th>179</th>\n",
       "      <td>50:50</td>\n",
       "      <td>95</td>\n",
       "      <td>vehicle</td>\n",
       "    </tr>\n",
       "  </tbody>\n",
       "</table>\n",
       "<p>180 rows × 3 columns</p>\n",
       "</div>"
      ],
      "text/plain": [
       "    Degree_of_Imbalance ROC_Score   dataset\n",
       "0                  5:95        48  cervical\n",
       "1                 15:85        52  cervical\n",
       "2                 30:70        48  cervical\n",
       "3                 50:50        51  cervical\n",
       "4                  5:95        50  cervical\n",
       "..                  ...       ...       ...\n",
       "175               50:50        97   vehicle\n",
       "176                5:95        96   vehicle\n",
       "177               15:85        97   vehicle\n",
       "178               30:70        95   vehicle\n",
       "179               50:50        95   vehicle\n",
       "\n",
       "[180 rows x 3 columns]"
      ]
     },
     "execution_count": 43,
     "metadata": {},
     "output_type": "execute_result"
    }
   ],
   "source": [
    "data3"
   ]
  },
  {
   "cell_type": "code",
   "execution_count": 44,
   "id": "b83ee996",
   "metadata": {},
   "outputs": [
    {
     "data": {
      "text/html": [
       "<div>\n",
       "<style scoped>\n",
       "    .dataframe tbody tr th:only-of-type {\n",
       "        vertical-align: middle;\n",
       "    }\n",
       "\n",
       "    .dataframe tbody tr th {\n",
       "        vertical-align: top;\n",
       "    }\n",
       "\n",
       "    .dataframe thead th {\n",
       "        text-align: right;\n",
       "    }\n",
       "</style>\n",
       "<table border=\"1\" class=\"dataframe\">\n",
       "  <thead>\n",
       "    <tr style=\"text-align: right;\">\n",
       "      <th></th>\n",
       "      <th>Degree_of_Imbalance</th>\n",
       "      <th>ROC_Score</th>\n",
       "      <th>dataset</th>\n",
       "      <th>ALGO</th>\n",
       "    </tr>\n",
       "  </thead>\n",
       "  <tbody>\n",
       "    <tr>\n",
       "      <th>0</th>\n",
       "      <td>5:95</td>\n",
       "      <td>93</td>\n",
       "      <td>forestcover</td>\n",
       "      <td>CS</td>\n",
       "    </tr>\n",
       "    <tr>\n",
       "      <th>1</th>\n",
       "      <td>15:85</td>\n",
       "      <td>93</td>\n",
       "      <td>forestcover</td>\n",
       "      <td>CS</td>\n",
       "    </tr>\n",
       "    <tr>\n",
       "      <th>2</th>\n",
       "      <td>30:70</td>\n",
       "      <td>91</td>\n",
       "      <td>forestcover</td>\n",
       "      <td>CS</td>\n",
       "    </tr>\n",
       "    <tr>\n",
       "      <th>3</th>\n",
       "      <td>50:50</td>\n",
       "      <td>91</td>\n",
       "      <td>forestcover</td>\n",
       "      <td>CS</td>\n",
       "    </tr>\n",
       "    <tr>\n",
       "      <th>4</th>\n",
       "      <td>5:95</td>\n",
       "      <td>65</td>\n",
       "      <td>forestcover</td>\n",
       "      <td>CS</td>\n",
       "    </tr>\n",
       "    <tr>\n",
       "      <th>...</th>\n",
       "      <td>...</td>\n",
       "      <td>...</td>\n",
       "      <td>...</td>\n",
       "      <td>...</td>\n",
       "    </tr>\n",
       "    <tr>\n",
       "      <th>115</th>\n",
       "      <td>50:50</td>\n",
       "      <td>84</td>\n",
       "      <td>ninapro</td>\n",
       "      <td>NonCS</td>\n",
       "    </tr>\n",
       "    <tr>\n",
       "      <th>116</th>\n",
       "      <td>5:95</td>\n",
       "      <td>91</td>\n",
       "      <td>ninapro</td>\n",
       "      <td>NonCS</td>\n",
       "    </tr>\n",
       "    <tr>\n",
       "      <th>117</th>\n",
       "      <td>15:85</td>\n",
       "      <td>90</td>\n",
       "      <td>ninapro</td>\n",
       "      <td>NonCS</td>\n",
       "    </tr>\n",
       "    <tr>\n",
       "      <th>118</th>\n",
       "      <td>30:70</td>\n",
       "      <td>82</td>\n",
       "      <td>ninapro</td>\n",
       "      <td>NonCS</td>\n",
       "    </tr>\n",
       "    <tr>\n",
       "      <th>119</th>\n",
       "      <td>50:50</td>\n",
       "      <td>74</td>\n",
       "      <td>ninapro</td>\n",
       "      <td>NonCS</td>\n",
       "    </tr>\n",
       "  </tbody>\n",
       "</table>\n",
       "<p>240 rows × 4 columns</p>\n",
       "</div>"
      ],
      "text/plain": [
       "    Degree_of_Imbalance ROC_Score      dataset   ALGO\n",
       "0                  5:95        93  forestcover     CS\n",
       "1                 15:85        93  forestcover     CS\n",
       "2                 30:70        91  forestcover     CS\n",
       "3                 50:50        91  forestcover     CS\n",
       "4                  5:95        65  forestcover     CS\n",
       "..                  ...       ...          ...    ...\n",
       "115               50:50        84      ninapro  NonCS\n",
       "116                5:95        91      ninapro  NonCS\n",
       "117               15:85        90      ninapro  NonCS\n",
       "118               30:70        82      ninapro  NonCS\n",
       "119               50:50        74      ninapro  NonCS\n",
       "\n",
       "[240 rows x 4 columns]"
      ]
     },
     "execution_count": 44,
     "metadata": {},
     "output_type": "execute_result"
    }
   ],
   "source": [
    "final_data = pd.concat([data,data2])\n",
    "ALGO = [\"CS\"]*120+[\"NonCS\"]*120\n",
    "final_data[\"ALGO\"]=ALGO\n",
    "final_data.columns = [\"Degree_of_Imbalance\",\"ROC_Score\",\"dataset\",\"ALGO\"]\n",
    "final_data"
   ]
  },
  {
   "cell_type": "code",
   "execution_count": 45,
   "id": "3335a910",
   "metadata": {},
   "outputs": [
    {
     "data": {
      "image/png": "[encoded data removed]",
      "text/plain": [
       "<Figure size 432x288 with 1 Axes>"
      ]
     },
     "metadata": {},
     "output_type": "display_data"
    }
   ],
   "source": [
    "import seaborn as sns\n",
    "sns.set_theme(style=\"ticks\", palette=\"pastel\")\n",
    "\n",
    "# Load the example tips dataset\n",
    "ax = sns.boxplot(x=\"Degree_of_Imbalance\", y=\"ROC_Score\",\n",
    "            hue=\"ALGO\", palette=[\"m\", \"g\"],\n",
    "            data=final_data,showmeans=True,meanprops={\"marker\":\"o\",\n",
    "                       \"markerfacecolor\":\"white\", \n",
    "                       \"markeredgecolor\":\"black\",\n",
    "                      \"markersize\":\"10\"})\n",
    "ax.set_title(\"PERFORMANCE ON LARGE DATA SETS\")\n",
    "sns.despine(offset=10)\n",
    "plt.legend(bbox_to_anchor=(1.05, 1), loc=2, borderaxespad=0.)\n",
    "plt.show()"
   ]
  },
  {
   "cell_type": "code",
   "execution_count": 46,
   "id": "5b1183b5",
   "metadata": {},
   "outputs": [
    {
     "data": {
      "text/html": [
       "<div>\n",
       "<style scoped>\n",
       "    .dataframe tbody tr th:only-of-type {\n",
       "        vertical-align: middle;\n",
       "    }\n",
       "\n",
       "    .dataframe tbody tr th {\n",
       "        vertical-align: top;\n",
       "    }\n",
       "\n",
       "    .dataframe thead th {\n",
       "        text-align: right;\n",
       "    }\n",
       "</style>\n",
       "<table border=\"1\" class=\"dataframe\">\n",
       "  <thead>\n",
       "    <tr style=\"text-align: right;\">\n",
       "      <th></th>\n",
       "      <th>Degree_of_Imbalance</th>\n",
       "      <th>ROC_Score</th>\n",
       "      <th>dataset</th>\n",
       "      <th>ALGO</th>\n",
       "    </tr>\n",
       "  </thead>\n",
       "  <tbody>\n",
       "    <tr>\n",
       "      <th>0</th>\n",
       "      <td>5:95</td>\n",
       "      <td>48</td>\n",
       "      <td>cervical</td>\n",
       "      <td>CS</td>\n",
       "    </tr>\n",
       "    <tr>\n",
       "      <th>1</th>\n",
       "      <td>15:85</td>\n",
       "      <td>48</td>\n",
       "      <td>cervical</td>\n",
       "      <td>CS</td>\n",
       "    </tr>\n",
       "    <tr>\n",
       "      <th>2</th>\n",
       "      <td>30:70</td>\n",
       "      <td>51</td>\n",
       "      <td>cervical</td>\n",
       "      <td>CS</td>\n",
       "    </tr>\n",
       "    <tr>\n",
       "      <th>3</th>\n",
       "      <td>50:50</td>\n",
       "      <td>51</td>\n",
       "      <td>cervical</td>\n",
       "      <td>CS</td>\n",
       "    </tr>\n",
       "    <tr>\n",
       "      <th>4</th>\n",
       "      <td>5:95</td>\n",
       "      <td>4</td>\n",
       "      <td>cervical</td>\n",
       "      <td>CS</td>\n",
       "    </tr>\n",
       "    <tr>\n",
       "      <th>...</th>\n",
       "      <td>...</td>\n",
       "      <td>...</td>\n",
       "      <td>...</td>\n",
       "      <td>...</td>\n",
       "    </tr>\n",
       "    <tr>\n",
       "      <th>175</th>\n",
       "      <td>50:50</td>\n",
       "      <td>97</td>\n",
       "      <td>vehicle</td>\n",
       "      <td>NonCS</td>\n",
       "    </tr>\n",
       "    <tr>\n",
       "      <th>176</th>\n",
       "      <td>5:95</td>\n",
       "      <td>96</td>\n",
       "      <td>vehicle</td>\n",
       "      <td>NonCS</td>\n",
       "    </tr>\n",
       "    <tr>\n",
       "      <th>177</th>\n",
       "      <td>15:85</td>\n",
       "      <td>97</td>\n",
       "      <td>vehicle</td>\n",
       "      <td>NonCS</td>\n",
       "    </tr>\n",
       "    <tr>\n",
       "      <th>178</th>\n",
       "      <td>30:70</td>\n",
       "      <td>95</td>\n",
       "      <td>vehicle</td>\n",
       "      <td>NonCS</td>\n",
       "    </tr>\n",
       "    <tr>\n",
       "      <th>179</th>\n",
       "      <td>50:50</td>\n",
       "      <td>95</td>\n",
       "      <td>vehicle</td>\n",
       "      <td>NonCS</td>\n",
       "    </tr>\n",
       "  </tbody>\n",
       "</table>\n",
       "<p>360 rows × 4 columns</p>\n",
       "</div>"
      ],
      "text/plain": [
       "    Degree_of_Imbalance ROC_Score   dataset   ALGO\n",
       "0                  5:95        48  cervical     CS\n",
       "1                 15:85        48  cervical     CS\n",
       "2                 30:70        51  cervical     CS\n",
       "3                 50:50        51  cervical     CS\n",
       "4                  5:95         4  cervical     CS\n",
       "..                  ...       ...       ...    ...\n",
       "175               50:50        97   vehicle  NonCS\n",
       "176                5:95        96   vehicle  NonCS\n",
       "177               15:85        97   vehicle  NonCS\n",
       "178               30:70        95   vehicle  NonCS\n",
       "179               50:50        95   vehicle  NonCS\n",
       "\n",
       "[360 rows x 4 columns]"
      ]
     },
     "execution_count": 46,
     "metadata": {},
     "output_type": "execute_result"
    }
   ],
   "source": [
    "final_data1 = pd.concat([data1,data3])\n",
    "ALGO = [\"CS\"]*180+[\"NonCS\"]*180\n",
    "final_data1[\"ALGO\"]=ALGO\n",
    "final_data1.columns = [\"Degree_of_Imbalance\",\"ROC_Score\",\"dataset\",\"ALGO\"]\n",
    "final_data1"
   ]
  },
  {
   "cell_type": "code",
   "execution_count": 47,
   "id": "010564df",
   "metadata": {},
   "outputs": [
    {
     "data": {
      "image/png": "[encoded data removed]",
      "text/plain": [
       "<Figure size 432x288 with 1 Axes>"
      ]
     },
     "metadata": {},
     "output_type": "display_data"
    }
   ],
   "source": [
    "import seaborn as sns\n",
    "sns.set_theme(style=\"ticks\", palette=\"pastel\")\n",
    "\n",
    "# Load the example tips dataset\n",
    "ax = sns.boxplot(x=\"Degree_of_Imbalance\", y=\"ROC_Score\",\n",
    "            hue=\"ALGO\", palette=[\"m\", \"g\"],\n",
    "            data=final_data1,showmeans=True,meanprops={\"marker\":\"o\",\n",
    "                       \"markerfacecolor\":\"white\", \n",
    "                       \"markeredgecolor\":\"black\",\n",
    "                      \"markersize\":\"10\"})\n",
    "ax.set_title(\"PERFORMANCE ON SMALL DATA SETS\")\n",
    "sns.despine(offset=10)\n",
    "plt.legend(bbox_to_anchor=(1.05, 1), loc=2, borderaxespad=0.)\n",
    "plt.show()"
   ]
  }
 ],
 "metadata": {
  "kernelspec": {
   "display_name": "Python 3",
   "language": "python",
   "name": "python3"
  },
  "language_info": {
   "codemirror_mode": {
    "name": "ipython",
    "version": 3
   },
   "file_extension": ".py",
   "mimetype": "text/x-python",
   "name": "python",
   "nbconvert_exporter": "python",
   "pygments_lexer": "ipython3",
   "version": "3.8.8"
  }
 },
 "nbformat": 4,
 "nbformat_minor": 5
}
