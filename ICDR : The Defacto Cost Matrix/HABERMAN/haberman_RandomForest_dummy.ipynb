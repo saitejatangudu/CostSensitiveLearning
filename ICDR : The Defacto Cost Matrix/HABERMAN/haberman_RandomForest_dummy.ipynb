{
 "cells": [
  {
   "cell_type": "code",
   "execution_count": 1,
   "id": "8c5757de",
   "metadata": {},
   "outputs": [],
   "source": [
    "import numpy as np\n",
    "import pandas as pd\n",
    "from imblearn.metrics import geometric_mean_score\n",
    "from sklearn.metrics import roc_auc_score,average_precision_score"
   ]
  },
  {
   "cell_type": "code",
   "execution_count": 2,
   "id": "54bf52a9",
   "metadata": {},
   "outputs": [],
   "source": [
    "test_data = pd.read_csv(\"haberman_test_data.csv\")\n",
    "test_label = pd.read_csv(\"haberman_test_label.csv\")"
   ]
  },
  {
   "cell_type": "code",
   "execution_count": 3,
   "id": "87e8ab5e",
   "metadata": {},
   "outputs": [
    {
     "data": {
      "text/html": [
       "<div>\n",
       "<style scoped>\n",
       "    .dataframe tbody tr th:only-of-type {\n",
       "        vertical-align: middle;\n",
       "    }\n",
       "\n",
       "    .dataframe tbody tr th {\n",
       "        vertical-align: top;\n",
       "    }\n",
       "\n",
       "    .dataframe thead th {\n",
       "        text-align: right;\n",
       "    }\n",
       "</style>\n",
       "<table border=\"1\" class=\"dataframe\">\n",
       "  <thead>\n",
       "    <tr style=\"text-align: right;\">\n",
       "      <th></th>\n",
       "      <th>age</th>\n",
       "      <th>pos_nodes</th>\n",
       "    </tr>\n",
       "  </thead>\n",
       "  <tbody>\n",
       "    <tr>\n",
       "      <th>0</th>\n",
       "      <td>0.377358</td>\n",
       "      <td>0.076923</td>\n",
       "    </tr>\n",
       "    <tr>\n",
       "      <th>1</th>\n",
       "      <td>0.320755</td>\n",
       "      <td>0.000000</td>\n",
       "    </tr>\n",
       "    <tr>\n",
       "      <th>2</th>\n",
       "      <td>0.150943</td>\n",
       "      <td>0.096154</td>\n",
       "    </tr>\n",
       "    <tr>\n",
       "      <th>3</th>\n",
       "      <td>0.452830</td>\n",
       "      <td>0.134615</td>\n",
       "    </tr>\n",
       "    <tr>\n",
       "      <th>4</th>\n",
       "      <td>0.584906</td>\n",
       "      <td>0.000000</td>\n",
       "    </tr>\n",
       "  </tbody>\n",
       "</table>\n",
       "</div>"
      ],
      "text/plain": [
       "        age  pos_nodes\n",
       "0  0.377358   0.076923\n",
       "1  0.320755   0.000000\n",
       "2  0.150943   0.096154\n",
       "3  0.452830   0.134615\n",
       "4  0.584906   0.000000"
      ]
     },
     "execution_count": 3,
     "metadata": {},
     "output_type": "execute_result"
    }
   ],
   "source": [
    "test_data.head()"
   ]
  },
  {
   "cell_type": "markdown",
   "id": "5f496a1a",
   "metadata": {},
   "source": [
    "### 05:95"
   ]
  },
  {
   "cell_type": "code",
   "execution_count": 4,
   "id": "e40e6bf8",
   "metadata": {},
   "outputs": [],
   "source": [
    "train_data = pd.read_csv(\"haberman_ext_imb_data.csv\")\n",
    "train_label = pd.read_csv(\"haberman_ext_imb_label.csv\")"
   ]
  },
  {
   "cell_type": "code",
   "execution_count": 5,
   "id": "0f2bddaf",
   "metadata": {},
   "outputs": [
    {
     "name": "stdout",
     "output_type": "stream",
     "text": [
      "Accuracy score 0.6956521739130435\n",
      "Precision score 0.3\n",
      "Recall score 0.1875\n",
      "F1 score 0.75\n",
      "Kappa score 0.18686868686868674\n",
      "Gmean weighted score 0.7196229171289245\n",
      "Roc auc score 0.7202380952380952\n",
      "Precision -Recall score 0.1623641304347826\n"
     ]
    },
    {
     "name": "stderr",
     "output_type": "stream",
     "text": [
      "/Applications/Utilities/anaconda3/lib/python3.8/site-packages/sklearn/preprocessing/_label.py:133: DataConversionWarning: A column-vector y was passed when a 1d array was expected. Please change the shape of y to (n_samples, ), for example using ravel().\n",
      "  y = column_or_1d(y, warn=True)\n"
     ]
    }
   ],
   "source": [
    "from sklearn.metrics import f1_score,precision_score,recall_score,accuracy_score,cohen_kappa_score\n",
    "from sklearn.ensemble import RandomForestClassifier\n",
    "\n",
    "rforest = RandomForestClassifier(random_state=42)\n",
    "rforest_model=rforest.fit(train_data,np.array(train_label).ravel())\n",
    "pred_label=rforest_model.predict(test_data)\n",
    "print(f\"Accuracy score %s\"%accuracy_score(pred_label,test_label))\n",
    "print(f\"Precision score %s\"%f1_score(pred_label,test_label))\n",
    "print(f\"Recall score %s\"%precision_score(pred_label,test_label))\n",
    "print(f\"F1 score %s\"%recall_score(pred_label,test_label))\n",
    "print(f\"Kappa score %s\"%cohen_kappa_score(pred_label,test_label))\n",
    "print(f\"Gmean weighted score %s\"%geometric_mean_score(pred_label, test_label))\n",
    "print(f\"Roc auc score %s\"%roc_auc_score(pred_label,test_label))\n",
    "print(f\"Precision -Recall score %s\"%average_precision_score(pred_label,test_label))"
   ]
  },
  {
   "cell_type": "markdown",
   "id": "72d7ec46",
   "metadata": {},
   "source": [
    "### 15:85"
   ]
  },
  {
   "cell_type": "code",
   "execution_count": 6,
   "id": "f3927893",
   "metadata": {},
   "outputs": [],
   "source": [
    "train_data = pd.read_csv(\"haberman_15285_imb_data.csv\")\n",
    "train_label = pd.read_csv(\"haberman_15285_imb_label.csv\")"
   ]
  },
  {
   "cell_type": "code",
   "execution_count": 7,
   "id": "c168eab3",
   "metadata": {},
   "outputs": [
    {
     "name": "stdout",
     "output_type": "stream",
     "text": [
      "Accuracy score 0.717391304347826\n",
      "Precision score 0.3157894736842105\n",
      "Recall score 0.1875\n",
      "F1 score 1.0\n",
      "Kappa score 0.23136246786632397\n",
      "Gmean weighted score 0.8352690695845568\n",
      "Roc auc score 0.8488372093023255\n",
      "Precision -Recall score 0.1875\n"
     ]
    },
    {
     "name": "stderr",
     "output_type": "stream",
     "text": [
      "/Applications/Utilities/anaconda3/lib/python3.8/site-packages/sklearn/preprocessing/_label.py:133: DataConversionWarning: A column-vector y was passed when a 1d array was expected. Please change the shape of y to (n_samples, ), for example using ravel().\n",
      "  y = column_or_1d(y, warn=True)\n"
     ]
    }
   ],
   "source": [
    "from sklearn.metrics import f1_score,precision_score,recall_score,accuracy_score,cohen_kappa_score\n",
    "from sklearn.ensemble import RandomForestClassifier\n",
    "\n",
    "rforest1 = RandomForestClassifier(random_state=42)\n",
    "rforest_model1=rforest1.fit(train_data,np.array(train_label).ravel())\n",
    "pred_label=rforest_model1.predict(test_data)\n",
    "print(f\"Accuracy score %s\"%accuracy_score(pred_label,test_label))\n",
    "print(f\"Precision score %s\"%f1_score(pred_label,test_label))\n",
    "print(f\"Recall score %s\"%precision_score(pred_label,test_label))\n",
    "print(f\"F1 score %s\"%recall_score(pred_label,test_label))\n",
    "print(f\"Kappa score %s\"%cohen_kappa_score(pred_label,test_label))\n",
    "print(f\"Gmean weighted score %s\"%geometric_mean_score(pred_label, test_label))\n",
    "print(f\"Roc auc score %s\"%roc_auc_score(pred_label,test_label))\n",
    "print(f\"Precision -Recall score %s\"%average_precision_score(pred_label,test_label))"
   ]
  },
  {
   "cell_type": "markdown",
   "id": "6944b732",
   "metadata": {},
   "source": [
    "### 30:50"
   ]
  },
  {
   "cell_type": "code",
   "execution_count": 8,
   "id": "77cd6684",
   "metadata": {},
   "outputs": [],
   "source": [
    "train_data = pd.read_csv(\"haberman_mod_imb_data.csv\")\n",
    "train_label = pd.read_csv(\"haberman_mod_imb_label.csv\")"
   ]
  },
  {
   "cell_type": "code",
   "execution_count": 9,
   "id": "c9b234ca",
   "metadata": {},
   "outputs": [
    {
     "name": "stdout",
     "output_type": "stream",
     "text": [
      "Accuracy score 0.6521739130434783\n",
      "Precision score 0.3333333333333333\n",
      "Recall score 0.25\n",
      "F1 score 0.5\n",
      "Kappa score 0.13207547169811318\n",
      "Gmean weighted score 0.5848976518656018\n",
      "Roc auc score 0.5921052631578948\n",
      "Precision -Recall score 0.21195652173913043\n"
     ]
    },
    {
     "name": "stderr",
     "output_type": "stream",
     "text": [
      "/Applications/Utilities/anaconda3/lib/python3.8/site-packages/sklearn/preprocessing/_label.py:133: DataConversionWarning: A column-vector y was passed when a 1d array was expected. Please change the shape of y to (n_samples, ), for example using ravel().\n",
      "  y = column_or_1d(y, warn=True)\n"
     ]
    }
   ],
   "source": [
    "from sklearn.metrics import f1_score,precision_score,recall_score,accuracy_score,cohen_kappa_score\n",
    "from sklearn.ensemble import RandomForestClassifier\n",
    "\n",
    "rforest2 = RandomForestClassifier(random_state=42)\n",
    "rforest_model2=rforest2.fit(train_data,np.array(train_label).ravel())\n",
    "pred_label=rforest_model2.predict(test_data)\n",
    "print(f\"Accuracy score %s\"%accuracy_score(pred_label,test_label))\n",
    "print(f\"Precision score %s\"%f1_score(pred_label,test_label))\n",
    "print(f\"Recall score %s\"%precision_score(pred_label,test_label))\n",
    "print(f\"F1 score %s\"%recall_score(pred_label,test_label))\n",
    "print(f\"Kappa score %s\"%cohen_kappa_score(pred_label,test_label))\n",
    "print(f\"Gmean weighted score %s\"%geometric_mean_score(pred_label, test_label))\n",
    "print(f\"Roc auc score %s\"%roc_auc_score(pred_label,test_label))\n",
    "print(f\"Precision -Recall score %s\"%average_precision_score(pred_label,test_label))"
   ]
  },
  {
   "cell_type": "markdown",
   "id": "e869d54f",
   "metadata": {},
   "source": [
    "### 50:50"
   ]
  },
  {
   "cell_type": "code",
   "execution_count": 10,
   "id": "8ba7ef1a",
   "metadata": {},
   "outputs": [],
   "source": [
    "train_data = pd.read_csv(\"haberman_no_imb_data.csv\")\n",
    "train_label = pd.read_csv(\"haberman_no_imb_label.csv\")"
   ]
  },
  {
   "cell_type": "code",
   "execution_count": 11,
   "id": "08f92b6b",
   "metadata": {},
   "outputs": [
    {
     "name": "stdout",
     "output_type": "stream",
     "text": [
      "Accuracy score 0.5869565217391305\n",
      "Precision score 0.3448275862068966\n",
      "Recall score 0.3125\n",
      "F1 score 0.38461538461538464\n",
      "Kappa score 0.04793028322440085\n",
      "Gmean weighted score 0.5063696835418333\n",
      "Roc auc score 0.5256410256410257\n",
      "Precision -Recall score 0.2941053511705686\n"
     ]
    },
    {
     "name": "stderr",
     "output_type": "stream",
     "text": [
      "/Applications/Utilities/anaconda3/lib/python3.8/site-packages/sklearn/preprocessing/_label.py:133: DataConversionWarning: A column-vector y was passed when a 1d array was expected. Please change the shape of y to (n_samples, ), for example using ravel().\n",
      "  y = column_or_1d(y, warn=True)\n"
     ]
    }
   ],
   "source": [
    "from sklearn.metrics import f1_score,precision_score,recall_score,accuracy_score,cohen_kappa_score\n",
    "from sklearn.ensemble import RandomForestClassifier\n",
    "\n",
    "rforest3 = RandomForestClassifier(random_state=42)\n",
    "rforest_model3=rforest3.fit(train_data,np.array(train_label).ravel())\n",
    "pred_label=rforest_model3.predict(test_data)\n",
    "print(f\"Accuracy score %s\"%accuracy_score(pred_label,test_label))\n",
    "print(f\"Precision score %s\"%f1_score(pred_label,test_label))\n",
    "print(f\"Recall score %s\"%precision_score(pred_label,test_label))\n",
    "print(f\"F1 score %s\"%recall_score(pred_label,test_label))\n",
    "print(f\"Kappa score %s\"%cohen_kappa_score(pred_label,test_label))\n",
    "print(f\"Gmean weighted score %s\"%geometric_mean_score(pred_label, test_label))\n",
    "print(f\"Roc auc score %s\"%roc_auc_score(pred_label,test_label))\n",
    "print(f\"Precision -Recall score %s\"%average_precision_score(pred_label,test_label))"
   ]
  }
 ],
 "metadata": {
  "kernelspec": {
   "display_name": "Python 3",
   "language": "python",
   "name": "python3"
  },
  "language_info": {
   "codemirror_mode": {
    "name": "ipython",
    "version": 3
   },
   "file_extension": ".py",
   "mimetype": "text/x-python",
   "name": "python",
   "nbconvert_exporter": "python",
   "pygments_lexer": "ipython3",
   "version": "3.8.8"
  }
 },
 "nbformat": 4,
 "nbformat_minor": 5
}
