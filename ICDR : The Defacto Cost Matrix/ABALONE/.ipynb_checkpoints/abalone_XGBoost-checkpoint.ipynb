{
 "cells": [
  {
   "cell_type": "code",
   "execution_count": 1,
   "id": "8c5757de",
   "metadata": {},
   "outputs": [],
   "source": [
    "import numpy as np\n",
    "import pandas as pd"
   ]
  },
  {
   "cell_type": "code",
   "execution_count": 2,
   "id": "54bf52a9",
   "metadata": {},
   "outputs": [],
   "source": [
    "test_data = pd.read_csv(\"abalone_test_data.csv\")\n",
    "test_label = pd.read_csv(\"abalone_test_label.csv\")"
   ]
  },
  {
   "cell_type": "markdown",
   "id": "19e85f56",
   "metadata": {},
   "source": [
    "### 5:95"
   ]
  },
  {
   "cell_type": "code",
   "execution_count": 3,
   "id": "e40e6bf8",
   "metadata": {},
   "outputs": [],
   "source": [
    "train_data = pd.read_csv(\"abalone_ext_imb_data.csv\")\n",
    "train_label = pd.read_csv(\"abalone_ext_imb_label.csv\")"
   ]
  },
  {
   "cell_type": "code",
   "execution_count": 4,
   "id": "185a2347",
   "metadata": {},
   "outputs": [
    {
     "name": "stdout",
     "output_type": "stream",
     "text": [
      "Accuracy score 0.9324324324324325\n",
      "Precision score 0.4444444444444444\n",
      "Recall score 0.6666666666666666\n",
      "F1 score 0.3333333333333333\n",
      "Kappa score 0.4126984126984128\n"
     ]
    }
   ],
   "source": [
    "import xgboost as xgb\n",
    "from sklearn.metrics import f1_score,precision_score,recall_score,accuracy_score,cohen_kappa_score\n",
    "from collections import Counter\n",
    "inverse_ratio = Counter(train_label[\"Rings\"])[0]/Counter(train_label[\"Rings\"])[1]\n",
    "xg_reg = xgb.XGBClassifier(scale_pos_weight=inverse_ratio)\n",
    "xg_reg.fit(train_data,np.array(train_label).ravel())\n",
    "pred_label = xg_reg.predict(test_data)\n",
    "print(f\"Accuracy score %s\"%accuracy_score(pred_label,test_label))\n",
    "print(f\"Precision score %s\"%f1_score(pred_label,test_label))\n",
    "print(f\"Recall score %s\"%precision_score(pred_label,test_label))\n",
    "print(f\"F1 score %s\"%recall_score(pred_label,test_label))\n",
    "print(f\"Kappa score %s\"%cohen_kappa_score(pred_label,test_label))"
   ]
  },
  {
   "cell_type": "markdown",
   "id": "f047673f",
   "metadata": {},
   "source": [
    "### 15:85"
   ]
  },
  {
   "cell_type": "code",
   "execution_count": 5,
   "id": "74220e40",
   "metadata": {},
   "outputs": [],
   "source": [
    "train_data = pd.read_csv(\"abalone_15285_imb_data.csv\")\n",
    "train_label = pd.read_csv(\"abalone_15285_imb_label.csv\")"
   ]
  },
  {
   "cell_type": "code",
   "execution_count": 6,
   "id": "ac0863ca",
   "metadata": {},
   "outputs": [
    {
     "name": "stdout",
     "output_type": "stream",
     "text": [
      "Accuracy score 0.9054054054054054\n",
      "Precision score 0.36363636363636365\n",
      "Recall score 0.6666666666666666\n",
      "F1 score 0.25\n",
      "Kappa score 0.32375979112271536\n"
     ]
    }
   ],
   "source": [
    "import xgboost as xgb\n",
    "from sklearn.metrics import f1_score,precision_score,recall_score,accuracy_score,cohen_kappa_score\n",
    "from collections import Counter\n",
    "inverse_ratio = Counter(train_label[\"Rings\"])[0]/Counter(train_label[\"Rings\"])[1]\n",
    "xg_reg1 = xgb.XGBClassifier(scale_pos_weight=inverse_ratio)\n",
    "xg_reg1.fit(train_data,np.array(train_label).ravel())\n",
    "pred_label = xg_reg1.predict(test_data)\n",
    "print(f\"Accuracy score %s\"%accuracy_score(pred_label,test_label))\n",
    "print(f\"Precision score %s\"%f1_score(pred_label,test_label))\n",
    "print(f\"Recall score %s\"%precision_score(pred_label,test_label))\n",
    "print(f\"F1 score %s\"%recall_score(pred_label,test_label))\n",
    "print(f\"Kappa score %s\"%cohen_kappa_score(pred_label,test_label))"
   ]
  },
  {
   "cell_type": "markdown",
   "id": "07260871",
   "metadata": {},
   "source": [
    "### 30:70"
   ]
  },
  {
   "cell_type": "code",
   "execution_count": 7,
   "id": "77cd6684",
   "metadata": {},
   "outputs": [],
   "source": [
    "train_data = pd.read_csv(\"abalone_mod_imb_data.csv\")\n",
    "train_label = pd.read_csv(\"abalone_mod_imb_label.csv\")"
   ]
  },
  {
   "cell_type": "code",
   "execution_count": 8,
   "id": "c9b234ca",
   "metadata": {},
   "outputs": [
    {
     "name": "stdout",
     "output_type": "stream",
     "text": [
      "Accuracy score 0.8918918918918919\n",
      "Precision score 0.3333333333333333\n",
      "Recall score 0.6666666666666666\n",
      "F1 score 0.2222222222222222\n",
      "Kappa score 0.290167865707434\n"
     ]
    }
   ],
   "source": [
    "import xgboost as xgb\n",
    "from sklearn.metrics import f1_score,precision_score,recall_score,accuracy_score,cohen_kappa_score\n",
    "from collections import Counter\n",
    "inverse_ratio = Counter(train_label[\"Rings\"])[0]/Counter(train_label[\"Rings\"])[1]\n",
    "xg_reg2 = xgb.XGBClassifier(scale_pos_weight=inverse_ratio)\n",
    "xg_reg2.fit(train_data,np.array(train_label).ravel())\n",
    "pred_label = xg_reg2.predict(test_data)\n",
    "print(f\"Accuracy score %s\"%accuracy_score(pred_label,test_label))\n",
    "print(f\"Precision score %s\"%f1_score(pred_label,test_label))\n",
    "print(f\"Recall score %s\"%precision_score(pred_label,test_label))\n",
    "print(f\"F1 score %s\"%recall_score(pred_label,test_label))\n",
    "print(f\"Kappa score %s\"%cohen_kappa_score(pred_label,test_label))"
   ]
  },
  {
   "cell_type": "markdown",
   "id": "e869d54f",
   "metadata": {},
   "source": [
    "### 50:50"
   ]
  },
  {
   "cell_type": "code",
   "execution_count": 9,
   "id": "8ba7ef1a",
   "metadata": {},
   "outputs": [],
   "source": [
    "train_data = pd.read_csv(\"abalone_no_imb_data.csv\")\n",
    "train_label = pd.read_csv(\"abalone_no_imb_label.csv\")"
   ]
  },
  {
   "cell_type": "code",
   "execution_count": 10,
   "id": "08f92b6b",
   "metadata": {},
   "outputs": [
    {
     "name": "stdout",
     "output_type": "stream",
     "text": [
      "Accuracy score 0.8648648648648649\n",
      "Precision score 0.28571428571428575\n",
      "Recall score 0.6666666666666666\n",
      "F1 score 0.18181818181818182\n",
      "Kappa score 0.23711340206185572\n"
     ]
    }
   ],
   "source": [
    "import xgboost as xgb\n",
    "from sklearn.metrics import f1_score,precision_score,recall_score,accuracy_score,cohen_kappa_score\n",
    "from collections import Counter\n",
    "inverse_ratio = Counter(train_label[\"Rings\"])[0]/Counter(train_label[\"Rings\"])[1]\n",
    "xg_reg3 = xgb.XGBClassifier(scale_pos_weight=inverse_ratio)\n",
    "xg_reg3.fit(train_data,np.array(train_label).ravel())\n",
    "pred_label = xg_reg3.predict(test_data)\n",
    "print(f\"Accuracy score %s\"%accuracy_score(pred_label,test_label))\n",
    "print(f\"Precision score %s\"%f1_score(pred_label,test_label))\n",
    "print(f\"Recall score %s\"%precision_score(pred_label,test_label))\n",
    "print(f\"F1 score %s\"%recall_score(pred_label,test_label))\n",
    "print(f\"Kappa score %s\"%cohen_kappa_score(pred_label,test_label))"
   ]
  }
 ],
 "metadata": {
  "kernelspec": {
   "display_name": "Python 3",
   "language": "python",
   "name": "python3"
  },
  "language_info": {
   "codemirror_mode": {
    "name": "ipython",
    "version": 3
   },
   "file_extension": ".py",
   "mimetype": "text/x-python",
   "name": "python",
   "nbconvert_exporter": "python",
   "pygments_lexer": "ipython3",
   "version": "3.8.8"
  }
 },
 "nbformat": 4,
 "nbformat_minor": 5
}
