{
 "cells": [
  {
   "cell_type": "code",
   "execution_count": 1,
   "id": "5abbbb97",
   "metadata": {},
   "outputs": [],
   "source": [
    "import numpy as np\n",
    "import pandas as pd\n",
    "from imblearn.metrics import geometric_mean_score\n",
    "from sklearn.metrics import roc_auc_score,average_precision_score"
   ]
  },
  {
   "cell_type": "code",
   "execution_count": 2,
   "id": "e964170d",
   "metadata": {},
   "outputs": [],
   "source": [
    "test_data = pd.read_csv(\"vehicle_test_data.csv\")\n",
    "test_label = pd.read_csv(\"vehicle_test_label.csv\")"
   ]
  },
  {
   "cell_type": "code",
   "execution_count": 3,
   "id": "7ea59cc2",
   "metadata": {},
   "outputs": [
    {
     "data": {
      "text/html": [
       "<div>\n",
       "<style scoped>\n",
       "    .dataframe tbody tr th:only-of-type {\n",
       "        vertical-align: middle;\n",
       "    }\n",
       "\n",
       "    .dataframe tbody tr th {\n",
       "        vertical-align: top;\n",
       "    }\n",
       "\n",
       "    .dataframe thead th {\n",
       "        text-align: right;\n",
       "    }\n",
       "</style>\n",
       "<table border=\"1\" class=\"dataframe\">\n",
       "  <thead>\n",
       "    <tr style=\"text-align: right;\">\n",
       "      <th></th>\n",
       "      <th>COMPACTNESS</th>\n",
       "      <th>CIRCULARITY</th>\n",
       "      <th>DISTANCE CIRCULARITY</th>\n",
       "      <th>RADIUS RATIO</th>\n",
       "      <th>PR.AXIS ASPECT RATIO</th>\n",
       "      <th>MAX.LENGTH ASPECT RATIO</th>\n",
       "      <th>SCATTER RATIO</th>\n",
       "      <th>ELONGATEDNESS</th>\n",
       "      <th>PR.AXIS RECTANGULARITY</th>\n",
       "      <th>MAX.LENGTH RECTANGULARITY</th>\n",
       "      <th>SCALED VARIANCE ALONG MAJOR AXIS</th>\n",
       "      <th>SCALED VARIANCE ALONG MINOR AXIS</th>\n",
       "      <th>SCALED RADIUS OF GYRATION</th>\n",
       "      <th>SKEWNESS ABOUT MAJOR AXIS</th>\n",
       "      <th>SKEWNESS ABOUT MINOR AXIS</th>\n",
       "      <th>KURTOSIS ABOUT MINOR AXIS</th>\n",
       "      <th>KURTOSIS ABOUT MAJOR AXIS</th>\n",
       "      <th>HOLLOWS RATIO</th>\n",
       "    </tr>\n",
       "  </thead>\n",
       "  <tbody>\n",
       "    <tr>\n",
       "      <th>0</th>\n",
       "      <td>0.173913</td>\n",
       "      <td>0.461538</td>\n",
       "      <td>0.388889</td>\n",
       "      <td>0.283843</td>\n",
       "      <td>0.285714</td>\n",
       "      <td>0.075472</td>\n",
       "      <td>0.254902</td>\n",
       "      <td>0.514286</td>\n",
       "      <td>0.166667</td>\n",
       "      <td>0.400000</td>\n",
       "      <td>0.226316</td>\n",
       "      <td>0.182254</td>\n",
       "      <td>0.484277</td>\n",
       "      <td>0.210526</td>\n",
       "      <td>0.318182</td>\n",
       "      <td>0.000000</td>\n",
       "      <td>0.233333</td>\n",
       "      <td>0.266667</td>\n",
       "    </tr>\n",
       "    <tr>\n",
       "      <th>1</th>\n",
       "      <td>0.478261</td>\n",
       "      <td>0.192308</td>\n",
       "      <td>0.361111</td>\n",
       "      <td>0.096070</td>\n",
       "      <td>0.054945</td>\n",
       "      <td>0.113208</td>\n",
       "      <td>0.137255</td>\n",
       "      <td>0.742857</td>\n",
       "      <td>0.083333</td>\n",
       "      <td>0.314286</td>\n",
       "      <td>0.147368</td>\n",
       "      <td>0.082734</td>\n",
       "      <td>0.194969</td>\n",
       "      <td>0.250000</td>\n",
       "      <td>0.500000</td>\n",
       "      <td>0.195122</td>\n",
       "      <td>0.266667</td>\n",
       "      <td>0.066667</td>\n",
       "    </tr>\n",
       "    <tr>\n",
       "      <th>2</th>\n",
       "      <td>0.369565</td>\n",
       "      <td>0.346154</td>\n",
       "      <td>0.319444</td>\n",
       "      <td>0.096070</td>\n",
       "      <td>0.087912</td>\n",
       "      <td>0.094340</td>\n",
       "      <td>0.261438</td>\n",
       "      <td>0.542857</td>\n",
       "      <td>0.166667</td>\n",
       "      <td>0.342857</td>\n",
       "      <td>0.226316</td>\n",
       "      <td>0.182254</td>\n",
       "      <td>0.402516</td>\n",
       "      <td>0.289474</td>\n",
       "      <td>0.000000</td>\n",
       "      <td>0.365854</td>\n",
       "      <td>0.133333</td>\n",
       "      <td>0.100000</td>\n",
       "    </tr>\n",
       "    <tr>\n",
       "      <th>3</th>\n",
       "      <td>0.347826</td>\n",
       "      <td>0.346154</td>\n",
       "      <td>0.555556</td>\n",
       "      <td>0.205240</td>\n",
       "      <td>0.164835</td>\n",
       "      <td>0.075472</td>\n",
       "      <td>0.209150</td>\n",
       "      <td>0.571429</td>\n",
       "      <td>0.166667</td>\n",
       "      <td>0.300000</td>\n",
       "      <td>0.189474</td>\n",
       "      <td>0.148681</td>\n",
       "      <td>0.383648</td>\n",
       "      <td>0.197368</td>\n",
       "      <td>0.772727</td>\n",
       "      <td>0.317073</td>\n",
       "      <td>0.300000</td>\n",
       "      <td>0.266667</td>\n",
       "    </tr>\n",
       "    <tr>\n",
       "      <th>4</th>\n",
       "      <td>0.173913</td>\n",
       "      <td>0.500000</td>\n",
       "      <td>0.430556</td>\n",
       "      <td>0.113537</td>\n",
       "      <td>0.098901</td>\n",
       "      <td>0.094340</td>\n",
       "      <td>0.267974</td>\n",
       "      <td>0.514286</td>\n",
       "      <td>0.166667</td>\n",
       "      <td>0.442857</td>\n",
       "      <td>0.221053</td>\n",
       "      <td>0.189448</td>\n",
       "      <td>0.515723</td>\n",
       "      <td>0.289474</td>\n",
       "      <td>0.136364</td>\n",
       "      <td>0.341463</td>\n",
       "      <td>0.133333</td>\n",
       "      <td>0.166667</td>\n",
       "    </tr>\n",
       "  </tbody>\n",
       "</table>\n",
       "</div>"
      ],
      "text/plain": [
       "   COMPACTNESS  CIRCULARITY  DISTANCE CIRCULARITY  RADIUS RATIO  \\\n",
       "0     0.173913     0.461538              0.388889      0.283843   \n",
       "1     0.478261     0.192308              0.361111      0.096070   \n",
       "2     0.369565     0.346154              0.319444      0.096070   \n",
       "3     0.347826     0.346154              0.555556      0.205240   \n",
       "4     0.173913     0.500000              0.430556      0.113537   \n",
       "\n",
       "   PR.AXIS ASPECT RATIO  MAX.LENGTH ASPECT RATIO  SCATTER RATIO  \\\n",
       "0              0.285714                 0.075472       0.254902   \n",
       "1              0.054945                 0.113208       0.137255   \n",
       "2              0.087912                 0.094340       0.261438   \n",
       "3              0.164835                 0.075472       0.209150   \n",
       "4              0.098901                 0.094340       0.267974   \n",
       "\n",
       "   ELONGATEDNESS  PR.AXIS RECTANGULARITY  MAX.LENGTH RECTANGULARITY  \\\n",
       "0       0.514286                0.166667                   0.400000   \n",
       "1       0.742857                0.083333                   0.314286   \n",
       "2       0.542857                0.166667                   0.342857   \n",
       "3       0.571429                0.166667                   0.300000   \n",
       "4       0.514286                0.166667                   0.442857   \n",
       "\n",
       "   SCALED VARIANCE ALONG MAJOR AXIS  SCALED VARIANCE ALONG MINOR AXIS  \\\n",
       "0                          0.226316                          0.182254   \n",
       "1                          0.147368                          0.082734   \n",
       "2                          0.226316                          0.182254   \n",
       "3                          0.189474                          0.148681   \n",
       "4                          0.221053                          0.189448   \n",
       "\n",
       "   SCALED RADIUS OF GYRATION  SKEWNESS ABOUT MAJOR AXIS  \\\n",
       "0                   0.484277                   0.210526   \n",
       "1                   0.194969                   0.250000   \n",
       "2                   0.402516                   0.289474   \n",
       "3                   0.383648                   0.197368   \n",
       "4                   0.515723                   0.289474   \n",
       "\n",
       "   SKEWNESS ABOUT MINOR AXIS  KURTOSIS ABOUT MINOR AXIS  \\\n",
       "0                   0.318182                   0.000000   \n",
       "1                   0.500000                   0.195122   \n",
       "2                   0.000000                   0.365854   \n",
       "3                   0.772727                   0.317073   \n",
       "4                   0.136364                   0.341463   \n",
       "\n",
       "   KURTOSIS ABOUT MAJOR AXIS  HOLLOWS RATIO  \n",
       "0                   0.233333       0.266667  \n",
       "1                   0.266667       0.066667  \n",
       "2                   0.133333       0.100000  \n",
       "3                   0.300000       0.266667  \n",
       "4                   0.133333       0.166667  "
      ]
     },
     "execution_count": 3,
     "metadata": {},
     "output_type": "execute_result"
    }
   ],
   "source": [
    "test_data.head()"
   ]
  },
  {
   "cell_type": "markdown",
   "id": "0fd3038a",
   "metadata": {},
   "source": [
    "### 05:95"
   ]
  },
  {
   "cell_type": "code",
   "execution_count": 4,
   "id": "0e12dc5e",
   "metadata": {},
   "outputs": [],
   "source": [
    "train_data = pd.read_csv(\"vehicle_ext_imb_data.csv\")\n",
    "train_label = pd.read_csv(\"vehicle_ext_imb_label.csv\")"
   ]
  },
  {
   "cell_type": "code",
   "execution_count": 5,
   "id": "ec30fd15",
   "metadata": {},
   "outputs": [
    {
     "name": "stdout",
     "output_type": "stream",
     "text": [
      "Accuracy score 0.8818897637795275\n",
      "Precision score 0.6938775510204082\n",
      "Recall score 0.5483870967741935\n",
      "F1 score 0.9444444444444444\n",
      "Kappa score 0.6269825729391032\n",
      "Gmean weighted score 0.9072704411667354\n",
      "Roc auc score 0.9080020387359837\n",
      "Precision -Recall score 0.5257951627014364\n"
     ]
    },
    {
     "name": "stderr",
     "output_type": "stream",
     "text": [
      "/Applications/Utilities/anaconda3/lib/python3.8/site-packages/sklearn/preprocessing/_label.py:133: DataConversionWarning: A column-vector y was passed when a 1d array was expected. Please change the shape of y to (n_samples, ), for example using ravel().\n",
      "  y = column_or_1d(y, warn=True)\n"
     ]
    }
   ],
   "source": [
    "from sklearn.metrics import f1_score,precision_score,recall_score,accuracy_score,cohen_kappa_score\n",
    "from sklearn import tree\n",
    "from sklearn.tree import DecisionTreeClassifier\n",
    "\n",
    "dtree = DecisionTreeClassifier(random_state =42)\n",
    "dtree_model=dtree.fit(train_data,np.array(train_label).ravel())\n",
    "pred_label=dtree_model.predict(test_data)\n",
    "print(f\"Accuracy score %s\"%accuracy_score(pred_label,test_label))\n",
    "print(f\"Precision score %s\"%f1_score(pred_label,test_label))\n",
    "print(f\"Recall score %s\"%precision_score(pred_label,test_label))\n",
    "print(f\"F1 score %s\"%recall_score(pred_label,test_label))\n",
    "print(f\"Kappa score %s\"%cohen_kappa_score(pred_label,test_label))\n",
    "print(f\"Gmean weighted score %s\"%geometric_mean_score(pred_label, test_label))\n",
    "print(f\"Roc auc score %s\"%roc_auc_score(pred_label,test_label))\n",
    "print(f\"Precision -Recall score %s\"%average_precision_score(pred_label,test_label))"
   ]
  },
  {
   "cell_type": "markdown",
   "id": "786787aa",
   "metadata": {},
   "source": [
    "### 15:85"
   ]
  },
  {
   "cell_type": "code",
   "execution_count": 6,
   "id": "4664880b",
   "metadata": {},
   "outputs": [],
   "source": [
    "train_data = pd.read_csv(\"vehicle_15285_imb_data.csv\")\n",
    "train_label = pd.read_csv(\"vehicle_15285_imb_label.csv\")"
   ]
  },
  {
   "cell_type": "code",
   "execution_count": 7,
   "id": "57d7e6d0",
   "metadata": {},
   "outputs": [
    {
     "name": "stdout",
     "output_type": "stream",
     "text": [
      "Accuracy score 0.937007874015748\n",
      "Precision score 0.8666666666666666\n",
      "Recall score 0.8387096774193549\n",
      "F1 score 0.896551724137931\n",
      "Kappa score 0.8254895225008588\n",
      "Gmean weighted score 0.9223932400191008\n",
      "Roc auc score 0.9227656579873329\n",
      "Precision -Recall score 0.775568654585585\n"
     ]
    },
    {
     "name": "stderr",
     "output_type": "stream",
     "text": [
      "/Applications/Utilities/anaconda3/lib/python3.8/site-packages/sklearn/preprocessing/_label.py:133: DataConversionWarning: A column-vector y was passed when a 1d array was expected. Please change the shape of y to (n_samples, ), for example using ravel().\n",
      "  y = column_or_1d(y, warn=True)\n"
     ]
    }
   ],
   "source": [
    "from sklearn.metrics import f1_score,precision_score,recall_score,accuracy_score,cohen_kappa_score\n",
    "from sklearn import tree\n",
    "from sklearn.tree import DecisionTreeClassifier\n",
    "\n",
    "dtree1 = DecisionTreeClassifier(random_state =42)\n",
    "dtree_model1=dtree1.fit(train_data,np.array(train_label).ravel())\n",
    "pred_label=dtree_model1.predict(test_data)\n",
    "print(f\"Accuracy score %s\"%accuracy_score(pred_label,test_label))\n",
    "print(f\"Precision score %s\"%f1_score(pred_label,test_label))\n",
    "print(f\"Recall score %s\"%precision_score(pred_label,test_label))\n",
    "print(f\"F1 score %s\"%recall_score(pred_label,test_label))\n",
    "print(f\"Kappa score %s\"%cohen_kappa_score(pred_label,test_label))\n",
    "print(f\"Gmean weighted score %s\"%geometric_mean_score(pred_label, test_label))\n",
    "print(f\"Roc auc score %s\"%roc_auc_score(pred_label,test_label))\n",
    "print(f\"Precision -Recall score %s\"%average_precision_score(pred_label,test_label))"
   ]
  },
  {
   "cell_type": "markdown",
   "id": "3102aa36",
   "metadata": {},
   "source": [
    "## 30:70"
   ]
  },
  {
   "cell_type": "code",
   "execution_count": 8,
   "id": "668930cc",
   "metadata": {},
   "outputs": [],
   "source": [
    "train_data = pd.read_csv(\"vehicle_mod_imb_data.csv\")\n",
    "train_label = pd.read_csv(\"vehicle_mod_imb_label.csv\")"
   ]
  },
  {
   "cell_type": "code",
   "execution_count": 9,
   "id": "3268aa4f",
   "metadata": {},
   "outputs": [
    {
     "name": "stdout",
     "output_type": "stream",
     "text": [
      "Accuracy score 0.9606299212598425\n",
      "Precision score 0.9206349206349206\n",
      "Recall score 0.9354838709677419\n",
      "F1 score 0.90625\n",
      "Kappa score 0.8944656805717135\n",
      "Gmean weighted score 0.9418975807547119\n",
      "Roc auc score 0.9425986842105263\n",
      "Precision -Recall score 0.8714043053086106\n"
     ]
    },
    {
     "name": "stderr",
     "output_type": "stream",
     "text": [
      "/Applications/Utilities/anaconda3/lib/python3.8/site-packages/sklearn/preprocessing/_label.py:133: DataConversionWarning: A column-vector y was passed when a 1d array was expected. Please change the shape of y to (n_samples, ), for example using ravel().\n",
      "  y = column_or_1d(y, warn=True)\n"
     ]
    }
   ],
   "source": [
    "from sklearn.metrics import f1_score,precision_score,recall_score,accuracy_score,cohen_kappa_score\n",
    "from sklearn import tree\n",
    "from sklearn.tree import DecisionTreeClassifier\n",
    "\n",
    "dtree2= DecisionTreeClassifier(random_state =42)\n",
    "dtree_model2=dtree2.fit(train_data,np.array(train_label).ravel())\n",
    "pred_label=dtree_model2.predict(test_data)\n",
    "print(f\"Accuracy score %s\"%accuracy_score(pred_label,test_label))\n",
    "print(f\"Precision score %s\"%f1_score(pred_label,test_label))\n",
    "print(f\"Recall score %s\"%precision_score(pred_label,test_label))\n",
    "print(f\"F1 score %s\"%recall_score(pred_label,test_label))\n",
    "print(f\"Kappa score %s\"%cohen_kappa_score(pred_label,test_label))\n",
    "print(f\"Gmean weighted score %s\"%geometric_mean_score(pred_label, test_label))\n",
    "print(f\"Roc auc score %s\"%roc_auc_score(pred_label,test_label))\n",
    "print(f\"Precision -Recall score %s\"%average_precision_score(pred_label,test_label))"
   ]
  },
  {
   "cell_type": "markdown",
   "id": "1c26425d",
   "metadata": {},
   "source": [
    "## 50:50"
   ]
  },
  {
   "cell_type": "code",
   "execution_count": 10,
   "id": "be5f649b",
   "metadata": {},
   "outputs": [],
   "source": [
    "train_data = pd.read_csv(\"vehicle_no_imb_data.csv\")\n",
    "train_label = pd.read_csv(\"vehicle_no_imb_label.csv\")"
   ]
  },
  {
   "cell_type": "code",
   "execution_count": 11,
   "id": "725d6a00",
   "metadata": {},
   "outputs": [
    {
     "name": "stdout",
     "output_type": "stream",
     "text": [
      "Accuracy score 0.9448818897637795\n",
      "Precision score 0.8888888888888888\n",
      "Recall score 0.9032258064516129\n",
      "F1 score 0.875\n",
      "Kappa score 0.8522519528003989\n",
      "Gmean weighted score 0.9205261653275433\n",
      "Roc auc score 0.9217105263157895\n",
      "Precision -Recall score 0.8218186436372872\n"
     ]
    },
    {
     "name": "stderr",
     "output_type": "stream",
     "text": [
      "/Applications/Utilities/anaconda3/lib/python3.8/site-packages/sklearn/preprocessing/_label.py:133: DataConversionWarning: A column-vector y was passed when a 1d array was expected. Please change the shape of y to (n_samples, ), for example using ravel().\n",
      "  y = column_or_1d(y, warn=True)\n"
     ]
    }
   ],
   "source": [
    "from sklearn.metrics import f1_score,precision_score,recall_score,accuracy_score,cohen_kappa_score\n",
    "from sklearn import tree\n",
    "from sklearn.tree import DecisionTreeClassifier\n",
    "\n",
    "dtree3 = DecisionTreeClassifier(random_state =42)\n",
    "dtree_model3=dtree3.fit(train_data,np.array(train_label).ravel())\n",
    "pred_label=dtree_model3.predict(test_data)\n",
    "print(f\"Accuracy score %s\"%accuracy_score(pred_label,test_label))\n",
    "print(f\"Precision score %s\"%f1_score(pred_label,test_label))\n",
    "print(f\"Recall score %s\"%precision_score(pred_label,test_label))\n",
    "print(f\"F1 score %s\"%recall_score(pred_label,test_label))\n",
    "print(f\"Kappa score %s\"%cohen_kappa_score(pred_label,test_label))\n",
    "print(f\"Gmean weighted score %s\"%geometric_mean_score(pred_label, test_label))\n",
    "print(f\"Roc auc score %s\"%roc_auc_score(pred_label,test_label))\n",
    "print(f\"Precision -Recall score %s\"%average_precision_score(pred_label,test_label))"
   ]
  }
 ],
 "metadata": {
  "kernelspec": {
   "display_name": "Python 3",
   "language": "python",
   "name": "python3"
  },
  "language_info": {
   "codemirror_mode": {
    "name": "ipython",
    "version": 3
   },
   "file_extension": ".py",
   "mimetype": "text/x-python",
   "name": "python",
   "nbconvert_exporter": "python",
   "pygments_lexer": "ipython3",
   "version": "3.8.8"
  }
 },
 "nbformat": 4,
 "nbformat_minor": 5
}
