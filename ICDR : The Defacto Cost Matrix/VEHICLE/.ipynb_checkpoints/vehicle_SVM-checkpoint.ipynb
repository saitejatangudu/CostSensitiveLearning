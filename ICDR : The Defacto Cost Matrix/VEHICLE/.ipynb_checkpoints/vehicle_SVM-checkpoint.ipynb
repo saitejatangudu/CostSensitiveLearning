{
 "cells": [
  {
   "cell_type": "code",
   "execution_count": 1,
   "id": "8c5757de",
   "metadata": {},
   "outputs": [],
   "source": [
    "import numpy as np\n",
    "import pandas as pd\n",
    "from imblearn.metrics import geometric_mean_score\n",
    "from sklearn.metrics import roc_auc_score"
   ]
  },
  {
   "cell_type": "code",
   "execution_count": 2,
   "id": "54bf52a9",
   "metadata": {},
   "outputs": [],
   "source": [
    "test_data = pd.read_csv(\"vehicle_test_data.csv\")\n",
    "test_label = pd.read_csv(\"vehicle_test_label.csv\")"
   ]
  },
  {
   "cell_type": "code",
   "execution_count": 3,
   "id": "87e8ab5e",
   "metadata": {},
   "outputs": [
    {
     "data": {
      "text/html": [
       "<div>\n",
       "<style scoped>\n",
       "    .dataframe tbody tr th:only-of-type {\n",
       "        vertical-align: middle;\n",
       "    }\n",
       "\n",
       "    .dataframe tbody tr th {\n",
       "        vertical-align: top;\n",
       "    }\n",
       "\n",
       "    .dataframe thead th {\n",
       "        text-align: right;\n",
       "    }\n",
       "</style>\n",
       "<table border=\"1\" class=\"dataframe\">\n",
       "  <thead>\n",
       "    <tr style=\"text-align: right;\">\n",
       "      <th></th>\n",
       "      <th>COMPACTNESS</th>\n",
       "      <th>CIRCULARITY</th>\n",
       "      <th>DISTANCE CIRCULARITY</th>\n",
       "      <th>RADIUS RATIO</th>\n",
       "      <th>PR.AXIS ASPECT RATIO</th>\n",
       "      <th>MAX.LENGTH ASPECT RATIO</th>\n",
       "      <th>SCATTER RATIO</th>\n",
       "      <th>ELONGATEDNESS</th>\n",
       "      <th>PR.AXIS RECTANGULARITY</th>\n",
       "      <th>MAX.LENGTH RECTANGULARITY</th>\n",
       "      <th>SCALED VARIANCE ALONG MAJOR AXIS</th>\n",
       "      <th>SCALED VARIANCE ALONG MINOR AXIS</th>\n",
       "      <th>SCALED RADIUS OF GYRATION</th>\n",
       "      <th>SKEWNESS ABOUT MAJOR AXIS</th>\n",
       "      <th>SKEWNESS ABOUT MINOR AXIS</th>\n",
       "      <th>KURTOSIS ABOUT MINOR AXIS</th>\n",
       "      <th>KURTOSIS ABOUT MAJOR AXIS</th>\n",
       "      <th>HOLLOWS RATIO</th>\n",
       "    </tr>\n",
       "  </thead>\n",
       "  <tbody>\n",
       "    <tr>\n",
       "      <th>0</th>\n",
       "      <td>0.173913</td>\n",
       "      <td>0.461538</td>\n",
       "      <td>0.388889</td>\n",
       "      <td>0.283843</td>\n",
       "      <td>0.285714</td>\n",
       "      <td>0.075472</td>\n",
       "      <td>0.254902</td>\n",
       "      <td>0.514286</td>\n",
       "      <td>0.166667</td>\n",
       "      <td>0.400000</td>\n",
       "      <td>0.226316</td>\n",
       "      <td>0.182254</td>\n",
       "      <td>0.484277</td>\n",
       "      <td>0.210526</td>\n",
       "      <td>0.318182</td>\n",
       "      <td>0.000000</td>\n",
       "      <td>0.233333</td>\n",
       "      <td>0.266667</td>\n",
       "    </tr>\n",
       "    <tr>\n",
       "      <th>1</th>\n",
       "      <td>0.478261</td>\n",
       "      <td>0.192308</td>\n",
       "      <td>0.361111</td>\n",
       "      <td>0.096070</td>\n",
       "      <td>0.054945</td>\n",
       "      <td>0.113208</td>\n",
       "      <td>0.137255</td>\n",
       "      <td>0.742857</td>\n",
       "      <td>0.083333</td>\n",
       "      <td>0.314286</td>\n",
       "      <td>0.147368</td>\n",
       "      <td>0.082734</td>\n",
       "      <td>0.194969</td>\n",
       "      <td>0.250000</td>\n",
       "      <td>0.500000</td>\n",
       "      <td>0.195122</td>\n",
       "      <td>0.266667</td>\n",
       "      <td>0.066667</td>\n",
       "    </tr>\n",
       "    <tr>\n",
       "      <th>2</th>\n",
       "      <td>0.369565</td>\n",
       "      <td>0.346154</td>\n",
       "      <td>0.319444</td>\n",
       "      <td>0.096070</td>\n",
       "      <td>0.087912</td>\n",
       "      <td>0.094340</td>\n",
       "      <td>0.261438</td>\n",
       "      <td>0.542857</td>\n",
       "      <td>0.166667</td>\n",
       "      <td>0.342857</td>\n",
       "      <td>0.226316</td>\n",
       "      <td>0.182254</td>\n",
       "      <td>0.402516</td>\n",
       "      <td>0.289474</td>\n",
       "      <td>0.000000</td>\n",
       "      <td>0.365854</td>\n",
       "      <td>0.133333</td>\n",
       "      <td>0.100000</td>\n",
       "    </tr>\n",
       "    <tr>\n",
       "      <th>3</th>\n",
       "      <td>0.347826</td>\n",
       "      <td>0.346154</td>\n",
       "      <td>0.555556</td>\n",
       "      <td>0.205240</td>\n",
       "      <td>0.164835</td>\n",
       "      <td>0.075472</td>\n",
       "      <td>0.209150</td>\n",
       "      <td>0.571429</td>\n",
       "      <td>0.166667</td>\n",
       "      <td>0.300000</td>\n",
       "      <td>0.189474</td>\n",
       "      <td>0.148681</td>\n",
       "      <td>0.383648</td>\n",
       "      <td>0.197368</td>\n",
       "      <td>0.772727</td>\n",
       "      <td>0.317073</td>\n",
       "      <td>0.300000</td>\n",
       "      <td>0.266667</td>\n",
       "    </tr>\n",
       "    <tr>\n",
       "      <th>4</th>\n",
       "      <td>0.173913</td>\n",
       "      <td>0.500000</td>\n",
       "      <td>0.430556</td>\n",
       "      <td>0.113537</td>\n",
       "      <td>0.098901</td>\n",
       "      <td>0.094340</td>\n",
       "      <td>0.267974</td>\n",
       "      <td>0.514286</td>\n",
       "      <td>0.166667</td>\n",
       "      <td>0.442857</td>\n",
       "      <td>0.221053</td>\n",
       "      <td>0.189448</td>\n",
       "      <td>0.515723</td>\n",
       "      <td>0.289474</td>\n",
       "      <td>0.136364</td>\n",
       "      <td>0.341463</td>\n",
       "      <td>0.133333</td>\n",
       "      <td>0.166667</td>\n",
       "    </tr>\n",
       "  </tbody>\n",
       "</table>\n",
       "</div>"
      ],
      "text/plain": [
       "   COMPACTNESS  CIRCULARITY  DISTANCE CIRCULARITY  RADIUS RATIO  \\\n",
       "0     0.173913     0.461538              0.388889      0.283843   \n",
       "1     0.478261     0.192308              0.361111      0.096070   \n",
       "2     0.369565     0.346154              0.319444      0.096070   \n",
       "3     0.347826     0.346154              0.555556      0.205240   \n",
       "4     0.173913     0.500000              0.430556      0.113537   \n",
       "\n",
       "   PR.AXIS ASPECT RATIO  MAX.LENGTH ASPECT RATIO  SCATTER RATIO  \\\n",
       "0              0.285714                 0.075472       0.254902   \n",
       "1              0.054945                 0.113208       0.137255   \n",
       "2              0.087912                 0.094340       0.261438   \n",
       "3              0.164835                 0.075472       0.209150   \n",
       "4              0.098901                 0.094340       0.267974   \n",
       "\n",
       "   ELONGATEDNESS  PR.AXIS RECTANGULARITY  MAX.LENGTH RECTANGULARITY  \\\n",
       "0       0.514286                0.166667                   0.400000   \n",
       "1       0.742857                0.083333                   0.314286   \n",
       "2       0.542857                0.166667                   0.342857   \n",
       "3       0.571429                0.166667                   0.300000   \n",
       "4       0.514286                0.166667                   0.442857   \n",
       "\n",
       "   SCALED VARIANCE ALONG MAJOR AXIS  SCALED VARIANCE ALONG MINOR AXIS  \\\n",
       "0                          0.226316                          0.182254   \n",
       "1                          0.147368                          0.082734   \n",
       "2                          0.226316                          0.182254   \n",
       "3                          0.189474                          0.148681   \n",
       "4                          0.221053                          0.189448   \n",
       "\n",
       "   SCALED RADIUS OF GYRATION  SKEWNESS ABOUT MAJOR AXIS  \\\n",
       "0                   0.484277                   0.210526   \n",
       "1                   0.194969                   0.250000   \n",
       "2                   0.402516                   0.289474   \n",
       "3                   0.383648                   0.197368   \n",
       "4                   0.515723                   0.289474   \n",
       "\n",
       "   SKEWNESS ABOUT MINOR AXIS  KURTOSIS ABOUT MINOR AXIS  \\\n",
       "0                   0.318182                   0.000000   \n",
       "1                   0.500000                   0.195122   \n",
       "2                   0.000000                   0.365854   \n",
       "3                   0.772727                   0.317073   \n",
       "4                   0.136364                   0.341463   \n",
       "\n",
       "   KURTOSIS ABOUT MAJOR AXIS  HOLLOWS RATIO  \n",
       "0                   0.233333       0.266667  \n",
       "1                   0.266667       0.066667  \n",
       "2                   0.133333       0.100000  \n",
       "3                   0.300000       0.266667  \n",
       "4                   0.133333       0.166667  "
      ]
     },
     "execution_count": 3,
     "metadata": {},
     "output_type": "execute_result"
    }
   ],
   "source": [
    "test_data.head()"
   ]
  },
  {
   "cell_type": "markdown",
   "id": "5f496a1a",
   "metadata": {},
   "source": [
    "### 05:95"
   ]
  },
  {
   "cell_type": "code",
   "execution_count": 4,
   "id": "e40e6bf8",
   "metadata": {},
   "outputs": [],
   "source": [
    "train_data = pd.read_csv(\"vehicle_ext_imb_data.csv\")\n",
    "train_label = pd.read_csv(\"vehicle_ext_imb_label.csv\")"
   ]
  },
  {
   "cell_type": "code",
   "execution_count": 5,
   "id": "0f2bddaf",
   "metadata": {},
   "outputs": [
    {
     "name": "stdout",
     "output_type": "stream",
     "text": [
      "Accuracy score 0.9411764705882353\n",
      "Precision score 0.8936170212765958\n",
      "Recall score 0.9545454545454546\n",
      "F1 score 0.84\n",
      "Kappa score 0.8531951640759932\n",
      "Gmean weighted score 0.908845421400141\n",
      "Roc auc score 0.9116666666666665\n"
     ]
    },
    {
     "name": "stderr",
     "output_type": "stream",
     "text": [
      "/Applications/Utilities/anaconda3/lib/python3.8/site-packages/sklearn/preprocessing/_label.py:133: DataConversionWarning: A column-vector y was passed when a 1d array was expected. Please change the shape of y to (n_samples, ), for example using ravel().\n",
      "  y = column_or_1d(y, warn=True)\n"
     ]
    }
   ],
   "source": [
    "from sklearn import svm\n",
    "from sklearn.metrics import f1_score,precision_score,recall_score,accuracy_score,cohen_kappa_score\n",
    "svm_imb=svm.SVC(random_state=42,class_weight='balanced')\n",
    "svm_imb_model=svm_imb.fit(train_data,np.array(train_label).ravel())\n",
    "pred_label=svm_imb_model.predict(test_data)\n",
    "print(f\"Accuracy score %s\"%accuracy_score(pred_label,test_label))\n",
    "print(f\"Precision score %s\"%f1_score(pred_label,test_label))\n",
    "print(f\"Recall score %s\"%precision_score(pred_label,test_label))\n",
    "print(f\"F1 score %s\"%recall_score(pred_label,test_label))\n",
    "print(f\"Kappa score %s\"%cohen_kappa_score(pred_label,test_label))\n",
    "print(f\"Gmean weighted score %s\"%geometric_mean_score(pred_label, test_label))\n",
    "print(f\"Roc auc score %s\"%roc_auc_score(pred_label,test_label))"
   ]
  },
  {
   "cell_type": "markdown",
   "id": "72d7ec46",
   "metadata": {},
   "source": [
    "### 15:85"
   ]
  },
  {
   "cell_type": "code",
   "execution_count": 6,
   "id": "f3927893",
   "metadata": {},
   "outputs": [],
   "source": [
    "train_data = pd.read_csv(\"vehicle_15285_imb_data.csv\")\n",
    "train_label = pd.read_csv(\"vehicle_15285_imb_label.csv\")"
   ]
  },
  {
   "cell_type": "code",
   "execution_count": 7,
   "id": "c168eab3",
   "metadata": {},
   "outputs": [
    {
     "name": "stdout",
     "output_type": "stream",
     "text": [
      "Accuracy score 0.9764705882352941\n",
      "Precision score 0.9565217391304348\n",
      "Recall score 1.0\n",
      "F1 score 0.9166666666666666\n",
      "Kappa score 0.9404344779257183\n",
      "Gmean weighted score 0.9574271077563381\n",
      "Roc auc score 0.9583333333333333\n"
     ]
    },
    {
     "name": "stderr",
     "output_type": "stream",
     "text": [
      "/Applications/Utilities/anaconda3/lib/python3.8/site-packages/sklearn/preprocessing/_label.py:133: DataConversionWarning: A column-vector y was passed when a 1d array was expected. Please change the shape of y to (n_samples, ), for example using ravel().\n",
      "  y = column_or_1d(y, warn=True)\n"
     ]
    }
   ],
   "source": [
    "from sklearn import svm\n",
    "from sklearn.metrics import f1_score,precision_score,recall_score,accuracy_score,cohen_kappa_score\n",
    "svm_imb1=svm.SVC(random_state=42,class_weight='balanced')\n",
    "svm_imb_model1=svm_imb1.fit(train_data,np.array(train_label).ravel())\n",
    "pred_label=svm_imb_model1.predict(test_data)\n",
    "print(f\"Accuracy score %s\"%accuracy_score(pred_label,test_label))\n",
    "print(f\"Precision score %s\"%f1_score(pred_label,test_label))\n",
    "print(f\"Recall score %s\"%precision_score(pred_label,test_label))\n",
    "print(f\"F1 score %s\"%recall_score(pred_label,test_label))\n",
    "print(f\"Kappa score %s\"%cohen_kappa_score(pred_label,test_label))\n",
    "print(f\"Gmean weighted score %s\"%geometric_mean_score(pred_label, test_label))\n",
    "print(f\"Roc auc score %s\"%roc_auc_score(pred_label,test_label))"
   ]
  },
  {
   "cell_type": "markdown",
   "id": "6944b732",
   "metadata": {},
   "source": [
    "### 30:50"
   ]
  },
  {
   "cell_type": "code",
   "execution_count": 8,
   "id": "77cd6684",
   "metadata": {},
   "outputs": [],
   "source": [
    "train_data = pd.read_csv(\"vehicle_mod_imb_data.csv\")\n",
    "train_label = pd.read_csv(\"vehicle_mod_imb_label.csv\")"
   ]
  },
  {
   "cell_type": "code",
   "execution_count": 9,
   "id": "c9b234ca",
   "metadata": {},
   "outputs": [
    {
     "name": "stdout",
     "output_type": "stream",
     "text": [
      "Accuracy score 0.9411764705882353\n",
      "Precision score 0.8979591836734693\n",
      "Recall score 1.0\n",
      "F1 score 0.8148148148148148\n",
      "Kappa score 0.8572388310379577\n",
      "Gmean weighted score 0.90267093384844\n",
      "Roc auc score 0.9074074074074074\n"
     ]
    },
    {
     "name": "stderr",
     "output_type": "stream",
     "text": [
      "/Applications/Utilities/anaconda3/lib/python3.8/site-packages/sklearn/preprocessing/_label.py:133: DataConversionWarning: A column-vector y was passed when a 1d array was expected. Please change the shape of y to (n_samples, ), for example using ravel().\n",
      "  y = column_or_1d(y, warn=True)\n"
     ]
    }
   ],
   "source": [
    "from sklearn import svm\n",
    "from sklearn.metrics import f1_score,precision_score,recall_score,accuracy_score,cohen_kappa_score\n",
    "svm_imb2=svm.SVC(random_state=42,class_weight='balanced')\n",
    "svm_imb_model2=svm_imb2.fit(train_data,np.array(train_label).ravel())\n",
    "pred_label=svm_imb_model2.predict(test_data)\n",
    "print(f\"Accuracy score %s\"%accuracy_score(pred_label,test_label))\n",
    "print(f\"Precision score %s\"%f1_score(pred_label,test_label))\n",
    "print(f\"Recall score %s\"%precision_score(pred_label,test_label))\n",
    "print(f\"F1 score %s\"%recall_score(pred_label,test_label))\n",
    "print(f\"Kappa score %s\"%cohen_kappa_score(pred_label,test_label))\n",
    "print(f\"Gmean weighted score %s\"%geometric_mean_score(pred_label, test_label))\n",
    "print(f\"Roc auc score %s\"%roc_auc_score(pred_label,test_label))"
   ]
  },
  {
   "cell_type": "markdown",
   "id": "e869d54f",
   "metadata": {},
   "source": [
    "### 50:50"
   ]
  },
  {
   "cell_type": "code",
   "execution_count": 10,
   "id": "8ba7ef1a",
   "metadata": {},
   "outputs": [],
   "source": [
    "train_data = pd.read_csv(\"vehicle_no_imb_data.csv\")\n",
    "train_label = pd.read_csv(\"vehicle_no_imb_label.csv\")"
   ]
  },
  {
   "cell_type": "code",
   "execution_count": 11,
   "id": "08f92b6b",
   "metadata": {},
   "outputs": [
    {
     "name": "stdout",
     "output_type": "stream",
     "text": [
      "Accuracy score 0.9647058823529412\n",
      "Precision score 0.9361702127659575\n",
      "Recall score 1.0\n",
      "F1 score 0.88\n",
      "Kappa score 0.9119170984455959\n",
      "Gmean weighted score 0.938083151964686\n",
      "Roc auc score 0.94\n"
     ]
    },
    {
     "name": "stderr",
     "output_type": "stream",
     "text": [
      "/Applications/Utilities/anaconda3/lib/python3.8/site-packages/sklearn/preprocessing/_label.py:133: DataConversionWarning: A column-vector y was passed when a 1d array was expected. Please change the shape of y to (n_samples, ), for example using ravel().\n",
      "  y = column_or_1d(y, warn=True)\n"
     ]
    }
   ],
   "source": [
    "from sklearn import svm\n",
    "from sklearn.metrics import f1_score,precision_score,recall_score,accuracy_score,cohen_kappa_score\n",
    "svm_imb3=svm.SVC(random_state=42,class_weight='balanced')\n",
    "svm_imb_model3=svm_imb3.fit(train_data,np.array(train_label).ravel())\n",
    "pred_label=svm_imb_model3.predict(test_data)\n",
    "print(f\"Accuracy score %s\"%accuracy_score(pred_label,test_label))\n",
    "print(f\"Precision score %s\"%f1_score(pred_label,test_label))\n",
    "print(f\"Recall score %s\"%precision_score(pred_label,test_label))\n",
    "print(f\"F1 score %s\"%recall_score(pred_label,test_label))\n",
    "print(f\"Kappa score %s\"%cohen_kappa_score(pred_label,test_label))\n",
    "print(f\"Gmean weighted score %s\"%geometric_mean_score(pred_label, test_label))\n",
    "print(f\"Roc auc score %s\"%roc_auc_score(pred_label,test_label))"
   ]
  }
 ],
 "metadata": {
  "kernelspec": {
   "display_name": "Python 3",
   "language": "python",
   "name": "python3"
  },
  "language_info": {
   "codemirror_mode": {
    "name": "ipython",
    "version": 3
   },
   "file_extension": ".py",
   "mimetype": "text/x-python",
   "name": "python",
   "nbconvert_exporter": "python",
   "pygments_lexer": "ipython3",
   "version": "3.8.8"
  }
 },
 "nbformat": 4,
 "nbformat_minor": 5
}
