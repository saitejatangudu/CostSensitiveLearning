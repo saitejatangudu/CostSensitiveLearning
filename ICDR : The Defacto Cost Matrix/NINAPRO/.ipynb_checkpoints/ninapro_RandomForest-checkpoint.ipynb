{
 "cells": [
  {
   "cell_type": "code",
   "execution_count": 1,
   "id": "8c5757de",
   "metadata": {},
   "outputs": [],
   "source": [
    "import numpy as np\n",
    "import pandas as pd\n",
    "from imblearn.metrics import geometric_mean_score\n",
    "from sklearn.metrics import roc_auc_score,average_precision_score\n"
   ]
  },
  {
   "cell_type": "code",
   "execution_count": 2,
   "id": "54bf52a9",
   "metadata": {},
   "outputs": [],
   "source": [
    "test_data = pd.read_csv(\"ecg_test_data.csv\")\n",
    "test_label = pd.read_csv(\"ecg_test_label.csv\")"
   ]
  },
  {
   "cell_type": "code",
   "execution_count": 3,
   "id": "87e8ab5e",
   "metadata": {},
   "outputs": [
    {
     "data": {
      "text/html": [
       "<div>\n",
       "<style scoped>\n",
       "    .dataframe tbody tr th:only-of-type {\n",
       "        vertical-align: middle;\n",
       "    }\n",
       "\n",
       "    .dataframe tbody tr th {\n",
       "        vertical-align: top;\n",
       "    }\n",
       "\n",
       "    .dataframe thead th {\n",
       "        text-align: right;\n",
       "    }\n",
       "</style>\n",
       "<table border=\"1\" class=\"dataframe\">\n",
       "  <thead>\n",
       "    <tr style=\"text-align: right;\">\n",
       "      <th></th>\n",
       "      <th>0</th>\n",
       "      <th>1</th>\n",
       "      <th>2</th>\n",
       "      <th>3</th>\n",
       "      <th>4</th>\n",
       "      <th>5</th>\n",
       "      <th>6</th>\n",
       "      <th>7</th>\n",
       "      <th>8</th>\n",
       "      <th>9</th>\n",
       "      <th>...</th>\n",
       "      <th>130</th>\n",
       "      <th>131</th>\n",
       "      <th>132</th>\n",
       "      <th>133</th>\n",
       "      <th>134</th>\n",
       "      <th>135</th>\n",
       "      <th>136</th>\n",
       "      <th>137</th>\n",
       "      <th>138</th>\n",
       "      <th>139</th>\n",
       "    </tr>\n",
       "  </thead>\n",
       "  <tbody>\n",
       "    <tr>\n",
       "      <th>0</th>\n",
       "      <td>0.701036</td>\n",
       "      <td>0.571601</td>\n",
       "      <td>0.223032</td>\n",
       "      <td>0.152669</td>\n",
       "      <td>0.161229</td>\n",
       "      <td>0.217094</td>\n",
       "      <td>0.267424</td>\n",
       "      <td>0.410678</td>\n",
       "      <td>0.446792</td>\n",
       "      <td>0.516028</td>\n",
       "      <td>...</td>\n",
       "      <td>0.698873</td>\n",
       "      <td>0.712539</td>\n",
       "      <td>0.786962</td>\n",
       "      <td>0.825985</td>\n",
       "      <td>0.819036</td>\n",
       "      <td>0.759427</td>\n",
       "      <td>0.749687</td>\n",
       "      <td>0.816658</td>\n",
       "      <td>0.732812</td>\n",
       "      <td>0.374401</td>\n",
       "    </tr>\n",
       "    <tr>\n",
       "      <th>1</th>\n",
       "      <td>0.404491</td>\n",
       "      <td>0.314078</td>\n",
       "      <td>0.111044</td>\n",
       "      <td>0.152430</td>\n",
       "      <td>0.247307</td>\n",
       "      <td>0.399687</td>\n",
       "      <td>0.463482</td>\n",
       "      <td>0.448844</td>\n",
       "      <td>0.526933</td>\n",
       "      <td>0.615284</td>\n",
       "      <td>...</td>\n",
       "      <td>0.721267</td>\n",
       "      <td>0.721376</td>\n",
       "      <td>0.753114</td>\n",
       "      <td>0.749928</td>\n",
       "      <td>0.743722</td>\n",
       "      <td>0.722055</td>\n",
       "      <td>0.713421</td>\n",
       "      <td>0.725643</td>\n",
       "      <td>0.712755</td>\n",
       "      <td>0.510714</td>\n",
       "    </tr>\n",
       "    <tr>\n",
       "      <th>2</th>\n",
       "      <td>0.473817</td>\n",
       "      <td>0.352442</td>\n",
       "      <td>0.184370</td>\n",
       "      <td>0.174646</td>\n",
       "      <td>0.183865</td>\n",
       "      <td>0.274288</td>\n",
       "      <td>0.409654</td>\n",
       "      <td>0.496041</td>\n",
       "      <td>0.480264</td>\n",
       "      <td>0.582572</td>\n",
       "      <td>...</td>\n",
       "      <td>0.713202</td>\n",
       "      <td>0.732029</td>\n",
       "      <td>0.812812</td>\n",
       "      <td>0.798661</td>\n",
       "      <td>0.779513</td>\n",
       "      <td>0.714368</td>\n",
       "      <td>0.678421</td>\n",
       "      <td>0.708328</td>\n",
       "      <td>0.688585</td>\n",
       "      <td>0.390367</td>\n",
       "    </tr>\n",
       "    <tr>\n",
       "      <th>3</th>\n",
       "      <td>0.627097</td>\n",
       "      <td>0.512675</td>\n",
       "      <td>0.243336</td>\n",
       "      <td>0.192313</td>\n",
       "      <td>0.173859</td>\n",
       "      <td>0.256070</td>\n",
       "      <td>0.330685</td>\n",
       "      <td>0.409863</td>\n",
       "      <td>0.414105</td>\n",
       "      <td>0.515896</td>\n",
       "      <td>...</td>\n",
       "      <td>0.646389</td>\n",
       "      <td>0.656794</td>\n",
       "      <td>0.702477</td>\n",
       "      <td>0.741290</td>\n",
       "      <td>0.772937</td>\n",
       "      <td>0.756350</td>\n",
       "      <td>0.733365</td>\n",
       "      <td>0.783872</td>\n",
       "      <td>0.783694</td>\n",
       "      <td>0.453233</td>\n",
       "    </tr>\n",
       "    <tr>\n",
       "      <th>4</th>\n",
       "      <td>0.473011</td>\n",
       "      <td>0.361422</td>\n",
       "      <td>0.173711</td>\n",
       "      <td>0.190783</td>\n",
       "      <td>0.261960</td>\n",
       "      <td>0.423001</td>\n",
       "      <td>0.459470</td>\n",
       "      <td>0.447800</td>\n",
       "      <td>0.547565</td>\n",
       "      <td>0.621367</td>\n",
       "      <td>...</td>\n",
       "      <td>0.616118</td>\n",
       "      <td>0.696231</td>\n",
       "      <td>0.738225</td>\n",
       "      <td>0.751532</td>\n",
       "      <td>0.794132</td>\n",
       "      <td>0.778666</td>\n",
       "      <td>0.754572</td>\n",
       "      <td>0.731728</td>\n",
       "      <td>0.732439</td>\n",
       "      <td>0.580014</td>\n",
       "    </tr>\n",
       "  </tbody>\n",
       "</table>\n",
       "<p>5 rows × 140 columns</p>\n",
       "</div>"
      ],
      "text/plain": [
       "          0         1         2         3         4         5         6  \\\n",
       "0  0.701036  0.571601  0.223032  0.152669  0.161229  0.217094  0.267424   \n",
       "1  0.404491  0.314078  0.111044  0.152430  0.247307  0.399687  0.463482   \n",
       "2  0.473817  0.352442  0.184370  0.174646  0.183865  0.274288  0.409654   \n",
       "3  0.627097  0.512675  0.243336  0.192313  0.173859  0.256070  0.330685   \n",
       "4  0.473011  0.361422  0.173711  0.190783  0.261960  0.423001  0.459470   \n",
       "\n",
       "          7         8         9  ...       130       131       132       133  \\\n",
       "0  0.410678  0.446792  0.516028  ...  0.698873  0.712539  0.786962  0.825985   \n",
       "1  0.448844  0.526933  0.615284  ...  0.721267  0.721376  0.753114  0.749928   \n",
       "2  0.496041  0.480264  0.582572  ...  0.713202  0.732029  0.812812  0.798661   \n",
       "3  0.409863  0.414105  0.515896  ...  0.646389  0.656794  0.702477  0.741290   \n",
       "4  0.447800  0.547565  0.621367  ...  0.616118  0.696231  0.738225  0.751532   \n",
       "\n",
       "        134       135       136       137       138       139  \n",
       "0  0.819036  0.759427  0.749687  0.816658  0.732812  0.374401  \n",
       "1  0.743722  0.722055  0.713421  0.725643  0.712755  0.510714  \n",
       "2  0.779513  0.714368  0.678421  0.708328  0.688585  0.390367  \n",
       "3  0.772937  0.756350  0.733365  0.783872  0.783694  0.453233  \n",
       "4  0.794132  0.778666  0.754572  0.731728  0.732439  0.580014  \n",
       "\n",
       "[5 rows x 140 columns]"
      ]
     },
     "execution_count": 3,
     "metadata": {},
     "output_type": "execute_result"
    }
   ],
   "source": [
    "test_data.head()"
   ]
  },
  {
   "cell_type": "markdown",
   "id": "5f496a1a",
   "metadata": {},
   "source": [
    "### 05:95"
   ]
  },
  {
   "cell_type": "code",
   "execution_count": 4,
   "id": "e40e6bf8",
   "metadata": {},
   "outputs": [],
   "source": [
    "train_data = pd.read_csv(\"ecg_ext_imb_data.csv\")\n",
    "train_label = pd.read_csv(\"ecg_ext_imb_label.csv\")"
   ]
  },
  {
   "cell_type": "code",
   "execution_count": 5,
   "id": "0f2bddaf",
   "metadata": {},
   "outputs": [
    {
     "name": "stdout",
     "output_type": "stream",
     "text": [
      "Accuracy score 0.9613333333333334\n",
      "Precision score 0.9502572898799314\n",
      "Recall score 0.9052287581699346\n",
      "F1 score 1.0\n",
      "Kappa score 0.9187602250061631\n",
      "Gmean weighted score 0.9688597513360668\n",
      "Roc auc score 0.9526143790849673\n",
      "Precision -Recall score 0.9052287581699346\n"
     ]
    },
    {
     "name": "stderr",
     "output_type": "stream",
     "text": [
      "/Applications/Utilities/anaconda3/lib/python3.8/site-packages/sklearn/preprocessing/_label.py:133: DataConversionWarning: A column-vector y was passed when a 1d array was expected. Please change the shape of y to (n_samples, ), for example using ravel().\n",
      "  y = column_or_1d(y, warn=True)\n"
     ]
    }
   ],
   "source": [
    "from sklearn.metrics import f1_score,precision_score,recall_score,accuracy_score,cohen_kappa_score\n",
    "from sklearn.ensemble import RandomForestClassifier\n",
    "from collections import Counter\n",
    "rforest = RandomForestClassifier(random_state=42,class_weight={0:sum(np.array(train_label)==1),1:sum(np.array(train_label)==0)})\n",
    "rforest_model=rforest.fit(train_data,np.array(train_label).ravel())\n",
    "pred_label=rforest_model.predict(test_data)\n",
    "print(f\"Accuracy score %s\"%accuracy_score(pred_label,test_label))\n",
    "print(f\"Precision score %s\"%f1_score(pred_label,test_label))\n",
    "print(f\"Recall score %s\"%precision_score(pred_label,test_label))\n",
    "print(f\"F1 score %s\"%recall_score(pred_label,test_label))\n",
    "print(f\"Kappa score %s\"%cohen_kappa_score(pred_label,test_label))\n",
    "print(f\"Gmean weighted score %s\"%geometric_mean_score(pred_label, test_label))\n",
    "print(f\"Roc auc score %s\"%roc_auc_score(test_label,pred_label))\n",
    "print(f\"Precision -Recall score %s\"%average_precision_score(pred_label,test_label))\n"
   ]
  },
  {
   "cell_type": "markdown",
   "id": "72d7ec46",
   "metadata": {},
   "source": [
    "### 15:85"
   ]
  },
  {
   "cell_type": "code",
   "execution_count": 6,
   "id": "f3927893",
   "metadata": {},
   "outputs": [],
   "source": [
    "train_data = pd.read_csv(\"ecg_15285_imb_data.csv\")\n",
    "train_label = pd.read_csv(\"ecg_15285_imb_label.csv\")"
   ]
  },
  {
   "cell_type": "code",
   "execution_count": 7,
   "id": "c168eab3",
   "metadata": {},
   "outputs": [
    {
     "name": "stdout",
     "output_type": "stream",
     "text": [
      "Accuracy score 0.9813333333333333\n",
      "Precision score 0.9765886287625418\n",
      "Recall score 0.954248366013072\n",
      "F1 score 1.0\n",
      "Kappa score 0.9610817061780011\n",
      "Gmean weighted score 0.9845975393075489\n",
      "Roc auc score 0.9847161572052402\n",
      "Precision -Recall score 0.954248366013072\n"
     ]
    },
    {
     "name": "stderr",
     "output_type": "stream",
     "text": [
      "/Applications/Utilities/anaconda3/lib/python3.8/site-packages/sklearn/preprocessing/_label.py:133: DataConversionWarning: A column-vector y was passed when a 1d array was expected. Please change the shape of y to (n_samples, ), for example using ravel().\n",
      "  y = column_or_1d(y, warn=True)\n"
     ]
    }
   ],
   "source": [
    "from sklearn.metrics import f1_score,precision_score,recall_score,accuracy_score,cohen_kappa_score\n",
    "from sklearn.ensemble import RandomForestClassifier\n",
    "from collections import Counter\n",
    "rforest1 = RandomForestClassifier(random_state=42,class_weight={0:sum(np.array(train_label)==1),1:sum(np.array(train_label)==0)})\n",
    "rforest_model1=rforest1.fit(train_data,np.array(train_label).ravel())\n",
    "pred_label=rforest_model1.predict(test_data)\n",
    "print(f\"Accuracy score %s\"%accuracy_score(pred_label,test_label))\n",
    "print(f\"Precision score %s\"%f1_score(pred_label,test_label))\n",
    "print(f\"Recall score %s\"%precision_score(pred_label,test_label))\n",
    "print(f\"F1 score %s\"%recall_score(pred_label,test_label))\n",
    "print(f\"Kappa score %s\"%cohen_kappa_score(pred_label,test_label))\n",
    "print(f\"Gmean weighted score %s\"%geometric_mean_score(pred_label, test_label))\n",
    "print(f\"Roc auc score %s\"%roc_auc_score(pred_label,test_label))\n",
    "print(f\"Precision -Recall score %s\"%average_precision_score(pred_label,test_label))\n"
   ]
  },
  {
   "cell_type": "markdown",
   "id": "6944b732",
   "metadata": {},
   "source": [
    "### 30:50"
   ]
  },
  {
   "cell_type": "code",
   "execution_count": 8,
   "id": "77cd6684",
   "metadata": {},
   "outputs": [],
   "source": [
    "train_data = pd.read_csv(\"ecg_mod_imb_data.csv\")\n",
    "train_label = pd.read_csv(\"ecg_mod_imb_label.csv\")"
   ]
  },
  {
   "cell_type": "code",
   "execution_count": 9,
   "id": "c9b234ca",
   "metadata": {},
   "outputs": [
    {
     "name": "stdout",
     "output_type": "stream",
     "text": [
      "Accuracy score 0.992\n",
      "Precision score 0.99009900990099\n",
      "Recall score 0.9803921568627451\n",
      "F1 score 1.0\n",
      "Kappa score 0.9833887043189369\n",
      "Gmean weighted score 0.993310961716756\n",
      "Roc auc score 0.9933333333333334\n",
      "Precision -Recall score 0.9803921568627451\n"
     ]
    },
    {
     "name": "stderr",
     "output_type": "stream",
     "text": [
      "/Applications/Utilities/anaconda3/lib/python3.8/site-packages/sklearn/preprocessing/_label.py:133: DataConversionWarning: A column-vector y was passed when a 1d array was expected. Please change the shape of y to (n_samples, ), for example using ravel().\n",
      "  y = column_or_1d(y, warn=True)\n"
     ]
    }
   ],
   "source": [
    "from sklearn.metrics import f1_score,precision_score,recall_score,accuracy_score,cohen_kappa_score\n",
    "from sklearn.ensemble import RandomForestClassifier\n",
    "from collections import Counter\n",
    "rforest2 = RandomForestClassifier(random_state=42,class_weight={0:sum(np.array(train_label)==1),1:sum(np.array(train_label)==0)})\n",
    "rforest_model2=rforest2.fit(train_data,np.array(train_label).ravel())\n",
    "pred_label=rforest_model2.predict(test_data)\n",
    "print(f\"Accuracy score %s\"%accuracy_score(pred_label,test_label))\n",
    "print(f\"Precision score %s\"%f1_score(pred_label,test_label))\n",
    "print(f\"Recall score %s\"%precision_score(pred_label,test_label))\n",
    "print(f\"F1 score %s\"%recall_score(pred_label,test_label))\n",
    "print(f\"Kappa score %s\"%cohen_kappa_score(pred_label,test_label))\n",
    "print(f\"Gmean weighted score %s\"%geometric_mean_score(pred_label, test_label))\n",
    "print(f\"Roc auc score %s\"%roc_auc_score(pred_label,test_label))\n",
    "print(f\"Precision -Recall score %s\"%average_precision_score(pred_label,test_label))\n"
   ]
  },
  {
   "cell_type": "markdown",
   "id": "e869d54f",
   "metadata": {},
   "source": [
    "### 50:50"
   ]
  },
  {
   "cell_type": "code",
   "execution_count": 10,
   "id": "8ba7ef1a",
   "metadata": {},
   "outputs": [],
   "source": [
    "train_data = pd.read_csv(\"ecg_no_imb_data.csv\")\n",
    "train_label = pd.read_csv(\"ecg_no_imb_label.csv\")"
   ]
  },
  {
   "cell_type": "code",
   "execution_count": 11,
   "id": "08f92b6b",
   "metadata": {},
   "outputs": [
    {
     "name": "stdout",
     "output_type": "stream",
     "text": [
      "Accuracy score 0.9986666666666667\n",
      "Precision score 0.9983633387888707\n",
      "Recall score 0.9967320261437909\n",
      "F1 score 1.0\n",
      "Kappa score 0.9972384844802827\n",
      "Gmean weighted score 0.9988757725507031\n",
      "Roc auc score 0.9988764044943821\n",
      "Precision -Recall score 0.9967320261437909\n"
     ]
    },
    {
     "name": "stderr",
     "output_type": "stream",
     "text": [
      "/Applications/Utilities/anaconda3/lib/python3.8/site-packages/sklearn/preprocessing/_label.py:133: DataConversionWarning: A column-vector y was passed when a 1d array was expected. Please change the shape of y to (n_samples, ), for example using ravel().\n",
      "  y = column_or_1d(y, warn=True)\n"
     ]
    }
   ],
   "source": [
    "from sklearn.metrics import f1_score,precision_score,recall_score,accuracy_score,cohen_kappa_score\n",
    "from sklearn.ensemble import RandomForestClassifier\n",
    "from collections import Counter\n",
    "rforest3 = RandomForestClassifier(random_state=42,class_weight={0:sum(np.array(train_label)==1),1:sum(np.array(train_label)==0)})\n",
    "rforest_model3=rforest3.fit(train_data,np.array(train_label).ravel())\n",
    "pred_label=rforest_model3.predict(test_data)\n",
    "print(f\"Accuracy score %s\"%accuracy_score(pred_label,test_label))\n",
    "print(f\"Precision score %s\"%f1_score(pred_label,test_label))\n",
    "print(f\"Recall score %s\"%precision_score(pred_label,test_label))\n",
    "print(f\"F1 score %s\"%recall_score(pred_label,test_label))\n",
    "print(f\"Kappa score %s\"%cohen_kappa_score(pred_label,test_label))\n",
    "print(f\"Gmean weighted score %s\"%geometric_mean_score(pred_label, test_label))\n",
    "print(f\"Roc auc score %s\"%roc_auc_score(pred_label,test_label))\n",
    "print(f\"Precision -Recall score %s\"%average_precision_score(pred_label,test_label))\n"
   ]
  }
 ],
 "metadata": {
  "kernelspec": {
   "display_name": "Python 3",
   "language": "python",
   "name": "python3"
  },
  "language_info": {
   "codemirror_mode": {
    "name": "ipython",
    "version": 3
   },
   "file_extension": ".py",
   "mimetype": "text/x-python",
   "name": "python",
   "nbconvert_exporter": "python",
   "pygments_lexer": "ipython3",
   "version": "3.8.8"
  }
 },
 "nbformat": 4,
 "nbformat_minor": 5
}
