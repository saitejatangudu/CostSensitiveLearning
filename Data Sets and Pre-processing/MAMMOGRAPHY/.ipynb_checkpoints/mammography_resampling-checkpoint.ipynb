{
 "cells": [
  {
   "cell_type": "code",
   "execution_count": 1,
   "id": "885794c1",
   "metadata": {},
   "outputs": [],
   "source": [
    "import scipy.io.arff as arff \n",
    "import pandas as pd\n",
    "import numpy as np"
   ]
  },
  {
   "cell_type": "code",
   "execution_count": 2,
   "id": "5992e1a1",
   "metadata": {},
   "outputs": [
    {
     "data": {
      "text/html": [
       "<div>\n",
       "<style scoped>\n",
       "    .dataframe tbody tr th:only-of-type {\n",
       "        vertical-align: middle;\n",
       "    }\n",
       "\n",
       "    .dataframe tbody tr th {\n",
       "        vertical-align: top;\n",
       "    }\n",
       "\n",
       "    .dataframe thead th {\n",
       "        text-align: right;\n",
       "    }\n",
       "</style>\n",
       "<table border=\"1\" class=\"dataframe\">\n",
       "  <thead>\n",
       "    <tr style=\"text-align: right;\">\n",
       "      <th></th>\n",
       "      <th>attr1</th>\n",
       "      <th>attr2</th>\n",
       "      <th>attr3</th>\n",
       "      <th>attr4</th>\n",
       "      <th>attr5</th>\n",
       "      <th>attr6</th>\n",
       "      <th>class</th>\n",
       "    </tr>\n",
       "  </thead>\n",
       "  <tbody>\n",
       "    <tr>\n",
       "      <th>0</th>\n",
       "      <td>0.230020</td>\n",
       "      <td>5.072578</td>\n",
       "      <td>-0.276061</td>\n",
       "      <td>0.832444</td>\n",
       "      <td>-0.377866</td>\n",
       "      <td>0.480322</td>\n",
       "      <td>b'-1'</td>\n",
       "    </tr>\n",
       "    <tr>\n",
       "      <th>1</th>\n",
       "      <td>0.155491</td>\n",
       "      <td>-0.169390</td>\n",
       "      <td>0.670652</td>\n",
       "      <td>-0.859553</td>\n",
       "      <td>-0.377866</td>\n",
       "      <td>-0.945723</td>\n",
       "      <td>b'-1'</td>\n",
       "    </tr>\n",
       "    <tr>\n",
       "      <th>2</th>\n",
       "      <td>-0.784415</td>\n",
       "      <td>-0.443654</td>\n",
       "      <td>5.674705</td>\n",
       "      <td>-0.859553</td>\n",
       "      <td>-0.377866</td>\n",
       "      <td>-0.945723</td>\n",
       "      <td>b'-1'</td>\n",
       "    </tr>\n",
       "    <tr>\n",
       "      <th>3</th>\n",
       "      <td>0.546088</td>\n",
       "      <td>0.131415</td>\n",
       "      <td>-0.456387</td>\n",
       "      <td>-0.859553</td>\n",
       "      <td>-0.377866</td>\n",
       "      <td>-0.945723</td>\n",
       "      <td>b'-1'</td>\n",
       "    </tr>\n",
       "    <tr>\n",
       "      <th>4</th>\n",
       "      <td>-0.102987</td>\n",
       "      <td>-0.394994</td>\n",
       "      <td>-0.140816</td>\n",
       "      <td>0.979703</td>\n",
       "      <td>-0.377866</td>\n",
       "      <td>1.013566</td>\n",
       "      <td>b'-1'</td>\n",
       "    </tr>\n",
       "  </tbody>\n",
       "</table>\n",
       "</div>"
      ],
      "text/plain": [
       "      attr1     attr2     attr3     attr4     attr5     attr6  class\n",
       "0  0.230020  5.072578 -0.276061  0.832444 -0.377866  0.480322  b'-1'\n",
       "1  0.155491 -0.169390  0.670652 -0.859553 -0.377866 -0.945723  b'-1'\n",
       "2 -0.784415 -0.443654  5.674705 -0.859553 -0.377866 -0.945723  b'-1'\n",
       "3  0.546088  0.131415 -0.456387 -0.859553 -0.377866 -0.945723  b'-1'\n",
       "4 -0.102987 -0.394994 -0.140816  0.979703 -0.377866  1.013566  b'-1'"
      ]
     },
     "execution_count": 2,
     "metadata": {},
     "output_type": "execute_result"
    }
   ],
   "source": [
    "data = arff.loadarff(\"/Users/saitejatangudu/Downloads/mammography.arff\")\n",
    "data = pd.DataFrame(data[0])\n",
    "data.head()"
   ]
  },
  {
   "cell_type": "code",
   "execution_count": 3,
   "id": "23d16168",
   "metadata": {},
   "outputs": [
    {
     "data": {
      "text/plain": [
       "b'-1'    10923\n",
       "b'1'       260\n",
       "Name: class, dtype: int64"
      ]
     },
     "execution_count": 3,
     "metadata": {},
     "output_type": "execute_result"
    }
   ],
   "source": [
    "data[\"class\"].value_counts()"
   ]
  },
  {
   "cell_type": "code",
   "execution_count": 4,
   "id": "310a768e",
   "metadata": {},
   "outputs": [
    {
     "data": {
      "text/html": [
       "<div>\n",
       "<style scoped>\n",
       "    .dataframe tbody tr th:only-of-type {\n",
       "        vertical-align: middle;\n",
       "    }\n",
       "\n",
       "    .dataframe tbody tr th {\n",
       "        vertical-align: top;\n",
       "    }\n",
       "\n",
       "    .dataframe thead th {\n",
       "        text-align: right;\n",
       "    }\n",
       "</style>\n",
       "<table border=\"1\" class=\"dataframe\">\n",
       "  <thead>\n",
       "    <tr style=\"text-align: right;\">\n",
       "      <th></th>\n",
       "      <th>attr1</th>\n",
       "      <th>attr2</th>\n",
       "      <th>attr3</th>\n",
       "      <th>attr4</th>\n",
       "      <th>attr5</th>\n",
       "      <th>attr6</th>\n",
       "      <th>class</th>\n",
       "    </tr>\n",
       "  </thead>\n",
       "  <tbody>\n",
       "    <tr>\n",
       "      <th>0</th>\n",
       "      <td>0.230020</td>\n",
       "      <td>5.072578</td>\n",
       "      <td>-0.276061</td>\n",
       "      <td>0.832444</td>\n",
       "      <td>-0.377866</td>\n",
       "      <td>0.480322</td>\n",
       "      <td>0</td>\n",
       "    </tr>\n",
       "    <tr>\n",
       "      <th>1</th>\n",
       "      <td>0.155491</td>\n",
       "      <td>-0.169390</td>\n",
       "      <td>0.670652</td>\n",
       "      <td>-0.859553</td>\n",
       "      <td>-0.377866</td>\n",
       "      <td>-0.945723</td>\n",
       "      <td>0</td>\n",
       "    </tr>\n",
       "    <tr>\n",
       "      <th>2</th>\n",
       "      <td>-0.784415</td>\n",
       "      <td>-0.443654</td>\n",
       "      <td>5.674705</td>\n",
       "      <td>-0.859553</td>\n",
       "      <td>-0.377866</td>\n",
       "      <td>-0.945723</td>\n",
       "      <td>0</td>\n",
       "    </tr>\n",
       "    <tr>\n",
       "      <th>3</th>\n",
       "      <td>0.546088</td>\n",
       "      <td>0.131415</td>\n",
       "      <td>-0.456387</td>\n",
       "      <td>-0.859553</td>\n",
       "      <td>-0.377866</td>\n",
       "      <td>-0.945723</td>\n",
       "      <td>0</td>\n",
       "    </tr>\n",
       "    <tr>\n",
       "      <th>4</th>\n",
       "      <td>-0.102987</td>\n",
       "      <td>-0.394994</td>\n",
       "      <td>-0.140816</td>\n",
       "      <td>0.979703</td>\n",
       "      <td>-0.377866</td>\n",
       "      <td>1.013566</td>\n",
       "      <td>0</td>\n",
       "    </tr>\n",
       "  </tbody>\n",
       "</table>\n",
       "</div>"
      ],
      "text/plain": [
       "      attr1     attr2     attr3     attr4     attr5     attr6  class\n",
       "0  0.230020  5.072578 -0.276061  0.832444 -0.377866  0.480322      0\n",
       "1  0.155491 -0.169390  0.670652 -0.859553 -0.377866 -0.945723      0\n",
       "2 -0.784415 -0.443654  5.674705 -0.859553 -0.377866 -0.945723      0\n",
       "3  0.546088  0.131415 -0.456387 -0.859553 -0.377866 -0.945723      0\n",
       "4 -0.102987 -0.394994 -0.140816  0.979703 -0.377866  1.013566      0"
      ]
     },
     "execution_count": 4,
     "metadata": {},
     "output_type": "execute_result"
    }
   ],
   "source": [
    "data[\"class\"] = np.where(data[\"class\"]==b'-1',0,1)\n",
    "data.head()"
   ]
  },
  {
   "cell_type": "code",
   "execution_count": 5,
   "id": "e2fa200d",
   "metadata": {},
   "outputs": [
    {
     "data": {
      "text/plain": [
       "attr1    0\n",
       "attr2    0\n",
       "attr3    0\n",
       "attr4    0\n",
       "attr5    0\n",
       "attr6    0\n",
       "class    0\n",
       "dtype: int64"
      ]
     },
     "execution_count": 5,
     "metadata": {},
     "output_type": "execute_result"
    }
   ],
   "source": [
    "data.isna().sum()"
   ]
  },
  {
   "cell_type": "code",
   "execution_count": 6,
   "id": "289dcf35",
   "metadata": {},
   "outputs": [
    {
     "data": {
      "text/html": [
       "<div>\n",
       "<style scoped>\n",
       "    .dataframe tbody tr th:only-of-type {\n",
       "        vertical-align: middle;\n",
       "    }\n",
       "\n",
       "    .dataframe tbody tr th {\n",
       "        vertical-align: top;\n",
       "    }\n",
       "\n",
       "    .dataframe thead th {\n",
       "        text-align: right;\n",
       "    }\n",
       "</style>\n",
       "<table border=\"1\" class=\"dataframe\">\n",
       "  <thead>\n",
       "    <tr style=\"text-align: right;\">\n",
       "      <th></th>\n",
       "      <th>attr1</th>\n",
       "      <th>attr2</th>\n",
       "      <th>attr3</th>\n",
       "      <th>attr4</th>\n",
       "      <th>attr5</th>\n",
       "      <th>attr6</th>\n",
       "      <th>class</th>\n",
       "    </tr>\n",
       "  </thead>\n",
       "  <tbody>\n",
       "    <tr>\n",
       "      <th>0</th>\n",
       "      <td>0.031414</td>\n",
       "      <td>0.997611</td>\n",
       "      <td>0.010495</td>\n",
       "      <td>0.161902</td>\n",
       "      <td>0.0</td>\n",
       "      <td>0.492632</td>\n",
       "      <td>0.0</td>\n",
       "    </tr>\n",
       "    <tr>\n",
       "      <th>1</th>\n",
       "      <td>0.029106</td>\n",
       "      <td>0.054140</td>\n",
       "      <td>0.041979</td>\n",
       "      <td>0.000000</td>\n",
       "      <td>0.0</td>\n",
       "      <td>0.000000</td>\n",
       "      <td>0.0</td>\n",
       "    </tr>\n",
       "    <tr>\n",
       "      <th>2</th>\n",
       "      <td>0.000000</td>\n",
       "      <td>0.004777</td>\n",
       "      <td>0.208396</td>\n",
       "      <td>0.000000</td>\n",
       "      <td>0.0</td>\n",
       "      <td>0.000000</td>\n",
       "      <td>0.0</td>\n",
       "    </tr>\n",
       "    <tr>\n",
       "      <th>3</th>\n",
       "      <td>0.041201</td>\n",
       "      <td>0.108280</td>\n",
       "      <td>0.004498</td>\n",
       "      <td>0.000000</td>\n",
       "      <td>0.0</td>\n",
       "      <td>0.000000</td>\n",
       "      <td>0.0</td>\n",
       "    </tr>\n",
       "    <tr>\n",
       "      <th>4</th>\n",
       "      <td>0.021101</td>\n",
       "      <td>0.013535</td>\n",
       "      <td>0.014993</td>\n",
       "      <td>0.175993</td>\n",
       "      <td>0.0</td>\n",
       "      <td>0.676842</td>\n",
       "      <td>0.0</td>\n",
       "    </tr>\n",
       "  </tbody>\n",
       "</table>\n",
       "</div>"
      ],
      "text/plain": [
       "      attr1     attr2     attr3     attr4  attr5     attr6  class\n",
       "0  0.031414  0.997611  0.010495  0.161902    0.0  0.492632    0.0\n",
       "1  0.029106  0.054140  0.041979  0.000000    0.0  0.000000    0.0\n",
       "2  0.000000  0.004777  0.208396  0.000000    0.0  0.000000    0.0\n",
       "3  0.041201  0.108280  0.004498  0.000000    0.0  0.000000    0.0\n",
       "4  0.021101  0.013535  0.014993  0.175993    0.0  0.676842    0.0"
      ]
     },
     "execution_count": 6,
     "metadata": {},
     "output_type": "execute_result"
    }
   ],
   "source": [
    "# import module\n",
    "from sklearn.preprocessing import MinMaxScaler\n",
    "# scale features\n",
    "scaler = MinMaxScaler()\n",
    "model=scaler.fit(data)\n",
    "Impute_data=model.transform(data)\n",
    "\n",
    "# print scaled features\n",
    "data = pd.DataFrame(Impute_data,columns = data.columns)\n",
    "data.head()"
   ]
  },
  {
   "cell_type": "markdown",
   "id": "261a3937",
   "metadata": {},
   "source": [
    "### DATA RESAMPLING"
   ]
  },
  {
   "cell_type": "markdown",
   "id": "3a67577e",
   "metadata": {},
   "source": [
    "### GENERATING TEST DATA"
   ]
  },
  {
   "cell_type": "code",
   "execution_count": 7,
   "id": "b15eab22",
   "metadata": {},
   "outputs": [],
   "source": [
    "X = data.drop(['class'],axis=1)\n",
    "y = data[\"class\"]"
   ]
  },
  {
   "cell_type": "code",
   "execution_count": 8,
   "id": "51227e7b",
   "metadata": {},
   "outputs": [],
   "source": [
    "from sklearn.model_selection import train_test_split\n",
    "x_train,x_test,y_train,y_test = train_test_split(X,y,test_size=0.15,random_state=42)"
   ]
  },
  {
   "cell_type": "code",
   "execution_count": 9,
   "id": "1af52f8b",
   "metadata": {},
   "outputs": [
    {
     "name": "stdout",
     "output_type": "stream",
     "text": [
      "221 9284 39 1639\n"
     ]
    }
   ],
   "source": [
    "print(sum(y_train==1)\n",
    ",sum(y_train==0)\n",
    ",sum(y_test==1)\n",
    ",sum(y_test==0)\n",
    "     )"
   ]
  },
  {
   "cell_type": "code",
   "execution_count": 10,
   "id": "d517603e",
   "metadata": {},
   "outputs": [],
   "source": [
    "x_test.to_csv(\"mammography_test_data.csv\",index=False)\n",
    "y_test.to_csv(\"mammography_test_label.csv\",index=False)"
   ]
  },
  {
   "cell_type": "markdown",
   "id": "e5b3bab8",
   "metadata": {},
   "source": [
    "### GENERATING EXT_IMB DATASET(05:95)"
   ]
  },
  {
   "cell_type": "code",
   "execution_count": 11,
   "id": "8fdf5b68",
   "metadata": {},
   "outputs": [],
   "source": [
    "from collections import Counter\n",
    "from sklearn.datasets import make_classification\n",
    "from imblearn.over_sampling import ADASYN \n",
    "from imblearn.under_sampling import RandomUnderSampler"
   ]
  },
  {
   "cell_type": "code",
   "execution_count": 12,
   "id": "02c6f89b",
   "metadata": {},
   "outputs": [
    {
     "name": "stdout",
     "output_type": "stream",
     "text": [
      "Original dataset shape Counter({0.0: 9284, 1.0: 221})\n"
     ]
    }
   ],
   "source": [
    "X, y = x_train,y_train\n",
    "print('Original dataset shape %s' % Counter(y))"
   ]
  },
  {
   "cell_type": "code",
   "execution_count": 13,
   "id": "395217f2",
   "metadata": {},
   "outputs": [
    {
     "name": "stdout",
     "output_type": "stream",
     "text": [
      "Resampled dataset shape After oversampling minority class Counter({0.0: 8554, 1.0: 221})\n",
      "Resampled dataset shape with 5:95 ratioCounter({0.0: 8554, 1.0: 439})\n"
     ]
    }
   ],
   "source": [
    "no_minority, no_majority = (Counter(y)[1]+Counter(y)[0])*0.05,(Counter(y)[1]+Counter(y)[0])*0.90\n",
    "rnd = RandomUnderSampler(random_state=42,sampling_strategy={0:round(no_majority),1:Counter(y)[1]})\n",
    "X_final, y_final = rnd.fit_resample(X, y)\n",
    "print('Resampled dataset shape After oversampling minority class %s' % Counter(y_final))\n",
    "ada = ADASYN(random_state=42,sampling_strategy={0:Counter(y_final)[0],1:round(no_minority)})\n",
    "X_res, y_res = ada.fit_resample(X_final, y_final)\n",
    "print('Resampled dataset shape with 5:95 ratio%s' % Counter(y_res))"
   ]
  },
  {
   "cell_type": "code",
   "execution_count": 14,
   "id": "5ac20725",
   "metadata": {},
   "outputs": [],
   "source": [
    "X_res.to_csv(\"mammography_ext_imb_data.csv\",index=False)\n",
    "y_res.to_csv(\"mammography_ext_imb_label.csv\",index=False)"
   ]
  },
  {
   "cell_type": "markdown",
   "id": "a22a3a1d",
   "metadata": {},
   "source": [
    "### GENERATING 15285_IMB DATASET(15:85)"
   ]
  },
  {
   "cell_type": "code",
   "execution_count": 15,
   "id": "ff6e3bb2",
   "metadata": {},
   "outputs": [
    {
     "name": "stdout",
     "output_type": "stream",
     "text": [
      "Original dataset shape Counter({0.0: 9284, 1.0: 221})\n"
     ]
    }
   ],
   "source": [
    "X, y = x_train,y_train\n",
    "print('Original dataset shape %s' % Counter(y))"
   ]
  },
  {
   "cell_type": "code",
   "execution_count": 16,
   "id": "802c2012",
   "metadata": {},
   "outputs": [
    {
     "name": "stdout",
     "output_type": "stream",
     "text": [
      "Resampled dataset shape After oversampling minority class Counter({0.0: 8079, 1.0: 221})\n",
      "Resampled dataset shape with 5:95 ratioCounter({0.0: 8079, 1.0: 1402})\n"
     ]
    }
   ],
   "source": [
    "no_minority, no_majority = (Counter(y)[1]+Counter(y)[0])*0.15,(Counter(y)[1]+Counter(y)[0])*0.85\n",
    "rnd = RandomUnderSampler(random_state=42,sampling_strategy={0:round(no_majority),1:Counter(y)[1]})\n",
    "X_final, y_final = rnd.fit_resample(X, y)\n",
    "print('Resampled dataset shape After oversampling minority class %s' % Counter(y_final))\n",
    "ada = ADASYN(random_state=42,sampling_strategy={0:Counter(y_final)[0],1:round(no_minority)})\n",
    "X_res, y_res = ada.fit_resample(X_final, y_final)\n",
    "print('Resampled dataset shape with 5:95 ratio%s' % Counter(y_res))"
   ]
  },
  {
   "cell_type": "code",
   "execution_count": 17,
   "id": "e337558e",
   "metadata": {},
   "outputs": [],
   "source": [
    "X_res.to_csv(\"mammography_15285_imb_data.csv\",index=False)\n",
    "y_res.to_csv(\"mammography_15285_imb_label.csv\",index=False)"
   ]
  },
  {
   "cell_type": "markdown",
   "id": "a85e2639",
   "metadata": {},
   "source": [
    "### GENERATING MOD_IMB DATASET(30:70)"
   ]
  },
  {
   "cell_type": "code",
   "execution_count": 18,
   "id": "a4b66675",
   "metadata": {},
   "outputs": [
    {
     "name": "stdout",
     "output_type": "stream",
     "text": [
      "Original dataset shape Counter({0.0: 9284, 1.0: 221})\n"
     ]
    }
   ],
   "source": [
    "X, y = x_train,y_train\n",
    "print('Original dataset shape %s' % Counter(y))"
   ]
  },
  {
   "cell_type": "code",
   "execution_count": 19,
   "id": "85d25292",
   "metadata": {},
   "outputs": [
    {
     "name": "stdout",
     "output_type": "stream",
     "text": [
      "Resampled dataset shape After oversampling minority class Counter({0.0: 6654, 1.0: 221})\n",
      "Resampled dataset shape with 5:95 ratioCounter({0.0: 6654, 1.0: 2849})\n"
     ]
    }
   ],
   "source": [
    "no_minority, no_majority = (Counter(y)[1]+Counter(y)[0])*0.3,(Counter(y)[1]+Counter(y)[0])*0.7\n",
    "rnd = RandomUnderSampler(random_state=42,sampling_strategy={0:round(no_majority),1:Counter(y)[1]})\n",
    "X_final, y_final = rnd.fit_resample(X, y)\n",
    "print('Resampled dataset shape After oversampling minority class %s' % Counter(y_final))\n",
    "ada = ADASYN(random_state=42,sampling_strategy={0:Counter(y_final)[0],1:round(no_minority)})\n",
    "X_res, y_res = ada.fit_resample(X_final, y_final)\n",
    "print('Resampled dataset shape with 5:95 ratio%s' % Counter(y_res))"
   ]
  },
  {
   "cell_type": "code",
   "execution_count": 20,
   "id": "7eb43863",
   "metadata": {},
   "outputs": [],
   "source": [
    "X_res.to_csv(\"mammography_mod_imb_data.csv\",index=False)\n",
    "y_res.to_csv(\"mammography_mod_imb_label.csv\",index=False)"
   ]
  },
  {
   "cell_type": "markdown",
   "id": "1902cbfe",
   "metadata": {},
   "source": [
    "### GENERATING NO_IMB DATASET(50:50)"
   ]
  },
  {
   "cell_type": "code",
   "execution_count": 21,
   "id": "2738e432",
   "metadata": {},
   "outputs": [
    {
     "name": "stdout",
     "output_type": "stream",
     "text": [
      "Original dataset shape Counter({0.0: 9284, 1.0: 221})\n"
     ]
    }
   ],
   "source": [
    "X, y = x_train,y_train\n",
    "print('Original dataset shape %s' % Counter(y))"
   ]
  },
  {
   "cell_type": "code",
   "execution_count": 22,
   "id": "f1e8c0cd",
   "metadata": {},
   "outputs": [
    {
     "name": "stdout",
     "output_type": "stream",
     "text": [
      "Resampled dataset shape with 50:50 Counter({1.0: 9311, 0.0: 9284})\n"
     ]
    }
   ],
   "source": [
    "ada = ADASYN(random_state=42)\n",
    "X_res, y_res = ada.fit_resample(X, y)\n",
    "print('Resampled dataset shape with 50:50 %s' % Counter(y_res))"
   ]
  },
  {
   "cell_type": "code",
   "execution_count": 23,
   "id": "5097d305",
   "metadata": {},
   "outputs": [],
   "source": [
    "X_res.to_csv(\"mammography_no_imb_data.csv\",index=False)\n",
    "y_res.to_csv(\"mammography_no_imb_label.csv\",index=False)"
   ]
  }
 ],
 "metadata": {
  "kernelspec": {
   "display_name": "Python 3",
   "language": "python",
   "name": "python3"
  },
  "language_info": {
   "codemirror_mode": {
    "name": "ipython",
    "version": 3
   },
   "file_extension": ".py",
   "mimetype": "text/x-python",
   "name": "python",
   "nbconvert_exporter": "python",
   "pygments_lexer": "ipython3",
   "version": "3.8.8"
  }
 },
 "nbformat": 4,
 "nbformat_minor": 5
}
