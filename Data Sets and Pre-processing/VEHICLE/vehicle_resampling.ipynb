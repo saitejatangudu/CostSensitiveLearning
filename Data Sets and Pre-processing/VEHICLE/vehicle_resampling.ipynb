{
 "cells": [
  {
   "cell_type": "code",
   "execution_count": 1,
   "id": "d4decdb0",
   "metadata": {},
   "outputs": [],
   "source": [
    "import numpy as np\n",
    "import pandas as pd"
   ]
  },
  {
   "cell_type": "code",
   "execution_count": 2,
   "id": "37590b98",
   "metadata": {},
   "outputs": [],
   "source": [
    "names = [\"COMPACTNESS\",\n",
    "\"CIRCULARITY\",\n",
    "\"DISTANCE CIRCULARITY\",\n",
    "\"RADIUS RATIO\",\n",
    "\"PR.AXIS ASPECT RATIO\",\n",
    "\"MAX.LENGTH ASPECT RATIO\",\n",
    "\"SCATTER RATIO\",\n",
    "\"ELONGATEDNESS\",\n",
    "\"PR.AXIS RECTANGULARITY\",\n",
    "\"MAX.LENGTH RECTANGULARITY\",\n",
    "\"SCALED VARIANCE ALONG MAJOR AXIS\",\n",
    "\"SCALED VARIANCE ALONG MINOR AXIS\",\n",
    "\"SCALED RADIUS OF GYRATION\",\n",
    "\"SKEWNESS ABOUT MAJOR AXIS\",\n",
    "\"SKEWNESS ABOUT MINOR AXIS\",\n",
    "\"KURTOSIS ABOUT MINOR AXIS\",\n",
    "\"KURTOSIS ABOUT MAJOR AXIS\",\n",
    "\"HOLLOWS RATIO\",\"class\",\"empty\"]"
   ]
  },
  {
   "cell_type": "code",
   "execution_count": 3,
   "id": "b9a83888",
   "metadata": {},
   "outputs": [],
   "source": [
    "length = 0\n",
    "data_frames = []\n",
    "for i in ['a','b','c','d','e','f','g','h','i']:\n",
    "    string=\"https://archive.ics.uci.edu/ml/machine-learning-databases/statlog/vehicle/\"+\"xa\"+str(i)+\".dat\"\n",
    "    data = pd.read_csv(string,names=[\"sai\"])\n",
    "    data[names]=data[\"sai\"].apply(lambda x :pd.Series(str(x).split(\" \")))\n",
    "    data_frames.append(data.drop(['sai','empty'],axis=1))"
   ]
  },
  {
   "cell_type": "code",
   "execution_count": 4,
   "id": "f2b685e5",
   "metadata": {},
   "outputs": [
    {
     "data": {
      "text/html": [
       "<div>\n",
       "<style scoped>\n",
       "    .dataframe tbody tr th:only-of-type {\n",
       "        vertical-align: middle;\n",
       "    }\n",
       "\n",
       "    .dataframe tbody tr th {\n",
       "        vertical-align: top;\n",
       "    }\n",
       "\n",
       "    .dataframe thead th {\n",
       "        text-align: right;\n",
       "    }\n",
       "</style>\n",
       "<table border=\"1\" class=\"dataframe\">\n",
       "  <thead>\n",
       "    <tr style=\"text-align: right;\">\n",
       "      <th></th>\n",
       "      <th>COMPACTNESS</th>\n",
       "      <th>CIRCULARITY</th>\n",
       "      <th>DISTANCE CIRCULARITY</th>\n",
       "      <th>RADIUS RATIO</th>\n",
       "      <th>PR.AXIS ASPECT RATIO</th>\n",
       "      <th>MAX.LENGTH ASPECT RATIO</th>\n",
       "      <th>SCATTER RATIO</th>\n",
       "      <th>ELONGATEDNESS</th>\n",
       "      <th>PR.AXIS RECTANGULARITY</th>\n",
       "      <th>MAX.LENGTH RECTANGULARITY</th>\n",
       "      <th>SCALED VARIANCE ALONG MAJOR AXIS</th>\n",
       "      <th>SCALED VARIANCE ALONG MINOR AXIS</th>\n",
       "      <th>SCALED RADIUS OF GYRATION</th>\n",
       "      <th>SKEWNESS ABOUT MAJOR AXIS</th>\n",
       "      <th>SKEWNESS ABOUT MINOR AXIS</th>\n",
       "      <th>KURTOSIS ABOUT MINOR AXIS</th>\n",
       "      <th>KURTOSIS ABOUT MAJOR AXIS</th>\n",
       "      <th>HOLLOWS RATIO</th>\n",
       "      <th>class</th>\n",
       "    </tr>\n",
       "  </thead>\n",
       "  <tbody>\n",
       "    <tr>\n",
       "      <th>0</th>\n",
       "      <td>95</td>\n",
       "      <td>48</td>\n",
       "      <td>83</td>\n",
       "      <td>178</td>\n",
       "      <td>72</td>\n",
       "      <td>10</td>\n",
       "      <td>162</td>\n",
       "      <td>42</td>\n",
       "      <td>20</td>\n",
       "      <td>159</td>\n",
       "      <td>176</td>\n",
       "      <td>379</td>\n",
       "      <td>184</td>\n",
       "      <td>70</td>\n",
       "      <td>6</td>\n",
       "      <td>16</td>\n",
       "      <td>187</td>\n",
       "      <td>197</td>\n",
       "      <td>van</td>\n",
       "    </tr>\n",
       "    <tr>\n",
       "      <th>1</th>\n",
       "      <td>91</td>\n",
       "      <td>41</td>\n",
       "      <td>84</td>\n",
       "      <td>141</td>\n",
       "      <td>57</td>\n",
       "      <td>9</td>\n",
       "      <td>149</td>\n",
       "      <td>45</td>\n",
       "      <td>19</td>\n",
       "      <td>143</td>\n",
       "      <td>170</td>\n",
       "      <td>330</td>\n",
       "      <td>158</td>\n",
       "      <td>72</td>\n",
       "      <td>9</td>\n",
       "      <td>14</td>\n",
       "      <td>189</td>\n",
       "      <td>199</td>\n",
       "      <td>van</td>\n",
       "    </tr>\n",
       "    <tr>\n",
       "      <th>2</th>\n",
       "      <td>104</td>\n",
       "      <td>50</td>\n",
       "      <td>106</td>\n",
       "      <td>209</td>\n",
       "      <td>66</td>\n",
       "      <td>10</td>\n",
       "      <td>207</td>\n",
       "      <td>32</td>\n",
       "      <td>23</td>\n",
       "      <td>158</td>\n",
       "      <td>223</td>\n",
       "      <td>635</td>\n",
       "      <td>220</td>\n",
       "      <td>73</td>\n",
       "      <td>14</td>\n",
       "      <td>9</td>\n",
       "      <td>188</td>\n",
       "      <td>196</td>\n",
       "      <td>saab</td>\n",
       "    </tr>\n",
       "    <tr>\n",
       "      <th>3</th>\n",
       "      <td>93</td>\n",
       "      <td>41</td>\n",
       "      <td>82</td>\n",
       "      <td>159</td>\n",
       "      <td>63</td>\n",
       "      <td>9</td>\n",
       "      <td>144</td>\n",
       "      <td>46</td>\n",
       "      <td>19</td>\n",
       "      <td>143</td>\n",
       "      <td>160</td>\n",
       "      <td>309</td>\n",
       "      <td>127</td>\n",
       "      <td>63</td>\n",
       "      <td>6</td>\n",
       "      <td>10</td>\n",
       "      <td>199</td>\n",
       "      <td>207</td>\n",
       "      <td>van</td>\n",
       "    </tr>\n",
       "    <tr>\n",
       "      <th>4</th>\n",
       "      <td>85</td>\n",
       "      <td>44</td>\n",
       "      <td>70</td>\n",
       "      <td>205</td>\n",
       "      <td>103</td>\n",
       "      <td>52</td>\n",
       "      <td>149</td>\n",
       "      <td>45</td>\n",
       "      <td>19</td>\n",
       "      <td>144</td>\n",
       "      <td>241</td>\n",
       "      <td>325</td>\n",
       "      <td>188</td>\n",
       "      <td>127</td>\n",
       "      <td>9</td>\n",
       "      <td>11</td>\n",
       "      <td>180</td>\n",
       "      <td>183</td>\n",
       "      <td>bus</td>\n",
       "    </tr>\n",
       "  </tbody>\n",
       "</table>\n",
       "</div>"
      ],
      "text/plain": [
       "  COMPACTNESS CIRCULARITY DISTANCE CIRCULARITY RADIUS RATIO  \\\n",
       "0          95          48                   83          178   \n",
       "1          91          41                   84          141   \n",
       "2         104          50                  106          209   \n",
       "3          93          41                   82          159   \n",
       "4          85          44                   70          205   \n",
       "\n",
       "  PR.AXIS ASPECT RATIO MAX.LENGTH ASPECT RATIO SCATTER RATIO ELONGATEDNESS  \\\n",
       "0                   72                      10           162            42   \n",
       "1                   57                       9           149            45   \n",
       "2                   66                      10           207            32   \n",
       "3                   63                       9           144            46   \n",
       "4                  103                      52           149            45   \n",
       "\n",
       "  PR.AXIS RECTANGULARITY MAX.LENGTH RECTANGULARITY  \\\n",
       "0                     20                       159   \n",
       "1                     19                       143   \n",
       "2                     23                       158   \n",
       "3                     19                       143   \n",
       "4                     19                       144   \n",
       "\n",
       "  SCALED VARIANCE ALONG MAJOR AXIS SCALED VARIANCE ALONG MINOR AXIS  \\\n",
       "0                              176                              379   \n",
       "1                              170                              330   \n",
       "2                              223                              635   \n",
       "3                              160                              309   \n",
       "4                              241                              325   \n",
       "\n",
       "  SCALED RADIUS OF GYRATION SKEWNESS ABOUT MAJOR AXIS  \\\n",
       "0                       184                        70   \n",
       "1                       158                        72   \n",
       "2                       220                        73   \n",
       "3                       127                        63   \n",
       "4                       188                       127   \n",
       "\n",
       "  SKEWNESS ABOUT MINOR AXIS KURTOSIS ABOUT MINOR AXIS  \\\n",
       "0                         6                        16   \n",
       "1                         9                        14   \n",
       "2                        14                         9   \n",
       "3                         6                        10   \n",
       "4                         9                        11   \n",
       "\n",
       "  KURTOSIS ABOUT MAJOR AXIS HOLLOWS RATIO class  \n",
       "0                       187           197   van  \n",
       "1                       189           199   van  \n",
       "2                       188           196  saab  \n",
       "3                       199           207   van  \n",
       "4                       180           183   bus  "
      ]
     },
     "execution_count": 4,
     "metadata": {},
     "output_type": "execute_result"
    }
   ],
   "source": [
    "data = pd.concat(data_frames)\n",
    "data.head()"
   ]
  },
  {
   "cell_type": "code",
   "execution_count": 5,
   "id": "9a060286",
   "metadata": {},
   "outputs": [
    {
     "data": {
      "text/plain": [
       "COMPACTNESS                         0\n",
       "CIRCULARITY                         0\n",
       "DISTANCE CIRCULARITY                0\n",
       "RADIUS RATIO                        0\n",
       "PR.AXIS ASPECT RATIO                0\n",
       "MAX.LENGTH ASPECT RATIO             0\n",
       "SCATTER RATIO                       0\n",
       "ELONGATEDNESS                       0\n",
       "PR.AXIS RECTANGULARITY              0\n",
       "MAX.LENGTH RECTANGULARITY           0\n",
       "SCALED VARIANCE ALONG MAJOR AXIS    0\n",
       "SCALED VARIANCE ALONG MINOR AXIS    0\n",
       "SCALED RADIUS OF GYRATION           0\n",
       "SKEWNESS ABOUT MAJOR AXIS           0\n",
       "SKEWNESS ABOUT MINOR AXIS           0\n",
       "KURTOSIS ABOUT MINOR AXIS           0\n",
       "KURTOSIS ABOUT MAJOR AXIS           0\n",
       "HOLLOWS RATIO                       0\n",
       "class                               0\n",
       "dtype: int64"
      ]
     },
     "execution_count": 5,
     "metadata": {},
     "output_type": "execute_result"
    }
   ],
   "source": [
    "data.isna().sum()"
   ]
  },
  {
   "cell_type": "code",
   "execution_count": 6,
   "id": "c698ec0f",
   "metadata": {},
   "outputs": [],
   "source": [
    "data['class'] = np.where(data['class']=='van',1,0)"
   ]
  },
  {
   "cell_type": "code",
   "execution_count": 7,
   "id": "ad9bfe9a",
   "metadata": {},
   "outputs": [],
   "source": [
    "from sklearn.preprocessing import MinMaxScaler"
   ]
  },
  {
   "cell_type": "code",
   "execution_count": 8,
   "id": "d815f649",
   "metadata": {},
   "outputs": [],
   "source": [
    "scaler = MinMaxScaler()\n",
    "model = scaler.fit(data)\n",
    "impute_data = model.transform(data)\n",
    "data = pd.DataFrame(impute_data,columns=names[:-1])"
   ]
  },
  {
   "cell_type": "code",
   "execution_count": 9,
   "id": "ba14128f",
   "metadata": {},
   "outputs": [
    {
     "data": {
      "text/html": [
       "<div>\n",
       "<style scoped>\n",
       "    .dataframe tbody tr th:only-of-type {\n",
       "        vertical-align: middle;\n",
       "    }\n",
       "\n",
       "    .dataframe tbody tr th {\n",
       "        vertical-align: top;\n",
       "    }\n",
       "\n",
       "    .dataframe thead th {\n",
       "        text-align: right;\n",
       "    }\n",
       "</style>\n",
       "<table border=\"1\" class=\"dataframe\">\n",
       "  <thead>\n",
       "    <tr style=\"text-align: right;\">\n",
       "      <th></th>\n",
       "      <th>COMPACTNESS</th>\n",
       "      <th>CIRCULARITY</th>\n",
       "      <th>DISTANCE CIRCULARITY</th>\n",
       "      <th>RADIUS RATIO</th>\n",
       "      <th>PR.AXIS ASPECT RATIO</th>\n",
       "      <th>MAX.LENGTH ASPECT RATIO</th>\n",
       "      <th>SCATTER RATIO</th>\n",
       "      <th>ELONGATEDNESS</th>\n",
       "      <th>PR.AXIS RECTANGULARITY</th>\n",
       "      <th>MAX.LENGTH RECTANGULARITY</th>\n",
       "      <th>SCALED VARIANCE ALONG MAJOR AXIS</th>\n",
       "      <th>SCALED VARIANCE ALONG MINOR AXIS</th>\n",
       "      <th>SCALED RADIUS OF GYRATION</th>\n",
       "      <th>SKEWNESS ABOUT MAJOR AXIS</th>\n",
       "      <th>SKEWNESS ABOUT MINOR AXIS</th>\n",
       "      <th>KURTOSIS ABOUT MINOR AXIS</th>\n",
       "      <th>KURTOSIS ABOUT MAJOR AXIS</th>\n",
       "      <th>HOLLOWS RATIO</th>\n",
       "      <th>class</th>\n",
       "    </tr>\n",
       "  </thead>\n",
       "  <tbody>\n",
       "    <tr>\n",
       "      <th>0</th>\n",
       "      <td>0.478261</td>\n",
       "      <td>0.576923</td>\n",
       "      <td>0.597222</td>\n",
       "      <td>0.323144</td>\n",
       "      <td>0.274725</td>\n",
       "      <td>0.150943</td>\n",
       "      <td>0.326797</td>\n",
       "      <td>0.457143</td>\n",
       "      <td>0.250000</td>\n",
       "      <td>0.585714</td>\n",
       "      <td>0.242105</td>\n",
       "      <td>0.233813</td>\n",
       "      <td>0.471698</td>\n",
       "      <td>0.144737</td>\n",
       "      <td>0.272727</td>\n",
       "      <td>0.390244</td>\n",
       "      <td>0.366667</td>\n",
       "      <td>0.533333</td>\n",
       "      <td>1.0</td>\n",
       "    </tr>\n",
       "    <tr>\n",
       "      <th>1</th>\n",
       "      <td>0.391304</td>\n",
       "      <td>0.307692</td>\n",
       "      <td>0.611111</td>\n",
       "      <td>0.161572</td>\n",
       "      <td>0.109890</td>\n",
       "      <td>0.132075</td>\n",
       "      <td>0.241830</td>\n",
       "      <td>0.542857</td>\n",
       "      <td>0.166667</td>\n",
       "      <td>0.357143</td>\n",
       "      <td>0.210526</td>\n",
       "      <td>0.175060</td>\n",
       "      <td>0.308176</td>\n",
       "      <td>0.171053</td>\n",
       "      <td>0.409091</td>\n",
       "      <td>0.341463</td>\n",
       "      <td>0.433333</td>\n",
       "      <td>0.600000</td>\n",
       "      <td>1.0</td>\n",
       "    </tr>\n",
       "    <tr>\n",
       "      <th>2</th>\n",
       "      <td>0.673913</td>\n",
       "      <td>0.653846</td>\n",
       "      <td>0.916667</td>\n",
       "      <td>0.458515</td>\n",
       "      <td>0.208791</td>\n",
       "      <td>0.150943</td>\n",
       "      <td>0.620915</td>\n",
       "      <td>0.171429</td>\n",
       "      <td>0.500000</td>\n",
       "      <td>0.571429</td>\n",
       "      <td>0.489474</td>\n",
       "      <td>0.540767</td>\n",
       "      <td>0.698113</td>\n",
       "      <td>0.184211</td>\n",
       "      <td>0.636364</td>\n",
       "      <td>0.219512</td>\n",
       "      <td>0.400000</td>\n",
       "      <td>0.500000</td>\n",
       "      <td>0.0</td>\n",
       "    </tr>\n",
       "    <tr>\n",
       "      <th>3</th>\n",
       "      <td>0.434783</td>\n",
       "      <td>0.307692</td>\n",
       "      <td>0.583333</td>\n",
       "      <td>0.240175</td>\n",
       "      <td>0.175824</td>\n",
       "      <td>0.132075</td>\n",
       "      <td>0.209150</td>\n",
       "      <td>0.571429</td>\n",
       "      <td>0.166667</td>\n",
       "      <td>0.357143</td>\n",
       "      <td>0.157895</td>\n",
       "      <td>0.149880</td>\n",
       "      <td>0.113208</td>\n",
       "      <td>0.052632</td>\n",
       "      <td>0.272727</td>\n",
       "      <td>0.243902</td>\n",
       "      <td>0.766667</td>\n",
       "      <td>0.866667</td>\n",
       "      <td>1.0</td>\n",
       "    </tr>\n",
       "    <tr>\n",
       "      <th>4</th>\n",
       "      <td>0.260870</td>\n",
       "      <td>0.423077</td>\n",
       "      <td>0.416667</td>\n",
       "      <td>0.441048</td>\n",
       "      <td>0.615385</td>\n",
       "      <td>0.943396</td>\n",
       "      <td>0.241830</td>\n",
       "      <td>0.542857</td>\n",
       "      <td>0.166667</td>\n",
       "      <td>0.371429</td>\n",
       "      <td>0.584211</td>\n",
       "      <td>0.169065</td>\n",
       "      <td>0.496855</td>\n",
       "      <td>0.894737</td>\n",
       "      <td>0.409091</td>\n",
       "      <td>0.268293</td>\n",
       "      <td>0.133333</td>\n",
       "      <td>0.066667</td>\n",
       "      <td>0.0</td>\n",
       "    </tr>\n",
       "  </tbody>\n",
       "</table>\n",
       "</div>"
      ],
      "text/plain": [
       "   COMPACTNESS  CIRCULARITY  DISTANCE CIRCULARITY  RADIUS RATIO  \\\n",
       "0     0.478261     0.576923              0.597222      0.323144   \n",
       "1     0.391304     0.307692              0.611111      0.161572   \n",
       "2     0.673913     0.653846              0.916667      0.458515   \n",
       "3     0.434783     0.307692              0.583333      0.240175   \n",
       "4     0.260870     0.423077              0.416667      0.441048   \n",
       "\n",
       "   PR.AXIS ASPECT RATIO  MAX.LENGTH ASPECT RATIO  SCATTER RATIO  \\\n",
       "0              0.274725                 0.150943       0.326797   \n",
       "1              0.109890                 0.132075       0.241830   \n",
       "2              0.208791                 0.150943       0.620915   \n",
       "3              0.175824                 0.132075       0.209150   \n",
       "4              0.615385                 0.943396       0.241830   \n",
       "\n",
       "   ELONGATEDNESS  PR.AXIS RECTANGULARITY  MAX.LENGTH RECTANGULARITY  \\\n",
       "0       0.457143                0.250000                   0.585714   \n",
       "1       0.542857                0.166667                   0.357143   \n",
       "2       0.171429                0.500000                   0.571429   \n",
       "3       0.571429                0.166667                   0.357143   \n",
       "4       0.542857                0.166667                   0.371429   \n",
       "\n",
       "   SCALED VARIANCE ALONG MAJOR AXIS  SCALED VARIANCE ALONG MINOR AXIS  \\\n",
       "0                          0.242105                          0.233813   \n",
       "1                          0.210526                          0.175060   \n",
       "2                          0.489474                          0.540767   \n",
       "3                          0.157895                          0.149880   \n",
       "4                          0.584211                          0.169065   \n",
       "\n",
       "   SCALED RADIUS OF GYRATION  SKEWNESS ABOUT MAJOR AXIS  \\\n",
       "0                   0.471698                   0.144737   \n",
       "1                   0.308176                   0.171053   \n",
       "2                   0.698113                   0.184211   \n",
       "3                   0.113208                   0.052632   \n",
       "4                   0.496855                   0.894737   \n",
       "\n",
       "   SKEWNESS ABOUT MINOR AXIS  KURTOSIS ABOUT MINOR AXIS  \\\n",
       "0                   0.272727                   0.390244   \n",
       "1                   0.409091                   0.341463   \n",
       "2                   0.636364                   0.219512   \n",
       "3                   0.272727                   0.243902   \n",
       "4                   0.409091                   0.268293   \n",
       "\n",
       "   KURTOSIS ABOUT MAJOR AXIS  HOLLOWS RATIO  class  \n",
       "0                   0.366667       0.533333    1.0  \n",
       "1                   0.433333       0.600000    1.0  \n",
       "2                   0.400000       0.500000    0.0  \n",
       "3                   0.766667       0.866667    1.0  \n",
       "4                   0.133333       0.066667    0.0  "
      ]
     },
     "execution_count": 9,
     "metadata": {},
     "output_type": "execute_result"
    }
   ],
   "source": [
    "data.head()"
   ]
  },
  {
   "cell_type": "markdown",
   "id": "00e916a1",
   "metadata": {},
   "source": [
    "## DATA RESAMPLING"
   ]
  },
  {
   "cell_type": "markdown",
   "id": "b79dc99f",
   "metadata": {},
   "source": [
    "### GENERATING TEST DATA"
   ]
  },
  {
   "cell_type": "code",
   "execution_count": 10,
   "id": "9625d61e",
   "metadata": {},
   "outputs": [],
   "source": [
    "X = data.drop(['class'],axis=1)\n",
    "y = data['class']"
   ]
  },
  {
   "cell_type": "code",
   "execution_count": 11,
   "id": "bcdd7dfa",
   "metadata": {},
   "outputs": [],
   "source": [
    "from sklearn.model_selection import train_test_split\n",
    "x_train,x_test,y_train,y_test = train_test_split(X,y,test_size=0.15,random_state=42)"
   ]
  },
  {
   "cell_type": "code",
   "execution_count": 12,
   "id": "4ec6e591",
   "metadata": {},
   "outputs": [
    {
     "name": "stdout",
     "output_type": "stream",
     "text": [
      "168 551 31 96\n"
     ]
    }
   ],
   "source": [
    "print(sum(y_train==1)\n",
    ",sum(y_train==0)\n",
    ",sum(y_test==1)\n",
    ",sum(y_test==0)\n",
    "     )"
   ]
  },
  {
   "cell_type": "code",
   "execution_count": 13,
   "id": "791e4ae4",
   "metadata": {},
   "outputs": [
    {
     "data": {
      "text/plain": [
       "0.3075734157650695"
      ]
     },
     "execution_count": 13,
     "metadata": {},
     "output_type": "execute_result"
    }
   ],
   "source": [
    "(sum(y_train==1)+sum(y_test==1))/(sum(y_train==0)+sum(y_test==0))"
   ]
  },
  {
   "cell_type": "code",
   "execution_count": 14,
   "id": "0daab58b",
   "metadata": {},
   "outputs": [],
   "source": [
    "x_test.to_csv(\"vehicle_test_data.csv\",index=False)\n",
    "y_test.to_csv(\"vehicle_test_label.csv\",index=False)"
   ]
  },
  {
   "cell_type": "code",
   "execution_count": 15,
   "id": "ac8f3fc0",
   "metadata": {},
   "outputs": [],
   "source": [
    "x_train.to_csv(\"vehicle_train_data.csv\",index=False)\n",
    "y_train.to_csv(\"vehicle_train_label.csv\",index=False)"
   ]
  },
  {
   "cell_type": "markdown",
   "id": "328d040c",
   "metadata": {},
   "source": [
    "### GENERATING EXT_IMB DATASET(05:95)"
   ]
  },
  {
   "cell_type": "code",
   "execution_count": 15,
   "id": "cc817915",
   "metadata": {},
   "outputs": [],
   "source": [
    "from collections import Counter\n",
    "from sklearn.datasets import make_classification\n",
    "from imblearn.over_sampling import ADASYN \n",
    "from imblearn.under_sampling import RandomUnderSampler"
   ]
  },
  {
   "cell_type": "code",
   "execution_count": 16,
   "id": "b648a3ab",
   "metadata": {},
   "outputs": [
    {
     "name": "stdout",
     "output_type": "stream",
     "text": [
      "Original dataset shape Counter({0.0: 551, 1.0: 168})\n"
     ]
    }
   ],
   "source": [
    "X, y = x_train,y_train\n",
    "print('Original dataset shape %s' % Counter(y))"
   ]
  },
  {
   "cell_type": "code",
   "execution_count": 17,
   "id": "5ff308b1",
   "metadata": {},
   "outputs": [
    {
     "name": "stderr",
     "output_type": "stream",
     "text": [
      "/Applications/Utilities/anaconda3/lib/python3.8/site-packages/imblearn/utils/_validation.py:318: UserWarning: After over-sampling, the number of samples (683) in class 0 will be larger than the number of samples in the majority class (class #0.0 -> 551)\n",
      "  warnings.warn(\n"
     ]
    },
    {
     "name": "stdout",
     "output_type": "stream",
     "text": [
      "Resampled dataset shape After oversampling majority class Counter({0.0: 693, 1.0: 168})\n",
      "Resampled dataset shape with 05:95 ratioCounter({0.0: 693, 1.0: 36})\n"
     ]
    }
   ],
   "source": [
    "no_minority, no_majority = (Counter(y)[1]+Counter(y)[0])*0.05,(Counter(y)[1]+Counter(y)[0])*0.95\n",
    "ada = ADASYN(random_state=42,sampling_strategy={1:Counter(y)[1],0:round(no_majority)})\n",
    "X_res, y_res = ada.fit_resample(X, y)\n",
    "print('Resampled dataset shape After oversampling majority class %s' % Counter(y_res))\n",
    "\n",
    "rnd = RandomUnderSampler(random_state=42,sampling_strategy={1:round(no_minority),0:Counter(y_res)[0]})\n",
    "X_final, y_final = rnd.fit_resample(X_res, y_res)\n",
    "print('Resampled dataset shape with 05:95 ratio%s' % Counter(y_final))"
   ]
  },
  {
   "cell_type": "code",
   "execution_count": 18,
   "id": "dae0e034",
   "metadata": {},
   "outputs": [],
   "source": [
    "X_final.to_csv(\"vehicle_ext_imb_data.csv\",index=False)\n",
    "y_final.to_csv(\"vehicle_ext_imb_label.csv\",index=False)"
   ]
  },
  {
   "cell_type": "markdown",
   "id": "6a5bd03d",
   "metadata": {},
   "source": [
    "### GENERATING 15285_IMB DATASET(15:85)"
   ]
  },
  {
   "cell_type": "code",
   "execution_count": 19,
   "id": "13fafa7c",
   "metadata": {},
   "outputs": [
    {
     "name": "stdout",
     "output_type": "stream",
     "text": [
      "Original dataset shape Counter({0.0: 551, 1.0: 168})\n"
     ]
    }
   ],
   "source": [
    "X, y = x_train,y_train\n",
    "print('Original dataset shape %s' % Counter(y))"
   ]
  },
  {
   "cell_type": "code",
   "execution_count": 20,
   "id": "67206249",
   "metadata": {},
   "outputs": [
    {
     "name": "stdout",
     "output_type": "stream",
     "text": [
      "Resampled dataset shape After oversampling majority class Counter({0.0: 603, 1.0: 168})\n",
      "Resampled dataset shape with 15:85 ratioCounter({0.0: 603, 1.0: 108})\n"
     ]
    },
    {
     "name": "stderr",
     "output_type": "stream",
     "text": [
      "/Applications/Utilities/anaconda3/lib/python3.8/site-packages/imblearn/utils/_validation.py:318: UserWarning: After over-sampling, the number of samples (611) in class 0 will be larger than the number of samples in the majority class (class #0.0 -> 551)\n",
      "  warnings.warn(\n"
     ]
    }
   ],
   "source": [
    "no_minority, no_majority = (Counter(y)[1]+Counter(y)[0])*0.15,(Counter(y)[1]+Counter(y)[0])*0.85\n",
    "ada = ADASYN(random_state=42,sampling_strategy={1:Counter(y)[1],0:round(no_majority)})\n",
    "X_res, y_res = ada.fit_resample(X, y)\n",
    "print('Resampled dataset shape After oversampling majority class %s' % Counter(y_res))\n",
    "\n",
    "rnd = RandomUnderSampler(random_state=42,sampling_strategy={1:round(no_minority),0:Counter(y_res)[0]})\n",
    "X_final, y_final = rnd.fit_resample(X_res, y_res)\n",
    "print('Resampled dataset shape with 15:85 ratio%s' % Counter(y_final))"
   ]
  },
  {
   "cell_type": "code",
   "execution_count": 21,
   "id": "0f3e96a2",
   "metadata": {},
   "outputs": [],
   "source": [
    "X_final.to_csv(\"vehicle_15285_imb_data.csv\",index=False)\n",
    "y_final.to_csv(\"vehicle_15285_imb_label.csv\",index=False)"
   ]
  },
  {
   "cell_type": "markdown",
   "id": "43a33e7c",
   "metadata": {},
   "source": [
    "### GENERATING MOD_IMB DATASET(30:70)"
   ]
  },
  {
   "cell_type": "code",
   "execution_count": 22,
   "id": "d363e721",
   "metadata": {},
   "outputs": [
    {
     "name": "stdout",
     "output_type": "stream",
     "text": [
      "Original dataset shape Counter({0.0: 551, 1.0: 168})\n"
     ]
    }
   ],
   "source": [
    "X, y = x_train,y_train\n",
    "print('Original dataset shape %s' % Counter(y))"
   ]
  },
  {
   "cell_type": "code",
   "execution_count": 23,
   "id": "e13384f8",
   "metadata": {},
   "outputs": [
    {
     "name": "stdout",
     "output_type": "stream",
     "text": [
      "Resampled dataset shape After oversampling minority class Counter({0.0: 551, 1.0: 220})\n",
      "Resampled dataset shape with 30:70 ratioCounter({0.0: 503, 1.0: 220})\n"
     ]
    }
   ],
   "source": [
    "no_minority, no_majority = (Counter(y)[1]+Counter(y)[0])*0.3,(Counter(y)[1]+Counter(y)[0])*0.7\n",
    "ada = ADASYN(random_state=42,sampling_strategy={0:Counter(y)[0],1:round(no_minority)})\n",
    "X_res, y_res = ada.fit_resample(X, y)\n",
    "print('Resampled dataset shape After oversampling minority class %s' % Counter(y_res))\n",
    "\n",
    "rnd = RandomUnderSampler(random_state=42,sampling_strategy={0:round(no_majority),1:Counter(y_res)[1]})\n",
    "X_final, y_final = rnd.fit_resample(X_res, y_res)\n",
    "print('Resampled dataset shape with 30:70 ratio%s' % Counter(y_final))"
   ]
  },
  {
   "cell_type": "code",
   "execution_count": 24,
   "id": "0a3094d2",
   "metadata": {},
   "outputs": [],
   "source": [
    "X_final.to_csv(\"vehicle_mod_imb_data.csv\",index=False)\n",
    "y_final.to_csv(\"vehicle_mod_imb_label.csv\",index=False)"
   ]
  },
  {
   "cell_type": "markdown",
   "id": "223228e3",
   "metadata": {},
   "source": [
    "### GENERATING NO_IMB DATASET(50:50)"
   ]
  },
  {
   "cell_type": "code",
   "execution_count": 25,
   "id": "f61f1855",
   "metadata": {},
   "outputs": [
    {
     "name": "stdout",
     "output_type": "stream",
     "text": [
      "Original dataset shape Counter({0.0: 551, 1.0: 168})\n"
     ]
    }
   ],
   "source": [
    "X, y = x_train,y_train\n",
    "print('Original dataset shape %s' % Counter(y))"
   ]
  },
  {
   "cell_type": "code",
   "execution_count": 26,
   "id": "e51915bd",
   "metadata": {},
   "outputs": [
    {
     "name": "stdout",
     "output_type": "stream",
     "text": [
      "Resampled dataset shape with 50:50 Counter({0.0: 551, 1.0: 536})\n"
     ]
    }
   ],
   "source": [
    "ada = ADASYN(random_state=42)\n",
    "X_res, y_res = ada.fit_resample(X, y)\n",
    "print('Resampled dataset shape with 50:50 %s' % Counter(y_res))"
   ]
  },
  {
   "cell_type": "code",
   "execution_count": 27,
   "id": "fc796055",
   "metadata": {},
   "outputs": [],
   "source": [
    "X_res.to_csv(\"vehicle_no_imb_data.csv\",index=False)\n",
    "y_res.to_csv(\"vehicle_no_imb_label.csv\",index=False)"
   ]
  }
 ],
 "metadata": {
  "kernelspec": {
   "display_name": "Python 3",
   "language": "python",
   "name": "python3"
  },
  "language_info": {
   "codemirror_mode": {
    "name": "ipython",
    "version": 3
   },
   "file_extension": ".py",
   "mimetype": "text/x-python",
   "name": "python",
   "nbconvert_exporter": "python",
   "pygments_lexer": "ipython3",
   "version": "3.8.8"
  }
 },
 "nbformat": 4,
 "nbformat_minor": 5
}
