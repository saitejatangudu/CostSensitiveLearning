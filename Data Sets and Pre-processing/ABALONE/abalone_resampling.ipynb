{
 "cells": [
  {
   "cell_type": "code",
   "execution_count": 3,
   "id": "4613ac52",
   "metadata": {},
   "outputs": [
    {
     "data": {
      "text/html": [
       "<div>\n",
       "<style scoped>\n",
       "    .dataframe tbody tr th:only-of-type {\n",
       "        vertical-align: middle;\n",
       "    }\n",
       "\n",
       "    .dataframe tbody tr th {\n",
       "        vertical-align: top;\n",
       "    }\n",
       "\n",
       "    .dataframe thead th {\n",
       "        text-align: right;\n",
       "    }\n",
       "</style>\n",
       "<table border=\"1\" class=\"dataframe\">\n",
       "  <thead>\n",
       "    <tr style=\"text-align: right;\">\n",
       "      <th></th>\n",
       "      <th>Sex</th>\n",
       "      <th>Length</th>\n",
       "      <th>Diameter</th>\n",
       "      <th>Height</th>\n",
       "      <th>whole weight</th>\n",
       "      <th>Shucked weight</th>\n",
       "      <th>Viscera weight</th>\n",
       "      <th>Shell weight</th>\n",
       "      <th>Rings</th>\n",
       "    </tr>\n",
       "  </thead>\n",
       "  <tbody>\n",
       "    <tr>\n",
       "      <th>0</th>\n",
       "      <td>M</td>\n",
       "      <td>0.455</td>\n",
       "      <td>0.365</td>\n",
       "      <td>0.095</td>\n",
       "      <td>0.5140</td>\n",
       "      <td>0.2245</td>\n",
       "      <td>0.1010</td>\n",
       "      <td>0.150</td>\n",
       "      <td>15</td>\n",
       "    </tr>\n",
       "    <tr>\n",
       "      <th>1</th>\n",
       "      <td>M</td>\n",
       "      <td>0.350</td>\n",
       "      <td>0.265</td>\n",
       "      <td>0.090</td>\n",
       "      <td>0.2255</td>\n",
       "      <td>0.0995</td>\n",
       "      <td>0.0485</td>\n",
       "      <td>0.070</td>\n",
       "      <td>7</td>\n",
       "    </tr>\n",
       "    <tr>\n",
       "      <th>2</th>\n",
       "      <td>F</td>\n",
       "      <td>0.530</td>\n",
       "      <td>0.420</td>\n",
       "      <td>0.135</td>\n",
       "      <td>0.6770</td>\n",
       "      <td>0.2565</td>\n",
       "      <td>0.1415</td>\n",
       "      <td>0.210</td>\n",
       "      <td>9</td>\n",
       "    </tr>\n",
       "    <tr>\n",
       "      <th>3</th>\n",
       "      <td>M</td>\n",
       "      <td>0.440</td>\n",
       "      <td>0.365</td>\n",
       "      <td>0.125</td>\n",
       "      <td>0.5160</td>\n",
       "      <td>0.2155</td>\n",
       "      <td>0.1140</td>\n",
       "      <td>0.155</td>\n",
       "      <td>10</td>\n",
       "    </tr>\n",
       "    <tr>\n",
       "      <th>4</th>\n",
       "      <td>I</td>\n",
       "      <td>0.330</td>\n",
       "      <td>0.255</td>\n",
       "      <td>0.080</td>\n",
       "      <td>0.2050</td>\n",
       "      <td>0.0895</td>\n",
       "      <td>0.0395</td>\n",
       "      <td>0.055</td>\n",
       "      <td>7</td>\n",
       "    </tr>\n",
       "  </tbody>\n",
       "</table>\n",
       "</div>"
      ],
      "text/plain": [
       "  Sex  Length  Diameter  Height  whole weight  Shucked weight  Viscera weight  \\\n",
       "0   M   0.455     0.365   0.095        0.5140          0.2245          0.1010   \n",
       "1   M   0.350     0.265   0.090        0.2255          0.0995          0.0485   \n",
       "2   F   0.530     0.420   0.135        0.6770          0.2565          0.1415   \n",
       "3   M   0.440     0.365   0.125        0.5160          0.2155          0.1140   \n",
       "4   I   0.330     0.255   0.080        0.2050          0.0895          0.0395   \n",
       "\n",
       "   Shell weight  Rings  \n",
       "0         0.150     15  \n",
       "1         0.070      7  \n",
       "2         0.210      9  \n",
       "3         0.155     10  \n",
       "4         0.055      7  "
      ]
     },
     "execution_count": 3,
     "metadata": {},
     "output_type": "execute_result"
    }
   ],
   "source": [
    "import numpy as np\n",
    "import pandas as pd\n",
    "names = [\"Sex\", \n",
    "\"Length\",\n",
    "\"Diameter\",\n",
    "\"Height\",\n",
    "\"whole weight\",\n",
    "\"Shucked weight\",\n",
    "\"Viscera weight\",\n",
    "\"Shell weight\",\n",
    "\"Rings\"]\n",
    "data = pd.read_csv(\"https://archive.ics.uci.edu/ml/machine-learning-databases/abalone/abalone.data\",\n",
    "                  names = names)\n",
    "data.head()"
   ]
  },
  {
   "cell_type": "code",
   "execution_count": 4,
   "id": "35d5776f",
   "metadata": {},
   "outputs": [
    {
     "data": {
      "text/plain": [
       "Counter({'M': 1528, 'F': 1307, 'I': 1342})"
      ]
     },
     "execution_count": 4,
     "metadata": {},
     "output_type": "execute_result"
    }
   ],
   "source": [
    "from collections import Counter\n",
    "Counter(data[\"Sex\"])"
   ]
  },
  {
   "cell_type": "code",
   "execution_count": 5,
   "id": "d3e8b423",
   "metadata": {},
   "outputs": [],
   "source": [
    "df_gender = pd.get_dummies(data['Sex'])\n",
    "data = pd.concat([data, df_gender], axis=1)\n",
    "data.drop(['Sex'],axis=1,inplace=True)"
   ]
  },
  {
   "cell_type": "code",
   "execution_count": 6,
   "id": "abc4267a",
   "metadata": {},
   "outputs": [],
   "source": [
    "minority_class = data[data.Rings==18]"
   ]
  },
  {
   "cell_type": "code",
   "execution_count": 7,
   "id": "32f3a266",
   "metadata": {},
   "outputs": [],
   "source": [
    "majority_class = data[data.Rings==9]"
   ]
  },
  {
   "cell_type": "code",
   "execution_count": 8,
   "id": "0c9e3aa9",
   "metadata": {},
   "outputs": [],
   "source": [
    "data = pd.concat([minority_class,majority_class],ignore_index=True)"
   ]
  },
  {
   "cell_type": "code",
   "execution_count": 9,
   "id": "525dd67d",
   "metadata": {},
   "outputs": [
    {
     "data": {
      "text/html": [
       "<div>\n",
       "<style scoped>\n",
       "    .dataframe tbody tr th:only-of-type {\n",
       "        vertical-align: middle;\n",
       "    }\n",
       "\n",
       "    .dataframe tbody tr th {\n",
       "        vertical-align: top;\n",
       "    }\n",
       "\n",
       "    .dataframe thead th {\n",
       "        text-align: right;\n",
       "    }\n",
       "</style>\n",
       "<table border=\"1\" class=\"dataframe\">\n",
       "  <thead>\n",
       "    <tr style=\"text-align: right;\">\n",
       "      <th></th>\n",
       "      <th>Length</th>\n",
       "      <th>Diameter</th>\n",
       "      <th>Height</th>\n",
       "      <th>whole weight</th>\n",
       "      <th>Shucked weight</th>\n",
       "      <th>Viscera weight</th>\n",
       "      <th>Shell weight</th>\n",
       "      <th>Rings</th>\n",
       "      <th>F</th>\n",
       "      <th>I</th>\n",
       "      <th>M</th>\n",
       "    </tr>\n",
       "  </thead>\n",
       "  <tbody>\n",
       "    <tr>\n",
       "      <th>0</th>\n",
       "      <td>0.665</td>\n",
       "      <td>0.525</td>\n",
       "      <td>0.165</td>\n",
       "      <td>1.3380</td>\n",
       "      <td>0.5515</td>\n",
       "      <td>0.3575</td>\n",
       "      <td>0.350</td>\n",
       "      <td>18</td>\n",
       "      <td>0</td>\n",
       "      <td>0</td>\n",
       "      <td>1</td>\n",
       "    </tr>\n",
       "    <tr>\n",
       "      <th>1</th>\n",
       "      <td>0.710</td>\n",
       "      <td>0.540</td>\n",
       "      <td>0.165</td>\n",
       "      <td>1.9590</td>\n",
       "      <td>0.7665</td>\n",
       "      <td>0.2610</td>\n",
       "      <td>0.780</td>\n",
       "      <td>18</td>\n",
       "      <td>0</td>\n",
       "      <td>0</td>\n",
       "      <td>1</td>\n",
       "    </tr>\n",
       "    <tr>\n",
       "      <th>2</th>\n",
       "      <td>0.725</td>\n",
       "      <td>0.560</td>\n",
       "      <td>0.210</td>\n",
       "      <td>2.1410</td>\n",
       "      <td>0.6500</td>\n",
       "      <td>0.3980</td>\n",
       "      <td>1.005</td>\n",
       "      <td>18</td>\n",
       "      <td>1</td>\n",
       "      <td>0</td>\n",
       "      <td>0</td>\n",
       "    </tr>\n",
       "    <tr>\n",
       "      <th>3</th>\n",
       "      <td>0.610</td>\n",
       "      <td>0.500</td>\n",
       "      <td>0.240</td>\n",
       "      <td>1.6420</td>\n",
       "      <td>0.5320</td>\n",
       "      <td>0.3345</td>\n",
       "      <td>0.690</td>\n",
       "      <td>18</td>\n",
       "      <td>0</td>\n",
       "      <td>0</td>\n",
       "      <td>1</td>\n",
       "    </tr>\n",
       "    <tr>\n",
       "      <th>4</th>\n",
       "      <td>0.580</td>\n",
       "      <td>0.455</td>\n",
       "      <td>0.155</td>\n",
       "      <td>0.8365</td>\n",
       "      <td>0.3150</td>\n",
       "      <td>0.1385</td>\n",
       "      <td>0.320</td>\n",
       "      <td>18</td>\n",
       "      <td>1</td>\n",
       "      <td>0</td>\n",
       "      <td>0</td>\n",
       "    </tr>\n",
       "  </tbody>\n",
       "</table>\n",
       "</div>"
      ],
      "text/plain": [
       "   Length  Diameter  Height  whole weight  Shucked weight  Viscera weight  \\\n",
       "0   0.665     0.525   0.165        1.3380          0.5515          0.3575   \n",
       "1   0.710     0.540   0.165        1.9590          0.7665          0.2610   \n",
       "2   0.725     0.560   0.210        2.1410          0.6500          0.3980   \n",
       "3   0.610     0.500   0.240        1.6420          0.5320          0.3345   \n",
       "4   0.580     0.455   0.155        0.8365          0.3150          0.1385   \n",
       "\n",
       "   Shell weight  Rings  F  I  M  \n",
       "0         0.350     18  0  0  1  \n",
       "1         0.780     18  0  0  1  \n",
       "2         1.005     18  1  0  0  \n",
       "3         0.690     18  0  0  1  \n",
       "4         0.320     18  1  0  0  "
      ]
     },
     "execution_count": 9,
     "metadata": {},
     "output_type": "execute_result"
    }
   ],
   "source": [
    "columns=data.columns\n",
    "data.head()"
   ]
  },
  {
   "cell_type": "code",
   "execution_count": 10,
   "id": "9cefa809",
   "metadata": {},
   "outputs": [],
   "source": [
    "data[\"Rings\"] = np.where(data[\"Rings\"]==18,1,0)"
   ]
  },
  {
   "cell_type": "code",
   "execution_count": 11,
   "id": "2ee4fb23",
   "metadata": {},
   "outputs": [
    {
     "data": {
      "text/html": [
       "<div>\n",
       "<style scoped>\n",
       "    .dataframe tbody tr th:only-of-type {\n",
       "        vertical-align: middle;\n",
       "    }\n",
       "\n",
       "    .dataframe tbody tr th {\n",
       "        vertical-align: top;\n",
       "    }\n",
       "\n",
       "    .dataframe thead th {\n",
       "        text-align: right;\n",
       "    }\n",
       "</style>\n",
       "<table border=\"1\" class=\"dataframe\">\n",
       "  <thead>\n",
       "    <tr style=\"text-align: right;\">\n",
       "      <th></th>\n",
       "      <th>Length</th>\n",
       "      <th>Diameter</th>\n",
       "      <th>Height</th>\n",
       "      <th>whole weight</th>\n",
       "      <th>Shucked weight</th>\n",
       "      <th>Viscera weight</th>\n",
       "      <th>Shell weight</th>\n",
       "      <th>Rings</th>\n",
       "      <th>F</th>\n",
       "      <th>I</th>\n",
       "      <th>M</th>\n",
       "    </tr>\n",
       "  </thead>\n",
       "  <tbody>\n",
       "    <tr>\n",
       "      <th>0</th>\n",
       "      <td>0.665</td>\n",
       "      <td>0.525</td>\n",
       "      <td>0.165</td>\n",
       "      <td>1.3380</td>\n",
       "      <td>0.5515</td>\n",
       "      <td>0.3575</td>\n",
       "      <td>0.350</td>\n",
       "      <td>1</td>\n",
       "      <td>0</td>\n",
       "      <td>0</td>\n",
       "      <td>1</td>\n",
       "    </tr>\n",
       "    <tr>\n",
       "      <th>1</th>\n",
       "      <td>0.710</td>\n",
       "      <td>0.540</td>\n",
       "      <td>0.165</td>\n",
       "      <td>1.9590</td>\n",
       "      <td>0.7665</td>\n",
       "      <td>0.2610</td>\n",
       "      <td>0.780</td>\n",
       "      <td>1</td>\n",
       "      <td>0</td>\n",
       "      <td>0</td>\n",
       "      <td>1</td>\n",
       "    </tr>\n",
       "    <tr>\n",
       "      <th>2</th>\n",
       "      <td>0.725</td>\n",
       "      <td>0.560</td>\n",
       "      <td>0.210</td>\n",
       "      <td>2.1410</td>\n",
       "      <td>0.6500</td>\n",
       "      <td>0.3980</td>\n",
       "      <td>1.005</td>\n",
       "      <td>1</td>\n",
       "      <td>1</td>\n",
       "      <td>0</td>\n",
       "      <td>0</td>\n",
       "    </tr>\n",
       "    <tr>\n",
       "      <th>3</th>\n",
       "      <td>0.610</td>\n",
       "      <td>0.500</td>\n",
       "      <td>0.240</td>\n",
       "      <td>1.6420</td>\n",
       "      <td>0.5320</td>\n",
       "      <td>0.3345</td>\n",
       "      <td>0.690</td>\n",
       "      <td>1</td>\n",
       "      <td>0</td>\n",
       "      <td>0</td>\n",
       "      <td>1</td>\n",
       "    </tr>\n",
       "    <tr>\n",
       "      <th>4</th>\n",
       "      <td>0.580</td>\n",
       "      <td>0.455</td>\n",
       "      <td>0.155</td>\n",
       "      <td>0.8365</td>\n",
       "      <td>0.3150</td>\n",
       "      <td>0.1385</td>\n",
       "      <td>0.320</td>\n",
       "      <td>1</td>\n",
       "      <td>1</td>\n",
       "      <td>0</td>\n",
       "      <td>0</td>\n",
       "    </tr>\n",
       "  </tbody>\n",
       "</table>\n",
       "</div>"
      ],
      "text/plain": [
       "   Length  Diameter  Height  whole weight  Shucked weight  Viscera weight  \\\n",
       "0   0.665     0.525   0.165        1.3380          0.5515          0.3575   \n",
       "1   0.710     0.540   0.165        1.9590          0.7665          0.2610   \n",
       "2   0.725     0.560   0.210        2.1410          0.6500          0.3980   \n",
       "3   0.610     0.500   0.240        1.6420          0.5320          0.3345   \n",
       "4   0.580     0.455   0.155        0.8365          0.3150          0.1385   \n",
       "\n",
       "   Shell weight  Rings  F  I  M  \n",
       "0         0.350      1  0  0  1  \n",
       "1         0.780      1  0  0  1  \n",
       "2         1.005      1  1  0  0  \n",
       "3         0.690      1  0  0  1  \n",
       "4         0.320      1  1  0  0  "
      ]
     },
     "execution_count": 11,
     "metadata": {},
     "output_type": "execute_result"
    }
   ],
   "source": [
    "data.head()"
   ]
  },
  {
   "cell_type": "code",
   "execution_count": 12,
   "id": "7426a499",
   "metadata": {},
   "outputs": [
    {
     "name": "stdout",
     "output_type": "stream",
     "text": [
      "42 689\n"
     ]
    }
   ],
   "source": [
    "print(sum(data['Rings']==1),\n",
    "sum(data['Rings']==0))"
   ]
  },
  {
   "cell_type": "code",
   "execution_count": 13,
   "id": "c4809ed1",
   "metadata": {},
   "outputs": [],
   "source": [
    "from sklearn.preprocessing import MinMaxScaler"
   ]
  },
  {
   "cell_type": "code",
   "execution_count": 14,
   "id": "c09c163c",
   "metadata": {},
   "outputs": [
    {
     "data": {
      "text/html": [
       "<div>\n",
       "<style scoped>\n",
       "    .dataframe tbody tr th:only-of-type {\n",
       "        vertical-align: middle;\n",
       "    }\n",
       "\n",
       "    .dataframe tbody tr th {\n",
       "        vertical-align: top;\n",
       "    }\n",
       "\n",
       "    .dataframe thead th {\n",
       "        text-align: right;\n",
       "    }\n",
       "</style>\n",
       "<table border=\"1\" class=\"dataframe\">\n",
       "  <thead>\n",
       "    <tr style=\"text-align: right;\">\n",
       "      <th></th>\n",
       "      <th>Length</th>\n",
       "      <th>Diameter</th>\n",
       "      <th>Height</th>\n",
       "      <th>whole weight</th>\n",
       "      <th>Shucked weight</th>\n",
       "      <th>Viscera weight</th>\n",
       "      <th>Shell weight</th>\n",
       "      <th>Rings</th>\n",
       "      <th>F</th>\n",
       "      <th>I</th>\n",
       "      <th>M</th>\n",
       "    </tr>\n",
       "  </thead>\n",
       "  <tbody>\n",
       "    <tr>\n",
       "      <th>0</th>\n",
       "      <td>0.827957</td>\n",
       "      <td>0.842105</td>\n",
       "      <td>0.666667</td>\n",
       "      <td>0.550193</td>\n",
       "      <td>0.419048</td>\n",
       "      <td>0.641251</td>\n",
       "      <td>0.321244</td>\n",
       "      <td>1.0</td>\n",
       "      <td>0.0</td>\n",
       "      <td>0.0</td>\n",
       "      <td>1.0</td>\n",
       "    </tr>\n",
       "    <tr>\n",
       "      <th>1</th>\n",
       "      <td>0.924731</td>\n",
       "      <td>0.881579</td>\n",
       "      <td>0.666667</td>\n",
       "      <td>0.831634</td>\n",
       "      <td>0.597101</td>\n",
       "      <td>0.452590</td>\n",
       "      <td>0.766839</td>\n",
       "      <td>1.0</td>\n",
       "      <td>0.0</td>\n",
       "      <td>0.0</td>\n",
       "      <td>1.0</td>\n",
       "    </tr>\n",
       "    <tr>\n",
       "      <th>2</th>\n",
       "      <td>0.956989</td>\n",
       "      <td>0.934211</td>\n",
       "      <td>0.866667</td>\n",
       "      <td>0.914117</td>\n",
       "      <td>0.500621</td>\n",
       "      <td>0.720430</td>\n",
       "      <td>1.000000</td>\n",
       "      <td>1.0</td>\n",
       "      <td>1.0</td>\n",
       "      <td>0.0</td>\n",
       "      <td>0.0</td>\n",
       "    </tr>\n",
       "    <tr>\n",
       "      <th>3</th>\n",
       "      <td>0.709677</td>\n",
       "      <td>0.776316</td>\n",
       "      <td>1.000000</td>\n",
       "      <td>0.687967</td>\n",
       "      <td>0.402899</td>\n",
       "      <td>0.596285</td>\n",
       "      <td>0.673575</td>\n",
       "      <td>1.0</td>\n",
       "      <td>0.0</td>\n",
       "      <td>0.0</td>\n",
       "      <td>1.0</td>\n",
       "    </tr>\n",
       "    <tr>\n",
       "      <th>4</th>\n",
       "      <td>0.645161</td>\n",
       "      <td>0.657895</td>\n",
       "      <td>0.622222</td>\n",
       "      <td>0.322910</td>\n",
       "      <td>0.223188</td>\n",
       "      <td>0.213099</td>\n",
       "      <td>0.290155</td>\n",
       "      <td>1.0</td>\n",
       "      <td>1.0</td>\n",
       "      <td>0.0</td>\n",
       "      <td>0.0</td>\n",
       "    </tr>\n",
       "  </tbody>\n",
       "</table>\n",
       "</div>"
      ],
      "text/plain": [
       "     Length  Diameter    Height  whole weight  Shucked weight  Viscera weight  \\\n",
       "0  0.827957  0.842105  0.666667      0.550193        0.419048        0.641251   \n",
       "1  0.924731  0.881579  0.666667      0.831634        0.597101        0.452590   \n",
       "2  0.956989  0.934211  0.866667      0.914117        0.500621        0.720430   \n",
       "3  0.709677  0.776316  1.000000      0.687967        0.402899        0.596285   \n",
       "4  0.645161  0.657895  0.622222      0.322910        0.223188        0.213099   \n",
       "\n",
       "   Shell weight  Rings    F    I    M  \n",
       "0      0.321244    1.0  0.0  0.0  1.0  \n",
       "1      0.766839    1.0  0.0  0.0  1.0  \n",
       "2      1.000000    1.0  1.0  0.0  0.0  \n",
       "3      0.673575    1.0  0.0  0.0  1.0  \n",
       "4      0.290155    1.0  1.0  0.0  0.0  "
      ]
     },
     "execution_count": 14,
     "metadata": {},
     "output_type": "execute_result"
    }
   ],
   "source": [
    "scaler = MinMaxScaler()\n",
    "model = scaler.fit(data)\n",
    "data = pd.DataFrame(model.transform(data),columns=columns)\n",
    "data.head()"
   ]
  },
  {
   "cell_type": "markdown",
   "id": "261a3937",
   "metadata": {},
   "source": [
    "### DATA RESAMPLING"
   ]
  },
  {
   "cell_type": "markdown",
   "id": "3a67577e",
   "metadata": {},
   "source": [
    "### GENERATING TEST DATA"
   ]
  },
  {
   "cell_type": "code",
   "execution_count": 15,
   "id": "b15eab22",
   "metadata": {},
   "outputs": [],
   "source": [
    "X = data.drop(['Rings'],axis=1)\n",
    "y = data.Rings"
   ]
  },
  {
   "cell_type": "code",
   "execution_count": 16,
   "id": "51227e7b",
   "metadata": {},
   "outputs": [],
   "source": [
    "from sklearn.model_selection import train_test_split\n",
    "x_train,x_test,y_train,y_test = train_test_split(X,y,test_size=0.15,random_state=42)"
   ]
  },
  {
   "cell_type": "code",
   "execution_count": 17,
   "id": "1af52f8b",
   "metadata": {},
   "outputs": [
    {
     "name": "stdout",
     "output_type": "stream",
     "text": [
      "36 585 6 104\n"
     ]
    }
   ],
   "source": [
    "print(sum(y_train==1)\n",
    ",sum(y_train==0)\n",
    ",sum(y_test==1)\n",
    ",sum(y_test==0)\n",
    "     )"
   ]
  },
  {
   "cell_type": "code",
   "execution_count": 18,
   "id": "97fbd409",
   "metadata": {},
   "outputs": [
    {
     "data": {
      "text/plain": [
       "0.06095791001451379"
      ]
     },
     "execution_count": 18,
     "metadata": {},
     "output_type": "execute_result"
    }
   ],
   "source": [
    "(sum(y_train==1)+sum(y_test==1))/(sum(y_train==0)+sum(y_test==0))\n",
    "     "
   ]
  },
  {
   "cell_type": "code",
   "execution_count": 19,
   "id": "d517603e",
   "metadata": {},
   "outputs": [],
   "source": [
    "x_test.to_csv(\"abalone_test_data.csv\",index=False)\n",
    "y_test.to_csv(\"abalone_test_label.csv\",index=False)"
   ]
  },
  {
   "cell_type": "code",
   "execution_count": 20,
   "id": "1379f4ee",
   "metadata": {},
   "outputs": [],
   "source": [
    "x_train.to_csv(\"abalone_train_data.csv\",index=False)\n",
    "y_train.to_csv(\"abalone_train_label.csv\",index=False)"
   ]
  },
  {
   "cell_type": "markdown",
   "id": "e5b3bab8",
   "metadata": {},
   "source": [
    "### GENERATING EXT_IMB DATASET(05:95)"
   ]
  },
  {
   "cell_type": "code",
   "execution_count": 18,
   "id": "8fdf5b68",
   "metadata": {},
   "outputs": [],
   "source": [
    "from collections import Counter\n",
    "from sklearn.datasets import make_classification\n",
    "from imblearn.over_sampling import ADASYN \n",
    "from imblearn.under_sampling import RandomUnderSampler"
   ]
  },
  {
   "cell_type": "code",
   "execution_count": 19,
   "id": "02c6f89b",
   "metadata": {},
   "outputs": [
    {
     "name": "stdout",
     "output_type": "stream",
     "text": [
      "Original dataset shape Counter({0.0: 585, 1.0: 36})\n"
     ]
    }
   ],
   "source": [
    "X, y = x_train,y_train\n",
    "print('Original dataset shape %s' % Counter(y))"
   ]
  },
  {
   "cell_type": "code",
   "execution_count": 20,
   "id": "395217f2",
   "metadata": {},
   "outputs": [
    {
     "name": "stdout",
     "output_type": "stream",
     "text": [
      "Resampled dataset shape After oversampling majority class Counter({0.0: 743, 1.0: 36})\n"
     ]
    },
    {
     "name": "stderr",
     "output_type": "stream",
     "text": [
      "/Applications/Utilities/anaconda3/lib/python3.8/site-packages/imblearn/utils/_validation.py:318: UserWarning: After over-sampling, the number of samples (741) in class 0 will be larger than the number of samples in the majority class (class #0.0 -> 585)\n",
      "  warnings.warn(\n"
     ]
    }
   ],
   "source": [
    "no_minority, no_majority = (Counter(y)[1]+Counter(y)[0])*0.05,(Counter(y)[1]+Counter(y)[0])*0.95\n",
    "ada = ADASYN(random_state=42,sampling_strategy={1:Counter(y)[1],0:741})\n",
    "X_res, y_res = ada.fit_resample(X, y)\n",
    "print('Resampled dataset shape After oversampling majority class %s' % Counter(y_res))"
   ]
  },
  {
   "cell_type": "code",
   "execution_count": 21,
   "id": "5ac20725",
   "metadata": {},
   "outputs": [],
   "source": [
    "X_res.to_csv(\"abalone_ext_imb_data.csv\",index=False)\n",
    "y_res.to_csv(\"abalone_ext_imb_label.csv\",index=False)"
   ]
  },
  {
   "cell_type": "markdown",
   "id": "a22a3a1d",
   "metadata": {},
   "source": [
    "### GENERATING 15285_IMB DATASET(15:85)"
   ]
  },
  {
   "cell_type": "code",
   "execution_count": 22,
   "id": "ff6e3bb2",
   "metadata": {},
   "outputs": [
    {
     "name": "stdout",
     "output_type": "stream",
     "text": [
      "Original dataset shape Counter({0.0: 585, 1.0: 36})\n"
     ]
    }
   ],
   "source": [
    "X, y = x_train,y_train\n",
    "print('Original dataset shape %s' % Counter(y))"
   ]
  },
  {
   "cell_type": "code",
   "execution_count": 23,
   "id": "802c2012",
   "metadata": {},
   "outputs": [
    {
     "name": "stdout",
     "output_type": "stream",
     "text": [
      "Resampled dataset shape After oversampling minority class Counter({0.0: 585, 1.0: 90})\n",
      "Resampled dataset shape with 15:85 ratioCounter({0.0: 528, 1.0: 90})\n"
     ]
    }
   ],
   "source": [
    "no_minority, no_majority = (Counter(y)[1]+Counter(y)[0])*0.15,(Counter(y)[1]+Counter(y)[0])*0.85\n",
    "ada = ADASYN(random_state=42,sampling_strategy={0:Counter(y)[0],1:round(no_minority)})\n",
    "X_res, y_res = ada.fit_resample(X, y)\n",
    "print('Resampled dataset shape After oversampling minority class %s' % Counter(y_res))\n",
    "rnd = RandomUnderSampler(random_state=42,sampling_strategy={0:round(no_majority),1:Counter(y_res)[1]})\n",
    "X_final, y_final = rnd.fit_resample(X_res, y_res)\n",
    "print('Resampled dataset shape with 15:85 ratio%s' % Counter(y_final))"
   ]
  },
  {
   "cell_type": "code",
   "execution_count": 24,
   "id": "e337558e",
   "metadata": {},
   "outputs": [],
   "source": [
    "X_final.to_csv(\"abalone_15285_imb_data.csv\",index=False)\n",
    "y_final.to_csv(\"abalone_15285_imb_label.csv\",index=False)"
   ]
  },
  {
   "cell_type": "markdown",
   "id": "a85e2639",
   "metadata": {},
   "source": [
    "### GENERATING MOD_IMB DATASET(30:70)"
   ]
  },
  {
   "cell_type": "code",
   "execution_count": 25,
   "id": "a4b66675",
   "metadata": {},
   "outputs": [
    {
     "name": "stdout",
     "output_type": "stream",
     "text": [
      "Original dataset shape Counter({0.0: 585, 1.0: 36})\n"
     ]
    }
   ],
   "source": [
    "X, y = x_train,y_train\n",
    "print('Original dataset shape %s' % Counter(y))"
   ]
  },
  {
   "cell_type": "code",
   "execution_count": 26,
   "id": "85d25292",
   "metadata": {},
   "outputs": [
    {
     "name": "stdout",
     "output_type": "stream",
     "text": [
      "Resampled dataset shape After oversampling minority class Counter({0.0: 585, 1.0: 190})\n",
      "Resampled dataset shape with 30:70 ratioCounter({0.0: 435, 1.0: 190})\n"
     ]
    }
   ],
   "source": [
    "no_minority, no_majority = (Counter(y)[1]+Counter(y)[0])*0.3,(Counter(y)[1]+Counter(y)[0])*0.7\n",
    "ada = ADASYN(random_state=42,sampling_strategy={0:Counter(y)[0],1:round(no_minority)})\n",
    "X_res, y_res = ada.fit_resample(X, y)\n",
    "print('Resampled dataset shape After oversampling minority class %s' % Counter(y_res))\n",
    "rnd = RandomUnderSampler(random_state=42,sampling_strategy={0:round(no_majority),1:Counter(y_res)[1]})\n",
    "X_final, y_final = rnd.fit_resample(X_res, y_res)\n",
    "print('Resampled dataset shape with 30:70 ratio%s' % Counter(y_final))"
   ]
  },
  {
   "cell_type": "code",
   "execution_count": 27,
   "id": "7eb43863",
   "metadata": {},
   "outputs": [],
   "source": [
    "X_final.to_csv(\"abalone_mod_imb_data.csv\",index=False)\n",
    "y_final.to_csv(\"abalone_mod_imb_label.csv\",index=False)"
   ]
  },
  {
   "cell_type": "markdown",
   "id": "1902cbfe",
   "metadata": {},
   "source": [
    "### GENERATING NO_IMB DATASET(50:50)"
   ]
  },
  {
   "cell_type": "code",
   "execution_count": 28,
   "id": "2738e432",
   "metadata": {},
   "outputs": [
    {
     "name": "stdout",
     "output_type": "stream",
     "text": [
      "Original dataset shape Counter({0.0: 585, 1.0: 36})\n"
     ]
    }
   ],
   "source": [
    "X, y = x_train,y_train\n",
    "print('Original dataset shape %s' % Counter(y))"
   ]
  },
  {
   "cell_type": "code",
   "execution_count": 29,
   "id": "f1e8c0cd",
   "metadata": {},
   "outputs": [
    {
     "name": "stdout",
     "output_type": "stream",
     "text": [
      "Resampled dataset shape with 50:50 Counter({1.0: 587, 0.0: 585})\n"
     ]
    }
   ],
   "source": [
    "ada = ADASYN(random_state=42)\n",
    "X_res, y_res = ada.fit_resample(X, y)\n",
    "print('Resampled dataset shape with 50:50 %s' % Counter(y_res))"
   ]
  },
  {
   "cell_type": "code",
   "execution_count": 30,
   "id": "5097d305",
   "metadata": {},
   "outputs": [],
   "source": [
    "X_res.to_csv(\"abalone_no_imb_data.csv\",index=False)\n",
    "y_res.to_csv(\"abalone_no_imb_label.csv\",index=False)"
   ]
  }
 ],
 "metadata": {
  "kernelspec": {
   "display_name": "Python 3",
   "language": "python",
   "name": "python3"
  },
  "language_info": {
   "codemirror_mode": {
    "name": "ipython",
    "version": 3
   },
   "file_extension": ".py",
   "mimetype": "text/x-python",
   "name": "python",
   "nbconvert_exporter": "python",
   "pygments_lexer": "ipython3",
   "version": "3.8.8"
  }
 },
 "nbformat": 4,
 "nbformat_minor": 5
}
