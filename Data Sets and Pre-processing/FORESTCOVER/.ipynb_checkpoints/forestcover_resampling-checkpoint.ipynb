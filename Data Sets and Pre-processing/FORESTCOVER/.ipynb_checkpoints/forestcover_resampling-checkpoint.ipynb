{
 "cells": [
  {
   "cell_type": "code",
   "execution_count": 3,
   "id": "ba716b1c",
   "metadata": {},
   "outputs": [],
   "source": [
    "import numpy as np\n",
    "import pandas as pd\n",
    "from imblearn.metrics import geometric_mean_score\n",
    "from sklearn.metrics import roc_auc_score"
   ]
  },
  {
   "cell_type": "code",
   "execution_count": null,
   "id": "0195d4de",
   "metadata": {},
   "outputs": [],
   "source": [
    "names = list(map(str,range(55)))\n",
    "data = pd.read_csv(\"https://archive.ics.uci.edu/ml/machine-learning-databases/covtype/covtype.data.gz\",names=names)\n",
    "data.head()"
   ]
  },
  {
   "cell_type": "code",
   "execution_count": 3,
   "id": "2e9ad9f8",
   "metadata": {},
   "outputs": [
    {
     "data": {
      "text/plain": [
       "2    283301\n",
       "1    211840\n",
       "3     35754\n",
       "7     20510\n",
       "6     17367\n",
       "5      9493\n",
       "4      2747\n",
       "Name: 54, dtype: int64"
      ]
     },
     "execution_count": 3,
     "metadata": {},
     "output_type": "execute_result"
    }
   ],
   "source": [
    "data[54].value_counts()"
   ]
  },
  {
   "cell_type": "code",
   "execution_count": 4,
   "id": "6f1a5e76",
   "metadata": {},
   "outputs": [
    {
     "data": {
      "text/html": [
       "<div>\n",
       "<style scoped>\n",
       "    .dataframe tbody tr th:only-of-type {\n",
       "        vertical-align: middle;\n",
       "    }\n",
       "\n",
       "    .dataframe tbody tr th {\n",
       "        vertical-align: top;\n",
       "    }\n",
       "\n",
       "    .dataframe thead th {\n",
       "        text-align: right;\n",
       "    }\n",
       "</style>\n",
       "<table border=\"1\" class=\"dataframe\">\n",
       "  <thead>\n",
       "    <tr style=\"text-align: right;\">\n",
       "      <th></th>\n",
       "      <th>0</th>\n",
       "      <th>1</th>\n",
       "      <th>2</th>\n",
       "      <th>3</th>\n",
       "      <th>4</th>\n",
       "      <th>5</th>\n",
       "      <th>6</th>\n",
       "      <th>7</th>\n",
       "      <th>8</th>\n",
       "      <th>9</th>\n",
       "      <th>...</th>\n",
       "      <th>45</th>\n",
       "      <th>46</th>\n",
       "      <th>47</th>\n",
       "      <th>48</th>\n",
       "      <th>49</th>\n",
       "      <th>50</th>\n",
       "      <th>51</th>\n",
       "      <th>52</th>\n",
       "      <th>53</th>\n",
       "      <th>class</th>\n",
       "    </tr>\n",
       "  </thead>\n",
       "  <tbody>\n",
       "    <tr>\n",
       "      <th>0</th>\n",
       "      <td>2553</td>\n",
       "      <td>235</td>\n",
       "      <td>17</td>\n",
       "      <td>351</td>\n",
       "      <td>95</td>\n",
       "      <td>780</td>\n",
       "      <td>188</td>\n",
       "      <td>253</td>\n",
       "      <td>199</td>\n",
       "      <td>1410</td>\n",
       "      <td>...</td>\n",
       "      <td>0</td>\n",
       "      <td>0</td>\n",
       "      <td>0</td>\n",
       "      <td>0</td>\n",
       "      <td>0</td>\n",
       "      <td>0</td>\n",
       "      <td>0</td>\n",
       "      <td>0</td>\n",
       "      <td>0</td>\n",
       "      <td>0</td>\n",
       "    </tr>\n",
       "    <tr>\n",
       "      <th>1</th>\n",
       "      <td>2011</td>\n",
       "      <td>344</td>\n",
       "      <td>17</td>\n",
       "      <td>313</td>\n",
       "      <td>29</td>\n",
       "      <td>404</td>\n",
       "      <td>183</td>\n",
       "      <td>211</td>\n",
       "      <td>164</td>\n",
       "      <td>300</td>\n",
       "      <td>...</td>\n",
       "      <td>0</td>\n",
       "      <td>0</td>\n",
       "      <td>0</td>\n",
       "      <td>0</td>\n",
       "      <td>0</td>\n",
       "      <td>0</td>\n",
       "      <td>0</td>\n",
       "      <td>0</td>\n",
       "      <td>0</td>\n",
       "      <td>0</td>\n",
       "    </tr>\n",
       "    <tr>\n",
       "      <th>2</th>\n",
       "      <td>2022</td>\n",
       "      <td>24</td>\n",
       "      <td>13</td>\n",
       "      <td>391</td>\n",
       "      <td>42</td>\n",
       "      <td>509</td>\n",
       "      <td>212</td>\n",
       "      <td>212</td>\n",
       "      <td>134</td>\n",
       "      <td>421</td>\n",
       "      <td>...</td>\n",
       "      <td>0</td>\n",
       "      <td>0</td>\n",
       "      <td>0</td>\n",
       "      <td>0</td>\n",
       "      <td>0</td>\n",
       "      <td>0</td>\n",
       "      <td>0</td>\n",
       "      <td>0</td>\n",
       "      <td>0</td>\n",
       "      <td>0</td>\n",
       "    </tr>\n",
       "    <tr>\n",
       "      <th>3</th>\n",
       "      <td>2038</td>\n",
       "      <td>50</td>\n",
       "      <td>17</td>\n",
       "      <td>408</td>\n",
       "      <td>71</td>\n",
       "      <td>474</td>\n",
       "      <td>226</td>\n",
       "      <td>200</td>\n",
       "      <td>102</td>\n",
       "      <td>283</td>\n",
       "      <td>...</td>\n",
       "      <td>0</td>\n",
       "      <td>0</td>\n",
       "      <td>0</td>\n",
       "      <td>0</td>\n",
       "      <td>0</td>\n",
       "      <td>0</td>\n",
       "      <td>0</td>\n",
       "      <td>0</td>\n",
       "      <td>0</td>\n",
       "      <td>0</td>\n",
       "    </tr>\n",
       "    <tr>\n",
       "      <th>4</th>\n",
       "      <td>2018</td>\n",
       "      <td>341</td>\n",
       "      <td>27</td>\n",
       "      <td>351</td>\n",
       "      <td>34</td>\n",
       "      <td>390</td>\n",
       "      <td>152</td>\n",
       "      <td>188</td>\n",
       "      <td>168</td>\n",
       "      <td>190</td>\n",
       "      <td>...</td>\n",
       "      <td>0</td>\n",
       "      <td>0</td>\n",
       "      <td>0</td>\n",
       "      <td>0</td>\n",
       "      <td>0</td>\n",
       "      <td>0</td>\n",
       "      <td>0</td>\n",
       "      <td>0</td>\n",
       "      <td>0</td>\n",
       "      <td>0</td>\n",
       "    </tr>\n",
       "  </tbody>\n",
       "</table>\n",
       "<p>5 rows × 55 columns</p>\n",
       "</div>"
      ],
      "text/plain": [
       "      0    1   2    3   4    5    6    7    8     9  ...  45  46  47  48  49  \\\n",
       "0  2553  235  17  351  95  780  188  253  199  1410  ...   0   0   0   0   0   \n",
       "1  2011  344  17  313  29  404  183  211  164   300  ...   0   0   0   0   0   \n",
       "2  2022   24  13  391  42  509  212  212  134   421  ...   0   0   0   0   0   \n",
       "3  2038   50  17  408  71  474  226  200  102   283  ...   0   0   0   0   0   \n",
       "4  2018  341  27  351  34  390  152  188  168   190  ...   0   0   0   0   0   \n",
       "\n",
       "   50  51  52  53  class  \n",
       "0   0   0   0   0      0  \n",
       "1   0   0   0   0      0  \n",
       "2   0   0   0   0      0  \n",
       "3   0   0   0   0      0  \n",
       "4   0   0   0   0      0  \n",
       "\n",
       "[5 rows x 55 columns]"
      ]
     },
     "execution_count": 4,
     "metadata": {},
     "output_type": "execute_result"
    }
   ],
   "source": [
    "data = pd.concat([data[data[54]==3],data[data[54]==4]],ignore_index=True)\n",
    "data[54]= np.where(data[54]==3,0,1)\n",
    "data['class'] = data[54]\n",
    "data.drop([54],axis=1,inplace=True)\n",
    "data.head()"
   ]
  },
  {
   "cell_type": "code",
   "execution_count": 5,
   "id": "999d85b7",
   "metadata": {},
   "outputs": [
    {
     "name": "stderr",
     "output_type": "stream",
     "text": [
      "/Applications/Utilities/anaconda3/lib/python3.8/site-packages/sklearn/utils/validation.py:1858: FutureWarning: Feature names only support names that are all strings. Got feature names with dtypes: ['int', 'str']. An error will be raised in 1.2.\n",
      "  warnings.warn(\n",
      "/Applications/Utilities/anaconda3/lib/python3.8/site-packages/sklearn/utils/validation.py:1858: FutureWarning: Feature names only support names that are all strings. Got feature names with dtypes: ['int', 'str']. An error will be raised in 1.2.\n",
      "  warnings.warn(\n"
     ]
    },
    {
     "data": {
      "text/html": [
       "<div>\n",
       "<style scoped>\n",
       "    .dataframe tbody tr th:only-of-type {\n",
       "        vertical-align: middle;\n",
       "    }\n",
       "\n",
       "    .dataframe tbody tr th {\n",
       "        vertical-align: top;\n",
       "    }\n",
       "\n",
       "    .dataframe thead th {\n",
       "        text-align: right;\n",
       "    }\n",
       "</style>\n",
       "<table border=\"1\" class=\"dataframe\">\n",
       "  <thead>\n",
       "    <tr style=\"text-align: right;\">\n",
       "      <th></th>\n",
       "      <th>0</th>\n",
       "      <th>1</th>\n",
       "      <th>2</th>\n",
       "      <th>3</th>\n",
       "      <th>4</th>\n",
       "      <th>5</th>\n",
       "      <th>6</th>\n",
       "      <th>7</th>\n",
       "      <th>8</th>\n",
       "      <th>9</th>\n",
       "      <th>...</th>\n",
       "      <th>45</th>\n",
       "      <th>46</th>\n",
       "      <th>47</th>\n",
       "      <th>48</th>\n",
       "      <th>49</th>\n",
       "      <th>50</th>\n",
       "      <th>51</th>\n",
       "      <th>52</th>\n",
       "      <th>53</th>\n",
       "      <th>class</th>\n",
       "    </tr>\n",
       "  </thead>\n",
       "  <tbody>\n",
       "    <tr>\n",
       "      <th>0</th>\n",
       "      <td>0.667308</td>\n",
       "      <td>0.652778</td>\n",
       "      <td>0.34</td>\n",
       "      <td>0.483471</td>\n",
       "      <td>0.513453</td>\n",
       "      <td>0.227008</td>\n",
       "      <td>0.682692</td>\n",
       "      <td>0.993789</td>\n",
       "      <td>0.792829</td>\n",
       "      <td>0.488227</td>\n",
       "      <td>...</td>\n",
       "      <td>0.0</td>\n",
       "      <td>0.0</td>\n",
       "      <td>0.0</td>\n",
       "      <td>0.0</td>\n",
       "      <td>0.0</td>\n",
       "      <td>0.0</td>\n",
       "      <td>0.0</td>\n",
       "      <td>0.0</td>\n",
       "      <td>0.0</td>\n",
       "      <td>0.0</td>\n",
       "    </tr>\n",
       "    <tr>\n",
       "      <th>1</th>\n",
       "      <td>0.146154</td>\n",
       "      <td>0.955556</td>\n",
       "      <td>0.34</td>\n",
       "      <td>0.431129</td>\n",
       "      <td>0.365471</td>\n",
       "      <td>0.117579</td>\n",
       "      <td>0.658654</td>\n",
       "      <td>0.732919</td>\n",
       "      <td>0.653386</td>\n",
       "      <td>0.103878</td>\n",
       "      <td>...</td>\n",
       "      <td>0.0</td>\n",
       "      <td>0.0</td>\n",
       "      <td>0.0</td>\n",
       "      <td>0.0</td>\n",
       "      <td>0.0</td>\n",
       "      <td>0.0</td>\n",
       "      <td>0.0</td>\n",
       "      <td>0.0</td>\n",
       "      <td>0.0</td>\n",
       "      <td>0.0</td>\n",
       "    </tr>\n",
       "    <tr>\n",
       "      <th>2</th>\n",
       "      <td>0.156731</td>\n",
       "      <td>0.066667</td>\n",
       "      <td>0.26</td>\n",
       "      <td>0.538567</td>\n",
       "      <td>0.394619</td>\n",
       "      <td>0.148137</td>\n",
       "      <td>0.798077</td>\n",
       "      <td>0.739130</td>\n",
       "      <td>0.533865</td>\n",
       "      <td>0.145776</td>\n",
       "      <td>...</td>\n",
       "      <td>0.0</td>\n",
       "      <td>0.0</td>\n",
       "      <td>0.0</td>\n",
       "      <td>0.0</td>\n",
       "      <td>0.0</td>\n",
       "      <td>0.0</td>\n",
       "      <td>0.0</td>\n",
       "      <td>0.0</td>\n",
       "      <td>0.0</td>\n",
       "      <td>0.0</td>\n",
       "    </tr>\n",
       "    <tr>\n",
       "      <th>3</th>\n",
       "      <td>0.172115</td>\n",
       "      <td>0.138889</td>\n",
       "      <td>0.34</td>\n",
       "      <td>0.561983</td>\n",
       "      <td>0.459641</td>\n",
       "      <td>0.137951</td>\n",
       "      <td>0.865385</td>\n",
       "      <td>0.664596</td>\n",
       "      <td>0.406375</td>\n",
       "      <td>0.097992</td>\n",
       "      <td>...</td>\n",
       "      <td>0.0</td>\n",
       "      <td>0.0</td>\n",
       "      <td>0.0</td>\n",
       "      <td>0.0</td>\n",
       "      <td>0.0</td>\n",
       "      <td>0.0</td>\n",
       "      <td>0.0</td>\n",
       "      <td>0.0</td>\n",
       "      <td>0.0</td>\n",
       "      <td>0.0</td>\n",
       "    </tr>\n",
       "    <tr>\n",
       "      <th>4</th>\n",
       "      <td>0.152885</td>\n",
       "      <td>0.947222</td>\n",
       "      <td>0.54</td>\n",
       "      <td>0.483471</td>\n",
       "      <td>0.376682</td>\n",
       "      <td>0.113504</td>\n",
       "      <td>0.509615</td>\n",
       "      <td>0.590062</td>\n",
       "      <td>0.669323</td>\n",
       "      <td>0.065789</td>\n",
       "      <td>...</td>\n",
       "      <td>0.0</td>\n",
       "      <td>0.0</td>\n",
       "      <td>0.0</td>\n",
       "      <td>0.0</td>\n",
       "      <td>0.0</td>\n",
       "      <td>0.0</td>\n",
       "      <td>0.0</td>\n",
       "      <td>0.0</td>\n",
       "      <td>0.0</td>\n",
       "      <td>0.0</td>\n",
       "    </tr>\n",
       "  </tbody>\n",
       "</table>\n",
       "<p>5 rows × 55 columns</p>\n",
       "</div>"
      ],
      "text/plain": [
       "          0         1     2         3         4         5         6         7  \\\n",
       "0  0.667308  0.652778  0.34  0.483471  0.513453  0.227008  0.682692  0.993789   \n",
       "1  0.146154  0.955556  0.34  0.431129  0.365471  0.117579  0.658654  0.732919   \n",
       "2  0.156731  0.066667  0.26  0.538567  0.394619  0.148137  0.798077  0.739130   \n",
       "3  0.172115  0.138889  0.34  0.561983  0.459641  0.137951  0.865385  0.664596   \n",
       "4  0.152885  0.947222  0.54  0.483471  0.376682  0.113504  0.509615  0.590062   \n",
       "\n",
       "          8         9  ...   45   46   47   48   49   50   51   52   53  class  \n",
       "0  0.792829  0.488227  ...  0.0  0.0  0.0  0.0  0.0  0.0  0.0  0.0  0.0    0.0  \n",
       "1  0.653386  0.103878  ...  0.0  0.0  0.0  0.0  0.0  0.0  0.0  0.0  0.0    0.0  \n",
       "2  0.533865  0.145776  ...  0.0  0.0  0.0  0.0  0.0  0.0  0.0  0.0  0.0    0.0  \n",
       "3  0.406375  0.097992  ...  0.0  0.0  0.0  0.0  0.0  0.0  0.0  0.0  0.0    0.0  \n",
       "4  0.669323  0.065789  ...  0.0  0.0  0.0  0.0  0.0  0.0  0.0  0.0  0.0    0.0  \n",
       "\n",
       "[5 rows x 55 columns]"
      ]
     },
     "execution_count": 5,
     "metadata": {},
     "output_type": "execute_result"
    }
   ],
   "source": [
    "# import module\n",
    "from sklearn.preprocessing import MinMaxScaler\n",
    "# scale features\n",
    "scaler = MinMaxScaler()\n",
    "model=scaler.fit(data)\n",
    "Impute_data=model.transform(data)\n",
    "\n",
    "# print scaled features\n",
    "data = pd.DataFrame(Impute_data,columns = data.columns)\n",
    "data.head()"
   ]
  },
  {
   "cell_type": "markdown",
   "id": "261a3937",
   "metadata": {},
   "source": [
    "### DATA RESAMPLING"
   ]
  },
  {
   "cell_type": "markdown",
   "id": "3a67577e",
   "metadata": {},
   "source": [
    "### GENERATING TEST DATA"
   ]
  },
  {
   "cell_type": "code",
   "execution_count": 6,
   "id": "b15eab22",
   "metadata": {},
   "outputs": [],
   "source": [
    "X = data.drop(['class'],axis=1)\n",
    "y = data[\"class\"]"
   ]
  },
  {
   "cell_type": "code",
   "execution_count": 7,
   "id": "51227e7b",
   "metadata": {},
   "outputs": [],
   "source": [
    "from sklearn.model_selection import train_test_split\n",
    "x_train,x_test,y_train,y_test = train_test_split(X,y,test_size=0.15,random_state=42)"
   ]
  },
  {
   "cell_type": "code",
   "execution_count": 8,
   "id": "1af52f8b",
   "metadata": {},
   "outputs": [
    {
     "name": "stdout",
     "output_type": "stream",
     "text": [
      "2356 30369 391 5385\n"
     ]
    }
   ],
   "source": [
    "print(sum(y_train==1)\n",
    ",sum(y_train==0)\n",
    ",sum(y_test==1)\n",
    ",sum(y_test==0)\n",
    "     )"
   ]
  },
  {
   "cell_type": "code",
   "execution_count": 9,
   "id": "11bc1761",
   "metadata": {},
   "outputs": [
    {
     "data": {
      "text/plain": [
       "0.07683056441237344"
      ]
     },
     "execution_count": 9,
     "metadata": {},
     "output_type": "execute_result"
    }
   ],
   "source": [
    "(sum(y_train==1)+sum(y_test==1))/(sum(y_train==0)+sum(y_test==0))\n",
    "     "
   ]
  },
  {
   "cell_type": "code",
   "execution_count": 10,
   "id": "d517603e",
   "metadata": {},
   "outputs": [],
   "source": [
    "x_test.to_csv(\"forestcover_test_data.csv\",index=False)\n",
    "y_test.to_csv(\"forestcover_test_label.csv\",index=False)"
   ]
  },
  {
   "cell_type": "markdown",
   "id": "e5b3bab8",
   "metadata": {},
   "source": [
    "### GENERATING EXT_IMB DATASET(05:95)"
   ]
  },
  {
   "cell_type": "code",
   "execution_count": 11,
   "id": "8fdf5b68",
   "metadata": {},
   "outputs": [],
   "source": [
    "from collections import Counter\n",
    "from sklearn.datasets import make_classification\n",
    "from imblearn.over_sampling import SMOTE \n",
    "from imblearn.under_sampling import RandomUnderSampler"
   ]
  },
  {
   "cell_type": "code",
   "execution_count": 12,
   "id": "02c6f89b",
   "metadata": {},
   "outputs": [
    {
     "name": "stdout",
     "output_type": "stream",
     "text": [
      "Original dataset shape Counter({0.0: 30369, 1.0: 2356})\n"
     ]
    }
   ],
   "source": [
    "X, y = x_train,y_train\n",
    "print('Original dataset shape %s' % Counter(y))"
   ]
  },
  {
   "cell_type": "code",
   "execution_count": 13,
   "id": "395217f2",
   "metadata": {},
   "outputs": [
    {
     "name": "stderr",
     "output_type": "stream",
     "text": [
      "/Applications/Utilities/anaconda3/lib/python3.8/site-packages/imblearn/utils/_validation.py:318: UserWarning: After over-sampling, the number of samples (31089) in class 0 will be larger than the number of samples in the majority class (class #0.0 -> 30369)\n",
      "  warnings.warn(\n"
     ]
    },
    {
     "name": "stdout",
     "output_type": "stream",
     "text": [
      "Resampled dataset shape After oversampling minority class Counter({0.0: 31089, 1.0: 2356})\n",
      "Resampled dataset shape with 5:95 ratioCounter({0.0: 31089, 1.0: 1636})\n"
     ]
    }
   ],
   "source": [
    "no_minority, no_majority = (Counter(y)[1]+Counter(y)[0])*0.05,(Counter(y)[1]+Counter(y)[0])*0.95\n",
    "ada = SMOTE(random_state=42,sampling_strategy={1:Counter(y)[1],0:round(no_majority)})\n",
    "X_res, y_res = ada.fit_resample(X, y)\n",
    "print('Resampled dataset shape After oversampling minority class %s' % Counter(y_res))\n",
    "rnd = RandomUnderSampler(random_state=42,sampling_strategy={1:round(no_minority),0:Counter(y_res)[0]})\n",
    "X_final, y_final = rnd.fit_resample(X_res, y_res)\n",
    "print('Resampled dataset shape with 5:95 ratio%s' % Counter(y_final))"
   ]
  },
  {
   "cell_type": "code",
   "execution_count": 14,
   "id": "5ac20725",
   "metadata": {},
   "outputs": [],
   "source": [
    "X_final.to_csv(\"forestcover_ext_imb_data.csv\",index=False)\n",
    "y_final.to_csv(\"forestcover_ext_imb_label.csv\",index=False)"
   ]
  },
  {
   "cell_type": "markdown",
   "id": "a22a3a1d",
   "metadata": {},
   "source": [
    "### GENERATING 15285_IMB DATASET(15:85)"
   ]
  },
  {
   "cell_type": "code",
   "execution_count": 15,
   "id": "ff6e3bb2",
   "metadata": {},
   "outputs": [
    {
     "name": "stdout",
     "output_type": "stream",
     "text": [
      "Original dataset shape Counter({0.0: 30369, 1.0: 2356})\n"
     ]
    }
   ],
   "source": [
    "X, y = x_train,y_train\n",
    "print('Original dataset shape %s' % Counter(y))"
   ]
  },
  {
   "cell_type": "code",
   "execution_count": 16,
   "id": "802c2012",
   "metadata": {},
   "outputs": [
    {
     "name": "stdout",
     "output_type": "stream",
     "text": [
      "Resampled dataset shape After oversampling minority class Counter({0.0: 30369, 1.0: 4909})\n",
      "Resampled dataset shape with 15:85 ratioCounter({0.0: 27816, 1.0: 4909})\n"
     ]
    }
   ],
   "source": [
    "no_minority, no_majority = (Counter(y)[1]+Counter(y)[0])*0.15,(Counter(y)[1]+Counter(y)[0])*0.85\n",
    "ada = SMOTE(random_state=42,sampling_strategy={0:Counter(y)[0],1:round(no_minority)})\n",
    "X_res, y_res = ada.fit_resample(X, y)\n",
    "print('Resampled dataset shape After oversampling minority class %s' % Counter(y_res))\n",
    "rnd = RandomUnderSampler(random_state=42,sampling_strategy={0:round(no_majority),1:Counter(y_res)[1]})\n",
    "X_final, y_final = rnd.fit_resample(X_res, y_res)\n",
    "print('Resampled dataset shape with 15:85 ratio%s' % Counter(y_final))"
   ]
  },
  {
   "cell_type": "code",
   "execution_count": 17,
   "id": "e337558e",
   "metadata": {},
   "outputs": [],
   "source": [
    "X_final.to_csv(\"forestcover_15285_imb_data.csv\",index=False)\n",
    "y_final.to_csv(\"forestcover_15285_imb_label.csv\",index=False)"
   ]
  },
  {
   "cell_type": "markdown",
   "id": "a85e2639",
   "metadata": {},
   "source": [
    "### GENERATING MOD_IMB DATASET(30:70)"
   ]
  },
  {
   "cell_type": "code",
   "execution_count": 18,
   "id": "a4b66675",
   "metadata": {},
   "outputs": [
    {
     "name": "stdout",
     "output_type": "stream",
     "text": [
      "Original dataset shape Counter({0.0: 30369, 1.0: 2356})\n"
     ]
    }
   ],
   "source": [
    "X, y = x_train,y_train\n",
    "print('Original dataset shape %s' % Counter(y))"
   ]
  },
  {
   "cell_type": "code",
   "execution_count": 19,
   "id": "85d25292",
   "metadata": {},
   "outputs": [
    {
     "name": "stdout",
     "output_type": "stream",
     "text": [
      "Resampled dataset shape After oversampling minority class Counter({0.0: 30369, 1.0: 9818})\n",
      "Resampled dataset shape with 30:70 ratioCounter({0.0: 22908, 1.0: 9818})\n"
     ]
    }
   ],
   "source": [
    "no_minority, no_majority = (Counter(y)[1]+Counter(y)[0])*0.3,(Counter(y)[1]+Counter(y)[0])*0.7\n",
    "ada = SMOTE(random_state=42,sampling_strategy={0:Counter(y)[0],1:round(no_minority)})\n",
    "X_res, y_res = ada.fit_resample(X, y)\n",
    "print('Resampled dataset shape After oversampling minority class %s' % Counter(y_res))\n",
    "rnd = RandomUnderSampler(random_state=42,sampling_strategy={0:round(no_majority),1:Counter(y_res)[1]})\n",
    "X_final, y_final = rnd.fit_resample(X_res, y_res)\n",
    "print('Resampled dataset shape with 30:70 ratio%s' % Counter(y_final))"
   ]
  },
  {
   "cell_type": "code",
   "execution_count": 20,
   "id": "7eb43863",
   "metadata": {},
   "outputs": [],
   "source": [
    "X_final.to_csv(\"forestcover_mod_imb_data.csv\",index=False)\n",
    "y_final.to_csv(\"forestcover_mod_imb_label.csv\",index=False)"
   ]
  },
  {
   "cell_type": "markdown",
   "id": "1902cbfe",
   "metadata": {},
   "source": [
    "### GENERATING NO_IMB DATASET(50:50)"
   ]
  },
  {
   "cell_type": "code",
   "execution_count": 21,
   "id": "2738e432",
   "metadata": {},
   "outputs": [
    {
     "name": "stdout",
     "output_type": "stream",
     "text": [
      "Original dataset shape Counter({0.0: 30369, 1.0: 2356})\n"
     ]
    }
   ],
   "source": [
    "X, y = x_train,y_train\n",
    "print('Original dataset shape %s' % Counter(y))"
   ]
  },
  {
   "cell_type": "code",
   "execution_count": 22,
   "id": "f1e8c0cd",
   "metadata": {},
   "outputs": [
    {
     "name": "stdout",
     "output_type": "stream",
     "text": [
      "Resampled dataset shape with 50:50 Counter({1.0: 30369, 0.0: 30369})\n"
     ]
    }
   ],
   "source": [
    "ada = SMOTE(random_state=42)\n",
    "X_res, y_res = ada.fit_resample(X, y)\n",
    "print('Resampled dataset shape with 50:50 %s' % Counter(y_res))"
   ]
  },
  {
   "cell_type": "code",
   "execution_count": 23,
   "id": "5097d305",
   "metadata": {},
   "outputs": [],
   "source": [
    "X_res.to_csv(\"forestcover_no_imb_data.csv\",index=False)\n",
    "y_res.to_csv(\"forestcover_no_imb_label.csv\",index=False)"
   ]
  }
 ],
 "metadata": {
  "kernelspec": {
   "display_name": "Python 3",
   "language": "python",
   "name": "python3"
  },
  "language_info": {
   "codemirror_mode": {
    "name": "ipython",
    "version": 3
   },
   "file_extension": ".py",
   "mimetype": "text/x-python",
   "name": "python",
   "nbconvert_exporter": "python",
   "pygments_lexer": "ipython3",
   "version": "3.8.8"
  }
 },
 "nbformat": 4,
 "nbformat_minor": 5
}
