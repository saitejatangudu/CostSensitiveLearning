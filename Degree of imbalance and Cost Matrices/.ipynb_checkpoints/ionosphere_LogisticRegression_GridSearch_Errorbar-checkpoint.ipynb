{
 "cells": [
  {
   "cell_type": "code",
   "execution_count": 1,
   "id": "8c5757de",
   "metadata": {},
   "outputs": [],
   "source": [
    "import numpy as np\n",
    "import pandas as pd\n",
    "from sklearn.metrics import accuracy_score,classification_report"
   ]
  },
  {
   "cell_type": "markdown",
   "id": "19e85f56",
   "metadata": {},
   "source": [
    "### 5:95"
   ]
  },
  {
   "cell_type": "code",
   "execution_count": 2,
   "id": "e40e6bf8",
   "metadata": {},
   "outputs": [],
   "source": [
    "train_data = pd.read_csv(\"ionosphere_ext_imb_data.csv\")\n",
    "train_label = pd.read_csv(\"ionosphere_ext_imb_label.csv\")"
   ]
  },
  {
   "cell_type": "code",
   "execution_count": 3,
   "id": "a8635bdc",
   "metadata": {},
   "outputs": [
    {
     "name": "stdout",
     "output_type": "stream",
     "text": [
      "Best: -0.032275 using {'class_weight': {0: 1, 1: 10}}\n",
      "-0.042725 (0.017630) with: {'class_weight': {0: 100, 1: 1}}\n",
      "-0.038915 (0.017185) with: {'class_weight': {0: 10, 1: 1}}\n",
      "-0.035106 (0.017470) with: {'class_weight': {0: 1, 1: 1}}\n",
      "-0.032275 (0.017604) with: {'class_weight': {0: 1, 1: 10}}\n",
      "-0.037011 (0.020974) with: {'class_weight': {0: 1, 1: 100}}\n",
      "-0.052196 (0.033785) with: {'class_weight': {0: 1, 1: 1000}}\n",
      "-0.079762 (0.034050) with: {'class_weight': {0: 1, 1: 10000}}\n"
     ]
    }
   ],
   "source": [
    "# grid search class weights with logistic regression for imbalance classification\n",
    "from numpy import mean\n",
    "from sklearn.datasets import make_classification\n",
    "from sklearn.metrics import cohen_kappa_score, make_scorer\n",
    "from sklearn.model_selection import GridSearchCV\n",
    "from sklearn.model_selection import RepeatedStratifiedKFold\n",
    "from sklearn.linear_model import LogisticRegression\n",
    "from sklearn.metrics import accuracy_score,classification_report,mean_squared_error\n",
    "\n",
    "model = LogisticRegression(random_state=42,solver='lbfgs')\n",
    "# define grid\n",
    "balance = [{0:100,1:1}, {0:10,1:1}, {0:1,1:1}, {0:1,1:10}, {0:1,1:100},{0:1,1:1000},{0:1,1:10000}]\n",
    "param_grid = dict(class_weight=balance)\n",
    "# define evaluation procedure\n",
    "cv = RepeatedStratifiedKFold(n_splits=10, n_repeats=3, random_state=1)\n",
    "# define grid search\n",
    "kappa = make_scorer(mean_squared_error,greater_is_better=False)\n",
    "grid = GridSearchCV(estimator=model, param_grid=param_grid, n_jobs=-1, cv=cv, scoring=kappa)\n",
    "# execute the grid search\n",
    "grid_result = grid.fit(train_data,np.array(train_label).ravel())\n",
    "# report the best configuration\n",
    "print(\"Best: %f using %s\" % (grid_result.best_score_, grid_result.best_params_))\n",
    "# report all configurations\n",
    "means = grid_result.cv_results_['mean_test_score']\n",
    "stds = grid_result.cv_results_['std_test_score']\n",
    "params = grid_result.cv_results_['params']\n",
    "for mean, stdev, param in zip(means, stds, params):\n",
    "    print(\"%f (%f) with: %r\" % (mean, stdev, param))"
   ]
  },
  {
   "cell_type": "markdown",
   "id": "f047673f",
   "metadata": {},
   "source": [
    "### 15:85"
   ]
  },
  {
   "cell_type": "code",
   "execution_count": 4,
   "id": "74220e40",
   "metadata": {},
   "outputs": [],
   "source": [
    "train_data = pd.read_csv(\"ionosphere_15285_imb_data.csv\")\n",
    "train_label = pd.read_csv(\"ionosphere_15285_imb_label.csv\")"
   ]
  },
  {
   "cell_type": "code",
   "execution_count": 5,
   "id": "ac0863ca",
   "metadata": {},
   "outputs": [
    {
     "name": "stdout",
     "output_type": "stream",
     "text": [
      "Best: -0.041746 using {'class_weight': {0: 1, 1: 1}}\n",
      "-0.083492 (0.030896) with: {'class_weight': {0: 100, 1: 1}}\n",
      "-0.071111 (0.030606) with: {'class_weight': {0: 10, 1: 1}}\n",
      "-0.041746 (0.028182) with: {'class_weight': {0: 1, 1: 1}}\n",
      "-0.075026 (0.043274) with: {'class_weight': {0: 1, 1: 10}}\n",
      "-0.145212 (0.059606) with: {'class_weight': {0: 1, 1: 100}}\n",
      "-0.217275 (0.077267) with: {'class_weight': {0: 1, 1: 1000}}\n",
      "-0.286667 (0.094117) with: {'class_weight': {0: 1, 1: 10000}}\n"
     ]
    }
   ],
   "source": [
    "# grid search class weights with logistic regression for imbalance classification\n",
    "from numpy import mean\n",
    "from sklearn.datasets import make_classification\n",
    "from sklearn.metrics import cohen_kappa_score, make_scorer\n",
    "from sklearn.model_selection import GridSearchCV\n",
    "from sklearn.model_selection import RepeatedStratifiedKFold\n",
    "from sklearn.linear_model import LogisticRegression\n",
    "from sklearn.metrics import accuracy_score,classification_report,mean_squared_error\n",
    "\n",
    "model = LogisticRegression(random_state=42,solver='lbfgs')\n",
    "# define grid\n",
    "balance = [{0:100,1:1}, {0:10,1:1}, {0:1,1:1}, {0:1,1:10}, {0:1,1:100},{0:1,1:1000},{0:1,1:10000}]\n",
    "param_grid = dict(class_weight=balance)\n",
    "# define evaluation procedure\n",
    "cv = RepeatedStratifiedKFold(n_splits=10, n_repeats=3, random_state=1)\n",
    "# define grid search\n",
    "kappa = make_scorer(mean_squared_error,greater_is_better=False)\n",
    "grid = GridSearchCV(estimator=model, param_grid=param_grid, n_jobs=-1, cv=cv, scoring=kappa)\n",
    "# execute the grid search\n",
    "grid_result = grid.fit(train_data,np.array(train_label).ravel())\n",
    "# report the best configuration\n",
    "print(\"Best: %f using %s\" % (grid_result.best_score_, grid_result.best_params_))\n",
    "# report all configurations\n",
    "means1 = grid_result.cv_results_['mean_test_score']\n",
    "stds1 = grid_result.cv_results_['std_test_score']\n",
    "params1 = grid_result.cv_results_['params']\n",
    "for mean, stdev, param in zip(means1, stds1, params1):\n",
    "    print(\"%f (%f) with: %r\" % (mean, stdev, param))"
   ]
  },
  {
   "cell_type": "markdown",
   "id": "07260871",
   "metadata": {},
   "source": [
    "### 30:70"
   ]
  },
  {
   "cell_type": "code",
   "execution_count": 6,
   "id": "77cd6684",
   "metadata": {},
   "outputs": [],
   "source": [
    "train_data = pd.read_csv(\"ionosphere_mod_imb_data.csv\")\n",
    "train_label = pd.read_csv(\"ionosphere_mod_imb_label.csv\")"
   ]
  },
  {
   "cell_type": "code",
   "execution_count": 7,
   "id": "c9b234ca",
   "metadata": {},
   "outputs": [
    {
     "name": "stdout",
     "output_type": "stream",
     "text": [
      "Best: -0.100635 using {'class_weight': {0: 1, 1: 1}}\n",
      "-0.166164 (0.038065) with: {'class_weight': {0: 100, 1: 1}}\n",
      "-0.140476 (0.042518) with: {'class_weight': {0: 10, 1: 1}}\n",
      "-0.100635 (0.037282) with: {'class_weight': {0: 1, 1: 1}}\n",
      "-0.175767 (0.069257) with: {'class_weight': {0: 1, 1: 10}}\n",
      "-0.273651 (0.069860) with: {'class_weight': {0: 1, 1: 100}}\n",
      "-0.385714 (0.073535) with: {'class_weight': {0: 1, 1: 1000}}\n",
      "-0.454947 (0.082498) with: {'class_weight': {0: 1, 1: 10000}}\n"
     ]
    }
   ],
   "source": [
    "# grid search class weights with logistic regression for imbalance classification\n",
    "from numpy import mean\n",
    "from sklearn.datasets import make_classification\n",
    "from sklearn.metrics import cohen_kappa_score, make_scorer\n",
    "from sklearn.model_selection import GridSearchCV\n",
    "from sklearn.model_selection import RepeatedStratifiedKFold\n",
    "from sklearn.linear_model import LogisticRegression\n",
    "from sklearn.metrics import accuracy_score,classification_report,mean_squared_error\n",
    "\n",
    "model = LogisticRegression(random_state=42,solver='lbfgs')\n",
    "# define grid\n",
    "balance = [{0:100,1:1}, {0:10,1:1}, {0:1,1:1}, {0:1,1:10}, {0:1,1:100},{0:1,1:1000},{0:1,1:10000}]\n",
    "param_grid = dict(class_weight=balance)\n",
    "# define evaluation procedure\n",
    "cv = RepeatedStratifiedKFold(n_splits=10, n_repeats=3, random_state=1)\n",
    "# define grid search\n",
    "kappa = make_scorer(mean_squared_error,greater_is_better=False)\n",
    "grid = GridSearchCV(estimator=model, param_grid=param_grid, n_jobs=-1, cv=cv, scoring=kappa)\n",
    "# execute the grid search\n",
    "grid_result = grid.fit(train_data,np.array(train_label).ravel())\n",
    "# report the best configuration\n",
    "print(\"Best: %f using %s\" % (grid_result.best_score_, grid_result.best_params_))\n",
    "# report all configurations\n",
    "means2 = grid_result.cv_results_['mean_test_score']\n",
    "stds2 = grid_result.cv_results_['std_test_score']\n",
    "params2 = grid_result.cv_results_['params']\n",
    "for mean, stdev, param in zip(means2, stds2, params2):\n",
    "    print(\"%f (%f) with: %r\" % (mean, stdev, param))"
   ]
  },
  {
   "cell_type": "markdown",
   "id": "e869d54f",
   "metadata": {},
   "source": [
    "### 50:50"
   ]
  },
  {
   "cell_type": "code",
   "execution_count": 8,
   "id": "8ba7ef1a",
   "metadata": {},
   "outputs": [],
   "source": [
    "train_data = pd.read_csv(\"ionosphere_no_imb_data.csv\")\n",
    "train_label = pd.read_csv(\"ionosphere_no_imb_label.csv\")"
   ]
  },
  {
   "cell_type": "code",
   "execution_count": 9,
   "id": "08f92b6b",
   "metadata": {},
   "outputs": [
    {
     "name": "stdout",
     "output_type": "stream",
     "text": [
      "Best: -0.100635 using {'class_weight': {0: 1, 1: 1}}\n",
      "-0.166164 (0.038065) with: {'class_weight': {0: 100, 1: 1}}\n",
      "-0.140476 (0.042518) with: {'class_weight': {0: 10, 1: 1}}\n",
      "-0.100635 (0.037282) with: {'class_weight': {0: 1, 1: 1}}\n",
      "-0.175767 (0.069257) with: {'class_weight': {0: 1, 1: 10}}\n",
      "-0.273651 (0.069860) with: {'class_weight': {0: 1, 1: 100}}\n",
      "-0.385714 (0.073535) with: {'class_weight': {0: 1, 1: 1000}}\n",
      "-0.454947 (0.082498) with: {'class_weight': {0: 1, 1: 10000}}\n"
     ]
    }
   ],
   "source": [
    "# grid search class weights with logistic regression for imbalance classification\n",
    "from numpy import mean\n",
    "from sklearn.datasets import make_classification\n",
    "from sklearn.metrics import cohen_kappa_score, make_scorer\n",
    "from sklearn.model_selection import GridSearchCV\n",
    "from sklearn.model_selection import RepeatedStratifiedKFold\n",
    "from sklearn.linear_model import LogisticRegression\n",
    "from sklearn.metrics import accuracy_score,classification_report,mean_squared_error\n",
    "\n",
    "model = LogisticRegression(random_state=42,solver='lbfgs')\n",
    "# define grid\n",
    "balance = [{0:100,1:1}, {0:10,1:1}, {0:1,1:1}, {0:1,1:10}, {0:1,1:100},{0:1,1:1000},{0:1,1:10000}]\n",
    "param_grid = dict(class_weight=balance)\n",
    "# define evaluation procedure\n",
    "cv = RepeatedStratifiedKFold(n_splits=10, n_repeats=3, random_state=1)\n",
    "# define grid search\n",
    "kappa = make_scorer(mean_squared_error,greater_is_better=False)\n",
    "grid = GridSearchCV(estimator=model, param_grid=param_grid, n_jobs=-1, cv=cv, scoring=kappa)\n",
    "# execute the grid search\n",
    "grid_result = grid.fit(train_data,np.array(train_label).ravel())\n",
    "# report the best configuration\n",
    "print(\"Best: %f using %s\" % (grid_result.best_score_, grid_result.best_params_))\n",
    "# report all configurations\n",
    "means3 = grid_result.cv_results_['mean_test_score']\n",
    "stds3 = grid_result.cv_results_['std_test_score']\n",
    "params3 = grid_result.cv_results_['params']\n",
    "for mean, stdev, param in zip(means3, stds3, params3):\n",
    "    print(\"%f (%f) with: %r\" % (mean, stdev, param))"
   ]
  },
  {
   "cell_type": "code",
   "execution_count": 10,
   "id": "02959afd",
   "metadata": {},
   "outputs": [],
   "source": [
    "labels = ['5:95', '15:85', '30:70','50:50']\n",
    "x_pos = np.arange(len(labels))\n",
    "means= -1*means\n",
    "means1= -1*means1\n",
    "means2= -1*means2\n",
    "means3 = -1*means3\n",
    "\n",
    "CTEs = [np.mean(means),np.mean(means1),np.mean(means2),np.mean(means3)]\n",
    "error = [np.std(means),np.std(means1),np.std(means2),np.std(means3)]"
   ]
  },
  {
   "cell_type": "code",
   "execution_count": 12,
   "id": "a89f669f",
   "metadata": {},
   "outputs": [
    {
     "data": {
      "image/png": "[encoded data removed]",
      "text/plain": [
       "<Figure size 576x396 with 1 Axes>"
      ]
     },
     "metadata": {},
     "output_type": "display_data"
    }
   ],
   "source": [
    "import matplotlib.pyplot as plt\n",
    "plt.style.use('seaborn')\n",
    "fig, ax = plt.subplots()\n",
    "ax.errorbar(labels, CTEs,\n",
    "            yerr=error,\n",
    "            fmt='-o',\n",
    "           color='yellow',\n",
    "           ecolor='green')\n",
    " \n",
    "ax.set_xlabel('Degree of Imbalance')\n",
    "ax.set_ylabel('Mean Error')\n",
    "ax.set_title('CSLogistic Regression on Ionosphere dataset')\n",
    "plt.show()"
   ]
  }
 ],
 "metadata": {
  "kernelspec": {
   "display_name": "Python 3",
   "language": "python",
   "name": "python3"
  },
  "language_info": {
   "codemirror_mode": {
    "name": "ipython",
    "version": 3
   },
   "file_extension": ".py",
   "mimetype": "text/x-python",
   "name": "python",
   "nbconvert_exporter": "python",
   "pygments_lexer": "ipython3",
   "version": "3.8.8"
  }
 },
 "nbformat": 4,
 "nbformat_minor": 5
}
