{
 "cells": [
  {
   "cell_type": "code",
   "execution_count": 1,
   "id": "8c5757de",
   "metadata": {},
   "outputs": [],
   "source": [
    "import numpy as np\n",
    "import pandas as pd"
   ]
  },
  {
   "cell_type": "code",
   "execution_count": 2,
   "id": "54bf52a9",
   "metadata": {},
   "outputs": [],
   "source": [
    "test_data = pd.read_csv(\"abalone_test_data.csv\")\n",
    "test_label = pd.read_csv(\"abalone_test_label.csv\")"
   ]
  },
  {
   "cell_type": "markdown",
   "id": "19e85f56",
   "metadata": {},
   "source": [
    "### 5:95"
   ]
  },
  {
   "cell_type": "code",
   "execution_count": 3,
   "id": "e40e6bf8",
   "metadata": {},
   "outputs": [],
   "source": [
    "train_data = pd.read_csv(\"abalone_ext_imb_data.csv\")\n",
    "train_label = pd.read_csv(\"abalone_ext_imb_label.csv\")"
   ]
  },
  {
   "cell_type": "code",
   "execution_count": 4,
   "id": "a8635bdc",
   "metadata": {},
   "outputs": [
    {
     "name": "stdout",
     "output_type": "stream",
     "text": [
      "Best: 0.372678 using {'class_weight': {0: 1, 1: 10}}\n",
      "0.000000 (0.000000) with: {'class_weight': {0: 100, 1: 1}}\n",
      "0.000000 (0.000000) with: {'class_weight': {0: 10, 1: 1}}\n",
      "0.012920 (0.069576) with: {'class_weight': {0: 1, 1: 1}}\n",
      "0.372678 (0.232370) with: {'class_weight': {0: 1, 1: 10}}\n",
      "0.041779 (0.013296) with: {'class_weight': {0: 1, 1: 100}}\n",
      "0.001735 (0.001738) with: {'class_weight': {0: 1, 1: 1000}}\n",
      "0.000133 (0.000399) with: {'class_weight': {0: 1, 1: 10000}}\n"
     ]
    }
   ],
   "source": [
    "# grid search class weights with logistic regression for imbalance classification\n",
    "from numpy import mean\n",
    "from sklearn.datasets import make_classification\n",
    "from sklearn.metrics import cohen_kappa_score, make_scorer\n",
    "from sklearn.model_selection import GridSearchCV\n",
    "from sklearn.model_selection import RepeatedStratifiedKFold\n",
    "from sklearn.linear_model import LogisticRegression\n",
    "from sklearn.metrics import accuracy_score,classification_report\n",
    "\n",
    "model = LogisticRegression(random_state=42,solver='lbfgs')\n",
    "# define grid\n",
    "balance = [{0:100,1:1}, {0:10,1:1}, {0:1,1:1}, {0:1,1:10}, {0:1,1:100},{0:1,1:1000},{0:1,1:10000}]\n",
    "param_grid = dict(class_weight=balance)\n",
    "# define evaluation procedure\n",
    "cv = RepeatedStratifiedKFold(n_splits=10, n_repeats=3, random_state=1)\n",
    "# define grid search\n",
    "kappa = make_scorer(cohen_kappa_score)\n",
    "grid = GridSearchCV(estimator=model, param_grid=param_grid, n_jobs=-1, cv=cv, scoring=kappa)\n",
    "# execute the grid search\n",
    "grid_result = grid.fit(train_data,np.array(train_label).ravel())\n",
    "# report the best configuration\n",
    "print(\"Best: %f using %s\" % (grid_result.best_score_, grid_result.best_params_))\n",
    "# report all configurations\n",
    "means = grid_result.cv_results_['mean_test_score']\n",
    "stds = grid_result.cv_results_['std_test_score']\n",
    "params = grid_result.cv_results_['params']\n",
    "for mean, stdev, param in zip(means, stds, params):\n",
    "    print(\"%f (%f) with: %r\" % (mean, stdev, param))"
   ]
  },
  {
   "cell_type": "markdown",
   "id": "f047673f",
   "metadata": {},
   "source": [
    "### 15:85"
   ]
  },
  {
   "cell_type": "code",
   "execution_count": 5,
   "id": "74220e40",
   "metadata": {},
   "outputs": [],
   "source": [
    "train_data = pd.read_csv(\"abalone_15285_imb_data.csv\")\n",
    "train_label = pd.read_csv(\"abalone_15285_imb_label.csv\")"
   ]
  },
  {
   "cell_type": "code",
   "execution_count": 6,
   "id": "ac0863ca",
   "metadata": {},
   "outputs": [
    {
     "name": "stdout",
     "output_type": "stream",
     "text": [
      "Best: 0.414135 using {'class_weight': {0: 1, 1: 10}}\n",
      "0.005354 (0.028832) with: {'class_weight': {0: 100, 1: 1}}\n",
      "0.044395 (0.085906) with: {'class_weight': {0: 10, 1: 1}}\n",
      "0.171707 (0.122827) with: {'class_weight': {0: 1, 1: 1}}\n",
      "0.414135 (0.091112) with: {'class_weight': {0: 1, 1: 10}}\n",
      "0.031850 (0.010835) with: {'class_weight': {0: 1, 1: 100}}\n",
      "0.001623 (0.002947) with: {'class_weight': {0: 1, 1: 1000}}\n",
      "0.000497 (0.001490) with: {'class_weight': {0: 1, 1: 10000}}\n"
     ]
    }
   ],
   "source": [
    "# grid search class weights with logistic regression for imbalance classification\n",
    "from numpy import mean\n",
    "from sklearn.datasets import make_classification\n",
    "from sklearn.metrics import cohen_kappa_score, make_scorer\n",
    "from sklearn.model_selection import GridSearchCV\n",
    "from sklearn.model_selection import RepeatedStratifiedKFold\n",
    "from sklearn.linear_model import LogisticRegression\n",
    "from sklearn.metrics import accuracy_score,classification_report\n",
    "\n",
    "model = LogisticRegression(random_state=42,solver='lbfgs')\n",
    "# define grid\n",
    "balance = [{0:100,1:1}, {0:10,1:1}, {0:1,1:1}, {0:1,1:10}, {0:1,1:100},{0:1,1:1000},{0:1,1:10000}]\n",
    "param_grid = dict(class_weight=balance)\n",
    "# define evaluation procedure\n",
    "cv = RepeatedStratifiedKFold(n_splits=10, n_repeats=3, random_state=1)\n",
    "# define grid search\n",
    "kappa = make_scorer(cohen_kappa_score)\n",
    "grid = GridSearchCV(estimator=model, param_grid=param_grid, n_jobs=-1, cv=cv, scoring=kappa)\n",
    "# execute the grid search\n",
    "grid_result = grid.fit(train_data,np.array(train_label).ravel())\n",
    "# report the best configuration\n",
    "print(\"Best: %f using %s\" % (grid_result.best_score_, grid_result.best_params_))\n",
    "# report all configurations\n",
    "means1 = grid_result.cv_results_['mean_test_score']\n",
    "stds1 = grid_result.cv_results_['std_test_score']\n",
    "params1 = grid_result.cv_results_['params']\n",
    "for mean, stdev, param in zip(means1, stds1, params1):\n",
    "    print(\"%f (%f) with: %r\" % (mean, stdev, param))"
   ]
  },
  {
   "cell_type": "markdown",
   "id": "07260871",
   "metadata": {},
   "source": [
    "### 30:70"
   ]
  },
  {
   "cell_type": "code",
   "execution_count": 7,
   "id": "77cd6684",
   "metadata": {},
   "outputs": [],
   "source": [
    "train_data = pd.read_csv(\"abalone_mod_imb_data.csv\")\n",
    "train_label = pd.read_csv(\"abalone_mod_imb_label.csv\")"
   ]
  },
  {
   "cell_type": "code",
   "execution_count": 8,
   "id": "c9b234ca",
   "metadata": {},
   "outputs": [
    {
     "name": "stdout",
     "output_type": "stream",
     "text": [
      "Best: 0.420633 using {'class_weight': {0: 1, 1: 1}}\n",
      "0.014125 (0.028268) with: {'class_weight': {0: 100, 1: 1}}\n",
      "0.062163 (0.058377) with: {'class_weight': {0: 10, 1: 1}}\n",
      "0.420633 (0.114085) with: {'class_weight': {0: 1, 1: 1}}\n",
      "0.211401 (0.049825) with: {'class_weight': {0: 1, 1: 10}}\n",
      "0.004803 (0.007144) with: {'class_weight': {0: 1, 1: 100}}\n",
      "0.000000 (0.000000) with: {'class_weight': {0: 1, 1: 1000}}\n",
      "0.000000 (0.000000) with: {'class_weight': {0: 1, 1: 10000}}\n"
     ]
    }
   ],
   "source": [
    "# grid search class weights with logistic regression for imbalance classification\n",
    "from numpy import mean\n",
    "from sklearn.datasets import make_classification\n",
    "from sklearn.metrics import cohen_kappa_score, make_scorer\n",
    "from sklearn.model_selection import GridSearchCV\n",
    "from sklearn.model_selection import RepeatedStratifiedKFold\n",
    "from sklearn.linear_model import LogisticRegression\n",
    "from sklearn.metrics import accuracy_score,classification_report\n",
    "\n",
    "model = LogisticRegression(random_state=42,solver='lbfgs')\n",
    "# define grid\n",
    "balance = [{0:100,1:1}, {0:10,1:1}, {0:1,1:1}, {0:1,1:10}, {0:1,1:100},{0:1,1:1000},{0:1,1:10000}]\n",
    "param_grid = dict(class_weight=balance)\n",
    "# define evaluation procedure\n",
    "cv = RepeatedStratifiedKFold(n_splits=10, n_repeats=3, random_state=1)\n",
    "# define grid search\n",
    "kappa = make_scorer(cohen_kappa_score)\n",
    "grid = GridSearchCV(estimator=model, param_grid=param_grid, n_jobs=-1, cv=cv, scoring=kappa)\n",
    "# execute the grid search\n",
    "grid_result = grid.fit(train_data,np.array(train_label).ravel())\n",
    "# report the best configuration\n",
    "print(\"Best: %f using %s\" % (grid_result.best_score_, grid_result.best_params_))\n",
    "# report all configurations\n",
    "means2 = grid_result.cv_results_['mean_test_score']\n",
    "stds2 = grid_result.cv_results_['std_test_score']\n",
    "params2 = grid_result.cv_results_['params']\n",
    "for mean, stdev, param in zip(means2, stds2, params2):\n",
    "    print(\"%f (%f) with: %r\" % (mean, stdev, param))"
   ]
  },
  {
   "cell_type": "markdown",
   "id": "e869d54f",
   "metadata": {},
   "source": [
    "### 50:50"
   ]
  },
  {
   "cell_type": "code",
   "execution_count": 9,
   "id": "8ba7ef1a",
   "metadata": {},
   "outputs": [],
   "source": [
    "train_data = pd.read_csv(\"abalone_no_imb_data.csv\")\n",
    "train_label = pd.read_csv(\"abalone_no_imb_label.csv\")"
   ]
  },
  {
   "cell_type": "code",
   "execution_count": 10,
   "id": "08f92b6b",
   "metadata": {},
   "outputs": [
    {
     "name": "stdout",
     "output_type": "stream",
     "text": [
      "Best: 0.651320 using {'class_weight': {0: 1, 1: 1}}\n",
      "0.064671 (0.031992) with: {'class_weight': {0: 100, 1: 1}}\n",
      "0.270543 (0.045539) with: {'class_weight': {0: 10, 1: 1}}\n",
      "0.651320 (0.072592) with: {'class_weight': {0: 1, 1: 1}}\n",
      "0.189447 (0.052890) with: {'class_weight': {0: 1, 1: 10}}\n",
      "0.009653 (0.011470) with: {'class_weight': {0: 1, 1: 100}}\n",
      "0.001617 (0.004853) with: {'class_weight': {0: 1, 1: 1000}}\n",
      "0.001617 (0.004853) with: {'class_weight': {0: 1, 1: 10000}}\n"
     ]
    }
   ],
   "source": [
    "# grid search class weights with logistic regression for imbalance classification\n",
    "from numpy import mean\n",
    "from sklearn.datasets import make_classification\n",
    "from sklearn.metrics import cohen_kappa_score, make_scorer\n",
    "from sklearn.model_selection import GridSearchCV\n",
    "from sklearn.model_selection import RepeatedStratifiedKFold\n",
    "from sklearn.linear_model import LogisticRegression\n",
    "from sklearn.metrics import accuracy_score,classification_report\n",
    "\n",
    "model = LogisticRegression(random_state=42,solver='lbfgs')\n",
    "# define grid\n",
    "balance = [{0:100,1:1}, {0:10,1:1}, {0:1,1:1}, {0:1,1:10}, {0:1,1:100},{0:1,1:1000},{0:1,1:10000}]\n",
    "param_grid = dict(class_weight=balance)\n",
    "# define evaluation procedure\n",
    "cv = RepeatedStratifiedKFold(n_splits=10, n_repeats=3, random_state=1)\n",
    "# define grid search\n",
    "kappa = make_scorer(cohen_kappa_score)\n",
    "grid = GridSearchCV(estimator=model, param_grid=param_grid, n_jobs=-1, cv=cv, scoring=kappa)\n",
    "# execute the grid search\n",
    "grid_result = grid.fit(train_data,np.array(train_label).ravel())\n",
    "# report the best configuration\n",
    "print(\"Best: %f using %s\" % (grid_result.best_score_, grid_result.best_params_))\n",
    "# report all configurations\n",
    "means3 = grid_result.cv_results_['mean_test_score']\n",
    "stds3 = grid_result.cv_results_['std_test_score']\n",
    "params3 = grid_result.cv_results_['params']\n",
    "for mean, stdev, param in zip(means3, stds3, params3):\n",
    "    print(\"%f (%f) with: %r\" % (mean, stdev, param))"
   ]
  },
  {
   "cell_type": "code",
   "execution_count": 11,
   "id": "02959afd",
   "metadata": {},
   "outputs": [],
   "source": [
    "labels = ['5:95', '15:85', '30:70','50:50']\n",
    "x_pos = np.arange(len(labels))\n",
    "CTEs = [np.mean(means),np.mean(means1),np.mean(means2),np.mean(means3)]\n",
    "error = [np.std(means),np.std(means1),np.std(means2),np.std(means3)]"
   ]
  },
  {
   "cell_type": "code",
   "execution_count": 13,
   "id": "a89f669f",
   "metadata": {},
   "outputs": [
    {
     "data": {
      "image/png": "[encoded data removed]",
      "text/plain": [
       "<Figure size 576x396 with 1 Axes>"
      ]
     },
     "metadata": {},
     "output_type": "display_data"
    }
   ],
   "source": [
    "import matplotlib.pyplot as plt\n",
    "plt.style.use('seaborn')\n",
    "fig, ax = plt.subplots()\n",
    "ax.errorbar(labels, CTEs,\n",
    "            yerr=error,\n",
    "            fmt='-o',\n",
    "           color='yellow',\n",
    "           ecolor='green')\n",
    " \n",
    "ax.set_xlabel('Imbalance')\n",
    "ax.set_ylabel('Mean Kappa score')\n",
    "ax.set_title('Line plot with error bars')\n",
    "plt.show()"
   ]
  }
 ],
 "metadata": {
  "kernelspec": {
   "display_name": "Python 3",
   "language": "python",
   "name": "python3"
  },
  "language_info": {
   "codemirror_mode": {
    "name": "ipython",
    "version": 3
   },
   "file_extension": ".py",
   "mimetype": "text/x-python",
   "name": "python",
   "nbconvert_exporter": "python",
   "pygments_lexer": "ipython3",
   "version": "3.8.8"
  }
 },
 "nbformat": 4,
 "nbformat_minor": 5
}
