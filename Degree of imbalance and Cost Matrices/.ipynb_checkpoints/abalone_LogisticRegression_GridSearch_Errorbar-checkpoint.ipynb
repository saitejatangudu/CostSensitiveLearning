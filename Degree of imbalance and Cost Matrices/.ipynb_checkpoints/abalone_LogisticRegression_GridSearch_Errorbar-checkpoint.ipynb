{
 "cells": [
  {
   "cell_type": "code",
   "execution_count": 1,
   "id": "8c5757de",
   "metadata": {},
   "outputs": [],
   "source": [
    "import numpy as np\n",
    "import pandas as pd\n",
    "from sklearn.metrics import accuracy_score,classification_report"
   ]
  },
  {
   "cell_type": "markdown",
   "id": "19e85f56",
   "metadata": {},
   "source": [
    "### 5:95"
   ]
  },
  {
   "cell_type": "code",
   "execution_count": 2,
   "id": "e40e6bf8",
   "metadata": {},
   "outputs": [],
   "source": [
    "train_data = pd.read_csv(\"abalone_ext_imb_data.csv\")\n",
    "train_label = pd.read_csv(\"abalone_ext_imb_label.csv\")"
   ]
  },
  {
   "cell_type": "code",
   "execution_count": 3,
   "id": "a8635bdc",
   "metadata": {},
   "outputs": [
    {
     "name": "stdout",
     "output_type": "stream",
     "text": [
      "Best: -0.051377 using {'class_weight': {0: 1, 1: 1}}\n",
      "-0.052627 (0.004943) with: {'class_weight': {0: 100, 1: 1}}\n",
      "-0.052627 (0.004943) with: {'class_weight': {0: 10, 1: 1}}\n",
      "-0.051377 (0.006713) with: {'class_weight': {0: 1, 1: 1}}\n",
      "-0.071450 (0.022786) with: {'class_weight': {0: 1, 1: 10}}\n",
      "-0.631603 (0.042650) with: {'class_weight': {0: 1, 1: 100}}\n",
      "-0.923993 (0.016694) with: {'class_weight': {0: 1, 1: 1000}}\n",
      "-0.944451 (0.006934) with: {'class_weight': {0: 1, 1: 10000}}\n"
     ]
    }
   ],
   "source": [
    "# grid search class weights with logistic regression for imbalance classification\n",
    "from numpy import mean\n",
    "from sklearn.datasets import make_classification\n",
    "from sklearn.metrics import cohen_kappa_score, make_scorer\n",
    "from sklearn.model_selection import GridSearchCV\n",
    "from sklearn.model_selection import RepeatedStratifiedKFold\n",
    "from sklearn.linear_model import LogisticRegression\n",
    "from sklearn.metrics import accuracy_score,classification_report,mean_squared_error\n",
    "\n",
    "model = LogisticRegression(random_state=42,solver='lbfgs')\n",
    "# define grid\n",
    "balance = [{0:100,1:1}, {0:10,1:1}, {0:1,1:1}, {0:1,1:10}, {0:1,1:100},{0:1,1:1000},{0:1,1:10000}]\n",
    "param_grid = dict(class_weight=balance)\n",
    "# define evaluation procedure\n",
    "cv = RepeatedStratifiedKFold(n_splits=10, n_repeats=3, random_state=1)\n",
    "# define grid search\n",
    "kappa = make_scorer(mean_squared_error,greater_is_better=False)\n",
    "grid = GridSearchCV(estimator=model, param_grid=param_grid, n_jobs=-1, cv=cv, scoring=kappa)\n",
    "# execute the grid search\n",
    "grid_result = grid.fit(train_data,np.array(train_label).ravel())\n",
    "# report the best configuration\n",
    "print(\"Best: %f using %s\" % (grid_result.best_score_, grid_result.best_params_))\n",
    "# report all configurations\n",
    "means = grid_result.cv_results_['mean_test_score']\n",
    "stds = grid_result.cv_results_['std_test_score']\n",
    "params = grid_result.cv_results_['params']\n",
    "for mean, stdev, param in zip(means, stds, params):\n",
    "    print(\"%f (%f) with: %r\" % (mean, stdev, param))"
   ]
  },
  {
   "cell_type": "markdown",
   "id": "f047673f",
   "metadata": {},
   "source": [
    "### 15:85"
   ]
  },
  {
   "cell_type": "code",
   "execution_count": 4,
   "id": "74220e40",
   "metadata": {},
   "outputs": [],
   "source": [
    "train_data = pd.read_csv(\"abalone_15285_imb_data.csv\")\n",
    "train_label = pd.read_csv(\"abalone_15285_imb_label.csv\")"
   ]
  },
  {
   "cell_type": "code",
   "execution_count": 5,
   "id": "ac0863ca",
   "metadata": {},
   "outputs": [
    {
     "name": "stdout",
     "output_type": "stream",
     "text": [
      "Best: -0.129491 using {'class_weight': {0: 1, 1: 1}}\n",
      "-0.141528 (0.006215) with: {'class_weight': {0: 100, 1: 1}}\n",
      "-0.140700 (0.006792) with: {'class_weight': {0: 10, 1: 1}}\n",
      "-0.129491 (0.012012) with: {'class_weight': {0: 1, 1: 1}}\n",
      "-0.253138 (0.044095) with: {'class_weight': {0: 1, 1: 10}}\n",
      "-0.753457 (0.035730) with: {'class_weight': {0: 1, 1: 100}}\n",
      "-0.851420 (0.009102) with: {'class_weight': {0: 1, 1: 1000}}\n",
      "-0.856811 (0.006445) with: {'class_weight': {0: 1, 1: 10000}}\n"
     ]
    }
   ],
   "source": [
    "# grid search class weights with logistic regression for imbalance classification\n",
    "from numpy import mean\n",
    "from sklearn.datasets import make_classification\n",
    "from sklearn.metrics import cohen_kappa_score, make_scorer\n",
    "from sklearn.model_selection import GridSearchCV\n",
    "from sklearn.model_selection import RepeatedStratifiedKFold\n",
    "from sklearn.linear_model import LogisticRegression\n",
    "from sklearn.metrics import accuracy_score,classification_report,mean_squared_error\n",
    "\n",
    "model = LogisticRegression(random_state=42,solver='lbfgs')\n",
    "# define grid\n",
    "balance = [{0:100,1:1}, {0:10,1:1}, {0:1,1:1}, {0:1,1:10}, {0:1,1:100},{0:1,1:1000},{0:1,1:10000}]\n",
    "param_grid = dict(class_weight=balance)\n",
    "# define evaluation procedure\n",
    "cv = RepeatedStratifiedKFold(n_splits=10, n_repeats=3, random_state=1)\n",
    "# define grid search\n",
    "kappa = make_scorer(mean_squared_error,greater_is_better=False)\n",
    "grid = GridSearchCV(estimator=model, param_grid=param_grid, n_jobs=-1, cv=cv, scoring=kappa)\n",
    "# execute the grid search\n",
    "grid_result = grid.fit(train_data,np.array(train_label).ravel())\n",
    "# report the best configuration\n",
    "print(\"Best: %f using %s\" % (grid_result.best_score_, grid_result.best_params_))\n",
    "# report all configurations\n",
    "means1 = grid_result.cv_results_['mean_test_score']\n",
    "stds1 = grid_result.cv_results_['std_test_score']\n",
    "params1 = grid_result.cv_results_['params']\n",
    "for mean, stdev, param in zip(means1, stds1, params1):\n",
    "    print(\"%f (%f) with: %r\" % (mean, stdev, param))"
   ]
  },
  {
   "cell_type": "markdown",
   "id": "07260871",
   "metadata": {},
   "source": [
    "### 30:70"
   ]
  },
  {
   "cell_type": "code",
   "execution_count": 6,
   "id": "77cd6684",
   "metadata": {},
   "outputs": [],
   "source": [
    "train_data = pd.read_csv(\"abalone_mod_imb_data.csv\")\n",
    "train_label = pd.read_csv(\"abalone_mod_imb_label.csv\")"
   ]
  },
  {
   "cell_type": "code",
   "execution_count": 7,
   "id": "c9b234ca",
   "metadata": {},
   "outputs": [
    {
     "name": "stdout",
     "output_type": "stream",
     "text": [
      "Best: -0.202454 using {'class_weight': {0: 1, 1: 1}}\n",
      "-0.287684 (0.007004) with: {'class_weight': {0: 100, 1: 1}}\n",
      "-0.276630 (0.011838) with: {'class_weight': {0: 10, 1: 1}}\n",
      "-0.202454 (0.033114) with: {'class_weight': {0: 1, 1: 1}}\n",
      "-0.424118 (0.046131) with: {'class_weight': {0: 1, 1: 10}}\n",
      "-0.695256 (0.014706) with: {'class_weight': {0: 1, 1: 100}}\n",
      "-0.706773 (0.005428) with: {'class_weight': {0: 1, 1: 1000}}\n",
      "-0.706773 (0.005428) with: {'class_weight': {0: 1, 1: 10000}}\n"
     ]
    }
   ],
   "source": [
    "# grid search class weights with logistic regression for imbalance classification\n",
    "from numpy import mean\n",
    "from sklearn.datasets import make_classification\n",
    "from sklearn.metrics import cohen_kappa_score, make_scorer\n",
    "from sklearn.model_selection import GridSearchCV\n",
    "from sklearn.model_selection import RepeatedStratifiedKFold\n",
    "from sklearn.linear_model import LogisticRegression\n",
    "from sklearn.metrics import accuracy_score,classification_report,mean_squared_error\n",
    "\n",
    "model = LogisticRegression(random_state=42,solver='lbfgs')\n",
    "# define grid\n",
    "balance = [{0:100,1:1}, {0:10,1:1}, {0:1,1:1}, {0:1,1:10}, {0:1,1:100},{0:1,1:1000},{0:1,1:10000}]\n",
    "param_grid = dict(class_weight=balance)\n",
    "# define evaluation procedure\n",
    "cv = RepeatedStratifiedKFold(n_splits=10, n_repeats=3, random_state=1)\n",
    "# define grid search\n",
    "kappa = make_scorer(mean_squared_error,greater_is_better=False)\n",
    "grid = GridSearchCV(estimator=model, param_grid=param_grid, n_jobs=-1, cv=cv, scoring=kappa)\n",
    "# execute the grid search\n",
    "grid_result = grid.fit(train_data,np.array(train_label).ravel())\n",
    "# report the best configuration\n",
    "print(\"Best: %f using %s\" % (grid_result.best_score_, grid_result.best_params_))\n",
    "# report all configurations\n",
    "means2 = grid_result.cv_results_['mean_test_score']\n",
    "stds2 = grid_result.cv_results_['std_test_score']\n",
    "params2 = grid_result.cv_results_['params']\n",
    "for mean, stdev, param in zip(means2, stds2, params2):\n",
    "    print(\"%f (%f) with: %r\" % (mean, stdev, param))"
   ]
  },
  {
   "cell_type": "markdown",
   "id": "e869d54f",
   "metadata": {},
   "source": [
    "### 50:50"
   ]
  },
  {
   "cell_type": "code",
   "execution_count": 8,
   "id": "8ba7ef1a",
   "metadata": {},
   "outputs": [],
   "source": [
    "train_data = pd.read_csv(\"abalone_no_imb_data.csv\")\n",
    "train_label = pd.read_csv(\"abalone_no_imb_label.csv\")"
   ]
  },
  {
   "cell_type": "code",
   "execution_count": 9,
   "id": "08f92b6b",
   "metadata": {},
   "outputs": [
    {
     "name": "stdout",
     "output_type": "stream",
     "text": [
      "Best: -0.168239 using {'class_weight': {0: 1, 1: 1}}\n",
      "-0.463607 (0.014818) with: {'class_weight': {0: 100, 1: 1}}\n",
      "-0.373753 (0.034355) with: {'class_weight': {0: 10, 1: 1}}\n",
      "-0.168239 (0.026507) with: {'class_weight': {0: 1, 1: 1}}\n",
      "-0.402725 (0.017480) with: {'class_weight': {0: 1, 1: 10}}\n",
      "-0.496227 (0.005289) with: {'class_weight': {0: 1, 1: 100}}\n",
      "-0.502555 (0.002337) with: {'class_weight': {0: 1, 1: 1000}}\n",
      "-0.502555 (0.002337) with: {'class_weight': {0: 1, 1: 10000}}\n"
     ]
    }
   ],
   "source": [
    "# grid search class weights with logistic regression for imbalance classification\n",
    "from numpy import mean\n",
    "from sklearn.datasets import make_classification\n",
    "from sklearn.metrics import cohen_kappa_score, make_scorer\n",
    "from sklearn.model_selection import GridSearchCV\n",
    "from sklearn.model_selection import RepeatedStratifiedKFold\n",
    "from sklearn.linear_model import LogisticRegression\n",
    "from sklearn.metrics import accuracy_score,classification_report,mean_squared_error\n",
    "\n",
    "model = LogisticRegression(random_state=42,solver='lbfgs')\n",
    "# define grid\n",
    "balance = [{0:100,1:1}, {0:10,1:1}, {0:1,1:1}, {0:1,1:10}, {0:1,1:100},{0:1,1:1000},{0:1,1:10000}]\n",
    "param_grid = dict(class_weight=balance)\n",
    "# define evaluation procedure\n",
    "cv = RepeatedStratifiedKFold(n_splits=10, n_repeats=3, random_state=1)\n",
    "# define grid search\n",
    "kappa = make_scorer(mean_squared_error,greater_is_better=False)\n",
    "grid = GridSearchCV(estimator=model, param_grid=param_grid, n_jobs=-1, cv=cv, scoring=kappa)\n",
    "# execute the grid search\n",
    "grid_result = grid.fit(train_data,np.array(train_label).ravel())\n",
    "# report the best configuration\n",
    "print(\"Best: %f using %s\" % (grid_result.best_score_, grid_result.best_params_))\n",
    "# report all configurations\n",
    "means3 = grid_result.cv_results_['mean_test_score']\n",
    "stds3 = grid_result.cv_results_['std_test_score']\n",
    "params3 = grid_result.cv_results_['params']\n",
    "for mean, stdev, param in zip(means3, stds3, params3):\n",
    "    print(\"%f (%f) with: %r\" % (mean, stdev, param))"
   ]
  },
  {
   "cell_type": "code",
   "execution_count": 15,
   "id": "02959afd",
   "metadata": {},
   "outputs": [],
   "source": [
    "labels = ['5:95', '15:85', '30:70','50:50']\n",
    "x_pos = np.arange(len(labels))\n",
    "means= -1*means\n",
    "means1= -1*means1\n",
    "means2= -1*means2\n",
    "means3 = -1*means3\n",
    "\n",
    "CTEs = [np.mean(means),np.mean(means1),np.mean(means2),np.mean(means3)]\n",
    "error = [np.std(means),np.std(means1),np.std(means2),np.std(means3)]"
   ]
  },
  {
   "cell_type": "code",
   "execution_count": 16,
   "id": "a89f669f",
   "metadata": {},
   "outputs": [
    {
     "data": {
      "image/png": "[encoded data removed]",
      "text/plain": [
       "<Figure size 576x396 with 1 Axes>"
      ]
     },
     "metadata": {},
     "output_type": "display_data"
    }
   ],
   "source": [
    "import matplotlib.pyplot as plt\n",
    "plt.style.use('seaborn')\n",
    "fig, ax = plt.subplots()\n",
    "ax.errorbar(labels, CTEs,\n",
    "            yerr=error,\n",
    "            fmt='-o',\n",
    "           color='yellow',\n",
    "           ecolor='green')\n",
    " \n",
    "ax.set_xlabel('Degree of Imbalance')\n",
    "ax.set_ylabel('Mean Error')\n",
    "ax.set_title('CSLogistic Regression on Abalone dataset')\n",
    "plt.show()"
   ]
  }
 ],
 "metadata": {
  "kernelspec": {
   "display_name": "Python 3",
   "language": "python",
   "name": "python3"
  },
  "language_info": {
   "codemirror_mode": {
    "name": "ipython",
    "version": 3
   },
   "file_extension": ".py",
   "mimetype": "text/x-python",
   "name": "python",
   "nbconvert_exporter": "python",
   "pygments_lexer": "ipython3",
   "version": "3.8.8"
  }
 },
 "nbformat": 4,
 "nbformat_minor": 5
}
