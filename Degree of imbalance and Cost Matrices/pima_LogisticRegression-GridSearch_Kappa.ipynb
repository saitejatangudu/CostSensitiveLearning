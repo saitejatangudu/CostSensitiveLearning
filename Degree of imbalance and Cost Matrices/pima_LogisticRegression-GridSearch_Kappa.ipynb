{
 "cells": [
  {
   "cell_type": "code",
   "execution_count": 1,
   "id": "8c5757de",
   "metadata": {},
   "outputs": [],
   "source": [
    "import numpy as np\n",
    "import pandas as pd"
   ]
  },
  {
   "cell_type": "markdown",
   "id": "19e85f56",
   "metadata": {},
   "source": [
    "### 5:95"
   ]
  },
  {
   "cell_type": "code",
   "execution_count": 2,
   "id": "e40e6bf8",
   "metadata": {},
   "outputs": [],
   "source": [
    "train_data = pd.read_csv(\"pima_ext_imb_data.csv\")\n",
    "train_label = pd.read_csv(\"pima_ext_imb_label.csv\")"
   ]
  },
  {
   "cell_type": "code",
   "execution_count": 3,
   "id": "a8635bdc",
   "metadata": {},
   "outputs": [
    {
     "name": "stdout",
     "output_type": "stream",
     "text": [
      "Best: 0.802376 using {'class_weight': {0: 1, 1: 1000}}\n",
      "0.786798 (0.102356) with: {'class_weight': {0: 100, 1: 1}}\n",
      "0.786919 (0.102168) with: {'class_weight': {0: 10, 1: 1}}\n",
      "0.785716 (0.101400) with: {'class_weight': {0: 1, 1: 1}}\n",
      "0.800041 (0.095034) with: {'class_weight': {0: 1, 1: 10}}\n",
      "0.801913 (0.087263) with: {'class_weight': {0: 1, 1: 100}}\n",
      "0.802376 (0.091027) with: {'class_weight': {0: 1, 1: 1000}}\n",
      "0.799586 (0.094679) with: {'class_weight': {0: 1, 1: 10000}}\n"
     ]
    }
   ],
   "source": [
    "# grid search class weights with logistic regression for imbalance classification\n",
    "from numpy import mean\n",
    "from sklearn.datasets import make_classification\n",
    "from sklearn.model_selection import GridSearchCV\n",
    "from sklearn.model_selection import RepeatedStratifiedKFold\n",
    "from sklearn.linear_model import LogisticRegression\n",
    "\n",
    "model = LogisticRegression(random_state=42,solver='lbfgs')\n",
    "# define grid\n",
    "balance = [{0:100,1:1}, {0:10,1:1}, {0:1,1:1}, {0:1,1:10}, {0:1,1:100},{0:1,1:1000},{0:1,1:10000}]\n",
    "param_grid = dict(class_weight=balance)\n",
    "# define evaluation procedure\n",
    "cv = RepeatedStratifiedKFold(n_splits=10, n_repeats=3, random_state=1)\n",
    "# define grid search\n",
    "grid = GridSearchCV(estimator=model, param_grid=param_grid, n_jobs=-1, cv=cv, scoring='roc_auc')\n",
    "# execute the grid search\n",
    "grid_result = grid.fit(train_data,np.array(train_label).ravel())\n",
    "# report the best configuration\n",
    "print(\"Best: %f using %s\" % (grid_result.best_score_, grid_result.best_params_))\n",
    "# report all configurations\n",
    "means = grid_result.cv_results_['mean_test_score']\n",
    "stds = grid_result.cv_results_['std_test_score']\n",
    "params = grid_result.cv_results_['params']\n",
    "for mean, stdev, param in zip(means, stds, params):\n",
    "    print(\"%f (%f) with: %r\" % (mean, stdev, param))"
   ]
  },
  {
   "cell_type": "markdown",
   "id": "f047673f",
   "metadata": {},
   "source": [
    "### 15:85"
   ]
  },
  {
   "cell_type": "code",
   "execution_count": 4,
   "id": "74220e40",
   "metadata": {},
   "outputs": [],
   "source": [
    "train_data = pd.read_csv(\"pima_15285_imb_data.csv\")\n",
    "train_label = pd.read_csv(\"pima_15285_imb_label.csv\")"
   ]
  },
  {
   "cell_type": "code",
   "execution_count": 5,
   "id": "ac0863ca",
   "metadata": {},
   "outputs": [
    {
     "name": "stdout",
     "output_type": "stream",
     "text": [
      "Best: 0.821816 using {'class_weight': {0: 10, 1: 1}}\n",
      "0.786798 (0.102356) with: {'class_weight': {0: 100, 1: 1}}\n",
      "0.786919 (0.102168) with: {'class_weight': {0: 10, 1: 1}}\n",
      "0.785716 (0.101400) with: {'class_weight': {0: 1, 1: 1}}\n",
      "0.800041 (0.095034) with: {'class_weight': {0: 1, 1: 10}}\n",
      "0.801913 (0.087263) with: {'class_weight': {0: 1, 1: 100}}\n",
      "0.802376 (0.091027) with: {'class_weight': {0: 1, 1: 1000}}\n",
      "0.799586 (0.094679) with: {'class_weight': {0: 1, 1: 10000}}\n"
     ]
    }
   ],
   "source": [
    "# grid search class weights with logistic regression for imbalance classification\n",
    "from numpy import mean\n",
    "from sklearn.datasets import make_classification\n",
    "from sklearn.model_selection import GridSearchCV\n",
    "from sklearn.model_selection import RepeatedStratifiedKFold\n",
    "from sklearn.linear_model import LogisticRegression\n",
    "\n",
    "model = LogisticRegression(random_state=42,solver='lbfgs')\n",
    "# define grid\n",
    "balance = [{0:100,1:1}, {0:10,1:1}, {0:1,1:1}, {0:1,1:10}, {0:1,1:100},{0:1,1:1000},{0:1,1:10000}]\n",
    "param_grid = dict(class_weight=balance)\n",
    "# define evaluation procedure\n",
    "cv = RepeatedStratifiedKFold(n_splits=10, n_repeats=3, random_state=1)\n",
    "# define grid search\n",
    "grid = GridSearchCV(estimator=model, param_grid=param_grid, n_jobs=-1, cv=cv, scoring='roc_auc')\n",
    "# execute the grid search\n",
    "grid_result = grid.fit(train_data,np.array(train_label).ravel())\n",
    "# report the best configuration\n",
    "print(\"Best: %f using %s\" % (grid_result.best_score_, grid_result.best_params_))\n",
    "# report all configurations\n",
    "means1 = grid_result.cv_results_['mean_test_score']\n",
    "stds1 = grid_result.cv_results_['std_test_score']\n",
    "params1 = grid_result.cv_results_['params']\n",
    "for mean, stdev, param in zip(means, stds, params):\n",
    "    print(\"%f (%f) with: %r\" % (mean, stdev, param))"
   ]
  },
  {
   "cell_type": "markdown",
   "id": "07260871",
   "metadata": {},
   "source": [
    "### 30:70"
   ]
  },
  {
   "cell_type": "code",
   "execution_count": 6,
   "id": "77cd6684",
   "metadata": {},
   "outputs": [],
   "source": [
    "train_data = pd.read_csv(\"pima_mod_imb_data.csv\")\n",
    "train_label = pd.read_csv(\"pima_mod_imb_label.csv\")"
   ]
  },
  {
   "cell_type": "code",
   "execution_count": 7,
   "id": "c9b234ca",
   "metadata": {},
   "outputs": [
    {
     "name": "stdout",
     "output_type": "stream",
     "text": [
      "Best: 0.821816 using {'class_weight': {0: 10, 1: 1}}\n",
      "0.786798 (0.102356) with: {'class_weight': {0: 100, 1: 1}}\n",
      "0.786919 (0.102168) with: {'class_weight': {0: 10, 1: 1}}\n",
      "0.785716 (0.101400) with: {'class_weight': {0: 1, 1: 1}}\n",
      "0.800041 (0.095034) with: {'class_weight': {0: 1, 1: 10}}\n",
      "0.801913 (0.087263) with: {'class_weight': {0: 1, 1: 100}}\n",
      "0.802376 (0.091027) with: {'class_weight': {0: 1, 1: 1000}}\n",
      "0.799586 (0.094679) with: {'class_weight': {0: 1, 1: 10000}}\n"
     ]
    }
   ],
   "source": [
    "# grid search class weights with logistic regression for imbalance classification\n",
    "from numpy import mean\n",
    "from sklearn.datasets import make_classification\n",
    "from sklearn.model_selection import GridSearchCV\n",
    "from sklearn.model_selection import RepeatedStratifiedKFold\n",
    "from sklearn.linear_model import LogisticRegression\n",
    "\n",
    "model = LogisticRegression(random_state=42,solver='lbfgs')\n",
    "# define grid\n",
    "balance = [{0:100,1:1}, {0:10,1:1}, {0:1,1:1}, {0:1,1:10}, {0:1,1:100},{0:1,1:1000},{0:1,1:10000}]\n",
    "param_grid = dict(class_weight=balance)\n",
    "# define evaluation procedure\n",
    "cv = RepeatedStratifiedKFold(n_splits=10, n_repeats=3, random_state=1)\n",
    "# define grid search\n",
    "grid = GridSearchCV(estimator=model, param_grid=param_grid, n_jobs=-1, cv=cv, scoring='roc_auc')\n",
    "# execute the grid search\n",
    "grid_result = grid.fit(train_data,np.array(train_label).ravel())\n",
    "# report the best configuration\n",
    "print(\"Best: %f using %s\" % (grid_result.best_score_, grid_result.best_params_))\n",
    "# report all configurations\n",
    "means2 = grid_result.cv_results_['mean_test_score']\n",
    "stds2 = grid_result.cv_results_['std_test_score']\n",
    "params2 = grid_result.cv_results_['params']\n",
    "for mean, stdev, param in zip(means, stds, params):\n",
    "    print(\"%f (%f) with: %r\" % (mean, stdev, param))"
   ]
  },
  {
   "cell_type": "markdown",
   "id": "e869d54f",
   "metadata": {},
   "source": [
    "### 50:50"
   ]
  },
  {
   "cell_type": "code",
   "execution_count": 8,
   "id": "8ba7ef1a",
   "metadata": {},
   "outputs": [],
   "source": [
    "train_data = pd.read_csv(\"pima_no_imb_data.csv\")\n",
    "train_label = pd.read_csv(\"pima_no_imb_label.csv\")"
   ]
  },
  {
   "cell_type": "code",
   "execution_count": 9,
   "id": "08f92b6b",
   "metadata": {},
   "outputs": [
    {
     "name": "stdout",
     "output_type": "stream",
     "text": [
      "Best: 0.813975 using {'class_weight': {0: 1, 1: 1}}\n",
      "0.786798 (0.102356) with: {'class_weight': {0: 100, 1: 1}}\n",
      "0.786919 (0.102168) with: {'class_weight': {0: 10, 1: 1}}\n",
      "0.785716 (0.101400) with: {'class_weight': {0: 1, 1: 1}}\n",
      "0.800041 (0.095034) with: {'class_weight': {0: 1, 1: 10}}\n",
      "0.801913 (0.087263) with: {'class_weight': {0: 1, 1: 100}}\n",
      "0.802376 (0.091027) with: {'class_weight': {0: 1, 1: 1000}}\n",
      "0.799586 (0.094679) with: {'class_weight': {0: 1, 1: 10000}}\n"
     ]
    }
   ],
   "source": [
    "# grid search class weights with logistic regression for imbalance classification\n",
    "from numpy import mean\n",
    "from sklearn.datasets import make_classification\n",
    "from sklearn.model_selection import GridSearchCV\n",
    "from sklearn.model_selection import RepeatedStratifiedKFold\n",
    "from sklearn.linear_model import LogisticRegression\n",
    "\n",
    "model = LogisticRegression(random_state=42,solver='lbfgs')\n",
    "# define grid\n",
    "balance = [{0:100,1:1}, {0:10,1:1}, {0:1,1:1}, {0:1,1:10}, {0:1,1:100},{0:1,1:1000},{0:1,1:10000}]\n",
    "param_grid = dict(class_weight=balance)\n",
    "# define evaluation procedure\n",
    "cv = RepeatedStratifiedKFold(n_splits=10, n_repeats=3, random_state=1)\n",
    "# define grid search\n",
    "grid = GridSearchCV(estimator=model, param_grid=param_grid, n_jobs=-1, cv=cv, scoring='roc_auc')\n",
    "# execute the grid search\n",
    "grid_result = grid.fit(train_data,np.array(train_label).ravel())\n",
    "# report the best configuration\n",
    "print(\"Best: %f using %s\" % (grid_result.best_score_, grid_result.best_params_))\n",
    "# report all configurations\n",
    "means3 = grid_result.cv_results_['mean_test_score']\n",
    "stds3 = grid_result.cv_results_['std_test_score']\n",
    "params3 = grid_result.cv_results_['params']\n",
    "for mean, stdev, param in zip(means, stds, params):\n",
    "    print(\"%f (%f) with: %r\" % (mean, stdev, param))"
   ]
  },
  {
   "cell_type": "code",
   "execution_count": 10,
   "id": "02959afd",
   "metadata": {},
   "outputs": [],
   "source": [
    "labels = ['5:95', '15:85', '30:70','50:50']\n",
    "x_pos = np.arange(len(labels))\n",
    "CTEs = [np.mean(means),np.mean(means1),np.mean(means2),np.mean(means3)]\n",
    "error = [np.std(means),np.std(means1),np.std(means2),np.std(means3)]"
   ]
  },
  {
   "cell_type": "code",
   "execution_count": 11,
   "id": "a89f669f",
   "metadata": {},
   "outputs": [
    {
     "data": {
      "image/png": "[encoded data removed]",
      "text/plain": [
       "<Figure size 576x396 with 1 Axes>"
      ]
     },
     "metadata": {},
     "output_type": "display_data"
    }
   ],
   "source": [
    "import matplotlib.pyplot as plt\n",
    "plt.style.use('seaborn')\n",
    "fig, ax = plt.subplots()\n",
    "ax.errorbar(labels, CTEs,\n",
    "            yerr=error,\n",
    "            fmt='-o',\n",
    "           color='blue',\n",
    "           ecolor='green')\n",
    " \n",
    "ax.set_xlabel('Degree of Imbalance',fontsize=20)\n",
    "ax.set_ylabel('Kappa Score',fontsize=20)\n",
    "plt.show()"
   ]
  },
  {
   "cell_type": "code",
   "execution_count": 12,
   "id": "6fdb6157",
   "metadata": {},
   "outputs": [
    {
     "data": {
      "text/html": [
       "<div>\n",
       "<style scoped>\n",
       "    .dataframe tbody tr th:only-of-type {\n",
       "        vertical-align: middle;\n",
       "    }\n",
       "\n",
       "    .dataframe tbody tr th {\n",
       "        vertical-align: top;\n",
       "    }\n",
       "\n",
       "    .dataframe thead th {\n",
       "        text-align: right;\n",
       "    }\n",
       "</style>\n",
       "<table border=\"1\" class=\"dataframe\">\n",
       "  <thead>\n",
       "    <tr style=\"text-align: right;\">\n",
       "      <th></th>\n",
       "      <th>5:95</th>\n",
       "      <th>15:85</th>\n",
       "      <th>30:70</th>\n",
       "      <th>50:50</th>\n",
       "    </tr>\n",
       "  </thead>\n",
       "  <tbody>\n",
       "    <tr>\n",
       "      <th>{0: 100, 1: 1}</th>\n",
       "      <td>0.786798</td>\n",
       "      <td>0.821598</td>\n",
       "      <td>0.821598</td>\n",
       "      <td>0.810313</td>\n",
       "    </tr>\n",
       "    <tr>\n",
       "      <th>{0: 10, 1: 1}</th>\n",
       "      <td>0.786919</td>\n",
       "      <td>0.821816</td>\n",
       "      <td>0.821816</td>\n",
       "      <td>0.812595</td>\n",
       "    </tr>\n",
       "    <tr>\n",
       "      <th>{0: 1, 1: 1}</th>\n",
       "      <td>0.785716</td>\n",
       "      <td>0.820661</td>\n",
       "      <td>0.820661</td>\n",
       "      <td>0.813975</td>\n",
       "    </tr>\n",
       "    <tr>\n",
       "      <th>{0: 1, 1: 10}</th>\n",
       "      <td>0.800041</td>\n",
       "      <td>0.817910</td>\n",
       "      <td>0.817910</td>\n",
       "      <td>0.812967</td>\n",
       "    </tr>\n",
       "    <tr>\n",
       "      <th>{0: 1, 1: 100}</th>\n",
       "      <td>0.801913</td>\n",
       "      <td>0.817030</td>\n",
       "      <td>0.817030</td>\n",
       "      <td>0.811951</td>\n",
       "    </tr>\n",
       "    <tr>\n",
       "      <th>{0: 1, 1: 1000}</th>\n",
       "      <td>0.802376</td>\n",
       "      <td>0.815651</td>\n",
       "      <td>0.815651</td>\n",
       "      <td>0.811934</td>\n",
       "    </tr>\n",
       "    <tr>\n",
       "      <th>{0: 1, 1: 10000}</th>\n",
       "      <td>0.799586</td>\n",
       "      <td>0.815362</td>\n",
       "      <td>0.815362</td>\n",
       "      <td>0.811719</td>\n",
       "    </tr>\n",
       "  </tbody>\n",
       "</table>\n",
       "</div>"
      ],
      "text/plain": [
       "                      5:95     15:85     30:70     50:50\n",
       "{0: 100, 1: 1}    0.786798  0.821598  0.821598  0.810313\n",
       "{0: 10, 1: 1}     0.786919  0.821816  0.821816  0.812595\n",
       "{0: 1, 1: 1}      0.785716  0.820661  0.820661  0.813975\n",
       "{0: 1, 1: 10}     0.800041  0.817910  0.817910  0.812967\n",
       "{0: 1, 1: 100}    0.801913  0.817030  0.817030  0.811951\n",
       "{0: 1, 1: 1000}   0.802376  0.815651  0.815651  0.811934\n",
       "{0: 1, 1: 10000}  0.799586  0.815362  0.815362  0.811719"
      ]
     },
     "execution_count": 12,
     "metadata": {},
     "output_type": "execute_result"
    }
   ],
   "source": [
    "pd.DataFrame(zip(means,means1,means2,means3),index=balance,columns=labels)"
   ]
  }
 ],
 "metadata": {
  "kernelspec": {
   "display_name": "Python 3",
   "language": "python",
   "name": "python3"
  },
  "language_info": {
   "codemirror_mode": {
    "name": "ipython",
    "version": 3
   },
   "file_extension": ".py",
   "mimetype": "text/x-python",
   "name": "python",
   "nbconvert_exporter": "python",
   "pygments_lexer": "ipython3",
   "version": "3.8.8"
  }
 },
 "nbformat": 4,
 "nbformat_minor": 5
}
